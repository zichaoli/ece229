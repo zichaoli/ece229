{
 "cells": [
  {
   "cell_type": "markdown",
   "metadata": {},
   "source": [
    "## Group 7 Youtube Content Creator Dashboards "
   ]
  },
  {
   "cell_type": "code",
   "execution_count": 5,
   "metadata": {
    "scrolled": true
   },
   "outputs": [
    {
     "data": {
      "application/vnd.jupyter.widget-view+json": {
       "model_id": "24b09f3234e043199f9e94caaebdd60e",
       "version_major": 2,
       "version_minor": 0
      },
      "text/plain": [
       "AppLayout(children=(VBox(children=(HTML(value=\"<b><font size='5' color='Black'>Youtube Trend over Time</b>\"), …"
      ]
     },
     "metadata": {},
     "output_type": "display_data"
    }
   ],
   "source": [
    "#HIDDEN\n",
    "\n",
    "from ipywidgets import interact, interactive, fixed, interact_manual\n",
    "\n",
    "import ipywidgets as widgets\n",
    "\n",
    "from ipywidgets import FloatSlider\n",
    "\n",
    "from ipywidgets import VBox, HBox, interactive_output\n",
    "\n",
    "from ipywidgets import Dropdown\n",
    "#from matplotlib.image import imread\n",
    "import pickle\n",
    "\n",
    "from matplotlib import pyplot as plt\n",
    "#from matplotlib.pylab import subplots\n",
    "from wordcloud import WordCloud\n",
    "import numpy as np\n",
    "from random import shuffle\n",
    "from ipywidgets import IntSlider, AppLayout, Layout\n",
    "import pandas as pd\n",
    "from matplotlib.image import imread\n",
    "\n",
    "data = pickle.load(open('data_project.p', 'rb'))\n",
    "\n",
    "\n",
    "year_end=2019\n",
    "year_start=2015\n",
    "month=['Jan','Feb','Mar','Apr','May','Jun','Jul','Aug','Sept','Oct','Nov','Dec']\n",
    "start_month=1\n",
    "end_month=(year_end-year_start+1)*12\n",
    "#fsx = IntSlider(min=start_month,max=end_month,step=1,continuous_update=False,description='Time:') #slider of months\n",
    "\n",
    "time_idx=pd.date_range(start=str(year_start)+'0101',end=str(year_end)+'1231',freq='M')\n",
    "fmt='%Y-%m'\n",
    "options = [(item.strftime(fmt),item) for item in time_idx]\n",
    "\n",
    "fsx=widgets.SelectionSlider(\n",
    "            description='Date',\n",
    "            options=options,\n",
    "            continuous_update=False\n",
    "        )\n",
    "\n",
    "status = widgets.Output() #status indicator\n",
    "status2 = widgets.Output() #status indicator for part 2\n",
    "status3 = widgets.Output() #status indicator for part 3\n",
    "#with status:\n",
    "    #print('Please select a date'+'\\r',end='')\n",
    "\n",
    "def fplot(x,Genre):\n",
    "    \"\"\"x : input time\n",
    "     Genre: different topics\"\"\"\n",
    "    #fig,ax=subplots()\n",
    "    #ax.plot(xi,np.sin(2*np.pi*x*xi+y),color=color)\n",
    "    #indicate running\n",
    "    plt.cla()\n",
    "    loading=\"Now loading...\"\n",
    "    plt.axis('off') \n",
    "    plt.text(0.5,0.5,loading)\n",
    "    #load_img=imread('loading_img.jpg')\n",
    "    #plt.imshow(load_img)\n",
    "    #plt.show()\n",
    "    #print(loading+'\\r',end='')\n",
    "    with status:\n",
    "        print('Now loading...'+'\\r',end='')\n",
    "    \n",
    "    data_cloud=data[Genre]\n",
    "    freq=np.array(list(data_cloud.frequency_time))\n",
    "    string = ''\n",
    "    m,n=freq.shape\n",
    "    for i in range(m):\n",
    "        time=str(x).split(' ')[0].split('-')\n",
    "        col=(int(time[0])-year_start)*12+int(time[1])\n",
    "        string=string+(data_cloud.loc[i].words+' ')*(freq[i,col-1])\n",
    "    if string.split()==[]:\n",
    "        \"\"\"if there is no words shown\"\"\"\n",
    "        string='There is no interesting word'\n",
    "        plt.cla()\n",
    "        plt.axis('off') \n",
    "        plt.text(0.5,0.5,string)\n",
    "        #plt.imshow(nointerest_img)\n",
    "        plt.show()       \n",
    "        #print(string)\n",
    "        with status:\n",
    "            print('Complete!     '+'\\r',end='')\n",
    "        return\n",
    "    lis=string.split(' ')\n",
    "    shuffle(lis)\n",
    "    string=' '.join(lis)\n",
    "    wc = WordCloud(\n",
    "               background_color='white',max_words=20,\n",
    "               width=1000,\n",
    "               height=1000,\n",
    "               ).generate(string)  #wordcloud\n",
    "    #wc.to_file('ss.png') \n",
    "    plt.cla()\n",
    "    plt.imshow(wc)  \n",
    "    plt.axis('off') \n",
    "    plt.show()\n",
    "    #print(string)\n",
    "    with status:\n",
    "        print('Complete!     '+'\\r',end='')\n",
    "interactive_plot = interactive(fplot,x=fsx,Genre=['cooking', 'influencers', 'gaming'])\n",
    "#display(interactive_plot)\n",
    "\n",
    "\n",
    "def acrosstime(dis_num,Genre):   \n",
    "    data_cloud=data[Genre]\n",
    "    freq=np.array(list(data_cloud.frequency_time))\n",
    "    freq=np.sum(freq,axis=1)\n",
    "    string = ''\n",
    "    idx=np.argpartition(freq,-dis_num)[-dis_num:]\n",
    "    string=''\n",
    "    for i in idx:\n",
    "        string=string+(data_cloud.loc[i].words+' ')*(freq[i])\n",
    "    if string.split()==[]:\n",
    "        \"\"\"if there is no words shown\"\"\"\n",
    "        string='There is no interesting word'\n",
    "        plt.cla()\n",
    "        plt.axis('off') \n",
    "        plt.text(0.5,0.5,string)\n",
    "        #plt.imshow(nointerest_img)\n",
    "        plt.show()       \n",
    "        #print(string)\n",
    "        return\n",
    "    lis=string.split(' ')\n",
    "    shuffle(lis)\n",
    "    string=' '.join(lis)\n",
    "    wc = WordCloud(\n",
    "               background_color='white',max_words=dis_num,\n",
    "               width=1000,\n",
    "               height=1000,\n",
    "               ).generate(string)  #wordcloud\n",
    "    #wc.to_file('ss.png') \n",
    "    plt.cla()\n",
    "    plt.imshow(wc)  \n",
    "    plt.axis('off') \n",
    "    plt.show()\n",
    "    #print(string)\n",
    "dis_num=widgets.BoundedIntText(\n",
    "    value=10,\n",
    "    min=0,\n",
    "    max=200,\n",
    "    step=1,\n",
    "    description='Integer:',\n",
    "    disabled=False\n",
    ")\n",
    "acrossAlltime=interactive(acrosstime,dis_num=dis_num,Genre=['cooking', 'influencers', 'gaming'])\n",
    "\n",
    "\n",
    "\n",
    "Genre= Dropdown(options=['cooking', 'influencers', 'gaming'])\n",
    "#Fsx = IntSlider(min=start_month,max=end_month,step=1,continuous_update=False,description='Time:')\n",
    "Fsx=widgets.SelectionSlider(\n",
    "            description='Date',\n",
    "            options=options,\n",
    "            continuous_update=False\n",
    "        )\n",
    "loaded={}\n",
    "loaded['like']=0\n",
    "loaded['hate']=0\n",
    "def Fplot(x,Genre,like):\n",
    "    \"\"\"x: input time\n",
    "      Genre: diffenrent topics\n",
    "      like: positive or negative result\"\"\"\n",
    "    #fig,ax=subplots()\n",
    "    #ax.plot(xi,np.sin(2*np.pi*x*xi+y),color=color)\n",
    "    plt.cla()\n",
    "    loading=\"Now loading...\"\n",
    "    plt.axis('off') \n",
    "    plt.text(0.5,0.5,loading)\n",
    "    if loaded['like']==0 and loaded['hate']==0:\n",
    "        with status2:\n",
    "            print('Now loading...'+'\\r',end='')\n",
    "    \n",
    "    data_cloud=data[Genre]\n",
    "    if like=='like':\n",
    "        data_cloud=data_cloud[data_cloud.polarity>0]#data_cloud[data_cloud.likes_mean >= data_cloud.dislikes_mean]\n",
    "    elif like=='hate':\n",
    "        data_cloud=data_cloud[data_cloud.polarity<=0]\n",
    "    data_cloud=data_cloud.reset_index()\n",
    "    freq=np.array(list(data_cloud.frequency_time))\n",
    "    string = ''\n",
    "    if freq.shape==(0,):\n",
    "        string='There is no interesting word'\n",
    "        plt.cla()\n",
    "        plt.axis('off') \n",
    "        plt.text(0.5,0.5,string)\n",
    "        #print(string)\n",
    "        loaded[like]=1\n",
    "        if loaded['like']==1 and loaded['hate']==1:\n",
    "            with status2:\n",
    "                print('Complete!     '+'\\r',end='')\n",
    "            loaded['like']=0\n",
    "            loaded['hate']=0\n",
    "        return\n",
    "        \n",
    "    m,n=freq.shape\n",
    "    for i in range(m):\n",
    "        time=str(x).split(' ')[0].split('-')\n",
    "        col=(int(time[0])-year_start)*12+int(time[1])\n",
    "        string=string+(data_cloud.loc[i].words+' ')*(freq[i,col-1])\n",
    "    if string.split()==[]:\n",
    "        \"\"\"if there is no words shown\"\"\"\n",
    "        string='There is no interesting word'\n",
    "        plt.cla()\n",
    "        plt.axis('off') \n",
    "        plt.text(0.5,0.5,string)\n",
    "        #print(string)\n",
    "        loaded[like]=1\n",
    "        if loaded['like']==1 and loaded['hate']==1:\n",
    "            with status2:\n",
    "                print('Complete!     '+'\\r',end='')\n",
    "            loaded['like']=0\n",
    "            loaded['hate']=0\n",
    "        return\n",
    "    lis=string.split(' ')\n",
    "    shuffle(lis)\n",
    "    string=' '.join(lis)\n",
    "    wc = WordCloud(\n",
    "               background_color='white',max_words=20,\n",
    "               width=1000,\n",
    "               height=1000,\n",
    "               ).generate(string)  #wordcloud\n",
    "    #wc.to_file('ss.png') \n",
    "    plt.cla()\n",
    "    plt.imshow(wc)  \n",
    "    plt.axis('off') \n",
    "    plt.show()\n",
    "    #print(string)\n",
    "    loaded[like]=1\n",
    "    if loaded['like']==1 and loaded['hate']==1:\n",
    "        with status2:\n",
    "            print('Complete!     '+'\\r',end='')\n",
    "        loaded['like']=0\n",
    "        loaded['hate']=0\n",
    "#l = widgets.link((sliders1, 'value'), (slider2, 'value'))\n",
    "interactive_plot_like = interactive(Fplot,x=Fsx,Genre=Genre,like='like')\n",
    "interactive_plot_hate=interactive(Fplot,x=Fsx,Genre=Genre,like='hate')\n",
    "#display(HBox([interactive_plot_like,interactive_plot_hate ]))\n",
    "\n",
    "\n",
    "def analyze_text(text, genre, metric):\n",
    "    '''\n",
    "    Purpose: \n",
    "    Analyze the given text and produce color labels for the words as well as generate an overall score based on the\n",
    "    given genre and metric\n",
    "    \n",
    "    Input:\n",
    "    text = str; scalar depicting the text that needs to be analyzed\n",
    "    genre = str; scalar depicting the genre of the content: \"cooking\", \"gaming\", \"influencers\"\n",
    "    metric = str; scalar depicting the metric to base the analysis on: \"likes_mean\", \"likes_median\",\n",
    "             \"dislikes_mean\", \"dislikes_median\", \"views_mean\", \"views_median\", \"polarity\", \"subjectivity\"\n",
    "    \n",
    "    Output:\n",
    "    analysis = list; a list with the same number of elements as number of words in given text, with each\n",
    "               corresponding element being the color for that word: \"red\" means bad, \"yellow\" means okay, \"green\"\n",
    "               means good and \"white\" means \"Not found\" (in database)\n",
    "    score_avg = float; average value of the score: float or \"Not applicable\" (if none of the words matched the\n",
    "                database)\n",
    "               \n",
    "    '''\n",
    "    from textblob import TextBlob\n",
    "    import pickle\n",
    "    pickle.load(open('data_project.p', 'rb'))\n",
    "    Blob = TextBlob(text)\n",
    "    scores = []\n",
    "    df_genre = data[genre]\n",
    "    score_avg = 0\n",
    "    counter = 0\n",
    "    for word in list(Blob.words):\n",
    "        if word in list(df_genre.words):\n",
    "            word_index = df_genre.words[df_genre.words==word].index[0]\n",
    "            scores.append(df_genre[metric][word_index])\n",
    "            score_avg += df_genre[metric][word_index]\n",
    "            counter += 1\n",
    "        else:\n",
    "            scores.append(\"Not found\")\n",
    "    if counter > 0:\n",
    "        score_avg = score_avg/counter\n",
    "    else:\n",
    "        score_avg = \"Not Applicable\"\n",
    "    intervals = [df_genre[metric].mean()-df_genre[metric].std(), df_genre[metric].mean()+df_genre[metric].std()]\n",
    "    analysis = []\n",
    "    for score in scores:\n",
    "        if score==\"Not found\":\n",
    "            analysis.append(\"white\")\n",
    "            continue\n",
    "        if score<=intervals[0]:\n",
    "            analysis.append(\"red\")\n",
    "        elif score>intervals[0] and score<=intervals[1]:\n",
    "            analysis.append(\"yellow\");\n",
    "        elif score>intervals[1]:\n",
    "            analysis.append(\"green\")\n",
    "    return analysis, score_avg\n",
    "w=widgets.Textarea(\n",
    "    value='',\n",
    "    placeholder='Type to analyze',\n",
    "    description='Text box:',\n",
    "    disabled=False,\n",
    "    continuous_update=False\n",
    ")\n",
    "def color_changer(x,Genre,Metric):\n",
    "    with status3:\n",
    "        print('Now loading...'+'\\r',end='')\n",
    "    categorization, overall_score = analyze_text(x,Genre,Metric)\n",
    "    words = x.split()\n",
    "    for word in words:\n",
    "        color,score = analyze_text(word,Genre,Metric)\n",
    "        if color[0] == \"red\":\n",
    "            print('\\033[31m %s' %word, end = \"\")\n",
    "        elif color[0] == \"yellow\":\n",
    "            print('\\033[33m %s' %word, end = \"\")\n",
    "        elif color[0] == \"green\":\n",
    "            print('\\033[32m %s' %word, end = \"\")\n",
    "        else:\n",
    "            print('\\033[37m %s' %word, end = \"\")\n",
    "    with status3:\n",
    "        print('Complete!     '+'\\r',end='')\n",
    "box = interactive(color_changer,x=w,Genre=['cooking', 'influencers', 'gaming'],Metric=[\"likes_mean\", \"likes_median\",\n",
    "             \"dislikes_mean\", \"dislikes_median\", \"views_mean\", \"views_median\", \"polarity\", \"subjectivity\"])\n",
    "\n",
    "\n",
    "\n",
    "\n",
    "#description of all three parts\n",
    "descrip_part1=\"\"\"\n",
    "In this part, you can use our tools to create a word cloud of popular words in different time periods. Size of a word will be based on\n",
    "its popularity. \n",
    " We also provide you with different genres to choose. You can check the popular words within the genre you have interest in.\n",
    " The time will be in a month and year format that the user can toggle with the slider and see how the word cloud changes over time.\n",
    "\"\"\"\n",
    "descrip_part2=\"\"\"\n",
    "A second display will compose of two word clouds that present the positive and negative words respectively, \n",
    "showcasing the words’ popularity based on its size. \n",
    "\"\"\"\n",
    "descrip_part3=\"\"\"\n",
    "Our Text Analysis tool will generate word connotations based on the words typed into the textbox.  \n",
    "Words will be colored according to its positive or negative sentiment.\n",
    " For example, words in red denoting a negative word, words in yellow denoting neutral words and green denoting a positive word. Words that can not be \n",
    " decided will remain in black.\n",
    " Also, you can select the genre and metric of interest. \n",
    "\"\"\"\n",
    "Descrip_part1=widgets.HTML(value = f\"<b><font size='2' color='Black'>{descrip_part1}</b>\")\n",
    "Descrip_part2=widgets.HTML(value = f\"<b><font size='2' color='Black'>{descrip_part2}</b>\")\n",
    "Descrip_part3=widgets.HTML(value = f\"<b><font size='2' color='Black'>{descrip_part3}</b>\")\n",
    "\n",
    "\n",
    "\n",
    "\n",
    "\n",
    "tab = widgets.Tab()\n",
    "tab.children = [VBox([Descrip_part1,interactive_plot,status]),acrossAlltime]\n",
    "tab.set_title(0, 'Popular Keywords VS Month')\n",
    "tab.set_title(1, 'Popular Keywords across all time')\n",
    "\n",
    "\n",
    "#container for the main interface\n",
    "\n",
    "\n",
    "\n",
    "\n",
    "accordion = widgets.Accordion(children=[VBox([Descrip_part1,interactive_plot,status]),\n",
    "                                        VBox([Descrip_part2,\n",
    "                                              HBox([interactive_plot_like,interactive_plot_hate ]),status2]),\n",
    "                                        VBox([Descrip_part3,box,status3])])\n",
    "accordion.set_title(0, 'Popular Keywords over Time')\n",
    "accordion.set_title(1, 'Likes&Dislikes over Time ')\n",
    "accordion.set_title(2, 'Text Analysis ')\n",
    "\n",
    "\n",
    "\n",
    "title = 'Youtube Trend over Time'\n",
    "Title = widgets.HTML(value = f\"<b><font size='5' color='Black'>{title}</b>\")\n",
    "descrip=\"\"\"How insane is it that sometimes you see the most amazing video on youtube, \n",
    "and yet it took nearly a decade for it to be popular? Or a subpar video which hits a \n",
    "million views within a week? A lot of it has to do with the way you market your content. \n",
    "Sponsoring advertisements for your posts helps, but it depends heavily on the \n",
    "textual supporting descriptions that you add. And an even deeper question is: what makes certain \n",
    "words more popular than others? What receives more hate by the public? Are certain \n",
    "topics more active during election years or during a pandemic? Fortunately, our platform and tools will figure it out for you\n",
    ". We’re trying to create a simple \n",
    "platform which serves as a proof of concept for how sentiment analysis can be extended \n",
    "to utility on a daily basis, with a very wide customer demographic.\n",
    "\"\"\"\n",
    "Descrip=widgets.HTML(value = f\"<b><font size='2' color='Black'>{descrip}</b>\")\n",
    "AppLayout(header=VBox([Title,Descrip]),\n",
    "          left_sidebar=None,\n",
    "          center=accordion,\n",
    "          right_sidebar=None,\n",
    "          footer=None)\n",
    "          \n",
    "          #widgets.IntSlider(description='c',\n",
    "                                   #layout=Layout(height='auto', width='auto')))"
   ]
  },
  {
   "cell_type": "code",
   "execution_count": null,
   "metadata": {},
   "outputs": [],
   "source": []
  }
 ],
 "metadata": {
  "kernelspec": {
   "display_name": "Python 3",
   "language": "python",
   "name": "python3"
  },
  "language_info": {
   "codemirror_mode": {
    "name": "ipython",
    "version": 3
   },
   "file_extension": ".py",
   "mimetype": "text/x-python",
   "name": "python",
   "nbconvert_exporter": "python",
   "pygments_lexer": "ipython3",
   "version": "3.7.6"
  },
  "widgets": {
   "application/vnd.jupyter.widget-state+json": {
    "state": {
     "024f8665349e4033a990471140896e2b": {
      "model_module": "@jupyter-widgets/controls",
      "model_module_version": "1.5.0",
      "model_name": "DescriptionStyleModel",
      "state": {
       "description_width": ""
      }
     },
     "0511f46a0f664dcdb72ed0efa8bf80b4": {
      "model_module": "@jupyter-widgets/controls",
      "model_module_version": "1.5.0",
      "model_name": "HTMLModel",
      "state": {
       "layout": "IPY_MODEL_8b401bb330704d89967887bf3b60642a",
       "style": "IPY_MODEL_1fedcfc4efd6428f814bb6b0dbed9038",
       "value": "<b><font size='2' color='Black'>\nA second display will compose of two word clouds that present the positive and negative words respectively, \nshowcasing the words’ popularity based on its size. \n</b>"
      }
     },
     "05d159b3e2734a0bb60d8b612294d121": {
      "model_module": "@jupyter-widgets/controls",
      "model_module_version": "1.5.0",
      "model_name": "DescriptionStyleModel",
      "state": {
       "description_width": ""
      }
     },
     "062773f78ef64699843a3587295db47a": {
      "model_module": "@jupyter-widgets/controls",
      "model_module_version": "1.5.0",
      "model_name": "VBoxModel",
      "state": {
       "_dom_classes": [
        "widget-interact"
       ],
       "children": [
        "IPY_MODEL_9f278fc443a74d3ebab6683d255a4aee",
        "IPY_MODEL_b619304bfca14ed8a131a3cc61791e2c",
        "IPY_MODEL_439d3861101c449585b585ef172a319e"
       ],
       "layout": "IPY_MODEL_eb083a1fe1624019aea28c8c862dad38"
      }
     },
     "08805be2804041cb80298383fffaafb8": {
      "model_module": "@jupyter-widgets/controls",
      "model_module_version": "1.5.0",
      "model_name": "DescriptionStyleModel",
      "state": {
       "description_width": ""
      }
     },
     "0a34e9bb65a848bdaae4499791380052": {
      "model_module": "@jupyter-widgets/output",
      "model_module_version": "1.0.0",
      "model_name": "OutputModel",
      "state": {
       "layout": "IPY_MODEL_3ac170a8dc7e483b8d9ae1bd3631b14a"
      }
     },
     "0ab7f3fa454e44db8af2999416fc887b": {
      "model_module": "@jupyter-widgets/output",
      "model_module_version": "1.0.0",
      "model_name": "OutputModel",
      "state": {
       "layout": "IPY_MODEL_3024a7d1dc7c4c27b965288b0c468f20"
      }
     },
     "0b245c66a21d4b29b4cd641ec05b6e4d": {
      "model_module": "@jupyter-widgets/controls",
      "model_module_version": "1.5.0",
      "model_name": "DescriptionStyleModel",
      "state": {
       "description_width": ""
      }
     },
     "0c53974250e840c2bae1ea862ee7c770": {
      "model_module": "@jupyter-widgets/base",
      "model_module_version": "1.2.0",
      "model_name": "LayoutModel",
      "state": {}
     },
     "0d5f2201a8214e2fa80c0056ab52f52c": {
      "model_module": "@jupyter-widgets/base",
      "model_module_version": "1.2.0",
      "model_name": "LayoutModel",
      "state": {}
     },
     "128d4fc6fd4647b79fe7d63bb5d79c65": {
      "model_module": "@jupyter-widgets/base",
      "model_module_version": "1.2.0",
      "model_name": "LayoutModel",
      "state": {}
     },
     "12cfa136bf5048b8bc18a27c4fbec244": {
      "model_module": "@jupyter-widgets/base",
      "model_module_version": "1.2.0",
      "model_name": "LayoutModel",
      "state": {}
     },
     "139aff2b064b4e2d8ffaa8a3a17af6aa": {
      "model_module": "@jupyter-widgets/controls",
      "model_module_version": "1.5.0",
      "model_name": "HTMLModel",
      "state": {
       "layout": "IPY_MODEL_a4d4073abc9348399aa5191258d22000",
       "style": "IPY_MODEL_592d8eb7957144f68d20529681fb35c9",
       "value": "<b><font size='5' color='Black'>Youtube Trend over Time</b>"
      }
     },
     "166380835b124ef1bbcd416670f399bc": {
      "model_module": "@jupyter-widgets/base",
      "model_module_version": "1.2.0",
      "model_name": "LayoutModel",
      "state": {}
     },
     "17eecf43e41b49ba923dcbd1d1b83511": {
      "model_module": "@jupyter-widgets/output",
      "model_module_version": "1.0.0",
      "model_name": "OutputModel",
      "state": {
       "layout": "IPY_MODEL_4d7bf85ee088494c955d500fe489556f"
      }
     },
     "187459ae0fa44d64a797196a768d61ea": {
      "model_module": "@jupyter-widgets/controls",
      "model_module_version": "1.5.0",
      "model_name": "TextareaModel",
      "state": {
       "continuous_update": false,
       "description": "Text box:",
       "layout": "IPY_MODEL_f93d20db3256409bb7536912d7e1fa81",
       "placeholder": "Type to analyze",
       "style": "IPY_MODEL_05d159b3e2734a0bb60d8b612294d121"
      }
     },
     "18d2404e9925403ea6672f8edf6967d8": {
      "model_module": "@jupyter-widgets/base",
      "model_module_version": "1.2.0",
      "model_name": "LayoutModel",
      "state": {}
     },
     "1c0952d8182f459ab24bf758c14b19cf": {
      "model_module": "@jupyter-widgets/base",
      "model_module_version": "1.2.0",
      "model_name": "LayoutModel",
      "state": {}
     },
     "1c8d3e7aaac64971a4a266539d3b756b": {
      "model_module": "@jupyter-widgets/output",
      "model_module_version": "1.0.0",
      "model_name": "OutputModel",
      "state": {
       "layout": "IPY_MODEL_d278327f188645258aa14d4fd75bb8f4",
       "outputs": [
        {
         "name": "stdout",
         "output_type": "stream",
         "text": "Complete!     \r"
        }
       ]
      }
     },
     "1d19b94c50e84080b5614af4f49ce6f9": {
      "model_module": "@jupyter-widgets/controls",
      "model_module_version": "1.5.0",
      "model_name": "DescriptionStyleModel",
      "state": {
       "description_width": ""
      }
     },
     "1e8d8a3d4ec6463b88ce3b49126f9d1a": {
      "model_module": "@jupyter-widgets/output",
      "model_module_version": "1.0.0",
      "model_name": "OutputModel",
      "state": {
       "layout": "IPY_MODEL_4941e7a072c3491892b770bc4337fa5b"
      }
     },
     "1fedcfc4efd6428f814bb6b0dbed9038": {
      "model_module": "@jupyter-widgets/controls",
      "model_module_version": "1.5.0",
      "model_name": "DescriptionStyleModel",
      "state": {
       "description_width": ""
      }
     },
     "20a8c80055f54375b4610be7d0555b4d": {
      "model_module": "@jupyter-widgets/controls",
      "model_module_version": "1.5.0",
      "model_name": "VBoxModel",
      "state": {
       "children": [
        "IPY_MODEL_af6870b404354e2c8703196aabc3da3f",
        "IPY_MODEL_eea3640a0c774c00b537dfbc91e1b148"
       ],
       "layout": "IPY_MODEL_48fc480efac842ffa6dd3538ca22f48e"
      }
     },
     "22c69efc9d384fd7b912a3c7ab6800c0": {
      "model_module": "@jupyter-widgets/base",
      "model_module_version": "1.2.0",
      "model_name": "LayoutModel",
      "state": {}
     },
     "243d7fbbebda4a0ea88c19e576cca75a": {
      "model_module": "@jupyter-widgets/base",
      "model_module_version": "1.2.0",
      "model_name": "LayoutModel",
      "state": {}
     },
     "25b17c15f8114a9284ec2d53cb110f17": {
      "model_module": "@jupyter-widgets/base",
      "model_module_version": "1.2.0",
      "model_name": "LayoutModel",
      "state": {}
     },
     "25f3937d40b34267b6ca01e984151d16": {
      "model_module": "@jupyter-widgets/controls",
      "model_module_version": "1.5.0",
      "model_name": "VBoxModel",
      "state": {
       "children": [
        "IPY_MODEL_139aff2b064b4e2d8ffaa8a3a17af6aa",
        "IPY_MODEL_788b37d1704e45adac11dc7068786b5f"
       ],
       "layout": "IPY_MODEL_5970ee7c3687404290923dad57824c61"
      }
     },
     "27a7ebe031cf45cbb412fbca73d355da": {
      "model_module": "@jupyter-widgets/base",
      "model_module_version": "1.2.0",
      "model_name": "LayoutModel",
      "state": {}
     },
     "27fb2b4601954959a053ddfd03b68709": {
      "model_module": "@jupyter-widgets/base",
      "model_module_version": "1.2.0",
      "model_name": "LayoutModel",
      "state": {}
     },
     "28bf374c7fb14a67ad02fd5861534abd": {
      "model_module": "@jupyter-widgets/controls",
      "model_module_version": "1.5.0",
      "model_name": "GridBoxModel",
      "state": {
       "children": [
        "IPY_MODEL_25f3937d40b34267b6ca01e984151d16",
        "IPY_MODEL_79e93833c9ef4b60b97a8b8ca834e8c4"
       ],
       "layout": "IPY_MODEL_a4ae90391af046218d76e40b13c77ecc"
      }
     },
     "29598e2f587b4c4091dfd0c692f83fcb": {
      "model_module": "@jupyter-widgets/controls",
      "model_module_version": "1.5.0",
      "model_name": "DropdownModel",
      "state": {
       "_options_labels": [
        "likes_mean",
        "likes_median",
        "dislikes_mean",
        "dislikes_median",
        "views_mean",
        "views_median",
        "polarity",
        "subjectivity"
       ],
       "description": "Metric",
       "index": 0,
       "layout": "IPY_MODEL_25b17c15f8114a9284ec2d53cb110f17",
       "style": "IPY_MODEL_491fe19bf32b4574b8df97b435a9df5b"
      }
     },
     "2b7e6c4e4c624bb58d2bbabc1aa8623a": {
      "model_module": "@jupyter-widgets/base",
      "model_module_version": "1.2.0",
      "model_name": "LayoutModel",
      "state": {}
     },
     "2cbfd0aa1e1b4cef84c877f771d99b83": {
      "model_module": "@jupyter-widgets/base",
      "model_module_version": "1.2.0",
      "model_name": "LayoutModel",
      "state": {}
     },
     "2da5c824d018423796e797f4fb933445": {
      "model_module": "@jupyter-widgets/controls",
      "model_module_version": "1.5.0",
      "model_name": "DescriptionStyleModel",
      "state": {
       "description_width": ""
      }
     },
     "2e6776ae5c6d439dbb0846132eb8e951": {
      "model_module": "@jupyter-widgets/controls",
      "model_module_version": "1.5.0",
      "model_name": "DropdownModel",
      "state": {
       "_options_labels": [
        "cooking",
        "influencers",
        "gaming"
       ],
       "description": "Genre",
       "index": 0,
       "layout": "IPY_MODEL_d75a0ea9bdb940bdbe7209dad82d7e0c",
       "style": "IPY_MODEL_635c4b127c2447bf92eaa2d86b2ea4cb"
      }
     },
     "2f7c578ee45a4c74b5100c59010d202b": {
      "model_module": "@jupyter-widgets/controls",
      "model_module_version": "1.5.0",
      "model_name": "VBoxModel",
      "state": {
       "_dom_classes": [
        "widget-interact"
       ],
       "children": [
        "IPY_MODEL_fbd342a657e6406eb79992291d87d81f",
        "IPY_MODEL_39463d5825844743a5683a7f67d62c72",
        "IPY_MODEL_fa38e33bdead49dda3c9d976d0e5f45b",
        "IPY_MODEL_b3c6d97547d54c1f8fa284fccb6b4822"
       ],
       "layout": "IPY_MODEL_7d22d38de065400c9cb3209724ac3f29"
      }
     },
     "2fa1b23408134ca085bea0b8b63833b5": {
      "model_module": "@jupyter-widgets/controls",
      "model_module_version": "1.5.0",
      "model_name": "VBoxModel",
      "state": {
       "children": [
        "IPY_MODEL_992080c1affb4230b318c41faea60b83",
        "IPY_MODEL_cc9b051d340e4c9196966854dd255111",
        "IPY_MODEL_f7b32b5371aa4e3b8a3f02c57a8120f4"
       ],
       "layout": "IPY_MODEL_5e3f98626f84489f8c7fdf4cbeb0a4a8"
      }
     },
     "3024a7d1dc7c4c27b965288b0c468f20": {
      "model_module": "@jupyter-widgets/base",
      "model_module_version": "1.2.0",
      "model_name": "LayoutModel",
      "state": {}
     },
     "31fed71c7f5246879bd2123cb2bb8a47": {
      "model_module": "@jupyter-widgets/base",
      "model_module_version": "1.2.0",
      "model_name": "LayoutModel",
      "state": {}
     },
     "33e25be3e4f24560ab379753d3d81ae1": {
      "model_module": "@jupyter-widgets/controls",
      "model_module_version": "1.5.0",
      "model_name": "DescriptionStyleModel",
      "state": {
       "description_width": ""
      }
     },
     "352c7079a6dd4fceb6702329d44313f6": {
      "model_module": "@jupyter-widgets/controls",
      "model_module_version": "1.5.0",
      "model_name": "HTMLModel",
      "state": {
       "layout": "IPY_MODEL_6cbe9fa98dcd4a248b605bb7421d6312",
       "style": "IPY_MODEL_7b7b7ef54f5741ac8ba6d24d24ef9ac2",
       "value": "<b><font size='2' color='Black'>\nIn this part, you can use our tools to create a word cloud of popular words in different time periods. Size of a word will be based on\nits popularity. \n We also provide you with different genres to choose. You can check the popular words within the genre you have interest in.\n The time will be in a month and year format that the user can toggle with the slider and see how the word cloud changes over time.\n</b>"
      }
     },
     "37e92b12a7fc48cab1a60c1bbf31637b": {
      "model_module": "@jupyter-widgets/base",
      "model_module_version": "1.2.0",
      "model_name": "LayoutModel",
      "state": {}
     },
     "39463d5825844743a5683a7f67d62c72": {
      "model_module": "@jupyter-widgets/controls",
      "model_module_version": "1.5.0",
      "model_name": "DropdownModel",
      "state": {
       "_options_labels": [
        "cooking",
        "influencers",
        "gaming"
       ],
       "description": "Genre",
       "index": 0,
       "layout": "IPY_MODEL_0c53974250e840c2bae1ea862ee7c770",
       "style": "IPY_MODEL_b0c09f5fa8c24448af957853177b875a"
      }
     },
     "39897ea6cbfa46e4bda32957e5f14ee4": {
      "model_module": "@jupyter-widgets/controls",
      "model_module_version": "1.5.0",
      "model_name": "VBoxModel",
      "state": {
       "_dom_classes": [
        "widget-interact"
       ],
       "children": [
        "IPY_MODEL_187459ae0fa44d64a797196a768d61ea",
        "IPY_MODEL_b89327a54c0e41818235631e6c4d2432",
        "IPY_MODEL_51894e2321814645b9629652a7f4379b",
        "IPY_MODEL_0ab7f3fa454e44db8af2999416fc887b"
       ],
       "layout": "IPY_MODEL_ea9f253732e2446ba44e7109c8e75eaa"
      }
     },
     "3ac170a8dc7e483b8d9ae1bd3631b14a": {
      "model_module": "@jupyter-widgets/base",
      "model_module_version": "1.2.0",
      "model_name": "LayoutModel",
      "state": {}
     },
     "3b3c83afdb7e4da3afd222af72e6e0ae": {
      "model_module": "@jupyter-widgets/controls",
      "model_module_version": "1.5.0",
      "model_name": "VBoxModel",
      "state": {
       "_dom_classes": [
        "widget-interact"
       ],
       "children": [
        "IPY_MODEL_a3500587ea654f6da1ac98b191933771",
        "IPY_MODEL_ec563faf16e347bb9235e7f1e2d75dff",
        "IPY_MODEL_79747b2c018d4f75bfb25c6417d61644"
       ],
       "layout": "IPY_MODEL_d3618e8a347442a8a5edfc56c27fb9ba"
      }
     },
     "3b7a0cce01ab44c99dc9e28e0fd57302": {
      "model_module": "@jupyter-widgets/controls",
      "model_module_version": "1.5.0",
      "model_name": "TabModel",
      "state": {
       "_titles": {
        "0": "Popular Keywords VS Month",
        "1": "Popular Keywords across all time"
       },
       "children": [
        "IPY_MODEL_eb0ca93276194fc0a0caf94301e0f914",
        "IPY_MODEL_062773f78ef64699843a3587295db47a"
       ],
       "layout": "IPY_MODEL_8b56bb29e7834394ba7db3f846a8d718"
      }
     },
     "3c0cdb2d8f27427fa8b4811bc7d40a79": {
      "model_module": "@jupyter-widgets/controls",
      "model_module_version": "1.5.0",
      "model_name": "VBoxModel",
      "state": {
       "children": [
        "IPY_MODEL_352c7079a6dd4fceb6702329d44313f6",
        "IPY_MODEL_3b3c83afdb7e4da3afd222af72e6e0ae",
        "IPY_MODEL_8039a61405f148c99a2dd0dcc46e9314"
       ],
       "layout": "IPY_MODEL_27fb2b4601954959a053ddfd03b68709"
      }
     },
     "3c3bb0ceb1ff4037a6b63b191f41bc93": {
      "model_module": "@jupyter-widgets/base",
      "model_module_version": "1.2.0",
      "model_name": "LayoutModel",
      "state": {}
     },
     "3cd6a497b8134fcf9ac7dc2ecca6f693": {
      "model_module": "@jupyter-widgets/base",
      "model_module_version": "1.2.0",
      "model_name": "LayoutModel",
      "state": {}
     },
     "3fbd543c1e024280aebb8f65c486b062": {
      "model_module": "@jupyter-widgets/base",
      "model_module_version": "1.2.0",
      "model_name": "LayoutModel",
      "state": {}
     },
     "3fd11ed2200b4fea93301e64b279471f": {
      "model_module": "@jupyter-widgets/output",
      "model_module_version": "1.0.0",
      "model_name": "OutputModel",
      "state": {
       "layout": "IPY_MODEL_6b892fee6c674963a1763fbde045ee55",
       "outputs": [
        {
         "ename": "NameError",
         "evalue": "name 'plt' is not defined",
         "output_type": "error",
         "traceback": [
          "\u001b[0;31m---------------------------------------------------------------------------\u001b[0m",
          "\u001b[0;31mNameError\u001b[0m                                 Traceback (most recent call last)",
          "\u001b[0;32m/srv/conda/envs/notebook/lib/python3.7/site-packages/ipywidgets/widgets/interaction.py\u001b[0m in \u001b[0;36mupdate\u001b[0;34m(self, *args)\u001b[0m\n\u001b[1;32m    254\u001b[0m                     \u001b[0mvalue\u001b[0m \u001b[0;34m=\u001b[0m \u001b[0mwidget\u001b[0m\u001b[0;34m.\u001b[0m\u001b[0mget_interact_value\u001b[0m\u001b[0;34m(\u001b[0m\u001b[0;34m)\u001b[0m\u001b[0;34m\u001b[0m\u001b[0;34m\u001b[0m\u001b[0m\n\u001b[1;32m    255\u001b[0m                     \u001b[0mself\u001b[0m\u001b[0;34m.\u001b[0m\u001b[0mkwargs\u001b[0m\u001b[0;34m[\u001b[0m\u001b[0mwidget\u001b[0m\u001b[0;34m.\u001b[0m\u001b[0m_kwarg\u001b[0m\u001b[0;34m]\u001b[0m \u001b[0;34m=\u001b[0m \u001b[0mvalue\u001b[0m\u001b[0;34m\u001b[0m\u001b[0;34m\u001b[0m\u001b[0m\n\u001b[0;32m--> 256\u001b[0;31m                 \u001b[0mself\u001b[0m\u001b[0;34m.\u001b[0m\u001b[0mresult\u001b[0m \u001b[0;34m=\u001b[0m \u001b[0mself\u001b[0m\u001b[0;34m.\u001b[0m\u001b[0mf\u001b[0m\u001b[0;34m(\u001b[0m\u001b[0;34m**\u001b[0m\u001b[0mself\u001b[0m\u001b[0;34m.\u001b[0m\u001b[0mkwargs\u001b[0m\u001b[0;34m)\u001b[0m\u001b[0;34m\u001b[0m\u001b[0;34m\u001b[0m\u001b[0m\n\u001b[0m\u001b[1;32m    257\u001b[0m                 \u001b[0mshow_inline_matplotlib_plots\u001b[0m\u001b[0;34m(\u001b[0m\u001b[0;34m)\u001b[0m\u001b[0;34m\u001b[0m\u001b[0;34m\u001b[0m\u001b[0m\n\u001b[1;32m    258\u001b[0m                 \u001b[0;32mif\u001b[0m \u001b[0mself\u001b[0m\u001b[0;34m.\u001b[0m\u001b[0mauto_display\u001b[0m \u001b[0;32mand\u001b[0m \u001b[0mself\u001b[0m\u001b[0;34m.\u001b[0m\u001b[0mresult\u001b[0m \u001b[0;32mis\u001b[0m \u001b[0;32mnot\u001b[0m \u001b[0;32mNone\u001b[0m\u001b[0;34m:\u001b[0m\u001b[0;34m\u001b[0m\u001b[0;34m\u001b[0m\u001b[0m\n",
          "\u001b[0;32m<ipython-input-3-f72b4be5a713>\u001b[0m in \u001b[0;36mFplot\u001b[0;34m(x, Genre, like)\u001b[0m\n\u001b[1;32m    166\u001b[0m     \u001b[0;31m#fig,ax=subplots()\u001b[0m\u001b[0;34m\u001b[0m\u001b[0;34m\u001b[0m\u001b[0;34m\u001b[0m\u001b[0m\n\u001b[1;32m    167\u001b[0m     \u001b[0;31m#ax.plot(xi,np.sin(2*np.pi*x*xi+y),color=color)\u001b[0m\u001b[0;34m\u001b[0m\u001b[0;34m\u001b[0m\u001b[0;34m\u001b[0m\u001b[0m\n\u001b[0;32m--> 168\u001b[0;31m     \u001b[0mplt\u001b[0m\u001b[0;34m.\u001b[0m\u001b[0mcla\u001b[0m\u001b[0;34m(\u001b[0m\u001b[0;34m)\u001b[0m\u001b[0;34m\u001b[0m\u001b[0;34m\u001b[0m\u001b[0m\n\u001b[0m\u001b[1;32m    169\u001b[0m     \u001b[0mloading\u001b[0m\u001b[0;34m=\u001b[0m\u001b[0;34m\"Now loading...\"\u001b[0m\u001b[0;34m\u001b[0m\u001b[0;34m\u001b[0m\u001b[0m\n\u001b[1;32m    170\u001b[0m     \u001b[0mplt\u001b[0m\u001b[0;34m.\u001b[0m\u001b[0maxis\u001b[0m\u001b[0;34m(\u001b[0m\u001b[0;34m'off'\u001b[0m\u001b[0;34m)\u001b[0m\u001b[0;34m\u001b[0m\u001b[0;34m\u001b[0m\u001b[0m\n",
          "\u001b[0;31mNameError\u001b[0m: name 'plt' is not defined"
         ]
        }
       ]
      }
     },
     "4228218c012c4b2183b44d2bb1353cc3": {
      "model_module": "@jupyter-widgets/base",
      "model_module_version": "1.2.0",
      "model_name": "LayoutModel",
      "state": {}
     },
     "439d3861101c449585b585ef172a319e": {
      "model_module": "@jupyter-widgets/output",
      "model_module_version": "1.0.0",
      "model_name": "OutputModel",
      "state": {
       "layout": "IPY_MODEL_166380835b124ef1bbcd416670f399bc"
      }
     },
     "456dc7af8049427888e638964ba9f2e1": {
      "model_module": "@jupyter-widgets/controls",
      "model_module_version": "1.5.0",
      "model_name": "VBoxModel",
      "state": {
       "children": [
        "IPY_MODEL_e04cd60e57e945489fce44a527fa18ef",
        "IPY_MODEL_a116c05c963941a8919b16951656925f",
        "IPY_MODEL_5f873a8fb0ef4f299d5a14cdda1f11c5"
       ],
       "layout": "IPY_MODEL_22c69efc9d384fd7b912a3c7ab6800c0"
      }
     },
     "4718f63cd52141cbacba930ab4684db5": {
      "model_module": "@jupyter-widgets/base",
      "model_module_version": "1.2.0",
      "model_name": "LayoutModel",
      "state": {}
     },
     "474705eb050e40348d27da8a37d06690": {
      "model_module": "@jupyter-widgets/base",
      "model_module_version": "1.2.0",
      "model_name": "LayoutModel",
      "state": {}
     },
     "47cb90a1c31544bebe6626ba7c52be96": {
      "model_module": "@jupyter-widgets/base",
      "model_module_version": "1.2.0",
      "model_name": "LayoutModel",
      "state": {}
     },
     "488ed8fe062b40ad88891277f2b28c7d": {
      "model_module": "@jupyter-widgets/controls",
      "model_module_version": "1.5.0",
      "model_name": "TextModel",
      "state": {
       "description": "like",
       "layout": "IPY_MODEL_50582327ce9a44d9b025319c08dfee01",
       "style": "IPY_MODEL_5f98e939b07a4df388873eb7cb4da191",
       "value": "hate"
      }
     },
     "48fc480efac842ffa6dd3538ca22f48e": {
      "model_module": "@jupyter-widgets/base",
      "model_module_version": "1.2.0",
      "model_name": "LayoutModel",
      "state": {
       "grid_area": "header"
      }
     },
     "491fe19bf32b4574b8df97b435a9df5b": {
      "model_module": "@jupyter-widgets/controls",
      "model_module_version": "1.5.0",
      "model_name": "DescriptionStyleModel",
      "state": {
       "description_width": ""
      }
     },
     "4941e7a072c3491892b770bc4337fa5b": {
      "model_module": "@jupyter-widgets/base",
      "model_module_version": "1.2.0",
      "model_name": "LayoutModel",
      "state": {}
     },
     "4a07e273170c444dbdbb72d839b139f4": {
      "model_module": "@jupyter-widgets/controls",
      "model_module_version": "1.5.0",
      "model_name": "DropdownModel",
      "state": {
       "_options_labels": [
        "cooking",
        "influencers",
        "gaming"
       ],
       "description": "Genre",
       "index": 0,
       "layout": "IPY_MODEL_decb04465fc142da8d9c7257b0ded36b",
       "style": "IPY_MODEL_08805be2804041cb80298383fffaafb8"
      }
     },
     "4a4177f6a4f146a3ab63de9b44e6fa1c": {
      "model_module": "@jupyter-widgets/controls",
      "model_module_version": "1.5.0",
      "model_name": "AccordionModel",
      "state": {
       "_titles": {
        "0": "Popular Keywords over Time",
        "1": "Likes&Dislikes over Time ",
        "2": "Text Analysis "
       },
       "children": [
        "IPY_MODEL_efbc25dbe701441c92ff8cf8c983efe0",
        "IPY_MODEL_456dc7af8049427888e638964ba9f2e1",
        "IPY_MODEL_c7ca21e8552c457981f0d8735936d82e"
       ],
       "layout": "IPY_MODEL_8424e48fe102425fa340438270fb0c56",
       "selected_index": 2
      }
     },
     "4d7bf85ee088494c955d500fe489556f": {
      "model_module": "@jupyter-widgets/base",
      "model_module_version": "1.2.0",
      "model_name": "LayoutModel",
      "state": {}
     },
     "4df2d9e7d84349619ad2f3192b130d5a": {
      "model_module": "@jupyter-widgets/controls",
      "model_module_version": "1.5.0",
      "model_name": "VBoxModel",
      "state": {
       "_dom_classes": [
        "widget-interact"
       ],
       "children": [
        "IPY_MODEL_cd60c3c354ad480f8641818c3e873c8c",
        "IPY_MODEL_2e6776ae5c6d439dbb0846132eb8e951",
        "IPY_MODEL_17eecf43e41b49ba923dcbd1d1b83511"
       ],
       "layout": "IPY_MODEL_eba0984e70fd40ae97050ec2c77a11b8"
      }
     },
     "50582327ce9a44d9b025319c08dfee01": {
      "model_module": "@jupyter-widgets/base",
      "model_module_version": "1.2.0",
      "model_name": "LayoutModel",
      "state": {}
     },
     "51894e2321814645b9629652a7f4379b": {
      "model_module": "@jupyter-widgets/controls",
      "model_module_version": "1.5.0",
      "model_name": "DropdownModel",
      "state": {
       "_options_labels": [
        "likes_mean",
        "likes_median",
        "dislikes_mean",
        "dislikes_median",
        "views_mean",
        "views_median",
        "polarity",
        "subjectivity"
       ],
       "description": "Metric",
       "index": 0,
       "layout": "IPY_MODEL_37e92b12a7fc48cab1a60c1bbf31637b",
       "style": "IPY_MODEL_68b688178412407bb157153e429d0c56"
      }
     },
     "51c3194e2e754d32be34a27a48d2d904": {
      "model_module": "@jupyter-widgets/base",
      "model_module_version": "1.2.0",
      "model_name": "LayoutModel",
      "state": {}
     },
     "55c31fa206794a679d75fce343625a49": {
      "model_module": "@jupyter-widgets/base",
      "model_module_version": "1.2.0",
      "model_name": "LayoutModel",
      "state": {}
     },
     "564284b15c7743bd99d67db30cb61199": {
      "model_module": "@jupyter-widgets/base",
      "model_module_version": "1.2.0",
      "model_name": "LayoutModel",
      "state": {}
     },
     "56880062f13344c8b313898a83e846e5": {
      "model_module": "@jupyter-widgets/controls",
      "model_module_version": "1.5.0",
      "model_name": "HTMLModel",
      "state": {
       "layout": "IPY_MODEL_b7ede8f16df34d4dbb7beabc10293d07",
       "style": "IPY_MODEL_7ef9e127aa2d45b0bdf4a87e2bdab982",
       "value": "<b><font size='2' color='Black'>\nOur Text Analysis tool will generate word connotations based on the words typed into the textbox.  \nWords will be colored according to its positive or negative sentiment.\n For example, words in red denoting a negative word, words in yellow denoting neutral words and green denoting a positive word. Words that can not be \n decided will remain in black.\n Also, you can select the genre and metric of interest. \n</b>"
      }
     },
     "592d8eb7957144f68d20529681fb35c9": {
      "model_module": "@jupyter-widgets/controls",
      "model_module_version": "1.5.0",
      "model_name": "DescriptionStyleModel",
      "state": {
       "description_width": ""
      }
     },
     "5970ee7c3687404290923dad57824c61": {
      "model_module": "@jupyter-widgets/base",
      "model_module_version": "1.2.0",
      "model_name": "LayoutModel",
      "state": {
       "grid_area": "header"
      }
     },
     "5b28b6346ab446af9c24e9044e4ddf89": {
      "model_module": "@jupyter-widgets/controls",
      "model_module_version": "1.5.0",
      "model_name": "DropdownModel",
      "state": {
       "_options_labels": [
        "cooking",
        "influencers",
        "gaming"
       ],
       "description": "Genre",
       "index": 0,
       "layout": "IPY_MODEL_128d4fc6fd4647b79fe7d63bb5d79c65",
       "style": "IPY_MODEL_d613f8942983490c9f54a2a028bf1149"
      }
     },
     "5b485e107d2f422292d13fdefb9b81d0": {
      "model_module": "@jupyter-widgets/controls",
      "model_module_version": "1.5.0",
      "model_name": "SelectionSliderModel",
      "state": {
       "_options_labels": [
        "2015-01",
        "2015-02",
        "2015-03",
        "2015-04",
        "2015-05",
        "2015-06",
        "2015-07",
        "2015-08",
        "2015-09",
        "2015-10",
        "2015-11",
        "2015-12",
        "2016-01",
        "2016-02",
        "2016-03",
        "2016-04",
        "2016-05",
        "2016-06",
        "2016-07",
        "2016-08",
        "2016-09",
        "2016-10",
        "2016-11",
        "2016-12",
        "2017-01",
        "2017-02",
        "2017-03",
        "2017-04",
        "2017-05",
        "2017-06",
        "2017-07",
        "2017-08",
        "2017-09",
        "2017-10",
        "2017-11",
        "2017-12",
        "2018-01",
        "2018-02",
        "2018-03",
        "2018-04",
        "2018-05",
        "2018-06",
        "2018-07",
        "2018-08",
        "2018-09",
        "2018-10",
        "2018-11",
        "2018-12",
        "2019-01",
        "2019-02",
        "2019-03",
        "2019-04",
        "2019-05",
        "2019-06",
        "2019-07",
        "2019-08",
        "2019-09",
        "2019-10",
        "2019-11",
        "2019-12"
       ],
       "continuous_update": false,
       "description": "Date",
       "index": 0,
       "layout": "IPY_MODEL_2cbfd0aa1e1b4cef84c877f771d99b83",
       "style": "IPY_MODEL_a60e0806c53f4b30bd2a1235c0d77d18"
      }
     },
     "5bc9a2984a5d46c39e299c5f028624f5": {
      "model_module": "@jupyter-widgets/controls",
      "model_module_version": "1.5.0",
      "model_name": "DescriptionStyleModel",
      "state": {
       "description_width": ""
      }
     },
     "5d3db958f4ce46b8b6131c9a9f228eaa": {
      "model_module": "@jupyter-widgets/base",
      "model_module_version": "1.2.0",
      "model_name": "LayoutModel",
      "state": {}
     },
     "5e0e971e5cfa493abdc3828ab981ae6e": {
      "model_module": "@jupyter-widgets/controls",
      "model_module_version": "1.5.0",
      "model_name": "VBoxModel",
      "state": {
       "children": [
        "IPY_MODEL_0511f46a0f664dcdb72ed0efa8bf80b4",
        "IPY_MODEL_77a0090a9de54ad59d6e9426d5fe9fba",
        "IPY_MODEL_1e8d8a3d4ec6463b88ce3b49126f9d1a"
       ],
       "layout": "IPY_MODEL_55c31fa206794a679d75fce343625a49"
      }
     },
     "5e3f98626f84489f8c7fdf4cbeb0a4a8": {
      "model_module": "@jupyter-widgets/base",
      "model_module_version": "1.2.0",
      "model_name": "LayoutModel",
      "state": {}
     },
     "5f873a8fb0ef4f299d5a14cdda1f11c5": {
      "model_module": "@jupyter-widgets/output",
      "model_module_version": "1.0.0",
      "model_name": "OutputModel",
      "state": {
       "layout": "IPY_MODEL_564284b15c7743bd99d67db30cb61199",
       "outputs": [
        {
         "name": "stdout",
         "output_type": "stream",
         "text": "Complete!     \r"
        }
       ]
      }
     },
     "5f98e939b07a4df388873eb7cb4da191": {
      "model_module": "@jupyter-widgets/controls",
      "model_module_version": "1.5.0",
      "model_name": "DescriptionStyleModel",
      "state": {
       "description_width": ""
      }
     },
     "6013e98703db4ae2b706744099cda431": {
      "model_module": "@jupyter-widgets/output",
      "model_module_version": "1.0.0",
      "model_name": "OutputModel",
      "state": {
       "layout": "IPY_MODEL_6bb3ac32263d4dcda2faa463ff5b41e7",
       "outputs": [
        {
         "data": {
          "image/png": "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\n",
          "text/plain": "<Figure size 432x288 with 1 Axes>"
         },
         "metadata": {
          "needs_background": "light"
         },
         "output_type": "display_data"
        }
       ]
      }
     },
     "632aab32e9084d339384fd529623ee54": {
      "model_module": "@jupyter-widgets/base",
      "model_module_version": "1.2.0",
      "model_name": "LayoutModel",
      "state": {}
     },
     "635c4b127c2447bf92eaa2d86b2ea4cb": {
      "model_module": "@jupyter-widgets/controls",
      "model_module_version": "1.5.0",
      "model_name": "DescriptionStyleModel",
      "state": {
       "description_width": ""
      }
     },
     "6414d58f27704fe7971eb15d6a1e564b": {
      "model_module": "@jupyter-widgets/base",
      "model_module_version": "1.2.0",
      "model_name": "LayoutModel",
      "state": {}
     },
     "65c864ed779342ed960078524ab3c060": {
      "model_module": "@jupyter-widgets/output",
      "model_module_version": "1.0.0",
      "model_name": "OutputModel",
      "state": {
       "layout": "IPY_MODEL_474705eb050e40348d27da8a37d06690",
       "outputs": [
        {
         "data": {
          "image/png": "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\n",
          "text/plain": "<Figure size 432x288 with 1 Axes>"
         },
         "metadata": {
          "needs_background": "light"
         },
         "output_type": "display_data"
        }
       ]
      }
     },
     "682d4ee2288e40b39035de6905c75dd8": {
      "model_module": "@jupyter-widgets/base",
      "model_module_version": "1.2.0",
      "model_name": "LayoutModel",
      "state": {}
     },
     "68b688178412407bb157153e429d0c56": {
      "model_module": "@jupyter-widgets/controls",
      "model_module_version": "1.5.0",
      "model_name": "DescriptionStyleModel",
      "state": {
       "description_width": ""
      }
     },
     "6908260c67d5493fb9ec1a0b2cb032c7": {
      "model_module": "@jupyter-widgets/controls",
      "model_module_version": "1.5.0",
      "model_name": "GridBoxModel",
      "state": {
       "children": [
        "IPY_MODEL_20a8c80055f54375b4610be7d0555b4d",
        "IPY_MODEL_4a4177f6a4f146a3ab63de9b44e6fa1c"
       ],
       "layout": "IPY_MODEL_b2b0636005214f33aa6fbee5265710bc"
      }
     },
     "6a4dc583cb37474e98dbb186f5ff67c2": {
      "model_module": "@jupyter-widgets/base",
      "model_module_version": "1.2.0",
      "model_name": "LayoutModel",
      "state": {}
     },
     "6a9ab01c512a407aa372ec254fabdad1": {
      "model_module": "@jupyter-widgets/controls",
      "model_module_version": "1.5.0",
      "model_name": "TextareaModel",
      "state": {
       "continuous_update": false,
       "description": "Text box:",
       "layout": "IPY_MODEL_e90890881bd441f5a1c9fd20e9f198f7",
       "placeholder": "Type to analyze",
       "style": "IPY_MODEL_5bc9a2984a5d46c39e299c5f028624f5"
      }
     },
     "6b892fee6c674963a1763fbde045ee55": {
      "model_module": "@jupyter-widgets/base",
      "model_module_version": "1.2.0",
      "model_name": "LayoutModel",
      "state": {}
     },
     "6bb3ac32263d4dcda2faa463ff5b41e7": {
      "model_module": "@jupyter-widgets/base",
      "model_module_version": "1.2.0",
      "model_name": "LayoutModel",
      "state": {}
     },
     "6cbe9fa98dcd4a248b605bb7421d6312": {
      "model_module": "@jupyter-widgets/base",
      "model_module_version": "1.2.0",
      "model_name": "LayoutModel",
      "state": {}
     },
     "6dbe8273214d44028382286a2c3cc3b5": {
      "model_module": "@jupyter-widgets/controls",
      "model_module_version": "1.5.0",
      "model_name": "DescriptionStyleModel",
      "state": {
       "description_width": ""
      }
     },
     "6dfc510eecc047c7b7ef9a718dbe1912": {
      "model_module": "@jupyter-widgets/controls",
      "model_module_version": "1.5.0",
      "model_name": "VBoxModel",
      "state": {
       "_dom_classes": [
        "widget-interact"
       ],
       "children": [
        "IPY_MODEL_fbd342a657e6406eb79992291d87d81f",
        "IPY_MODEL_39463d5825844743a5683a7f67d62c72",
        "IPY_MODEL_79f4c4ceddf0461b8952e555c8224eac",
        "IPY_MODEL_6013e98703db4ae2b706744099cda431"
       ],
       "layout": "IPY_MODEL_a9332705b6d54b388220396667171275"
      }
     },
     "6efa0e538b86452484ba077262769df9": {
      "model_module": "@jupyter-widgets/controls",
      "model_module_version": "1.5.0",
      "model_name": "TabModel",
      "state": {
       "_titles": {
        "0": "Popular Keywords VS Month",
        "1": "Popular Keywords across all time"
       },
       "children": [
        "IPY_MODEL_2fa1b23408134ca085bea0b8b63833b5",
        "IPY_MODEL_4df2d9e7d84349619ad2f3192b130d5a"
       ],
       "layout": "IPY_MODEL_4718f63cd52141cbacba930ab4684db5"
      }
     },
     "7005f4892ac443feaf46bfe506806bd5": {
      "model_module": "@jupyter-widgets/base",
      "model_module_version": "1.2.0",
      "model_name": "LayoutModel",
      "state": {
       "grid_area": "center"
      }
     },
     "70ab43192b1f4027854d85fa47d1f2e8": {
      "model_module": "@jupyter-widgets/controls",
      "model_module_version": "1.5.0",
      "model_name": "DescriptionStyleModel",
      "state": {
       "description_width": ""
      }
     },
     "75aa24e41b3546c5a8b98b6517bd47ca": {
      "model_module": "@jupyter-widgets/controls",
      "model_module_version": "1.5.0",
      "model_name": "DescriptionStyleModel",
      "state": {
       "description_width": ""
      }
     },
     "76c652662a5b4fc6ac6dfdf71c96aede": {
      "model_module": "@jupyter-widgets/base",
      "model_module_version": "1.2.0",
      "model_name": "LayoutModel",
      "state": {}
     },
     "77a0090a9de54ad59d6e9426d5fe9fba": {
      "model_module": "@jupyter-widgets/controls",
      "model_module_version": "1.5.0",
      "model_name": "HBoxModel",
      "state": {
       "children": [
        "IPY_MODEL_ef1527d7d0aa4227b7f411e56b4d0788",
        "IPY_MODEL_e02ecb97267244d0868d3557c053aa9b"
       ],
       "layout": "IPY_MODEL_e9d740e69e2a4f5dad22977508f4a3a0"
      }
     },
     "788b37d1704e45adac11dc7068786b5f": {
      "model_module": "@jupyter-widgets/controls",
      "model_module_version": "1.5.0",
      "model_name": "HTMLModel",
      "state": {
       "layout": "IPY_MODEL_47cb90a1c31544bebe6626ba7c52be96",
       "style": "IPY_MODEL_0b245c66a21d4b29b4cd641ec05b6e4d",
       "value": "<b><font size='2' color='Black'>How insane is it that sometimes you see the most amazing video on youtube, \nand yet it took nearly a decade for it to be popular? Or a subpar video which hits a \nmillion views within a week? A lot of it has to do with the way you market your content. \nSponsoring advertisements for your posts helps, but it depends heavily on the \ntextual supporting descriptions that you add. And an even deeper question is: what makes certain \nwords more popular than others? What receives more hate by the public? Are certain \ntopics more active during election years or during a pandemic? Fortunately, our platform and tools will figure it out for you\n. We’re trying to create a simple \nplatform which serves as a proof of concept for how sentiment analysis can be extended \nto utility on a daily basis, with a very wide customer demographic.\n</b>"
      }
     },
     "79747b2c018d4f75bfb25c6417d61644": {
      "model_module": "@jupyter-widgets/output",
      "model_module_version": "1.0.0",
      "model_name": "OutputModel",
      "state": {
       "layout": "IPY_MODEL_243d7fbbebda4a0ea88c19e576cca75a",
       "outputs": [
        {
         "ename": "NameError",
         "evalue": "name 'plt' is not defined",
         "output_type": "error",
         "traceback": [
          "\u001b[0;31m---------------------------------------------------------------------------\u001b[0m",
          "\u001b[0;31mNameError\u001b[0m                                 Traceback (most recent call last)",
          "\u001b[0;32m/srv/conda/envs/notebook/lib/python3.7/site-packages/ipywidgets/widgets/interaction.py\u001b[0m in \u001b[0;36mupdate\u001b[0;34m(self, *args)\u001b[0m\n\u001b[1;32m    254\u001b[0m                     \u001b[0mvalue\u001b[0m \u001b[0;34m=\u001b[0m \u001b[0mwidget\u001b[0m\u001b[0;34m.\u001b[0m\u001b[0mget_interact_value\u001b[0m\u001b[0;34m(\u001b[0m\u001b[0;34m)\u001b[0m\u001b[0;34m\u001b[0m\u001b[0;34m\u001b[0m\u001b[0m\n\u001b[1;32m    255\u001b[0m                     \u001b[0mself\u001b[0m\u001b[0;34m.\u001b[0m\u001b[0mkwargs\u001b[0m\u001b[0;34m[\u001b[0m\u001b[0mwidget\u001b[0m\u001b[0;34m.\u001b[0m\u001b[0m_kwarg\u001b[0m\u001b[0;34m]\u001b[0m \u001b[0;34m=\u001b[0m \u001b[0mvalue\u001b[0m\u001b[0;34m\u001b[0m\u001b[0;34m\u001b[0m\u001b[0m\n\u001b[0;32m--> 256\u001b[0;31m                 \u001b[0mself\u001b[0m\u001b[0;34m.\u001b[0m\u001b[0mresult\u001b[0m \u001b[0;34m=\u001b[0m \u001b[0mself\u001b[0m\u001b[0;34m.\u001b[0m\u001b[0mf\u001b[0m\u001b[0;34m(\u001b[0m\u001b[0;34m**\u001b[0m\u001b[0mself\u001b[0m\u001b[0;34m.\u001b[0m\u001b[0mkwargs\u001b[0m\u001b[0;34m)\u001b[0m\u001b[0;34m\u001b[0m\u001b[0;34m\u001b[0m\u001b[0m\n\u001b[0m\u001b[1;32m    257\u001b[0m                 \u001b[0mshow_inline_matplotlib_plots\u001b[0m\u001b[0;34m(\u001b[0m\u001b[0;34m)\u001b[0m\u001b[0;34m\u001b[0m\u001b[0;34m\u001b[0m\u001b[0m\n\u001b[1;32m    258\u001b[0m                 \u001b[0;32mif\u001b[0m \u001b[0mself\u001b[0m\u001b[0;34m.\u001b[0m\u001b[0mauto_display\u001b[0m \u001b[0;32mand\u001b[0m \u001b[0mself\u001b[0m\u001b[0;34m.\u001b[0m\u001b[0mresult\u001b[0m \u001b[0;32mis\u001b[0m \u001b[0;32mnot\u001b[0m \u001b[0;32mNone\u001b[0m\u001b[0;34m:\u001b[0m\u001b[0;34m\u001b[0m\u001b[0;34m\u001b[0m\u001b[0m\n",
          "\u001b[0;32m<ipython-input-3-f72b4be5a713>\u001b[0m in \u001b[0;36mfplot\u001b[0;34m(x, Genre)\u001b[0m\n\u001b[1;32m     54\u001b[0m     \u001b[0;31m#ax.plot(xi,np.sin(2*np.pi*x*xi+y),color=color)\u001b[0m\u001b[0;34m\u001b[0m\u001b[0;34m\u001b[0m\u001b[0;34m\u001b[0m\u001b[0m\n\u001b[1;32m     55\u001b[0m     \u001b[0;31m#indicate running\u001b[0m\u001b[0;34m\u001b[0m\u001b[0;34m\u001b[0m\u001b[0;34m\u001b[0m\u001b[0m\n\u001b[0;32m---> 56\u001b[0;31m     \u001b[0mplt\u001b[0m\u001b[0;34m.\u001b[0m\u001b[0mcla\u001b[0m\u001b[0;34m(\u001b[0m\u001b[0;34m)\u001b[0m\u001b[0;34m\u001b[0m\u001b[0;34m\u001b[0m\u001b[0m\n\u001b[0m\u001b[1;32m     57\u001b[0m     \u001b[0mloading\u001b[0m\u001b[0;34m=\u001b[0m\u001b[0;34m\"Now loading...\"\u001b[0m\u001b[0;34m\u001b[0m\u001b[0;34m\u001b[0m\u001b[0m\n\u001b[1;32m     58\u001b[0m     \u001b[0mplt\u001b[0m\u001b[0;34m.\u001b[0m\u001b[0maxis\u001b[0m\u001b[0;34m(\u001b[0m\u001b[0;34m'off'\u001b[0m\u001b[0;34m)\u001b[0m\u001b[0;34m\u001b[0m\u001b[0;34m\u001b[0m\u001b[0m\n",
          "\u001b[0;31mNameError\u001b[0m: name 'plt' is not defined"
         ]
        }
       ]
      }
     },
     "79e93833c9ef4b60b97a8b8ca834e8c4": {
      "model_module": "@jupyter-widgets/controls",
      "model_module_version": "1.5.0",
      "model_name": "AccordionModel",
      "state": {
       "_titles": {
        "0": "Popular Keywords over Time",
        "1": "Likes&Dislikes over Time ",
        "2": "Text Analysis "
       },
       "children": [
        "IPY_MODEL_3c0cdb2d8f27427fa8b4811bc7d40a79",
        "IPY_MODEL_5e0e971e5cfa493abdc3828ab981ae6e",
        "IPY_MODEL_f469d2faba7245efa695b16fae0c3c4d"
       ],
       "layout": "IPY_MODEL_7005f4892ac443feaf46bfe506806bd5"
      }
     },
     "79f4c4ceddf0461b8952e555c8224eac": {
      "model_module": "@jupyter-widgets/controls",
      "model_module_version": "1.5.0",
      "model_name": "TextModel",
      "state": {
       "description": "like",
       "layout": "IPY_MODEL_d5490fee49ce44a4a771b2874ff9dbf1",
       "style": "IPY_MODEL_024f8665349e4033a990471140896e2b",
       "value": "hate"
      }
     },
     "7b7b7ef54f5741ac8ba6d24d24ef9ac2": {
      "model_module": "@jupyter-widgets/controls",
      "model_module_version": "1.5.0",
      "model_name": "DescriptionStyleModel",
      "state": {
       "description_width": ""
      }
     },
     "7d22d38de065400c9cb3209724ac3f29": {
      "model_module": "@jupyter-widgets/base",
      "model_module_version": "1.2.0",
      "model_name": "LayoutModel",
      "state": {}
     },
     "7ebeb2b1135e4e69bed4b49dbba5007b": {
      "model_module": "@jupyter-widgets/controls",
      "model_module_version": "1.5.0",
      "model_name": "DescriptionStyleModel",
      "state": {
       "description_width": ""
      }
     },
     "7ef9e127aa2d45b0bdf4a87e2bdab982": {
      "model_module": "@jupyter-widgets/controls",
      "model_module_version": "1.5.0",
      "model_name": "DescriptionStyleModel",
      "state": {
       "description_width": ""
      }
     },
     "8039a61405f148c99a2dd0dcc46e9314": {
      "model_module": "@jupyter-widgets/output",
      "model_module_version": "1.0.0",
      "model_name": "OutputModel",
      "state": {
       "layout": "IPY_MODEL_f443852143b8402e8fae7e08f8bc9a2b"
      }
     },
     "8424e48fe102425fa340438270fb0c56": {
      "model_module": "@jupyter-widgets/base",
      "model_module_version": "1.2.0",
      "model_name": "LayoutModel",
      "state": {
       "grid_area": "center"
      }
     },
     "8435c70a38384a7f88052b9bd426b581": {
      "model_module": "@jupyter-widgets/controls",
      "model_module_version": "1.5.0",
      "model_name": "VBoxModel",
      "state": {
       "_dom_classes": [
        "widget-interact"
       ],
       "children": [
        "IPY_MODEL_6a9ab01c512a407aa372ec254fabdad1",
        "IPY_MODEL_4a07e273170c444dbdbb72d839b139f4",
        "IPY_MODEL_29598e2f587b4c4091dfd0c692f83fcb",
        "IPY_MODEL_0a34e9bb65a848bdaae4499791380052"
       ],
       "layout": "IPY_MODEL_f5d88da42cbc46e082df3b96ef982238"
      }
     },
     "857c933eeb374a57836f082e8c001c2c": {
      "model_module": "@jupyter-widgets/output",
      "model_module_version": "1.0.0",
      "model_name": "OutputModel",
      "state": {
       "layout": "IPY_MODEL_31fed71c7f5246879bd2123cb2bb8a47",
       "outputs": [
        {
         "ename": "NameError",
         "evalue": "name 'plt' is not defined",
         "output_type": "error",
         "traceback": [
          "\u001b[0;31m---------------------------------------------------------------------------\u001b[0m",
          "\u001b[0;31mNameError\u001b[0m                                 Traceback (most recent call last)",
          "\u001b[0;32m/srv/conda/envs/notebook/lib/python3.7/site-packages/ipywidgets/widgets/interaction.py\u001b[0m in \u001b[0;36mupdate\u001b[0;34m(self, *args)\u001b[0m\n\u001b[1;32m    254\u001b[0m                     \u001b[0mvalue\u001b[0m \u001b[0;34m=\u001b[0m \u001b[0mwidget\u001b[0m\u001b[0;34m.\u001b[0m\u001b[0mget_interact_value\u001b[0m\u001b[0;34m(\u001b[0m\u001b[0;34m)\u001b[0m\u001b[0;34m\u001b[0m\u001b[0;34m\u001b[0m\u001b[0m\n\u001b[1;32m    255\u001b[0m                     \u001b[0mself\u001b[0m\u001b[0;34m.\u001b[0m\u001b[0mkwargs\u001b[0m\u001b[0;34m[\u001b[0m\u001b[0mwidget\u001b[0m\u001b[0;34m.\u001b[0m\u001b[0m_kwarg\u001b[0m\u001b[0;34m]\u001b[0m \u001b[0;34m=\u001b[0m \u001b[0mvalue\u001b[0m\u001b[0;34m\u001b[0m\u001b[0;34m\u001b[0m\u001b[0m\n\u001b[0;32m--> 256\u001b[0;31m                 \u001b[0mself\u001b[0m\u001b[0;34m.\u001b[0m\u001b[0mresult\u001b[0m \u001b[0;34m=\u001b[0m \u001b[0mself\u001b[0m\u001b[0;34m.\u001b[0m\u001b[0mf\u001b[0m\u001b[0;34m(\u001b[0m\u001b[0;34m**\u001b[0m\u001b[0mself\u001b[0m\u001b[0;34m.\u001b[0m\u001b[0mkwargs\u001b[0m\u001b[0;34m)\u001b[0m\u001b[0;34m\u001b[0m\u001b[0;34m\u001b[0m\u001b[0m\n\u001b[0m\u001b[1;32m    257\u001b[0m                 \u001b[0mshow_inline_matplotlib_plots\u001b[0m\u001b[0;34m(\u001b[0m\u001b[0;34m)\u001b[0m\u001b[0;34m\u001b[0m\u001b[0;34m\u001b[0m\u001b[0m\n\u001b[1;32m    258\u001b[0m                 \u001b[0;32mif\u001b[0m \u001b[0mself\u001b[0m\u001b[0;34m.\u001b[0m\u001b[0mauto_display\u001b[0m \u001b[0;32mand\u001b[0m \u001b[0mself\u001b[0m\u001b[0;34m.\u001b[0m\u001b[0mresult\u001b[0m \u001b[0;32mis\u001b[0m \u001b[0;32mnot\u001b[0m \u001b[0;32mNone\u001b[0m\u001b[0;34m:\u001b[0m\u001b[0;34m\u001b[0m\u001b[0;34m\u001b[0m\u001b[0m\n",
          "\u001b[0;32m<ipython-input-3-f72b4be5a713>\u001b[0m in \u001b[0;36mFplot\u001b[0;34m(x, Genre, like)\u001b[0m\n\u001b[1;32m    166\u001b[0m     \u001b[0;31m#fig,ax=subplots()\u001b[0m\u001b[0;34m\u001b[0m\u001b[0;34m\u001b[0m\u001b[0;34m\u001b[0m\u001b[0m\n\u001b[1;32m    167\u001b[0m     \u001b[0;31m#ax.plot(xi,np.sin(2*np.pi*x*xi+y),color=color)\u001b[0m\u001b[0;34m\u001b[0m\u001b[0;34m\u001b[0m\u001b[0;34m\u001b[0m\u001b[0m\n\u001b[0;32m--> 168\u001b[0;31m     \u001b[0mplt\u001b[0m\u001b[0;34m.\u001b[0m\u001b[0mcla\u001b[0m\u001b[0;34m(\u001b[0m\u001b[0;34m)\u001b[0m\u001b[0;34m\u001b[0m\u001b[0;34m\u001b[0m\u001b[0m\n\u001b[0m\u001b[1;32m    169\u001b[0m     \u001b[0mloading\u001b[0m\u001b[0;34m=\u001b[0m\u001b[0;34m\"Now loading...\"\u001b[0m\u001b[0;34m\u001b[0m\u001b[0;34m\u001b[0m\u001b[0m\n\u001b[1;32m    170\u001b[0m     \u001b[0mplt\u001b[0m\u001b[0;34m.\u001b[0m\u001b[0maxis\u001b[0m\u001b[0;34m(\u001b[0m\u001b[0;34m'off'\u001b[0m\u001b[0;34m)\u001b[0m\u001b[0;34m\u001b[0m\u001b[0;34m\u001b[0m\u001b[0m\n",
          "\u001b[0;31mNameError\u001b[0m: name 'plt' is not defined"
         ]
        }
       ]
      }
     },
     "892a30bc23214fecae80a6be41c08b34": {
      "model_module": "@jupyter-widgets/controls",
      "model_module_version": "1.5.0",
      "model_name": "DescriptionStyleModel",
      "state": {
       "description_width": ""
      }
     },
     "89f992934be8443ba1b49ece736b3471": {
      "model_module": "@jupyter-widgets/base",
      "model_module_version": "1.2.0",
      "model_name": "LayoutModel",
      "state": {}
     },
     "8b401bb330704d89967887bf3b60642a": {
      "model_module": "@jupyter-widgets/base",
      "model_module_version": "1.2.0",
      "model_name": "LayoutModel",
      "state": {}
     },
     "8b56bb29e7834394ba7db3f846a8d718": {
      "model_module": "@jupyter-widgets/base",
      "model_module_version": "1.2.0",
      "model_name": "LayoutModel",
      "state": {}
     },
     "8cb5d9ae69354760a1c2fcecb1baa255": {
      "model_module": "@jupyter-widgets/controls",
      "model_module_version": "1.5.0",
      "model_name": "DescriptionStyleModel",
      "state": {
       "description_width": ""
      }
     },
     "92123a8e03c041d689b6d6b40094f8ab": {
      "model_module": "@jupyter-widgets/base",
      "model_module_version": "1.2.0",
      "model_name": "LayoutModel",
      "state": {}
     },
     "96a73ec91d20462a9625197e44b12fe8": {
      "model_module": "@jupyter-widgets/base",
      "model_module_version": "1.2.0",
      "model_name": "LayoutModel",
      "state": {}
     },
     "992080c1affb4230b318c41faea60b83": {
      "model_module": "@jupyter-widgets/controls",
      "model_module_version": "1.5.0",
      "model_name": "HTMLModel",
      "state": {
       "layout": "IPY_MODEL_12cfa136bf5048b8bc18a27c4fbec244",
       "style": "IPY_MODEL_6dbe8273214d44028382286a2c3cc3b5",
       "value": "<b><font size='2' color='Black'>\nIn this part, you can use our tools to create a word cloud of popular words in different time periods. Size of a word will be based on\nits popularity. \n We also provide you with different genres to choose. You can check the popular words within the genre you have interest in.\n The time will be in a month and year format that the user can toggle with the slider and see how the word cloud changes over time.\n</b>"
      }
     },
     "9f278fc443a74d3ebab6683d255a4aee": {
      "model_module": "@jupyter-widgets/controls",
      "model_module_version": "1.5.0",
      "model_name": "BoundedIntTextModel",
      "state": {
       "description": "Integer:",
       "layout": "IPY_MODEL_3c3bb0ceb1ff4037a6b63b191f41bc93",
       "max": 200,
       "style": "IPY_MODEL_33e25be3e4f24560ab379753d3d81ae1",
       "value": 10
      }
     },
     "a116c05c963941a8919b16951656925f": {
      "model_module": "@jupyter-widgets/controls",
      "model_module_version": "1.5.0",
      "model_name": "HBoxModel",
      "state": {
       "children": [
        "IPY_MODEL_2f7c578ee45a4c74b5100c59010d202b",
        "IPY_MODEL_6dfc510eecc047c7b7ef9a718dbe1912"
       ],
       "layout": "IPY_MODEL_3cd6a497b8134fcf9ac7dc2ecca6f693"
      }
     },
     "a3500587ea654f6da1ac98b191933771": {
      "model_module": "@jupyter-widgets/controls",
      "model_module_version": "1.5.0",
      "model_name": "SelectionSliderModel",
      "state": {
       "_options_labels": [
        "2015-01",
        "2015-02",
        "2015-03",
        "2015-04",
        "2015-05",
        "2015-06",
        "2015-07",
        "2015-08",
        "2015-09",
        "2015-10",
        "2015-11",
        "2015-12",
        "2016-01",
        "2016-02",
        "2016-03",
        "2016-04",
        "2016-05",
        "2016-06",
        "2016-07",
        "2016-08",
        "2016-09",
        "2016-10",
        "2016-11",
        "2016-12",
        "2017-01",
        "2017-02",
        "2017-03",
        "2017-04",
        "2017-05",
        "2017-06",
        "2017-07",
        "2017-08",
        "2017-09",
        "2017-10",
        "2017-11",
        "2017-12",
        "2018-01",
        "2018-02",
        "2018-03",
        "2018-04",
        "2018-05",
        "2018-06",
        "2018-07",
        "2018-08",
        "2018-09",
        "2018-10",
        "2018-11",
        "2018-12",
        "2019-01",
        "2019-02",
        "2019-03",
        "2019-04",
        "2019-05",
        "2019-06",
        "2019-07",
        "2019-08",
        "2019-09",
        "2019-10",
        "2019-11",
        "2019-12"
       ],
       "continuous_update": false,
       "description": "Date",
       "index": 0,
       "layout": "IPY_MODEL_92123a8e03c041d689b6d6b40094f8ab",
       "style": "IPY_MODEL_8cb5d9ae69354760a1c2fcecb1baa255"
      }
     },
     "a4ae90391af046218d76e40b13c77ecc": {
      "model_module": "@jupyter-widgets/base",
      "model_module_version": "1.2.0",
      "model_name": "LayoutModel",
      "state": {
       "grid_template_areas": "\"header header header\"\n\"center center center\"",
       "grid_template_columns": "1fr 2fr 1fr",
       "grid_template_rows": "1fr 3fr"
      }
     },
     "a4d4073abc9348399aa5191258d22000": {
      "model_module": "@jupyter-widgets/base",
      "model_module_version": "1.2.0",
      "model_name": "LayoutModel",
      "state": {}
     },
     "a58481480b3b438b8c2d5c853d0d6246": {
      "model_module": "@jupyter-widgets/base",
      "model_module_version": "1.2.0",
      "model_name": "LayoutModel",
      "state": {}
     },
     "a60e0806c53f4b30bd2a1235c0d77d18": {
      "model_module": "@jupyter-widgets/controls",
      "model_module_version": "1.5.0",
      "model_name": "DescriptionStyleModel",
      "state": {
       "description_width": ""
      }
     },
     "a82008b45ff444fe95f91efd8ab2ec06": {
      "model_module": "@jupyter-widgets/base",
      "model_module_version": "1.2.0",
      "model_name": "LayoutModel",
      "state": {}
     },
     "a9332705b6d54b388220396667171275": {
      "model_module": "@jupyter-widgets/base",
      "model_module_version": "1.2.0",
      "model_name": "LayoutModel",
      "state": {}
     },
     "af6870b404354e2c8703196aabc3da3f": {
      "model_module": "@jupyter-widgets/controls",
      "model_module_version": "1.5.0",
      "model_name": "HTMLModel",
      "state": {
       "layout": "IPY_MODEL_0d5f2201a8214e2fa80c0056ab52f52c",
       "style": "IPY_MODEL_2da5c824d018423796e797f4fb933445",
       "value": "<b><font size='5' color='Black'>Youtube Trend over Time</b>"
      }
     },
     "b0c09f5fa8c24448af957853177b875a": {
      "model_module": "@jupyter-widgets/controls",
      "model_module_version": "1.5.0",
      "model_name": "DescriptionStyleModel",
      "state": {
       "description_width": ""
      }
     },
     "b2b0636005214f33aa6fbee5265710bc": {
      "model_module": "@jupyter-widgets/base",
      "model_module_version": "1.2.0",
      "model_name": "LayoutModel",
      "state": {
       "grid_template_areas": "\"header header header\"\n\"center center center\"",
       "grid_template_columns": "1fr 2fr 1fr",
       "grid_template_rows": "1fr 3fr"
      }
     },
     "b39f9d20daf4455fbe66d77d3615cf49": {
      "model_module": "@jupyter-widgets/base",
      "model_module_version": "1.2.0",
      "model_name": "LayoutModel",
      "state": {}
     },
     "b3c6d97547d54c1f8fa284fccb6b4822": {
      "model_module": "@jupyter-widgets/output",
      "model_module_version": "1.0.0",
      "model_name": "OutputModel",
      "state": {
       "layout": "IPY_MODEL_76c652662a5b4fc6ac6dfdf71c96aede",
       "outputs": [
        {
         "data": {
          "image/png": "iVBORw0KGgoAAAANSUhEUgAAAOcAAADnCAYAAADl9EEgAAAABHNCSVQICAgIfAhkiAAAAAlwSFlzAAALEgAACxIB0t1+/AAAADh0RVh0U29mdHdhcmUAbWF0cGxvdGxpYiB2ZXJzaW9uMy4yLjEsIGh0dHA6Ly9tYXRwbG90bGliLm9yZy+j8jraAAAgAElEQVR4nOydd5hcV3n/P+fe6WV7702rttJKliXZliyQLUvuNQFjuumBQDAGQgIBDAFCEgghQCg/AjYYg21sjOQmF8nqktW7dlfb+87uzE4v957fH7M7u6MtGlVbtr7P48faO/eee8655z3lfb/v+wopJZdxGZfx5oPyRlfgMi7jMibHZeG8jMt4k+KycF7GZbxJcVk4L+My3qS4LJyXcRlvUhhO8/tbUpUrpeT59YdobO5LXDObDLz77sWkp9vewJpNDSklO19vZteeZt6xfCbz5pa80VW6jPMHMdnF0wnnWxa9fcMcOdqFzxeiu9eDxWzkljXzUxLOWExDAgZVQYhJ+/WC4PCxLp54ejclxVmXhfNtgLetcH7gvmu4711L8QfCPPCPf6R/wJvSc1JKfvP7LZhMBt5/79UXuJaX8XbG2/LMKYRAUQQmkwGrxYSipL76BYNRtmxvZCBFYb6MyzhbpLRySinRdYkQ8YE9fisnpUTK+P8VZey30WdGB76m6QSDUXQpsZiNmEzqlFvC0WeDoShaTENRFSxmIwbD5NvIOMlJEonECIdjSOJnSLPZcN62naNMqo7OQbp7PNTNLkbXJeOP5ePbf+qz0ahGKBRFCIHFapx2Szza/kAwgpQSq8WEwfC2nEff1khJOJua+/nJL15h7uwi7n//tZw6pp5eu4eNm0/wvnuvYvEVlQC8vqeFR/+0g499eAXBUJTHn9pFS+sAmqaTne1k1Ttnc+uN9VgsxqSyYprOjl1NrHv+AK3tLkKhKCaTgZxsB3VzSrjjlgUU5Kcn7tc0nQOHOnh10zGOHu/G7Q4gpSQ93Up9XSn33LmIooKMcxJSny/E+leP0NDUy7HjPYRCUbbuaKS13ZW4x6AqfPoT11NdmZu4JqUkEIjw3PqDvPraMfr6vSiKoKQok5vXzGfFstoJE46UkuMNPfzh8R2caOhF03VKi7O4585FqOplAb3Y0HSdkBbDoCiYlKkXlAuBlITT7w9z4FAHdpuZ+EqRXMGubjcHDrUz5J6fuDbkDrDvQBuPPbGTg4c7yM1xUj+vFJ8vXtZPf/kqw94QH3rvssTqKqXkxZcP86OfrsdhtzBnViEOhwW3O0Bru4u1z+9n5YqZScIZjWr86rev0dI6QFlpNvXzSgHJsRM9PPXXPRw+1sX3H/qbc9LCen1hdu1uJhLREhOToiiYjGPdpxoUTt0d+/xhvv/D59i2s4ny0mwWzC8lEtE4cqyT7/3gWVrbBvjAfcswGMbaf+xEN1/71tN4PEHmzi6ioCCdnl4P3//h85SXZZ91Gy7jzCGlZENbM9/esoHbZszi84uvuajvv6AKIQls3tbAu+9ZwvvvvQqr1YSuS17f08I3vvsXnl9/kDtvXUhWph2AaEzj2RcOYFAVvvW1O5lVW4AQAl2X+P1hOrvdVFXkJr3DbDbw6Y9fh8VipLgoE6NBBcA16OPr//o0x473sO9gO+9YPvOs21GQn8a3/+UuJPDa5hM89L1nuGpxFf/w6RsS85SACSvgU8/sYcv2Ru64ZQEf+cC12EYmt/bOIb7+7af501Ovc8WCchbML0u0//9+t4XBIT8fft9y3nXPYkxGlWhU49kXD/I/P3/lrNtwGWeHjW0tNHuGcAUDF/3dF3yfVFSYwb1/swSr1YQQAlVVWFhfRlVFLm53gP7+cYoVGTdTIETiTDb6TFqaldkzCzGMCN8ohBDMnllIZXkOZpMBRYkre3KyHaxYNhNdSjq7hs6pDXEFkoKqKCgjAihE/Iypjl5Xkrenw94gz790iOwsO/e96yrsdvNI3RTKSrK4afU8QqEor246ljjPdnW5OXS4k6KCDG6/ZQFmU/zMbDIZWHP9XKoqc86pHZdxZgjGYuzu6XzD3n/BTSkzqvNxOi1JA9dgUElzWtF1STgSTVw3GlWWX1PLrx/exDe++wy337yAa6+ZQUF++pTKllFICYFgGJ8vTCgUIRrT8QfCAMRi+oVr4BTo6HTT3++lsiKHvv5hBly+CfcIAa2tLjRNYjAIWttdBEMRqqoqcDosSfdaLEZmVOVzoqH3YjXhbY8Or4cWj/sNe/8FF87MDNuk9IdROZNJ1wT33HEFAnh67V5+/uuN/OHxHVxRX8atN9Uzv650UgXKicZe/rJuL4eOdOLxBNF1iZSSSFSb8I6LBdegj5im09DUy+e++IcJv49quUPhKHKkhnFlFmRl2Cco3QAyMiY/N4+uvIFolG6/l16/D380igAcJhO5Nju5NjtOk3nS7XdY0+LadiEwqROVHvF7Yoy6/ppUFVWZuOmKahoxXQcBZtWQ2GVMaDcwGAzS7vUwGAwggUyLhVJnOtlWG4qYfiKeqszhcIh27zD9AT+arpNmNlPqTCfP7kBNsczRvozoGts72wlEIwDEdJ1gLDY5lWea9p4Lzotwxk0Kk2OyjzgdLGYj971rKatWzmHT1hO8+toxNm9vZOuOJtasmssnP7oSm9UExDtyz75WvvX9tUQiMVZeO4uF9WVkZzuwWoxs2dbII49tO6e2nS3iH1kyozqfW2+sn4KgBRnpNtRRhdjItam+8VSD3RUM8NjRg6xrPE7bsJtQLIY+MshUoWAyqOTa7MzPLWBNVQ2rKqqxGOJa8mAsxqdfeIa2YQ/l6Rn8ZPVtWI3JGvQWj5u/f/GvBGMxAD63+Gpuq5k1Qch/umcHzzQcw2o08pPVt1KenjmhricGXfzm4B42tjUzEAwQ1eITqEFRyLLaWF5Szv31i5idnZvSYJdS0ukb5uGD+3ixuYFun4+oHp9sVEUhzWRmcWExH56/iMWFxVOOx3Asxus9nRxz9XPU1U/T0CBN7sHEN3mu6QSvd0++xbUajfx0zW2UpWWctr5ngjMSzsmiJkgJw8PB81ah0Q+en5fGPXcs4tYb69l/sJ3//X8bWPv8AWbVFnLT6nkIIdA0yZ/+/DoeT5DPfvJ6br91QWLWlRIOHXnjzguZmXZUVcFqNXHTmnkJRdV0yEi3IkRc0y3lRCEd9ib3s5SSk+4hHnj5WQ709STvQkb+H5M6sahOq8dNq8fN3t4ulhaVJoTTrKooikKTe5DBUIDBUJDiccIppeTwQC+HB/oS5W/rbOe2mllJdYlJnR1dHTS5BylLSyfDbE36XZM6axuO869bN9AX8E+oZ1TX6fX7ePL4YTa0NfPP17yTO2pnoYqpJ3cpJVs72/jqxpdo9ozpFRJt13UGQ0FeaG5kS0cbf3/lVdw/fxFGdeK36PJ5+eTzf8EbiUz6ruFImOFIeNLf7EYTUe38H51SEk6zOa5oGfYG0TTJ+MknGIzQ1NJ/3isGcUG1WIwsubKSQDDCQ997hqMnurlp9TwAItEYvX0ezGYDC+rLkmZFXeqcaDz/5zMxssqd7hxbWpxFbraT5pYBOruGKC/NPu22qqw0G4vFSFNzP35/GKdz7NwZiWo0NSf3c1jT+NaWV9nf1xN/Pi2dm6trmZOTh9NkJqxpdHo9HOrvY19vNx1eDyvLq8i2jm2PFSGoy8nj5ZYmvJEIHV4Pxc60pPfs6elGjtyrS8nhgT7CmobFMDZ8fJEIbcPx81lVRhZ2kynxm5SS9c2N/PNr6/FFIhgUhcWFxayqqKYsLQMJnHQP8mzTCQ719eIKBvj6ppdIM5u5vrxqSmLH3t5uPv/Ss/QF/Il2rKmqpSYzC1VR6Bj28GJzIzu7OvBFI/znzi3YjCbeO7d+wqqcZjZz35x6IrqWuLa7p4sDI307MyuHa4rLJt0BmVSVdLN5sk96TkhJOHNznGSk22hq7ufAoXYW1pchhCASifHX5/bT1j54XioTCEZoaOylsiInrt0c6cBwJEZjUy9SQm62M3G/0aCSlmalvXOQtnYXFSN2QE3T2bK9ka3bGyd9z/gdQPK/T90diAmrV1amHYNBpaGpF48nSHq6NfHsKIMK4qvgTavn8Zvfb+Fnv9zAZz91PQX56QnTUCAYprl1gPLSbDJGbLAlRZnMmVXE3v1trH1+P/fcsQijUUXTdDZuPj5hsmkacrGjqx2AYoeTX99yN9UZWfGaj2NqScAbDnOwv4diZ/qE8TU3Nx9FCGK6TuPQIEuKSpNWtNEBenVxKds622kfdjMQ9FPiHLM39/p9uILxlb0uNw91XMd1+bx8Z+tGfJEIJkXlgSXL+OC8hVgMhqR6vmfOfP51ywYeP3YIbyTC97e/xsL8wqTJZBTeSJhvb9mQEMwPzlvI5xdfEz9Xjyvz3bPn8b97d/I/u7cT0TT++/VtXFNcRlVGZpLQZ1ms/OPVK5Le8R87NifafmVhMV9bvnKq08kFQUrCmZlhZ82qOh7903Ye+t5fWTC/FLvdTGvbIN09bq5aXMXWHZMLwpnA6w3xze8+g8VipLw0m+wsOzFNp63dxYnGPsrLslm1ck6iUw0GhdXXzeXIsS5+9NOXeH1vCw67hebWfo6d6GHZ1TN4ecORCe/Zd6Cdzdsa8AfCeEe8UsLhGP/1k/VkZdqx2UxUVeRyy03zJ2yrqipymTOriAOH2vnS1x5nRk0+mqYTCET4xP3voLgofs4SQnDPnYvo6Bzi5Y1H+fsHH6WyIgerxYTPH6a3z4PHE+SH/3ZvQjiNRpUPv285zS1P8+tHNrNrTwtFBen09g1zsmWApVdWsnlbQ6Iu3T4v4ZEz26zsXKoysiasMkIIBJBusbC8tGJCXwghqM7IwmYw4otGOObqZ/ye2hUM0OwZwqgo3Fozi/29PQyHwzQNDSaEM769HiQUiyIQ1OXkJwnIY0cO0DbsAeCm6lrur1+ESZ1oEks3W/jC0uVs7+qgbdhNw6CLl1qaeNesugnn2xebG9nX1w3AooIiHliyDKfJPKFMq9HIxxcsZnNHK7t7uugP+Pnz8cM8uHT5hHvHY7Ij3KnKtAuNlIRTCHjvu5bisJt5ZeNRDh3pRFEUKsqz+cqDN2O1mPD6QolBBnFFR92cYgoK0icts6w0G58/PMI6iiMtzcodtyxg154WmlsHOHaiG0URZKTbuOOWBdx1+xUUjitPCMGaVXPRNJ11Lxxgy7ZGVFWhpCiTBz6zmro5xXi9QfJynEnv7u0f5tiJ7sTfleVx+2EwFKGzO37mkFIidSZYgq1WI1/6hxt5+A/bOHS4g63bGzGZDPFV8RSKkM1q4oG/X80VC8pY/8oROjqHiEQ1rGYjhfnp3HZTPcWFY0oEIQRzZxfx0Ffv5NHHd9DY1Etbu4uS4iy+8NnV5GQ7GPaGEqQNu8mU2Gq2eNwMBAPkWm1nPIDy7Xby7Q587kEaBl3EdD1xLmsccuEOhciwWLiyoJgCh4PGoUEO9PWworQi8a6jA/1IwG40UpM1xmTyRiI8dzI+oZgUlffMmYdxGiVhrs3O8pIyHj3iRgKvtJzkb2bOTVqJY7rOXxqOokuJAN49ex4Oo2nKMm1GI6sra9jd0wXAa+0tfObKq7AajFM+82ZAisIpsFpNvPuexdx568I4gVsR2GwmDCN8zx98796kffyVV1RwxcLyCZS2eHnwsQ+tQEJCUwlgtRhHXLmuIhSKEtM0hBCYzUYsU5DYjUYDt9+ygDWr6giGoiiKwGYdI4p/62t3TXhu9XVzWbVyzvRthkm9VYQQFBVm8OXP30ggECEa01BVBYvFOEHpM3pmXrOqjlUr5xAIRtA0HYNBxWoxok5Cfk8I6D/fQSAQQZcSm82UKPs/v/vuRD/PyMymyOGkbdjDSfcg/7B+HZ+98moW5hdOahKZClaDkZrMbJrcg3R4PfiiETJVK1JK9vX2oEmdYoeTYmcaNZnZNA4Nsr+vB11K1JHJ4Zgrfh4eFfRRtHqGaB9ZNXNsNmqzcqatlwBmZI2RLZrcg4RisaQz7EAwwNGB+PtsRiML8gunL1MIajKzExNZp3eYoVAQq+MtIJyjGB1sp5LVAQxqcucoikCZYoceZ/1M/ZvRqGI0nl67mUq9JnvPdHVL9X1CCBynEAWmu3+UeHFG96dNvH98P2dbbXxq4RK+uflVQlqMrZ1t7OntYlF+EXfWzuHa0nLy7I7TmiQUIajLzeOF5gYGg0H6/D4yLVZ0KdnbG19tZmTlYDUYmJebz/MnGzgx6MIXjZButhCMxRLa0prMbGzjVqST7iEiWtwEE9N1fnd4P4bTmNcO9Y2drYfDIcJaDDtjwtnlG8YTDiX+fvrEUWzG6QVtdIIACMSi+KbQyr6Z8LZ1tn4rQAjB386uw2Iw8qPXt9Lqids4t3S2sa2znTy7nZXlVfzNrDrm5+ZjUCZ3UxNCMDcnD0UIQlqMFo+b2qwchiNhTgwOADA3J2/k//moQtAf8NHhHSbdbGEg6KfP70/8Pn4y6Av4EyaYvoCfH+zcckZt1KSMExvGwRUIoI3Y1v3RKP+ze/sZlSknKfPNiMvCeYnDoKjcWTuba0rK+PPxwzx5/DDN7iE0Kenx+/jDkQP85cRRrquo4u8XXU1t1uQmnarMLBxGE8ORMMcHB1hdWUObx01/wI9RUajLjSt5qjOzcJrMeMIhjg70MSc7l1aPG380kliBx5cfio3RMxUhME9iY5wOVsPE40xIiyVYVQIwGwxntA8yqwbERdW7nh0uC+dbAEII8u0OPrlwCe+ZU8/2rjb+cuIY2zrbcIdDBGJR1jYe5/XuTr5/3Y1cW1I+YcDn2uwUOpwMD4ZpGBxAAkdc/YQ1jXy7g8qMzJH7bJSmpePuD7G/r4d7Zs6lYdCFJiVOk5nqzKykcsdrZety8/n+yjXTEgtOhaoIMi3J23ujMlZmocPJT9fcjn0ahdCpEAJKnZMrKt9MuCycbyEIIciwWFhTOYNVFTU0u4f407GDPH70EO5wiB6/j29sepnH7riXPLs96VmrwciMrGyODw7Q4nET0TQO9cfPftUZWWSY4+drs2pgTk4eB/t7OTLQR0TTaBiKO50XOhzk2pLLzRn3d0TTKE/LmEAPPFNkW22oikJM14loGkUOJ3njlFBvFVx2rX8LQgiBQVGoycziK1e/g5/deHvCkN/sHmJbZ9vEZ4C6nHwgfjYcCgUTGtj6/IIkJc6C/EIA2oY9uIIBWkaUQTMycyaYJ6oyMhOrZ6/fy8B58IssdqaRNmLTHI6Ek5Q9byVcFs63MIQQKEKwtKiU68qrgDi5fjwPdfy9c3LizJ7hcJgWzxAdwx4UIVg4zlQxqjwyqyqeUIiGIRc9/rg73Lzc/AknuaqMrMQW0h0Ksbm9dVID/5kg12Zndk7c6T6iabzU0pQg+p9PjN/6a2+AAum8CKeUkmgkRiwaS+p4XdNHrmtJ17WR6+O9WUbLcLu89HcNMdg3THgkwNX079RG3K8k4WAEV68HV4+HoD+ceFZKSSymJe71e4MM9noSf+uazlC/F7fLh34JaPGARJtTHejjhcZqmPw0U5mRidNkJqLF2NfbjTscxmE0MTMr2cm7NC2dHJudiK6xt7cbdyiIKgRzTlEGAaSZzNxaE49CIYFfH9hNl8972npP1z6jonB37Rgx4Ynjhznq6k+pL86kz9LGMY66/V60i5wu87ycOWNRjf984FGikRhf+tH7MFtNSCl55endPPXLDVTMKuQfvn8vRpMBKSVrH97Mhqd384UfvJfiqlxcvR5efvJ1Xn/1CN1tLsLBCAajgZyCdFbctpBb3r8Mq92c9OHDwQjf+8zD5Jdk8ZF/voNN6/byzG820dvmivsH5qbxgQdv5urVdSDh4f94Fo/Lxw1/u5Sf/csTDPYOs/SGOj7yT7ez9uHNrHtkC4oquO2D13L3x1deEsG0/tp4HItBZVFBMRlmywQ/SCklupTs7uni1bZmIK5MmZdbMGl5OVYbRQ4nR1whtnS0EdFi1GRmkWdLPs85TWZqMrPo9A6zrbONQDSK02Sm8hQXMQCE4D1z5rOu6QSNQy4ahlw88PKzfG3ZSmZl5yb5WY7ygP3RCE1Dg+zs7uA9s+fjNE+k5a2pquHJ4yVs7WynP+DngZee5RvXXseigmKM40xGo2WGYjFaPW62dLRyS81MCh1OpoMQgtqsbFQh0EZI9nt7u7iyoHhCH49/5nzivAinOsJeObSjCc+gn7xiE1LC7o3HaD7WhXvAi3fIT1Z+OlKXHNjawECPB8cIabz5aBeP/fhFsvPTmb2ogqzcNIb6vezdfILf/NtafJ4gH/zSLUkkdF2XtDX2MtTv5a+/3cSffvISpTX5LFhei9cdpPNkH460eAQGXUr6OgY5sK2RnjYX1XNLiMXaWP/4TnRNp+FgO4uvm82uV47yx5+8xJLr51BeW3g+uuaCYmdXO384coACh5O63HzqcvIoTUvHYTShSUlfwMfuni42tDbjHjHaLy8pY2H+5G0zGwzUZuVwxNXPjq52JHENq+WUlVYVgvm5BWxsa2F3TxcxXafYmUbOJAR1AeTbHTx07fV87qV19Af87Ojq4L3P/IkrC4qZm5tPhtlCTOoMBoO0etw0DA3QMTxMusXC3bVzcDLR48NuNPH15dfzqRee4aR7kOODA3xk3VMszC+kPr+AbKsdKSXucCjB020bjlMCry2tOK1wAtTnF1KVkUXDkIvhcJjPrl/H386qY3Z2LgZFwR+N4AoG8EUi3F+/aAK391xxXoRTCKiZV8KW5/bT2zFIXnEm4UCYk0c6mXtlFQ0H2+hsGSArP51wKEpHcz9FFTk40uM80PlX1fCt336C8lmF2J1xn0apS3a9eoTvfvq3bHxmD3d//J2kZ03UyLUe7+Z5X4gv/ff7mH/1DAxGFV2TDLv9OE5h2AwNeLnnE9dx10ffyaEdTXz1/f/LpnX7eOg3H6duaTVP/Wojv/r20zQd6rwkhFMZmdU7vcN0eod5YYTDOjqHyVPuXVpUwjdXXD9B2EYhiAvj0w1HiY5s76cS5Pr8woQnC8DM7BzMU5UrBFcXl/LjG27lm5tf4ZirH084zMutJ3m59eSU7cuZgjQxWmZtVjY/W3Mb/7LpFXZ1dxCIRdnS2caWSRReo0gzmZN4utMhw2zhwaXL+dKrL+AJh+j2efnv17dN6N8cq4375ta/WYVTUDWnGCkl7Y291C2por/bjavHw83vvYa2xh4aD7VTt6QKt8vLYK+HK66diTrCfzVbTdQtrU4uUxXUL6ulqCKX7tYBfJ7ApMIZCUe55f3LuGLFmGe+ahBk5kycGQ0GlbmLK1EUQWlNHvY0K440K1Vz41uV0pr4mWmwb/h8dMsFx3vn1gOCHV3tdPu8hGIxYlJPbLWMioLNaKImM4s7ZszmjtrZpJnM0w74BfmFzMrOQdMlJlWdlLcqhGBWVg7zc/PxR+Mkg6uLyqY164uRyeGR2/6Gp04c4a+Nx2l2DxGMRUeULQKDIrAajBQ701hSVMIt1TMTJpypyqzNyuFXN93JuqbjPHXiCMddA/ijkcSkoSoKFtVAvt3BFQVF3FxdS1l6ahELhBDcUFnDz0xm/nfvTvb3deOPRNGkHqeZCgWr0Uh1Zta0ZP6zxXmzcxZX5GJzWGg5Fvf2aD7ahZSSuYsrySvO5MS+NqSE7lYXQX+EmnnJiXiklCAhGo0RDsYjvUfCUUxmI1JKtCmcm81WEwuX1aa03zeaDYnV1GA0YDSpODNtmEc4uUaTAYQgFo2dS1dMimC0jWCsHadpDkZ1krPZGWJ0YH7z2usIxKK4ggEGAgF8kTARXUcVAqfJTL49bns0p0iEv6KgiKfveV/i71Ndu0ZR7Ezjj3fem1g9jNOscuPrnGOz89H6K3nf3AX0+n30+H0JdpHTZCbPbifHak8orVIp02k28+7Z87hr5hz6/H56fF68I7F/HMbRGEo2bEbTGbt9KSOr/pWFxXT7vHT5hglEo4kQKHk2O1lW25RKtnPBeSsxPcdBblEmbQ09aDGdo3tayMxxUlCaTeWsIk4caCMcjNB6vBuDQaG8dmxGjkVjHNjWyGtr93HySCdedyChifV5AhimIcEbzQZsKRLKVUVJnI/jEKgGFTGOsSK4MAHBevzP0OL+GfX5vyDLuuy8lDnaf3ajCbvRdNYxbEbjHUHc9DLVtvfUd0+1jU3lWavRSEVGJhUZ5z5RJeqjGihNS6c07fyyf4SIBz4rT8+gPMVV93zgvAmnyWykvLaAo3ta8LoDNB7soLy2AJvDQm19GVtfOIir10PLsW7Ssx3kFcc/ihbTePRHL/LkL17FnmZl0YqZVMwqIj3LjtFk4Pc/fJ6+aeLOikmiFUxz88Qt2tk2+AwR1xrqvNlSnkop6fU/Q1jrpyztI290dS5jHM6bcAoBNXUl7HjpMB0n++huG2DJ9XMQiohrRyMxmo920dncR1FlLraR+Dgtx7p5+v9txJFu5Zu//hhVc0sS4T6ikRhP/WrD+ariZUwKjV7/sxiVi7ciTIVR089o9IYLEXVg9B2JSIdwxqE4LxbOo3AKKucUE4tqHN3dTMAXpnYk1lBheTbOTDtHd7cw0ONh+U31CTtix8k+goEw9ctmUDW3OMnB2ecJMNh7aShnUodAlzGimgtNBjEoaSOCMXWGMk0GiGouJBKjkolBiSu7Jg+tIYnpPmK6G4mOKmwY1XQEpiTbXxw6oVgPvshRMiyL0WQAIUfLFCjCclEH7RFXH9/auoHbamZx3+z5p73/bHBooJd/3bYRTcZ1GBbVwHdWrD7vW+HzgfN6ii2qyMFiN7Fn03GsNhMl1XEfQEe6jeKqXA7vOonPE0hSBtkcceO5x+UjEopisZnjAaHDMZ75zSYGej2YzG8Vfr4gork4OvAVhoJb0GQQo5pJgf1OytI/ikGMtxNKdBmhy/sknd7HCMe6kEhMag4FjjsoTfsgBjFGKo/7KHpo9fyK/sCLRLXBEeG0YDGWUpr2AfJsNyeErcv3OAOBVwhETxLW+hgIvMpw+K5EeVZjOfNy/xtVpHaePx8YDofZ1d3BgrwLZ8bKttp5Z2klrmCA9a2N9Pr9BMe5tb2ZcF5HfVhAoBoAACAASURBVEa2g9zCDA7vPMnMBeUJ04dqUJgxr5SnfrUBo9lI2UiCIoAZ80spqc7jxL42fvjgY9RfU0MwEGHPa8fpau5jxrxSWsfF+7m0ITnp/hE2YyWVmZ8FoNe/jlbP/yLRqMr4LELEFVZS6rR6fkGr51dkWa6hJO0+QOAKbKTF/VMiWj8zsv4JRRiTyu72PUGe/RYyzFcCEIg24w6/PuGoaxB20szzsRpK6PT+AauxjFzb6sTvJjULId4qk+IYihxOPrFgMZI4wf9F/7kHprtQOK+9bzIbmbu4Cq8nQP01MxJaViEEcxdXsWndPrLz08krGtPQpWc7+Px/vIdff3ctu187xvb1hzBbjdTUlfClH3+A7tYBHvvx+gkaWyEEOQXp2OxmlBSodulZcW2yMmJbVRRBTmE6mblpCa2QyWIkryQTe4ra3zOHjkUtoC73h6giPnHl2laxr+d+urx/otBxNzZjORKJL3KMds9vybWtYlb2t1FE/IxeYL+NQ/2fp9v3FAX220kzL0AIgSaDDIW2YTfWMjPr64n7AXQZRogxU4oQgjz7zQAEok10+f6EwziTivRPXaB2nx1O5cBOt8WewJcVU7tTx4OOyzPSBk4aje8Cb/nP79Qo4CP/dDsf+OLNGE3JrkOLV85m3lVfQlEEFtuYY6wQgpkLyvnWw5/A1eshEopitZvJzHViNBmYMa+Uq1bVJT0DYLGZ+Ob/fRwpJRbb9MwMIeD+r9yGpumJcmxOC99+5JOJrGQAM+vL+PGzX8RkunArRo5tFapwJD6sUckm176aZvf/MBzej9UQTwfYH3gFTQYpcNyBIkxA/IykCDPZ1hW4ghtwh3aRZl4wct2IUckmEG1kMLSVLMsyFBEnHKhioiF/OiLCuUKXkpdbm4jpOqsralAVBU3XWd/SiCsUZHVFTcLv8/jgAHt7u7ixsnZcHaDTN8zzJxtoGHJhVlWuyC/i+opqHEZTUh2llAyFQrzadpL9fd1ENI2azGxuqKihLC39nNsjpSQQi7KpvYWd3Z34omFKnOlcX17N7OwclDNwHD9TnNdRKITAZDFimizQlkHF7pzcXimEwGwxUlQ+McWdwahOaucUQmC1p0aXEkJgtpomXLOdEqBrujqeHwisxtKkASOEwGasAiTBWOvIVYk/ehyJzsmhH9Gq/DKplIgWd24Oa2MR4AVGKjI+ybGBr3K4//OkmevJt99CtvWdmNX8xLsuFl5obmBXdyfListIM1sYjoT59rYNdHq9cU+V6rinytMnjvDnhiOsKh9jiLV53Hxo3ZPxKIAWKwMBP78/sp81lTP495U3JqIexHOvDPDFDS9wYnCAQocTo6qy7uQJfn1wN99Ydj03VFSfdbullPQH/Xxl43q2dLaSZ7NjNRh5sbmRXx/YzQOLl/HeOfVnnA8oVbz1DhVvaggUMXFCia9sAk0fjSgX17gKBAbFOUEpYzA4sBnKsZtqxkoWgizLchYW/JYu75/oC7zACddDmNT/pSTtPkqc70MVZ5/d+0ww6rj9/MkG+gMB0swW2obd+KNRChwO9vV1c2t1PHfqscF+ytMySB9H03uxpZH3zqnnUwuXkm420x8I8JXXXuTF5kbuqm1jVXlc4HzRCF/d9BJtw27+feWNvLOsEoNQaHC7+KeNL/LVTespT8+gNvP0qTAmQ0zqfH/HJnZ0tfPQ8utZUzkDk6rSPuzhK6+9yL/v3MScnDwW5RddkInvsnBeVEg0PYBEJgWYiul+QGJQRrnDAoPiQAgjNZlfxGGanVLp8VW4nOrMBylLvx9XcBPtww9zcui/kDJGefqnLsrqKYRgdnYuUV2nddhNVUYmB/t7ybXaqc8r4FB/LzFdT0T6W1FakRRpoSwtg89deU0idlCJM433zV3A1s42DvT1sKq8Gikl2zrb2NvbzYfmLeSW6pmJqH/zcvJ5cMlyPvb80/zh6AG+fs3Ks2pH09Agz59sYE3lDO6pnZtYIWdkZvOJ+iV86sW/8JeGoyzKLzrHHpscb36nxbcUJP5oU5LmVMq48gcUbMbKkasCp6kOXYYZjhwmbgNVpvjvVGGL32tScyiw38m83B9jUnPpD7yELifPknUhSItlaRk4TCZODMWDhe3t7aY6M5MlhcW0Drtxh0P0B/wMBAPU5eYnPbsgrzCJ8C6EINdqQx1ZLUexs7sDieTakoqkcJxCCOblFpBjs7Orq4OwdnZc6X193fijERwmE5s7W9nY3szG9mZe62ihP+hHFQoNQy5i8sI46F9eOS8y+vzPUei4O3EODMU66A+8iFnNS2heAXJtN9Ax/Ajtw78lw7wQm7GaUfWiJEo41ofZkJ8wpWh6mKjuwqTmIVAnUBoVYZp01VQVG6qwEoy1o8kgKslb6LNdabMsVkqcaRx3DRCMRTk80Met1TOZlZ2HPxqlxTOENxJB03VmnhIFfrLERXHWkEjSmvb4fRgUddL77UYTaSYzQ+EgwVgskfIwVUgp6fZ5kcCjR/bz2NEDk96nS51JFLnnBZeF8yJCEWZUYeVA3yfItq4AFAYCLxOK9VCT+QXMal7iXpuxkurMB2gY/C57e+8n03IVJjWLmO4lEG0mqrm5ovD3mNR4KMqI1sfe3g9hM1TgMNViUNKJ6m4Gg1uI6m4qHZ9BMDF8pEnNJcNyJQOBVzky8EXSRlZsVdgoTf8wgrOLlGdSVWZm5XBi0EWnd5jegI/5efmUONPIMFs4PNBHKBYjw2KhxJGccjDVDNHxEJsSfZJVXzJCBTyHCLWjNMLPLrqa5SXlk95jM5pOG8H+bHFZOC8SLIZCcm2rqM58kA7vo/QHXiKmezGr+dRmf5VCx13J3jFCocBxFxZjKZ3DjzIc3ocmAyjCitVQTLHz3RiUMYaQUc0k13YD7tBOev3PIWUURTFjM1RSmfFpcmyrJl0FBQZmZP0zBiUdd2gXw+H9qMJKpuWqc25zXU4+m9pb2d/Xg0Eo1GRkJ0KcHOjvQSAoT8uYEIYkVZSlpRPVdXp8PublyKT2ecNhPOEQhQ7n2SUsEoKSkTylilBYkDd9PpYLgcvCeZFQ6LibQsddgEJ1xgNUpH8SXUZQhXVKDqsQChnmxWTkLkKTfnQZQ2BAVawIkiOhq8JOTeaX0WUYXYaQaCP32ibcm/wOgVktYFb2Q2gygC6jCGFAFTYEZ29WGlUKBWNRtne1U5qWFo83OxLi5KXWJoyKyqKCIgxnaStcXlLOL/a/zvqWRq4rr8Iwjju8vaudwWCQe2bOndInddr6A4vyi8iwWHmhuYH3zplPunnsO13I2EGjuCycFwkiaQAKDCK1IMjxD69iEGkp3Bc3y6iklmBp4jtOH1fnTFCWloHZYGBzZys3jpghhBDMzyvg1wf3xJPe1i08q7JHozbcWDWDtU3HqczI5LbqWZhUlf19Pfz7zs0UOZ3cO2uMQK9LyXA4TESLEdRi+CLxCI2dvmGcJjNGVcVuNGJR45NZWXoG75tTz8/27eTLG17g/vmLKHQ4iWgaXT4vO7s7uL1mFrVZE+3z5wOXhfMyLhgyLBaKHWns7+tOin07IzMe1S6iaUkpAUfj7E61EIlTXLtMisrXrn4nUkp+vHs7v9i3C1VR8EciVGZk8s3l1yexhDzhEB9+9s90eD1EdY1ANIomJZ9ZvxaTqmJWVT487wo+Xr8YAAXBpxYuRQK/P7KPDe3NmFQVXUqimk6mxcpNVTMuWP+J08TwPGc9lD8cYcgXT0cuBOSm2TFdgJAOqUBKyZA/SCA8tRfChahjPFYqxHQNVVHetP6DU2E01mtM18+o/lJKjrj6GAwGmZdbQIYlvqJHdY09PV1oUrIovygRUcEdCnKgv5cSZxqV6clp4YfD8dwshQ4n1eMyeEspiWgaB/p7ONDfS1TTqMzIZHFhCZnm5ONCRNPY09s1rWmlzJlOxSnv1nSdlmE3e3u76PX7MBsMlDkzmJuTR6HDmbICaxpMWsAFF85n9x7joSdeBsCoKvzsY3dRVzp53NQLDV1KvvH4el7c3zDlPUaDws8/djdzSvKnvOdM4QmE+O/ntnCwrYfq/Cw+f8u15KVfGrk9Rie0Hz27maOd/dQW5fD5m5eT7bSf/uHLSBWTCucFX8Jimo4/HDccG1UlKcr7G4FwVEvUZzIYY+p5r+P6Aw08vu0AEjja2UdFbhYfX7Xkklk91+05xlM7DyfqP6Mghw+suOKSqf+lirfVmVMA9y1fwKKqYtz+YPy/QIgT3QMc7+o/7fNni+6h4aQtSLf70oru0O32Jtd/yPuG1eXthLeXcApBfXkh9eWFY3lUgCe2H+RbT758wd5blZ+Nqgg0XaIIwezivNM/9CZCdX4WiohHzlcVwazi3De6Sm8LvK2EczwSGkIufAS+6+qq+eyNy9jf1k19eSG3LZp9yWwJhRDcWD8TlzfA4Y5eFlUWs6Y+tTjBl3FueNsK58WE1WTkwyuvHIkMCxd+Oji/sFtMfOz6JZds/S9VXBbOi4RRnualiku9/pciLruMXcZlvElx1iunlBJ/OELbgJtut5dITMNpMVOak05hRhpGVTmn2XZUYeMNhukY9NDr8RGKRDEZDeSlOSjJTifdZrlgwYfPFi5vgCH/9KnVCzKcOCznnpFqtI+CkRh9wz563V48gRAxXceoqqTbLOSl2cl22rGbTYlg3dOV5/IGcAeC0763MDMNu3mih8uZ1j2m6fR7/XS6PAz5g+hS4rSaKclKpyDDicmQWn4XKSWdg8OERpIqWYxGirPSTvvsqe1VFIWy7AwMKQSMk1IS1TT6h/10u70M+YJEtTjJxGk1k+u0k5tmx2k1nzXp5IyFU0qJLxTh6V2HeWrnIdpcHiKxGFLGXX3sFhPzywr4wDsWsbSmFIvJeMauvFJK2lxuHt92kA2Hm+hxe4lo8exZQoBRVclNs7N8VgX3XrOA6vysN42A/mnbfn71yq4pfxdC8P333sR1dTVT3pMKdClp7R/ir7uP8trRZjoHPQQjUXRdJs6GiqJgMRrISbMztySPG+bXsnJu1bQxbx7ZtIffbdo75e+KEPzXh25j2cyKs6q3lJJwTOO1oyd5cschjnT04gvG/ToloCoCq8nIjMIc7lpcx+r6GdhMxmm/b0zT+frj69nX0gXAwooifvaxuzCmQHj/3aa9PLJpDwCZdiuPfe4+ctKmJliMjv8X9p9g7Z6jNPa48IfG6s9IG4yqSpbDRm1hDtfOrmTF7Ery0x1nNE7PSDillPQN+/nm4+vZcrwV/RR2kS4l3mCYLcdb2dvcxUevX8Ks4lyUETNCKtB0nef3Hee/nt1Cj3uiPU1KiMQ0OgeH+ePWA7x8sJHP3bSc266cfcECLZ0JNF0SjWnTTkap9sVkGB3cf9y6n//b8Dou7+SrtCTel/5wBH9/hNb+IVRF4bq5VedUfyE4a5KGlJJej49/f2YjrxxuIqZNjCCg6fHBv7e5iwOt3byw/zhfuXMlZTkZ0w7saEwjEtPi/9a0lOsU0/XEc5HTfDcpJe0uDw898RK7mjomjP/xbdD0GF1Dw3QNDbPxyEnes3wB/3jHO1OuF5yhcPrDER564iU2HWtJXLOajMwqyqU0Jx0kdA15OdHdz3AwzM9e3D5O7X76D6pLydO7DvNvf9lIMBLfopgMKhW5mVTmZWE3m/CGwpzsddHa7yam6wx4A/zrU6+gSZ27ltSdD57jOeG2RbOpKcjGEwjh9odwB4Kc7B1k24nW8xIIJByN8Z/rNvH4toMjeS3jMBlUcpx2cpw2zEYDwUiUAW+AQV+ASEzDqCrccsWs087cdy+po640H3cgNELUCNHYM8COxvZzqvfoxP7l3z/HnubOxHWn1UxtYQ5FmWkoiqDP46Ohe4ABbwBNl2w53soDD6/lPz9wK+WnEdALDX84wjcfX8/Opg4gvjvJSbNTnZ9Nbpodo6riD0fodnvpHPTg9gfRdIlRVVk5t3r6widBysIppeTJHYfYPE4wZxbm8I93rmR+eUFiCxHTddr63fxs/XbWH2hg3Z6jKQ1KKSX7Wrr44brNCcGcWZTLP9y8nCsqi5K2x4FwhNeONvODtZviZ9FojB89u4XZxXnMLs57Qz9geW4m5bmZiTYB7GhsZ0dj2zmtmBCfvH6/eR+PbzuQKMtiNHDTgpncuWQu1fnZWE2GeMZrXRKIRGkfcLOjsZ2WvkEWlE8fJU4IQVV+FlX5WUn133i0edqVIhVEYho/WPtaQjAVIVhdX8vHVy2hIiczcc7TdEnfsI/Htuzn0S37CEdjnOge4NtPvswPP3gbTuv5zR59Jth8rIXXT47V/77lC/jgOxaR47SjjsvxE9U03P4QRzv72HjkJC5vgPllBWc8LlMWzkFfgD9u3Z/4QLlpdr7znhuZUZgc/8WoqlTlZ/GNv11FKBJl49HmlMoPR2P89IVteALx8JAVuZn85/tvmbCdEYDDYuamBTNxWsx84ZF1BCNRhvxB/u/V1/nufTdhUN8c58/xRIdzhZSSph4Xv924OyGYDouJf77rOm5cMHOCEsOggtloINNuZV5ZAZoukwbQxay/lJItx1tYf2As9cHNC2fytXuux3rKedKgCooy0/jsTctIt1n48fNb0HTJrqYOnt51mPddu/ANmXyllOxp7kyM/8q8LP5u9dWTThYmg4G8dAe5aXaunV1JJBY7q1ymKR3SpJTsaGync3CME3rP0nkTBHMUQgjsZhMfuW4JFuPpKyWlZG9LF3ua4wd6RQg+ct3iac8ZQgiuri3j6tqyxLWtJ1rpGPSk0qRLDhL4885DDPnH3O/uX3klNy+cdVrtohACg3r6zNMXClFN549bDyTOgrlpdv5uzdUTBHM8DKrCvcvqmV8WT2qkS8nj2w8kJu83Ar7QmMOEw2LCPE1SZxjzT7UYp1doTYXUhBPYdqItMWvYTEaunze9tlGIOAezMi8rpYq8dLAx8fHy0h0sn1Vx2gapisI1tRWJv73BMAfbelJ636UGXyicdKQoyUrn7iXzpnRMfjOha9CT9F2Wz6qgOOv0qRJsJmOc6jjyd9uAmwOt3ZPmLbkYKMgYixTR1Otib3PXBa1LSsIZiWmc6B7z2sjPcFKSgh3JYjQws+j0JOlQNMaB1rFMYtX5WWTYTp9MSAhBWU56YrsmgYbugTfs411IdLg8Sd4gV80oI8thfdOYkKaClJKjXf34QvGYuQJYWlOW0lZZCMHCyiKsptHwnzJx5rvYEEJw7awKrCN5dHyhCF9+9Dl+9couetzeeELe8zzuUtoIByPRJJV9QYYz0WGnQ0n26ZOSDgdC9Hp8ib+9oQiPb588Tuip6Bz0JMUNdfmmJwBcqmgbcBOJjXnwzyt7YxzWzwbNvYMJpaDRoFKem7rWNcdpJ8NuITCiJGzsdcW9Y96ASamurIC7ltTx2Ja47sXlDfDj57bwx637eefcKm5aMJPZxXnTbtfPBCkJZyAcIRQdGxhZ9tRmbCEEGbbTB5saDoYTGlqAA63dSSvpmSASi40jaL910D/sTzJyF2Q43/Sr5ij6vf7Ev00GlTRr6gHILEbDCJsqvmsY9AaIafobYtM2KAqfvWkZaVYzj27ex3AwjAR6PT7+uPUAT+08zIyCHNYsqGX1/BkUZqadE4MtJeGMaXqSTc1sNKQ8+M0pKITCsRgx/TyFtH/r7WgBkiYvRYiUdy5vBoyf2FVFwZgCPW78/SbDmOIlHIu9YceWUUXnp264iuvm1vD7zXvZcORkQkkViWkc7ujlcEcvD2/cw62LZnHfsgVnPZGmJJynFnwmnZPq2WL8ffPLC1lUWZzyO8ZjZlHuW27VhOQo6BLOyeZ4sWEYZ8KRUp5R3Ucjt49CjROEz1vd9LNYFBRFYVZxLt981w209rt5Yf8J1h9soLlvMMF6GvD6+c2G3bxyqIkv3/FOls+qOGOCTErCaTaoSTxFfziClKn1UTB6+iQyVqMBo0ElOtKweaUFfP6W5alU7W0Dxzh7mq7HaZKXCtLHKfeimp60CzgdorHk+x0W8xnba6dDMHJ2SY7iSYnjpI1P3rCU969YyP6Wbv7y+hE2H2vBO6IAaxtw89XHXuBHH7qNBRVnliowpf2FzWzCYRnzQugf9idtc6dCnPXvP+19GXZrkpdG15AnnudihM1/Nv+91VCQ7kjMvLqUtPQPXTJa6dJxSsFILEbfsD/luntDYdz+MdtmQabztLlJUu0VKeMr3LlCCIHDYuaameV85z038qtP3sPKudWJ7zXkD/LLl3dNyiWeDikJp9VkoDhrLOJ419AwnuDpjcFSQnPf0Gnvc1rMVIxQ3gAaelyX1MpwMVCem4nNPHbOfP1kxznTAS8G4vbuvMS5UdMlh9t7U3pWSklz32DSWJg7WchSQZKCKBrTUsr8FYxGaXe5U6pLKhgle8wuzuM771mTRJA52N59xhNBSsKpKgrzy8cShLq8AQ6395529hsOxvmFp4NBVVg+zgWpe2iY7Q1tl8zKcDFQmJlGdX524u89Jztp7HFdEn1UnZ9FeU5G4u+NR04mKYmmggRePdyUUBbaTEaurC6ZsDNShYLTOrazG/QFCUwT/nQUzb2DSay384VRxdHq+bWJa8FwLIlhlApSEs5RA+woFS+m6zyx/WDC1WYySCnZfKyFzhTodEIIVs2vIXfEj07TJb96ZRd9Hl/Kg280KvmlMFjPBmaDOuJVEv97OBjmJy9sxReKvOnbbDebuOWKMabPkY5eXj3cNG29pZQ0dA/wwv4TiWtXVBVTnT+RcSYECWcDgP5hH4c7pl88YprGEzsOpjRJjNbnTPvZN26CMBqUlCwX45GyTnt2cR6LqsY0qJuPt/Do5n2TCqiUkqOdffz0xW0pb72Ks9K5b9mCxD79eFc/X/nD85zoHog7sk7SMaPe9H0eH8/tO85rKZLsL0UIIbhxwUxmFY2F1dx49CRff3w9bQPuuJP1FH0UjsZo7hvkWGffGyLIQgjuXDyHmsJ4wp+opvODtZvY0dg+qbZUSknrgJtvPfkygyOpPGxmIx9+55VTOlAvri5JnEWjms7PX9rBgHfi2TbuDxvjT9sOsHbPsZTbEAhHeeS1PRzp6CUUiZ52YmkbcPP0zkOJayVZ6eQ4Jyb5nQ4pi7LJoPLxVUs52NbDcDBMTNP58fNbOdrZx62LZlOSlY4QMOANsO1EK0/vOkz/sJ+ynAw6XJ7Tqs8F8J5lCzja2cf6Aw1IYFdTBx/9+RMsq63gyuoSCjIcGFWVUDTGkD9Ia/8QRzv7OdHdj8sb4FOrr2LF7MpJy9d0nSF/kFAkRjgWIxSJxR2RwxEOd4ydgXSps62hjUFfAJvFhM1kxGI0YDYasBiNZNgtkxrAdSlx+4MEIzHC0RihaJRAOIo/HOFgW0/SGWhfS1c8o5XFiM1kGle+gQy7BcMUAzDDZuGLt63gwUfWMegPImU8mvze5k6umVnBFZVF5Kc7MaoKwUiM/mEfjb0ujrT30tQ7yN1L66akU+q6xB0IEoxER+ofS9R/d3MnckTNIiXsPhn3zrCZTdjMI/1jGK2/dVIifpbDxpdufwdffGQd7hFG2BceXstNC2aysq6agox4zpEhX5Adje08veswXUPxLaeqCD64YhGLqoqndLRYWFHMzKLcxLfc29zFZ379F+69pp45JflYRnxcm3oHeW7fcbYeb0XTdSpyM2npP71eJKJpPPzaHv7nhW3UFGSzsLKIuSX5lGSlJzTIkVg8bMme5k7W7TmWcMJQFcHdS+vO2DZ9RrlSdF3yxPYD/MdfX0sykaiKiLvECIhEtcQZoa40nwdvW8HnfvNXPIEQRlXhN3/3LuaXF07+MilxB0L821828Py+ExM0wqMZqKSc3M736TVX84lVSyf9gM19g3zyl3/GF4oQ1XRimjbCh5xY1iirY9SrwKgqGFSVDLuFX37iHooyJ6bjG/IH+djPn6TH7SUa04hqeoJvKaWcoEEcbYsiBAZVxagqWE1GfvjBW5lXNnn/QLyum4428+0/vzJppIjp+ugDK67gwdtWTNo//cN+PvbzJxnw+ifUf7K+nqz+drOJH99/x9QTgJS8crCRbz/1ShIddHT8CCHihJRxWk2jqnLf8no+s+YaLNMMbikl2xva+OLvnk3yXBGAyWjAqCrxaAlaXFkkgFXzZnD74jl8/jd/JabrZNqtPPmF9yeOV+Mx5A/ytz/4XRLNVBDXlxgNKooQxDSdqKYl7RZVRXD7lXP4yp0rpxPOc8+VoiiCe66ah91i5icvbKXD5RkJhyET3EeIr7LXzqrgwdvfQbbDRn66IyVXn1G63zf+ZhWLq0t45LU9tPQPJRqrSzmpntxqMjKzMIcFFUUTfxxBTNNxeYOEY6kpIqSUICUao2Evoui6PqUJSZeSQV8gZZem0bZoxNPJBYFAJEo0Nr26XRGCFbMr+fnH7uKXL+9i49GTSdrMyfpIEI84UDjJpJJ4TtfPuf6haGzaECGKEFw/r4aCTCc/fm4rr5/sIBLTJoyf0XsrcjP5yHWLuXHBzCSW0GQQQrB0Rhnfec8afrB2Myf7BhOTYjgaY3xiObvZxG2LZvPpNVcTjERxWEy4T9Nus0GlvryQzcdbElnqJPEtdHQSE4kiBIWZTu5btoC/vXp+Sq6TE9p0NlnGRkNOvHqoiR2NbXQNDhPR4tH3ZhTmcF1dNYuqSjAbVCTwyqFGuoa8qCPe75PNTJO9wxMIsae5i52N7TT1uhjyxyOcmUYiyxVnpTG7OJ/6ikIqczPjtMIpbJxD/iDP7T1G7BzMDyZV4ZYrZk/qYBuKRFm759iEQXYmUIRg9fwZKWUgk1Ki6XF7547GNg629tA1NIwvFEGXOiZDfItcmp3B3NJ8FlYUUZqdjqpM7tcZCEdYu+dYygqSyaAqgjX1teScJgPZ6Dl4f2s3rx1t5nhXP0P+IFJK0qwWKvIyuWpGGUtrysiw5qv8gAAAIABJREFUT571e7qyh/xBNh9rYXtDG20DbvzhCKoQZDlt1JUWcN3/Z++8w6S4rrT/u1XVuXt68gwTgSGDACGBQDmBhLLkKMm7ttdpHXbtldde2ZbXXq/ltF7bsj+HtSVZWnudrZyFJAQSIETOMMDAMDn2TOdK9/uje0IzPTADAwI87/PMI1FddevWrTr3nnvOe86ZU8OMsmI0VUE3LZ7bvIfeeBK3Q+OmBTMzXFaD2zUsi7q2brYeamJPU3vKpRhLkDBMbClxqiq5Pg/VRblcMKmCC2sqKAx4R9L/sS8B2KeyGVY6c1razwNjl66yr3+ppEl9GfgEqqL0M0XORdLBaNA3RqZlY0kJSARn/hgNebekBLzPsHMyfe5ru089FzBm49HXti1T/bZTqtbJfJdjL5zjGMc4xgRZhfOdzyU5jnGMIyvGhXMc4zhDMS6c4xjHGYpx4RzHOM5QjJcAHMc4RoF+C7NpY9sSRRWoY+yh6MO4cI5jHCOAlJJ4NMnbq/ex4Y1aWhq60JMmbo+T8uoCFl0xnfMX1+B0j01yLxh3pRwXhllHIvEGIPB4rkFTh6fWjePchJSStuYefvTvj7F1fR2KInB7HKiqimlaJOI6AsHiq2fwma/eSm7+8Uk2R+Hk6Xt/i0jqW+gM/RsgKNH+8I4Lp5QSYxgaoSpSpefORMLB2QzbsnnkgZfYseEQy25bwNU3z6ekPBeHQyOZNGg63MkLf93Amld2UTwhl4/+63KUMUilMi6cZxkkcP+q11lTXz/ktwvKyrj/mmvfkZyu5zJCXVG2rD3A5defx6fvuxnNkTkBlpbnMXtBNfGYzlsr93D3J6/GFxh5+s/hMC6cZyGklMRMg7hhpMLf0rl6ywKB4147jtEjmTBIJgzOWzhpiGBCyhDkcjuYs6CaA7ubME4wadjRGBfOswwC+PLlV/C5JReTME264jE+8+wz1PecmwWczgT4czwE832EuiLHPK+rI0xhcQ5ur/OY540U437OswxCCNyaRr7HQ1kgwOS8fJzq+Bx7KhEIerjhPQt5/bntHKptxbLsjLQ4pmGx/e063lq5lxveuwiX25Hx+4lmnxj1W03dyEbKCLYdQWKhCDdC+EFkyrpAAbKbllPtWNh2L1JGAQVFyUEIHzCy9JZ9Dy1lDNvuASyE8KAoQWD48LHsbUTTbch0P/ykw66P28Y4zm1IWzJxWim23MK9H3mYGXMrKS3Pw+FUicd0Gg51ULuzkYLiHJqPdPHwD17McHPMnFfJJdfOHvV9RyWcUtok9U2Eo4+QTG7EtkNp4ewTiEzhdLsWk597P6AOakMiSRCPv0Qk9md0Yw/SDoNQUJVC3K6LCfj+HodjJkIMv7BLKTHMfYSjvyWRWI1ltyOlgSJ8OBzT8Hvfg9dzA0IMX9clFRPZTjjya2Lx57HsVpASRS3E476KHP/HEGJsVJRxnL3QdZMHv/88R+o6AMnbq/dmPa/xcCd/eWT1kOM3vnfRqRVOKSXR2ON09dyHbYcQIgeHVgmomFYThlmbPlOgiBwUJQ8h3AxeeaSU2HY3XaGvEo0/DRikVjgXSAPDPIBh7icaf4684Ffwe9+DEEMj4KW0icafpDv0dSy7jdRK6wJULLsTK7mKRHIN3sSLFOR+C0UZWuQ3lRysno6uT5HUN5OygzoQwolpNhCOPEQisQq/7y5Sk8655fKVUpK0TA6FQuxub6e+p4eoruPWNCYEAswpLmZaQSHOY7hmLNtmbcMRehIJLphQRmkggC0ljb29rG9s4FAohGXbFPt8zCwqZnZxMb5hCsnaUtLQ28OmpmbqQt3EDQO/00lFTs6QqtBeh5NLq6qGJPvqy3zQFO5lU1MTB7q7SZom+R4Pc0pKmFtSOuz9jwWnU+Pz97+bZDIzkL6vleN9GQVFJ2aoG7FwmtYhunu+iW2HcDkXUZB7P5pWgxAKptVKqPd7RGOPIXBSkPd9PO7LEcJDplqo09XzdaLxxwEVn+dW/L470dRKJAa6vo3eyK/Qje10he5DEYH06pcp4Ink63R134ste9G0yQT9n8DlWogQbiyrmUjscaLRvxCLPwNICvN+jBCZmc8kCbpCXyepbwI0fN5bCfg+gKqWYNs9xBMr6I08RE/vDwCbc0m9NW2bx3bv4k87trOno4OYMTR7g1vTWFxRyX2XX8GkvLysH7Rp23z/zTfZ1trCd5cu49YZM/nfLVv41cYNdMSiGR+tU1X53tLruHn69Iw2JJAwDH61cQO/2baVrlisv0rccB/9pNxcHr/z7gzhlFIS1nV+tXEDf9qxnY50O31wKAqzi0v4wiWXcFFF5ajqliiqwrQ5J1a752QwIuGUUhKPr8CyWxDCTV7wyzgcs/tfmKZWkpfzZRLJNVhWM4nkG2mhUjLaiCVeIRp7AoCA/0PkBb+CwNXfjkObhtt1MW2dH0Y3thPq/Q5u1yJUtWhQO2G6e76bEky1iuKCh3Fo0wa1MRGXcyGaWkmo93vE4i8QdT+B33tn/zkpAV9LPPEqAD7vLRTk/hdCDKTEcDrmoqmT6Oi+B87BooJv1h9mU3MzHs3B9IJCJuXlEnC56Ukk2N7aQnMkwspDdYT1JA/dejs5rqGpWQajKRzmoU0b+dHatXgcGueVlJLrdhPRdY709qCbJjOLirJqML/Y8DY/W/8WAJdPnMi1k2vIcbmo6+7msd27qO/pQQBXTprEhWXlTCsowDtoNZVSEtF1vvLKyzy3rxZFQE1+PjMLi3BrGo3hXra1trKlpZl/eu5Zvr/seq6YePzK6dnQZwCKRZMYuoXTpeH1uVC17OlfTgYjXjl1YzcAilKIwzEtoyNCCFS1GIc2BctqRjd2ACYweL9mEon+HjBQ1QkE/Z/MEMyBdsoIBj5De9enMMwDxBIv4ffehRAiLVTr0I2dgCDg/3CGYKZbQQgHOf4PEo0/gWHsJhz9LT7PbYNWT0ks9gygI4SPHP/HMwQz1RcFr2c5zujD6PqmkQ7TWQFVCD40fwHVwVyW1kxhcl4eHocDQUq9bI6E+cqKFayuP8yW5mbeajjC0popx2zz+dpaWiNhbpo+jX+8cBFVwVS+IltKuuJx9nd1Up2bO+S6Iz09/N+2rVhScvO06Xx76TI8gwRvac0UPvTEY7RHo5QFcvjEhQuH1LyUwK83b+L52lqcqsI/XbSYu+fOI+ByIUit8Juam/niSy9ypLeH+1e9zqziIop9x8/V1H8PKYnHdFY+u5WVz22j+UgXhm7idDkon1jAVTfN5/Lr5uAaQ27tCF0pEkkqe7VARWSV6ZRQpB7E4GilxLI70fVUtWqX8wJUtXTYHKQu10WoShEgiSdeI6VWphBPrgZMhPDicV817EAIkYPHdTkAhrEP0xpg1EiZJGlsBUDTqnFoU4bpiwe3c2HW9s9mCCGYX1rKvyy5mPNKSvA5nelUl6kcOOWBHD67eAluTcOSkq0tLcd1B+zr7OCSqmr+8+prmZKfj0vT0BQFp6pS6vdzaVU1ziz5eLe1ttAdj6MpCu+dMwdPOkVm39/0wkIuqUzVHHmz/jARPTnkXTWFe/nd9m3YUnLT9Bl87IILCbrd/c/kUFUWlZfzz4sXowjBwe4unq+tHVU1gXBPnP/+8l/46f1Pc3h/G4Ggh5KKPLx+F7U7m3jga4/z4/94knh07Gr8jHDlFGjaRABsuxvTasEh/IMGSWLLCKaZEgBNqxjStGW1YtmpojEObTrHUhNVJRdVnYBlt2CYB5EymV71bAxjPwCKkoeqZilq09djIXA4ZqR6J+OY5iGc/f+OYFsdqb6qFWnDVfY2+p77XMOxZnchBNW5ueS63bREInQn4sdtz6NpfHTBBXgdo0uc3BZN7U0dikKpf2iRWQGU56RSeoYSCWKGQY5r4H1JKXmjvp72aBSHovDuWbOyViETQrCkspJct5uueJzVhw/zgbnzRkZ1lPDXR95gw5u13PnxK1l62wJyC/yoqoJpWnS29fLM79/imT+up2bGBO744CVjsnqOsFYKeN3LECIHW/bSE/4xtt2JlDZS2th2jHDkYQyzDnDg89wypGnb7gVSOU1VZah6kwkVRUm9EGlH+ldtMLFlKgu4IrwIju3mGHDv2Fj2QFZvKZNImRh0zvADqYhzmxLXlzTasCyiuk5vIkF3PE5vMomathkcO1t/6rcJgQA1+UPrmBwPfcJsS0nUyF7oJ5xMrUZOVUVThq6+m5uakIDf6SLgdNERi9EejQ75000LnzP1zTT09owohzFAJBxn1QvbuWzZHN7/iSspKc/D5XagOdR0yFghH/6XZcxfPJmVz21DT5x4etTBGPHK6XTMJhj4R0K9PyIa+ytJfRNOx2wEDgyzNr0nFQR8d+LxXJdl5hj875GoE9nPEafbMHOOksillLREIrxRf5i3Gxs5FOqmJ5EkaZkYlo1uWSNaMfvea67bM8TlMRLMKS7B43AQNwxeq6tjdlFxf7kLmd6vrms4AsC0gsIhhilbShrDqQm7J5ngA4/9ZfhVS0p60oKeMM3+ygTHQ7gnTk93lDkLJvYHVh8Nh1Nj1vwqnv7dW8TjOi7PyfvHRzyaQqgEA58GNEK938M0D2OZjanfFA8u51z83jvxed+FYKhlT1FyEWhIrIxVLDusNFsHhBIYtEJqKOlV15ZRpEwCwxeHse1uUvtVBVUZmNWFcKZUWdmbXtGPUZTGjg3729kKw7L4447t/HzD27SEUyUdvA4HAZcLv9NJjsuFKhTCehL9GBncB0MVJzZtTi8sZOnkGp7au4eHNm1ESslVkybjczpoCod5dPNmajs78TkcfPj8BTiOUlktKUmkV0ApJXHDOKZK2bfvdarqiA3wqqaiqgqx4+wno5EkmkNBOU5x35FiVCQEw6wjGvsriuInL/g1XI65AChKAEUtRDB8dm5NLUFRC7CsJgxjDymhyZ5i37K7saxmABzapDTBAEDB4ZhBPPEKdvocVc3L2oaUst/CLIQHTavu/00IP4paiGW3YVpHBu1ph7Yx2JB0LkBKyRN7dvPNVa+jWxZT8vP50PwFLCwvp9DrxamqqIpCbzLJ7X/4Hc3hofVYxhIOReFLl11O3DR49eBBfvzWOv5nw9uoioJuWVi2TYnfzz1LLuHy6uoh35eSNvgAlPoD/OTGG/E5jr9qORRlROcB5Ob7KK8u5PXnt3HlDXPJK/Rn9ENKSfORLta+upuamWV4/cd2O40Uo9BDbHrCP8Ew9xLwfxS/973HpNcdDUXJx+W8kFj8KZL6RkyrKW2MGer3SiTXYtmdgMDjupK+/asQ4HFdSW/4V0gZI5Z4JU3zG9qGLXtIJFJUKoc2FU0dqDIshBuXYy6GsQvTPIxh7sfpOG9oOyRJJN8e+RCdBYgZBo9u2YxuWZT6/fzsppupycsf8uxRXcc+DZWzhRAU+XwsnzqNNfX15Hu8nFdSgiVtct0e5hQXc0X1RMpzcrJO/IoQTPCn7AJJy2SCP8CEMQ6dc7o0bvu7i/nhVx/jq598lGtvOZ+JU0twuR3EYzq1uxpZ8cRmwqEYd3zw0mFV39FiFMJppQ0+KXXRtkMoSoBM3UAAwzljFQK+vyOeWIFlt9ET/gn5wa8DA9zX1Ep1hJ7w/wMsNG0SHs/SQe0JXM4LcLsuIpFcTTj6CB73lTgdczIsx2CmDVS1gErAd1earTTQT6/nJiKxx5AySm/4FxTkff+ovtjEE6+gG1tGPkRnAboTcRp6U3u0C8vKmZxFMAE6YjHC+ti5BYaDlJINTY38x2uvkuNy88tbbmVaQUHGOce0LAPnT5jAE3t205NIsLOtjVK//5jXjBZCCC5dNptwT4zf/89Kfvm951AUBaEIbNtGSiirKuBz/3k7sxcMXd1PFKMQTg238yJ0fTPR2OMkkxtQ1UIGVFOBouTgdMzC67kxZSwatLIKIXC7FhPwfYjeyC+IRH+HbbXj992VUjmlQdLYSm/kQQxjN0J4ycv5IqpSnNGLFEPpS7R17MOymmjv/CgB/0dxuy5CCA+W1Uw09hiR2BOAjce9DJ/39iFkB7frYjzuq4gnXiQafwqJTcB3N6paipRh4olV9EYeRBFBLHnqP9LThlTxNIBhKWyWbfP03j1ZaX2nAs/t20dPMsnC8nKm5GefLIaDEIIrJk6kyOulPRbjkS2bWVRRQcDpPEY01MC1I4Wmqdz0vou48NJpbF63n0P7WonHdAI5HqbMLmP+4hryCsZ2UhiFcEq8nuuJxV/AtOowrcOY1uEhZ8UTLxOOPEpu8EsEfB84SkA1cnPuAUzC0f8llniBWOLlVOSHtNMuE4miFJCXcy9ez01D/V5C4HTMpzD/x3SG7sU06+ju+XfAiRBqmgBhAhpe93Ly875NKgyNo9pxk5/7DTq6Okjqm4jFnyQWfxYhHEiZKvnndJxHbs4Xae/6ZDqs7czCQKxgOuyt7y9dVCcbgm43pX4/4a4kG5saqevuZnKaOyulJG4aPL57N/+79fRpDO60lfftxiZ+/vZ6ZheX4OxXDVPxqyV+PyU+H1qWKmkVOUH+fv75/HDtGtY1HOFLK17iny9awsTc3H6fpyUl4WSSA11drG04wl3nzaXIN7pEXEIRTKjMp7RiKDHlVORtGpFw2nacnvCPCEf+F4SC13MLDm0yA+FUEimTmGYDieQbWHZbPy+2z/HfB0XxkRe8D7f7SiLR36Hr27FlDwgVTSnC7VpCwHf3MUPGUivfZZQW/pFw9HfEE69gWs2AiaIU4HRMw+e9A697OcOFjAkh0NRKigt+TTj6aHrSaQEkmlqE17OUgP8fUEQAt2sxltWKoow6q9qYwpaSlw/sp667m7CuE04m6UkkaImkIvT3dLTzxZdeJOByEnC68Dtd1OTncc3kmv5V0u90cvvMWXx/zRs0hsN85MnHuWrSJIq8PrricTY2N7GrrY0Ly8sxLJsNTY2n/LneNWs2Kw4e4GB3Nz9Yu2YIPU8VAr/TyaLyCj67ZAnTCzKjjATwofnn09Dbw1927uT52lrerK9nUl4ehV5vqup4PDVOHfEYblXj9hkzT7i/pyuB2nGFU0pJJPZHesI/RVGCFBc8iMu5iOz8BUkiuYa2zr/HtrtJJNcMEU4AIRx4XFficV2OLcNIOw5CQRH+tDAdf0OdYu9UkpvzRYKBf06RE2RfsHUAOH4WuhSXt4hg4PPk+D81iODgRwhf/2pSXPAQqTXpnc04YNk2D23aNKzAdMRiPLFnd8axJZWVXDVpcr9wCiH4u3nzaI9F+dOO7dT39PDoloFV0qNp3DBtGl+67HIe27XrlApnnx/zxf216JaFlragDmb42NImYZqEEglePLCf2q5Ofn3bHVQGg/3nCCHwOZ38+xVXMaOwiEe3bOZITw9bW1oy7ieAgMvFovIK/Mch8g+Gbdsc3NNCMM9LYWlwWHW5o6UH07QprcgexTNaHDdvrZQGLe3vJamvw+u5maL8n5MtxrIPltVJU9syLKuJYOAe8oJfOOlOns2I9MQ4sq8541jBhFyKKwqGuWJ42FLyZv1hOmMj970W+nxcXFmVsb+UUmJJye72dtY3NtAUDqesnoEACyZMYFZRMQ5FoTkcZn1jI9W5ucwvHcqFtmyb1fWHCcXjFHi9XFJVPapQrK54nH967hnWHTnCwvIKPr1oEZPy8nAMYgFZ0qY3meTlAwf46fq30C2Le5ZczKcXXTSskHTH42xtbWF3ezud8TgCyPN4mJyXx4zCIipycrKqx8MhEdf57Pt/zhXL53LnJ64c9r4P/+BFdmw6zHce+gdc7lHRGE8sb62URtqZ30e7O3Z2AsvuwLZTvrHBoV5nGvomJd2ysKQcyPnK2KottZsP8c0P/hxDN7HTuWfe89nlfOi+20fdliIEl1VPPOk+CSHQhOC8khLOKxmen1yWk8NtOcOXqlcVhSsnTjqhPkgpeXrvHtYdOUK+18u3r13KxNzcrGNfFoDqYC4rDhxge1sru9rbhw3iE0KQ7/Vy1aTJXDVp8gn1LRtM08Y+DqPI63fT3hwiEddHK5xZcVzhFMKJqpZimHtJJN9OO/4nZPUtWnYLod7vIWUYIQK4nYtOuoOnAlJKGsK9PLR1I5tamojoOj6Hk8XlFXxx8WVDIuxPBjMX1vC9Z75AJBRj1eNv8+yvX0eOkDZ2rmNLSzMSqMoJUjGMH7MPqqLg0sbuvZwKWJadSv41Rv7hEWyiVPy+95JIrsUw99DW+ff4vHek4yg9gI5ltZHUt6UNM/WASsD/QRyOaWPSybFG3DS597WXWN/UwOLySuYVl/YLqJqFehXVddpiUaqDuaNS2wDcPhc151UhpaR+b9NYPcI5gT7CX8TQSZjmsKqmlJK9HR3UdnUBMK2g4JQzrFO1UXRM0yKZMLAtGz1hEu7JwjeWkvbWXta+sovcfD8uz8mvmjCilVPg89yEldNET+Tn6MZO9J6dpNTbvtw6ffxLBVUtI8f/EQK+DyHEmZmy8WCoi40tTVxVPYmfLLupn29pSznkpUspefHgfv5v51Z+d9t7cJ3GNJTZ7AGnwlJ4uu5zNBaWl/PU3j0c7Ori52+v54Pzzyff4+mfAE3bJpRIsK7hCD95ax09iQQFHg/Lpx4dYD/2kBJ+8Z1n2bx2P7YtCXVGeOaPb/HqM9ldTLFIkmTS4EOfXYp7DEjvMELzoxBOcgKfwuNZRjzxCkl9C5bVipQ6QjhQlFw0raqfvaMqJaOi9p1udMXj6KbFzMLijARW2WL7JPBmw+ERE8DHAlJK9ITB9jX72P7mPkIdvQQLAsy9dDrnXTwto5KVnjB446mNmKbFpTdfgDdLGQDLtFjz7GYiPTEuvuF8goUD9Dbbtjmyt5m3V+yg8UArmkNl8nmVLFo6l/xhLJNjASEEN0ydxksH9rPq0CH+Z8PbPLFnN1XBIH6nKy2YcVoiETpjMSwpKfB4+MoVVzK1YPTGtNH3D973sSuYNb+Kzev2s/bV3Xh9LgpLsuzBhSAn18uSq2Zy9c3zTz9DSAgFp2MaDm0qqU/WZiCaI7WKnmyn+pI0bWhuZHdnOzHDIOhyMTW/gDlFJRR6vEMIxxFDZ31TAzvb2zBtm2n5hVxcUUWeO5OEH9V16nt76IzHWNt4BBtJXaibFw/uTz8fXFCaIn8DxA2DlmiE/d2drGtqQBWClw8e6DfzO1SFJeVVow4uHskYdLX28LMv/I71L21Ddah4fC7i0SSP/+xlLlo+j0999y7yilN7NEVVWPXE27z98nZy8nxcdP28Ie+h+VA7P/6X35CT7+eSmxb0HzcNi2ceeo3f/dczxCMJfDkeTNPi2V+/TtmkIj7z3x9g3mUzTpmA5rhc/Pd1y3l08yae3reX5nCEtmi0X4NRhMCpalQGg1xcWcVdc+cyo7Bo1FuLE4EQgvLqAsqq8rnqpnl84YO/4sLLpnHXJ67Kfr4iUJSR5VseKUato6VunuLQjiWklNT39vD5V15gR1srOS4XmqIQ0XXipsHSSVN4YNkNONJuHCklB0PdfHnly2xpbSboSqWlCCUTTM7N4/4rlzK/eMD8v6axnq+sXIFp2ySsVIjRiwf383p9ii+sCoWfXn9zv3D+Ydd2Hty6kaiu05NMoAjBl19/uV/tDThd/P629+J1BBlLGEmDX9z7B9Y+v4Wr37OYOz69lNzCAD2dEZ761au89H9voAjB53/+D7jcTlRN4cp3LWL9i9tY9fgGFi2bi1AzJ7D1L24jHIqy7O5LCOT5+o+/8dRGHv7GX6mZU8UH77uNiimlmLrJuhe28uj9T/Cjzz7Kd574PKXVp8bqLoQgz+3mc0su5h8WXEBDbw+tkSgJ00RRUsSDYp+PUp8ffzof0OkiAAzuo9OlUTm5CEVRTkkir+FwRm0KH9m2me1tLXzj8mu4euJkHIpCKJlke1sLQZcbbZCqHNF1vrzyZXZ3tvefrwrB5tZmvrbqVb7wygv85pZ390csXFxRxV/ueD8A65oa+LdXX+QDc+bx9+fN7xe4wXSu26fP5JqJk4kYOv/wzOPkuNz87PqbcKZ9cEIISv0jTxA1Ekgp2bG2lnXPb2H6BZP45HfvxJeTIuznlQT5+P3vo/lQO2ue28LS1Xu58NoU4X/eZTMprixgy6rddDSHKK4YiF3tU3tdHieX3Xph//F4JMGfH3gBt8fFZx/4e6pnlPV/dLd87Goaalt45uGVvPrnt7jz8zeeUvUWUrTCoNvN7OLjXPAO4da7l4xZnOZIccZsDCXQHAnjcTi4qKyCQo+XXLeHicFcbpoyncsqB9j+UkpWHTnEhuZG7px1Hu+ZOYcir498j5erqyfzuUUXUxfq5q97dvUbO3wOJ1XBXKqCuRR7U0KY63ZTlRPsP+7RBlTUXLeHqmAuFYFUFjmnqlI56NzKnGCGs3yssP6l7Ri6yWW3ZO4fhRC4vU6uuH0hpmGy9rkBw0SwMMCiZXPpbu9l02s7B5WYkBza1ciBHUeYOq+aSbMHQvQO72mifl8Tk8+rpLS6ENOwMHQTQzexLJtZF01BCNi5bj+29bft+hFCMG1OBVNmlZ3WlfuMWTkFqdVtxaEDfPG1l/jo/AtYXFZBwOnKOiBrGuoRQnBV9eTMoDUhWFJeSY7LxRsNh/nE+ReOqd/yVMK2JQ37WxCKoHL6UF+yEILKaaWoqsKRfc1Ypp0uSQeX376QF36zmlWPb+Ca9y3B4Uy92jef3ogeN7j89oU4BznGmw62YSRN9m89zOeXf3dIX2K9caSESCiKZdmoZ7iP8VzEmSOcQvCeGbPpSST4zY4tfPqFp5kYzOPGKdN414zZVAQGnNQ2qdyqLlUdYiSClKHB73TRHo2StKyzRjilbZOM6yiKwOXObo53eZwIRSEZ11MrWrpe5JR5VUyaXcGejQdpPNDKxJnlRHvjrHthK8FCf2ovOmicYuGUv87pcuDJErnv8bsoKMulcurQSWIcpwel+cETAAAgAElEQVRnjHACeBwOPn3hRdw6bQbPH6jl6f17+OnGt/jznp184/Krubp6ckbg9fEgz7L6Joqi4PG5sW1JIpY9hjQR1ZG2jcvrRBkUcZ/aU17AQ1/7C+ue30L1jDL2bDhI08E2Lrn5AooqMjPjuX0plXneZTO456cfHn40hUDVzpjdz98UzrhRV4SgKpjLx8+/kD/c9j6+e/V1xAyd76xZTW86Ml9BUBYIkLQsOuKxISLYm0wS0XUKPV5cZ8mqCSlz/MRZ5Uhbcnh34xBygJSSw3ubsEybqmkTMoRGCMHi5fPx5/pY8+xmErEka5/bgpSSK9+1CEU5KgaypgSHS6NhfwuWaaE5tex/WSo5j+P04IwRzqOLjIp0DN+tU2ewuKyS1miEUCLR//slFVUg4fX6QxnXSSl5u6mR3mSCxeWVWRMMjwaKAE1RMG0L6zTk1Fl8/TzcXierntxIJBTLMO7EIwle/+t6NKfK4uXzh1xbOrGI8y6exuHdTex++yBbVu1mwqRi5iyZOkTAqmeWM2lWBYd2N7L+pe1D+KBSSmzr+GTvcZw6qF//+teP9fsxfxxLGLbNb3dsRbcsnKqKlBA3DTa3NvPbnVvJ93j44HnzcaXT9U/wB9jU2sxrhw4ywR+gxO/HsGw2tjTxrTWv43c4ue/SK8l1e4bc61BPiCf37WZJRRWLyoYmGRsMgWBlfR17OjuYWVhMic+HbllEkjouVT2mQ9y2bHq7I/R2RQm197Jz7X52rK2lYmopFVNKScSSmLqJ5tRQ1JT/LK8kh86WHta/tI3mujaKKguQlk3TwTZ+8+2nWP/ydi6+cQG3f2opmiNzVyJEyhG+6okNRHti7Nt8mKV3XZyVmKA5VfJLc1n33FY2vroT27ZxujQioRhNde1sXrmLJ36xgvKaEvKKho9MGceY4D+yHTxuPOep6ctQJEyT9z7+B/Z0dpDrcuNzOjEsi854jDy3h29cfg3XTJyc4U451BPi3tdeYmtrCwVeL5oQtMVilPr8fPOKa7i4oiqr4K08XMeHn3mMey66hM9ckD0usA9SSlbW1/H5FS8QNw1KfH6kBLdD47e3vJsi7/DZEVrrO/jKu35Ib1cU0zBJJgwsw0LVFJxuJ5pTxely8G+//BhzLx0ojRcJRXno63/l1T+tQ0qJy+skGdeRNiy5YR7/+O07+xlCRyPUEeZzS79F25FOnC4H33vmC0w7f2LW/tmWzRtPbeSR/3yclsPtqJqKoipYpoVt2eSVBPnmXz7HpFkVwz7jOMYEWT/AM0Y4+4RtQ3Mjh3q6ieg6LlWjJi+fSyqqKA8M/Rj76H5vHDnM1rYWLNtmWn4Bl1dNosTnG1boWiIR1jbWM7OwiOn5QwvrHg1bSvZ2drCyvo62aASP5mBqfgHLa6b157/Jhlg4wfqXtmGZx+blzrt8BkbODmLmQNSKm3JCe0rZtnoPoY4wwQI/s5dMZeaFNThc2rB9llKydfUeOptDeHwuFi6b2+9WGe787rZetq3ew8GdDSTjOv5cL9XTy5i2YBLFFfkZhqezBan0qAlsGUdVvCjD1MPJfl0cWyYyjqtKAEWMLVVzEM5s4fxbhpQ2O7oeoDW2Bt3qJWG1U+G/joXF3xo3xpwgpJS0hh+kpfeXlOd+gSL/e0d8XUvvL2gNPzxwUGjUFP6EgOvC4S88OZxYJoRxnA4IZuf/E7PyPkmPXsvqpo+/0x06J2DJKIbdji1HUvNlAEHP1WhqAabdSUfkzyTM+nRWx9OLceE8AyCESNU8FRqa4uVcq6J9NkEIgdc5Ha9zOlLaRJKbSZjvTEmOs144pZTodihlOFHzMOxewnodltTxOcrwahOyJiRL7S2SRIwjJK1OVMWD31GFU8nMY5NqP5VDyankods9RPRD6fbL0+0rQ863pYFLLUQZdO++vlpSx60WoJxgMHpqK2KTtLqJmk2YdhRVuPE5ynCrRUNiaY9+BhuDiF5P0upAVTz4tApc6uiSOY/j1OOsF06Are3fIWF1MjX379jZ9f+IGg1IaaEpfiblvIsZeR9BVTILroaSu9jR9QDdiZ3YmIDAq5UwLfdDVAVuHiQ4ks3t38Kwe6kJ3sXOzp8QM5uQ0sKhBpiU8x6m534YVXH1n7+l/Tt0J3dyeflDeLXSQT2VbO/8Ie2x9VxW/iv8jsoTel7d7mF75w9oi61DH1QlzankUB24jRl5Hx3UH5DYbG6/H1sazC+8l+2dP6Q1thZLJhEICj0XsKT0R6hibArwnCqk8lT1kDAPpFXNJKoSxOOYglubCGQ3lAkULDtOTN9OwjyMIlz4nHNwadXpiezkJyUpJRKDhLGfuFGLLZM41Qn4nHNQleyJy46Hc0I4TZmgO7mDrR3/RXXgZgo9F2LaEfaH/o99oUdwqXnUBO/sz0MbMQ6xvvVebKkzK/8z5LpmoNshDvb8ma0d30MimRgYKOFg2XG6EtuJGt9nYuBWCjwLMO0wtaHfsrf7IVxqHpNz3jtwvoxj2JGBugeDYNkJDDuClCfu3FeFE8uOU+FfRqF7AS41n5jZzJ7uB9kXeoRc13TKfNdkfBCmHSdi1LO541soaMwv+hIOJUDEOIwqXChibFJrnCpIKWmP/J7W8IMkzQYkNgKBxEYVXvJ9t1CZ+yVUMTSMz7RDHOj4DOHkm0hpIbHQlCAlgY9RmvPRk352KSWG1cyR0LcJxV9Nl6YUgMTtmExF7r0E3VeOOjvIOSGcAJZMUhW4gRl5H0MIBSklOc4prGr6CAd7/0xV4EacahCQ1IZ+S9xqZVHJd5jgvapfaAvc83ij6ZPs7X6IUu9leLSiQe0nqA7czPS8j/S3H3DWsKrxIxzs+RNV/htwqKenCrYqPFxYcj8KKdO+EIJ8OQ9N8bOu5R7a4usp810z5LqY2UiBex7nF92HKtz9z322QBEuNLWAAt+78TlnowgvcaOW5t6f0x75PV7HDIr8HxiySrWGf43HMZ1JBT/AoRYT1/fS3Pszmnp+hFMrpeCoWjqjhSV7qev8AmF9A4W+d5PnWYYi3ET0TbT0Pkhd578ytehX+JwLRnWfs8+BNQwUHJR4L+mfnYQQeLUJFLjnEzObiBip6siGHaY9/hY+rYIiz6L+wRJC4FTyKPNdTcxsoSuxNePDVYRzSPs+rYx891yiZiMRs+G0PasQAnXQbN/Xz4CjClVxY9hhsnnBFBxMynl3v2D2tdX3dyZDCEG+7xamF/+GCTmfJOi5goB7IUX+O6nM/SIg6EmsIpU+JxOq4mdywQ/I8ywn4LqQIv9dVOelSDmt4V9jyxMvkCylpCv6FL3JtRT57qIq7+vpvl1EaeAfqcj9V0w7RHPvLxlIhDcynDMrp6I4can5Rx0V+LQKbGmQMNsA0K0eklaIAvc8VJFJ7RNCEHBOAmzCxqGM31ThwjWkUK+Cz1Gebr8dXCdef2M0kFJi2hE6k9voTuwkbrZiyThJK4RlJ4a9TlXceLWhmdvPFqRIAJlEACEEHucsFOHEtENpdTfTABhwLcGhlmRMSAH3EtyOiSSM/STNI3idQ8uGjAQSk67YcwjhpNB/R8rqPqhvOe5LUZUAUX0Lph3CoRaOuO1zRjgFApFFEehjddgY6f+aSGwU4chqBujbf9hSz3KHLO3jACT2iP1gJ6dGSinp1Q+wuf0b9OoH8DsnEnBU41CCqMLDsYq/C9QzOivi8ZCalELE9J0kzFoMqxNbxjCsjrQfMvvYurVqjjb6KMKNS6sibuxHtxrxcmLCadsRkuZhkDYtvb9EOapCui0TSKljSQPLDv9tCqctTUx7qHqi2z0IBA4ltR/UFC+qcKPbvUNmWSklujXgchgMKU3MLM5s3e5FoPS3n4mjPxaJYZ9cKUGJyc6unxDS9zK/8EtU+K9DTVPTIsZhGiIvnlT7ZyqktOiKPU1Tz09IWg1oSi4OpRBV8SGxkVnU2T4oytCAfBAowgdIrCzfzUiRoggmkJj0JtZl1UpS1D8Po91FnjPCaUmdsFFHjnPKQMYEqdOT3Ium+PBp5QC4lDwCzolEjHoSZjsebXCkv01nYguKcJLrmpFhMDFlgrBeR8AxaVD7yXT7fnyOsv6+KMKVVZgNO0zUOLm9qWnH6dH34dUmUO6/Fk1JqeZSSmJm07lV6DcNKSWR5CYOd30VIVxMyv9OSl0UARAqSbOOXS23Dnt9avU6umapTPNnBcpJuJCE0BBCQ1PymF78WxzqcDl1BZqSO6q2z14dZwhsDvb8iYTVkSYYWDTHVtKd3EmBez5exwQgpbZOzLkdw+plX+hRTBlNn2/SGltLU3QlBe7zyXUdrebYHOz9E0mrs//8xuirhPQ9FHrOx6P1FQQSBJ1TMGWcxsgKLKmn/XMJ6nofzyC396EvljX117cCpIgGg39L9V9FE14MO0LS6u7/LW61sS/0KBLzlIzu0TBtmzUH63ngtTX8dNU6tje1YJ9Cy28o8SqWDFPkfx/53ttwqEUoihtFOLDsaLrgcXYksxjrpNTRzUaEcODUJpxwv1QlgEMtxZJRpEygKQU41MIsfwVZyTDHwjmzcjqUALY0Wd30cXJd0zHtGB3xTTjVPGbmfQIxyO1Q4VtGKLibQ72P0ZnYRo5zMrrVQ2dyKx61mLkF9/SrigPt52DZCVY3fYygawamHaEjvgm3WsDMvI/3GwKEgAr/cg6Hn2Fv6GE6Ehtxq8VEjSMkrS6KPIvoSmzLaLs9vp4jkefSAteFJZO0xzewtuVf0BQvbrWQ6XkfxaXmogovlYEb2N31C9a1fJ5C9wIsGaczsZUcZw1erYxTDSklK/bs594nXyKeLk3/2/Vb+MWdtzKv/MQ/9GPBtlNaiKZkGv2ktAjFX05XRc+OcPItTLsbTRmo4B0zdpEwD+JSK3FpVSfcL4GLPM+1xPTttEf/SJVzJoJMv2kfo2u0idfPGeEEwfyiL9ESW01bmv1S4V/K5OD7CToza2uoios5+Z+lwD2fhsgLhI06NOFlSvBOJgZux5PFoilQOL/oKzRFV9IWX4ctdSr811MTfH+GKg0Cv6OKxaU/4GDvn+hJ7iNiHybonMrk4Jcw7DANkZdxDKqSnTJSSTTFl1LBj2IO2YOMHUIIpgbvxqXk0hhdQVdiG041l5rg+6jy38zh8FNpI9hA/wWCYu9i/I6qIRbqE4EEXthV2y+YAF2xOK/uPcjcslNjDfY55wAKXbFnCLovw6GVYtk9dEafoj3ypwwr6dHQzUbqu79Bac7HcCj5JMzDHAl9C1smKPK/D1UMBJPbacONlAksGceyI4BENxtJmvUI4UIRHlQR6HdBFfrfT3fsJToifwFpU+C7A00t6F+dw8n1eJwzKPCOruzjWR8yJqVkbcvn6Exs5uqKP+DVJiCxAJk29gzvw+ub0WwsBEq/cSiTW2uzpvmf6Eru4JrKP+JRS/pVx2O1n2pbpvsycO5gDA4cHwmO5vxKrLRRS0lbYgf2yEefO1w7JwLLtvnHPzzJqv2HMo7fvXAeX73+qlMinKbdS13n5wnFX0UVXlQlB1vGEMJFRfALtEX+FyEcTC/+PYpwIKWkqfcBWnp/SXXef9ASfoikWY8i3Fh2FJAU+G6nKu/fUQdNlKH4Sg513YuUOrbU0z5QOy2ULgROXFoV04ofQVNSQi2lJGEeoL7764QTbwGp+kISEylNFOGkMvcrFPnvHm5s/jZCxvojPEZ4LqiojHwvkGr/+EG3fWUrsrlfsp87Ogz3nFm5pWMsLIoQ1BTmZwinAKYWjdxNMFqoIsDkgh/QE3+dqL4ViYlLqyLovgKXNhGXVokt4xnW9zzPdXgc08j1XEOO5wp64q8SN/ahCA8B1yIC7sVDVFCPYyoVuV/MSr3sg6L4MoK3hRC4tRqmFP6SqL6JSHIThtXZ767xuebhcUwd9TOfc8I5jtODuxfOZ3drOzub2lAVwcWTq7h+1tBEYmOFFCsqQL7vJvJ9Nw35PeBeNOR8r3MmXmeKGOJUiynyv/+493Fp5bi0O06wf15y3JeS47501Ndnw7hwjmPUEEJQkZvD/7z/VtojMVRFUOj34TjNtUTOdZy2PaeUkrc6a2lP9HJhQQ0TPEdT4bKjx4ixrfsQAYeHubkTh2S7k1LSEltNwuqgwn9dhqFlrPrdEltFwuqk0n99Ohh6HOMYU7yzOYRsKbln4695q3M/35p/F1eVzBnRdfvDzXzsrV9Q7A7y8OJP4dNGlqhpHOM4i5BVOM94PcSveXAoKl3JCCH9xGlW4xjH2YYzfs/pUh04hEbYihM1h4+4OJ04lrZxOiI+3un7n278rT1vH8544bSljURiS4l1EtkDThYpVonBgfYudja3cqgzRHc8jpQSn9NJWW4OM0qKmFVaRL7Pm3Z1jK79gx1dhOKpCUhTFGaWFuFM58VNUQAlDaEetjW1UNvWSXskimHZeBwaRQEfU4sKmDOhhLLcHNQTjNFsC0c40t0z6usAgh43NYVjk4uo73mbenvZ1dxGbVsnreEIccPAoaoU+rxMKSrgvLISKvNycagjZ98cPdYAmqows6QY50mUOrRsm90t7STNAQqlx+lgRnHRkFo1I8EZLZxSSmrDzYSNOE5Fw6ud/hw3Ukp6E0me2bGHv27Zyf72rozBHwxVERQH/Fw7vYa7F85nYv7Ic8dICQ+sXMuKPfuB1Ev9/Yffx7TiQmwp2dPSzoNrN/DGgcP0xhNZjQFCpCpEX1pTzUeWXMiM0qJjlovIhpf3HOD+F14b1TV9uGr6ZH787ptQT0I4U0Jp83Z9I797eyvrDzfQm0hm5e0KwO9yMr+ijA8smsfFk6pHLKQr9h7ggZVr+/2ZTk3lF++/jYsmHrs8x7FwuCvER//vMXoTA8EHt8ydyf03L+VE8hSdMuG0pU19tAMjTUiWUhK1koCkOd5Nbbj5mNdbtk1dtJVHDq7EkBaVnkIKXacnDUgfpJRsa2zhWy+9zrbG4xO7LVvS3BPmN+u38NLu/Xz2yiXcMnfmiOuDprSD1D2ius6hzhA1hfk8vX0P31uxis7osfOvSgmheIJnduxlbd0R7l12OTfNnjGqWVsO6sNoYZ9koScpJV2xOD9euZYnt+0ibhybxC+BcFJn9YFDrD98hOWzpvP5ay6hyD98tn9IqcLLZk7l4bUb+1fPuGHy5LbdLKwuP6HJRUrJq/sO0j14NVYUls+aNuoJsv/6E7pqBEhYBvdt+z0N0U4gNZCGbSKBn+97kV+Kl495vY3EsC0kEkUIbiq/AK96+lZOKSWr9h/ivqdfpi0yNAZTEQKHmsrclq0CWWs4wn88/yrt0RgfWXLBqAv4Sgm17R2YtsU3nn+VqD7AYxWk1DBVKFhSYlrWkJW0MxrjG8+9Rp7Hw6U11SNeDXK9biYX5JE0LXTLRDctTNvGSquZtm33T1Jjye1MZVqP8G9Pvsj6Q0eytu1QFFQl+zMnTYsntu3icFc3373teqrygsd85qq8IJfWVPPMjr39x1YdqKOlN0J57ugLNyVMk5d212Ycm1yYx4LKEy9Vf8qE06lo3FqxiDfb9lAbbiZkRLHTw2lIq39FPR4CmptbKhZye+WxCw6NJaSUbG9qHSKYqhDMmlDMNdNrmDOhhDyvByEEvYkEu1vaeXnPfrY1tmCmy+YlTYufrVpHkd/LHfNmj7r/L+/eT3c83i+YAZeTS2smcvmUiVTn5+JxOEhaJvVdIV7Ze5BV++syVptwMskPX3uTueWlBD0jc0FdP3MaV06djGlZGLaNadkkTJOEYZIwDBKmSdwwCMUS/Oi1NbSGI6N6puEQTib592dX8NahIxnH/S4nl06u5vKpk5iYfmbdsmgM9bK2rp7X9h2kIzpgxd/c0MyXnnyRH7/nJgp82YKsU1CE4PZ5s3hxdy2GlXpfnZEYr+w9wN8tmj/qd7WntZ29rR0Zx5bNmIrfdeKZ/U6ZcGqKyrsrF3N7xSK69Sj7wk08sOdZ6mMdLC87nxp/6TGvV4Qg3+lnek45Vb5ClNOUBV0CPfEE33zhtQzBDLhdfPbKJdw+bzY+p2PIy1s8sZL3XzCXx7bs5AevvklUT4UwJU2LB15by/kVZUwqyBvVS9/d2t7//+eVlfCV667kvPLSIcae+eUTuHH2dF7dd5CvPfsKXbEB9Xd3SztvHDjMDbOnjejemqrgV4//QcV0nYfXbhwT4bRsm4fWbGT1gUMZx2eVFnHf9Vcxr2LCkGeeV17K8tnTqOvs5r9WrGblvoP9K+nGI0386LU1fO2Gq4fVWIQQnF9ZxvSSInY0tQKpd//0jj28+/w5eJ0jL1okpeSlXftJDLJF+F1Ols2ckjIEnCBOqUFICIEmVIrcORS6AryWt4MjsU4uL541YhLCaYeU/GnzDrY1tfQfcmkqX7nuCm6dO2vY/UOKy+ngzgvnYlgW/7Vidf/erTUc4TfrN/PV668+oXc1tbiAH77rRipys5f9E0KgqSrXzphCeyTGN194rV/1tKXklb0HWD572hlZ5EFKyb62Dn6/YVsG13xyYT4/fNeNVA9jVOuzhk8uyOO7t17HFx5/gdf31/X//vT2PVw3c+oxVXqvw8Gt581kZ1Nrv2DvaWlnW2PLqAxDPYkkr9UezDg2v2ICkwvzT2rMTysJYcpxVsszAZ3RGH/atD3jQ1k6Ywo3zZkxoo29qii8+/w5TC8pyjj+8p4DJ7TKOFWVe66+dFjBHAxFCG6cPY2qvGDG8T2t7cT101+IZySQwO83bKNnUNVyh6pyz9WXDCuYg5HKcOfii0svo8A3QK1MmCaPrNuEbg2/fRJCcO2MGor8A5RP3bJ4avvuEWd1kFKy6UhThvtJEYKb5sw4+arqJ3X1KCCEYHKgBIeinpEzOKRjQ+uO0Bjq7T/mVFXef8HcUQ203+Xk2hk1Gcc6olE2HRmaouR4mFdeysWTshcBzoYcj3tINoKuaCzDvH8moSMSzVjxIKXCj8aIJYRgcmE+y2dlhmVtOtJEbVvnMUkMpTkBrpo2OePYqv11tPSGR3RvW0qe37m3384AUBLwc8nkkb+z4XBaV87ZwSr+e8EHmZs78XTedsSQwMrauoxZsyIvyIzSolEP9Nz03rC/bQlbGppHnWH96uk1uEbhGBdAdUFmIqk+I86ZiB3NrbSFM63h106vOWZR4mwQwLKZU9MW9BRihsEbBw4f97pb587MuF9HJMYrew+O6F21haOsrcs0Yl0xdRKF/pMPwDitwunTXCwsmEK+a2g9izMBMd1gV3NrxrEphfn4HKOzuAkhKPL7cBwlVHWd3aNKguVQFeaVjz7tx9EWQlvSb5E8kyClZGtDpv/YqaqcfwLuByEEU4oKKPBmRg1tOtJ4zDEXQjB7Qglzywe2XH2GoeP6WaXkzYOH6RhkOHRqKjfOnj4m2uEZzRA63eiMxmiPZJLrk6bJy3v3j7qttnBkiCOwOxbHsiUjreLudTqZkDM64oUQYpi98ZmXcUYC+9s7M475XU7KgidGNgm4XEwIBmgZtLc/3BUibhj4XcP7yF2aym3zZrGhfkCQU4ahZi6aWDnsRGHaNs/v2pcxstOLC5lTVnLSKi28w8KZSumo061HiZip3KJezUmu04dPc6McI//PqUB3LD5E/Xt9/yFePypXzolCt6w0P3hkaqrP6cB7En6yMx2mZdN+FMEjx+3C5zyxZ9ZUJcO4AylLaiSpH1M4hRBcMWUiZcEADWl7g25ZacZQxbCMobrObrY0ZDLdls+ahscxNmL1jginLSWHo2083biRtzpqaUv0oNupDHQORSXX4WN2sJIbyy9gQf4kNKGeFiHtiSdOae7VVI7ZkZ/v0jS0EyBMny0wbYvYUVZkt8NxwuRzQcofPRhJI0WgOB4KfN5+Sl8fVh04NCxjqI+uF0kOpOTM9bi5enrNmH2rp104TdviqcYNPLh/BV36UNeCbptEzSSN8S5Wtu1kedn5fGrq9eQ4PKdcQJOmeUYpf4oQx6x9crbDlmRYOSEVPHAyz3w06cCWcsg9hsPNc2bwx43b+wkkx2IMxQ2Dl4+i6y2qrqDyKDfWyeC0CqctJU80rOfHe59Dt028qpOaQCkTfcXkOVNk5bAR50i0s5/y91TD28RNnS/PuQP3CJgrJ4NsH8UVUyaxoGpsEjXnez0Z1sTj9ieVwO+chSJSwjgYtpTIk5giraMEUYiU7/l4EEIwtbiAhdXlrKxNuXYk8EwWxpCUkp3NbewbtF9W077Nk4nIORqnTTillNRFWnlw/yvotsmigql8YupSpvhLcSoD5cJlOm6zJRHid4dW81TD27zSup1FhVO5sWx0xUdHC6/LgUJmFcXzKyfwiUsWntNBve8UVEXBe5QlPGGYGJaN6wS/zMFqJoBT03CNMOhAUxRunzeL1fsP9bO7dmdhDEngxd216ObAl1KRF2TRSYSbZcNpdaU817SJkBFlek4ZXz/vvczKqcClZvJUhRBoikr5/2/vzMPjKM8E//vq6OpTrfuWdfrC8oUvjG0wmMMYCNeQbEiYkGueLMnO7G6SnTAZhhyTTOaZmc1mN1lCCGQy2VwcSThCMA4EjG0O2/GND9nyIcmSrKulvqu76ts/Wmq53cKWjCTboN/z6A9VdX311Vf1fsf7vYcrn/868xbWli/EkjbPtm7FtCc2D0i+2412xovsHBgfw+4pstEVlUJv5tZHMBY/b2umpG1nGMFDSvvrGaVSTQjB8tpp1BQMB58bshg6XVcQiMR4rSnTcGLNzHpyR+lcMFomTTgT0mJXX2pD+JbyRelp7LshhEBXVO6oWoah6BwLd424Rh1Pirxu/GcoFJp7eke9ZplibAgB9UWZWbmCcfO8jekjZoL2/kzLnrIc35iM2HOcBuvmzMw49vrhY+k6SSnZ3tKWYUXm0jVuumx0jgVjYdKE07ST9JohFCGo845uH0gIQZkzD49mELVMBhITG+DL73JSV5iZKOdwV9aEGIYAAB65SURBVC/doanAYhPFgorSjH3ZeDLJ3vbOMVtSAZzoC2RtzTSWlYzZxnXdnBkZo2BXKMym5uPpjG7r9zdlOKQ3lpUws3j8o91Pnm0tKe0jkrRf52gYUg+IdCkTh6YorKyvzjjWG4nw2uGj5/WxTHF2hBDMLS/Nmtq+crB5zLMVKSUbm45lhJDRFIUr68aWQUwIwbT8XFbUDX8HEnhpfxNJ26YnEmXr8eGUggJY1zjzPcUeejcmTTgdikaB4cNGcnDg5Kg+diklx8NdhJJRPJpBrmNiAzoLIbhuZj15p/WaUqbS23WHI1MCOgEU+Txc3VCbcWzriVZ2t3WMur2llHSHIjy7Z3/G8ZqCPBZUlo15uqkOOmKfrlnf3dZBe3+QXW0ddJ1mC1zgdbO6oXZCFIaTJpyaULk8L/USnmvbRnu076yNL6UkYsX51fFNJGyLmTkV5DsmPobQtPxc1jVmrjmaunr41z++TthMjFlAhwJWJc7iuvRBRgAfXTyPnNPW+hEzwfde3UJ/NDaq9k7aNo9u2crx3sBwuQLuXtiYUe6o6yQEl1eVZ0xV+6Mxdra2s/nI8Ywp7YraakpyJsZWfFJdxm4sW0CBw8vxcBcP7Po5m7r2M5CIYNnDGZwtaRNJxtkTOMHXdj/BplMHMBSdu6ctRxMTX11FCD69fDE1+ZmeHc/uOcBXnlnPke7edH1HYug5knbKNO3lg0f422fWZ2n3pkghhGBWSREfvnxuxqLl7WOtPPT7l+kMhs7a1uG4ycOvv51y1j7t3NyyEm6fN/u8RzS3Q+fWubPTdZLAlqMn2HGa25+mKNwyd+Z5B/A6F5NqhFDtKeKvpt/Adw88x8GBkzyw8+eUOHOpcOeTo7tREISSMdqjfZyM9hG3E2hC5Z6aVSwrmLgMVqcjhKDc7+Ora6/hS7/9A/2D0dRsKdlw4DDbTrSxqr6aK+uqqS3Iw2s4UITAtCyCsTidAyGOdPeyt72Tg53ddIfCWFKysq76HHf+4KIqCp+9cjH72jvT7lcSeHF/EwdPdfPhyxu5sq6aYp8XXVGwpSQQjbKjtZ0n/7yXP7eczDC7LPC4+MoNV486btJICCG4flYDP96yLa1k2tx8PMMvtq4wj4WV5x/A61xMqnAKIbilfBG6ovKjpg10xAK0RXtpi/aO+Pt8h5d7a6/irqrlqJMwap5ez5X11Xx93Rq+8YdXMmLy9EWiPLvnAM/tOYCmKuhqynk8FRHOTo2qk1bT9w9+l5Nv3HIdX/zNH9jdNhwi5mhPH/+84XVc+pv4XQZOTSdhWwxEY4RMM8tWOdfl5MG1156X29mZlPl9rJ5ey5M79gJk+Z2+1wBe52LSbWtVReGmsoUszKvllY49vNl9iNZoLzEr1dCGqlHmymNxfj3Xl82nyl04YdOGs6EIwY2XTafI5+E7L702qN4fPi9J+UiOxk9SEQJtDGZ7H0SEEFTl+vneX9zMt9e/xiuHjmSEG40mEud0GK8tyOOra1ezoq56XL4ZAdw+/zKe23MgI3gXDAXwmtjZ3AXxShFCUObK456aVXykegVRyyRqpcyuDEXHrTkmzRPlbChCsKiqnB/fcwe/272fp3bu5Vh3H4lRqPmVwdg2jeUl3HTZDK5qqJn4Cl/iCCEoy/HxL7ev5ff7DvIfb+/gSNfZjUCEgCKvh1sbZ3Hv0oWU5njH7bsRQtBYVsLc8hK2nmjLOHd5VTl1haNLY3m+XFB/zqHofD7FhU93XciqvCtCCHLdLj6xbCF3LpjDvvZOth5v42BnF53BEOG4iS0luqricxoUeT3UFuQxp6yY2aXFlPi8JBIWrnNYqQiRCpcx/zSP/Fy3C8cYg1EDLKws50trhrMrq4oyLmEzJgMhBC6Hzl0L5nDD7AZ2tLSz5egJDnV20x2OYCaT6KpKrttJbUEei6dVsrS6kpIc74TMsAxN5fpZDRnCqQjBzY0z33MAr3MxFQlhlAxFebuipooraqqQEhLpSO9yMO24gqYOR9gVQtAfivHtx17igU9dT67v3TugIQXEeNBYXkJjecm4lHWhSLW3k6saUkG0LXswA4CUg/bXSlo4JnKGJUltpZ1OaY6XFXWjD0B2vlwQ4ZRSEreT9CfCxKzEqBycNaFQ7s5/V8WQHFTIJJIWuqaec41n2RIzkURVlbR1x+meMUNlaaqCrg1PsYUQgx8IKAgs20YRAoemIURmGVJKjrb1cPD4KSwrc/vlQk/ZLxWG2klTL8y6/VQwzMYzImFc3VCbEYZzophU4RxKZvR86zbWt++ifXC7ZDTCWWj4eHz55/Hr2Y1iWTYb3jzIcxv3EozE8boN3EbK22XZ3GruWjMfgCc27MTp0KivLOQnz75FS0cfHpfB/R9eyeLLqoBU6IzXth3mt3/aTVdfiByPk5tWzOaWq+bgGAw/EYrEeXLDTt7ed4K+gQi6pnJZXSmfvG0ZpQUpQ4lDx7t46Y0DbN/fQk8gzNd/9GK6E/jYusUsnFU5Lm16ITnzrV0Ixd1EIqXk9SPHOBUaNsR3aCo3N45PAK9zManCGbVM/nnfb3m5Y8+Y7GsB4nZixBhVUkq272/huz9/lc/euZzLZ1exp+kk3/vFa9y5Zj7LGof3F5uOn6K5rQePy+CKudXctGI2LR0BivK86bJeeuMADz+xiTuvm8+smmIOn+jm0d+8QTSe4J6bFiGEIGnZnOjo45rFDVSV5tHRE+Tx371JJGbytc/dhKoIVEVQVZpLV1+Ils4Ayxqr8bhSaveh+13KJCyb2BnaU5dDf18JqGlZPLfnQIaWfnZJEY1l4xPA61xMqrP1nzr38nLnXmwk+Q4vSwoaqHIXoCnnVnq4VQOnOrJSZds7LRTmebhl1Rychk5lsZ9nX91DMmlRWZKbnooCHGvr5btfvoN508szjgshCEXi/L/fb+OWqxv5xC1LURTBssYaugNhfvPKbm65qhG/10muz8WDf3VjKozIYBldfSFe3PwO0XgCn9ugYVoRDdOKsKxU57F2xWwK/JeGUmY0tPUPZKUkLPePPTvXxYqUku0n2tjZOmwRJATcMf8ynOMUwOtcTJpw2khe6dyLLW2muQv51oJ7qPeWpEODvJeeyGlomKZFPGFhODTMhEXUTOI0soW5osTPzJqSjDXkECe7+mnrCtDbH+bJDTvTx7sDIXr7I/QNhPF7h61OAsEofcEocTNBMmmRSFpYF2F82PEmads8vWNfxr6jKgTzLnEl1OmEBs0C46dFO6jJz5vwvc3TmTThjFsJWiMprddd066gwTv2YMkjIYRgzdIZvLh5P9/68UvMm1HO/uYOLMvmhuWzsu7hMhxZcWuGCIbjJJM2TSe66OzJdNpdMqcKh66lPCACYX709BZ2N53EZei4nQ56+8Njiqx3MWHbEkRq0/1s70RKScKyeXrnXp7euTfjXHluDgsm0JRtspBSEksk+f5rb7LtjO2Te5cuIN89eVt+kzdySolpJ1GEQoNv7G48Z6OyOJcVC+o4eOwUoXCMy2dX8YWPrKK0MHuaJcS7e4W6nDqaqnDfrctYsSDTjQmRekFSSh55ajM7DrTy0OduoqGqEF1T+c3Lu/iP57eO2zNNJpuaj/P7fQeZV15CfWEBxT4PPqeBQ1VRhMCWkrBpcuhUN7/d+Q6vHGrOSBCkCMFHF82jwHNx7lWPxEAszkAshsfhQFMUJBA1Exw81c0vtu1i4xlpORZPq+BD78GQ/nyYNOHUFAWPaoCUWPb4uk919gbZ8OZBvnn/OubPqADOLy1iRZGfonwvb+45xooFtSiKyFiXQkoRcuhEF/NnVDC3IdXJWLZNc1vPiGVqmoJtSyzr4h1We8MRfrfrHX636x1UReDUNJy6jlPX0AYNzYOxOMF4PCuDN8A1M+r4yKK5l9So+ebRE/z983/EpWsYWmpGFIqbDMTiWRZJxT4Pf3vDVXjPM9j1+TJpwulQdKbnlHE41ME7A60sKWgYt5fpcTrwe5380+N/pKwwByHA73VxzZIGVi2sRx3l/liO18k9axfx8FOb8bgcLJub0vSeaO8jadn8xfUL0FSFaaV57GvuYHfTSXweJ2/sOsrWvSdGfJ7qsnxiZpLnNu5l5YI6zGSSyuJc8nImfp/sfLBsSdhMZKS5fzdUJWU48eDaa847SvuFwpKSgWiM/ujZf5fndvHQujXMKS2e9M5n0oRTALdWLOa1zn0817qN1cVzqPaMPXvXmSQtm2c37sXnNphTX4bT0LGlTUtHgG/9eAP/+HkHSxtToSrKi/2p6Hrvck8hBB+6uhGnofObl3fx4pb9CCEo8Hu4/Zq56TXZZ+5Yzv/6+as89MM/4NBUZteV8sCnr+Ppl3dndQRz6kv5xK1LeGHTOzz76h7cTgf/4741F5Vw6qqKriqjTnakKQoNRfl8fMkCbmmchVPXLqlRczSoisLcshK+uGYli6srLsjziXN4mo95LjbkMD0SNpInjm/hsSMvU+L085e1q1lcUI9fd5/TJSwVg0jJaqQjrd3c/+0n+c5f38qCmRXpaWg0nuDTX/8lN1wxi/s+tDR1fylBkp6unu0ZzIRFOBpHCIHb6cChD1sJSSlJJG1CkTiKIvC6DVRFDCYpyi7blpJw1MQ0kzh0FY/LQLmI0iyE4ib72jt5p+MUzV29tA+E6I/FiJoJkoMWUB6HgyKfhxnFBSytrmRueSlew3HJCmXTqW5++tYOWgP9BKIx4okkiiLIdbloKMpnVX0Ny2qqJusZR7zBuI+cBwba+L9N60f0XleEQFc0PJrBsXAX/7j3KXIdHoqMnFTiorM0gl9383eNd+LRMh1ozYSVNrVL3VJi25LDLd0EBqKUDSqFUravo0/Gajg0DMfIzSOEwKGr5PszRz9NHbl8RQh8bgPcYw+ZMRl4DQfLaqpYWp2yWrIHQ6tYg53ZkDJMV9T0pONCCqVpm0SSUQzVgVNxjrkuUkqmFfj4ytrlGIoLy06ZWiKYUJtdKSXBZBAJ+DQvyjkGpHEXzoFElG09R0YVUt9G0muGRhWPttDwjeg6VFuez/J5NXz7sQ3MnV6Oy9Dp7gvR1NLFkjnTWLmw7qLt3W1pkZQxFFRUYVwU9bRlgqjVS8KOoAgVh+LDUHNQxPl/KlJKbJJYdmY0dk0xzqvc3YE9/Puxn3FV0UrurrxrzNcnZZJHmx/jRKSVL0z/z0xzV425jPMhakX5n4e+R8yK88CsL+N3nD2vyrgLp1szmJFTNu57fnkOz4hTX8Oh8dVPX8/Og20cbukmnkgyfVoR9922jJk1xRMSsnC8CJhHeK39HyhwzmJlyYOIUaYGnAiklHTH32FH9yP0xptIyhgCBYfq48riB6jwLHtP5TcPrGd3708yji0u+i9Ue1ePuaykTBJKhojb8XP/eAQsadEe66TH7CGUnLyI/hIIJ8PErNiozFfHXTjn+Ct5ZOnnxrtYBKnwmlnHhcDldLB8fi3L59dmX3gRY8kEoWQ7nmQxFzq5bdweYEvnd+g3j1HhWUahMQeJRSTZg98xttivI1HovIxZuXcTtwK0hDcTMI+QtM+hKp0gDMXgM3WfpD/Rz3Tv+LjpTQTjLpyKUHBOheS45OiNH6LfPEaxay5XlX4TTYxf3g8hBHlGHXlGXUrZZocImEfGrfzzqU+tp+aC3X+0TDlbTwFANNmNxCLXUYsmxq5kuRhICb5JS6QFG0mFqxyP5kmf64h1MJAcNstUUKhyV+FUsxV1Ukpao23Y0qLKXUU4GeFI6AjdZjea0KlyVzLNXYUmsreRUq6RYZqCh+k2e/CoHhq89Xg0N2PJWnDJCqeUNsHESYQQeLVhDxPTDhFNdqMpLjxaSfp43O4nZgXwaqVoinOwDIlpBwmYR4kme1AVg1xHDR6tFEHmto0tkwQTbeiKF5eaT9wK0GceIWb141C85Bl1uNTCET/qofv3xpswrSBurZA84+zTKSklEouBRCsD5glsmcSjlwwKT3YiYSklkWQXlozj01NWUuFkJ31mM5Ydx6UV4HfUYCg56TaxpEnSjmDaYUKJVPr0hB2h3zyWLldT3Hi04uEtKqsb0wrh1otxKJ4z6pB6JxILn17xnpRIYyXVxnF+deIJNnVvYUn+Iu6t/ljGb15oX89bvW9jSQtb2jgUna9e9sCICiEbm1+c+BU98R7urf4YT7Q+xcloqo0saaErOkvzF/OxaR/FpboyttmOho/x02M/40SkBSFSyYC9mpeby25CG0ObXLLCaWPxxqnvELMC3FT5QxxqykfyQP9T7On9KfnGdG6o+D/p6dne3p9xJPgiaysfxu+Yhi0tjodeZXfv4wyYrUhSmmCH6qPet5Z5+ffhUHzpRo9ZfbzU9jeUuhZS7V3N9u6HCSXakViAwK0VMj//UzTk3Iw4TXElpaQ1vJnt3T9gINEKSBShUWDMZqb/9hGVQClBO8X2nodpDW8macfS1+UbM1hUeD/FzvlZArq95wd0x/aztvIHNA+sZ1/gV8StABKJgsp0/60sK/oiIJDYvNX1b5wMv0VCRgbvAUeDGzge+lO6zAr3claXfTv9/66ex2kOrmdV6deY5r0q4/5JGee1jq8STfayrupRvHopk0FaMFueYGP3Jq7IX8rHq+/BpWba+t5ZeTvXlqwmlAjxi5Zf0xXr4mxrfVvadJs9PHr0caa5q7i94jb8eg7t0XaeOfk8m7vfoMpVxY2l16evGUgO8PjRf+dk7CSrilayvGAZAsGe/r08d/J5YnYcpzK6LbVLVjgVNHL0KnriB4lZfThULxKbruheBAoDZgtRqxefUo7EojfehEPx4VLzUzlYQn9iS+c/4VB9zC/4FPlGA3ErSHPwJfYHniRq9XJl8Vcy1l6WNGmLvEV7ZCvFrgUsKPgMqjDoiG7jUP+zbOv+PvnGdAqcs4DUR9MbP8SWU98haUeYnXs3pa7LMe0QzcEX2db9A2yZbSYXt/t5vfMbdMfeodZ3HRXu5ShCozO6i6aBZ9nY8RBryv+VPEdD1uges3rZ1/dLjodepdZ3HfnGdCzbpCu2j1LX5QynhBJUe6+hyNkIQFd0N4eDL1DiWkitb/hj82iZbmA2SZIynu7MMpFYdgJLmkyGgmvI3TAlmE/yetcmVhZeyUenfSRr/1MIQZ4jlzxHLkk7iVf10EXXOe9hSYtCRwGfq/8sHjWVtrLeU4ehOnn48CP8ObCD60quRRMp+9ytvdtpjbaxIHc+H6/+KA4lZdY4w5dyNXvu5O/f/8IJkO+cSdPA8wQTbeQ4qtJT1CrPSlrCm+g3j+HTy0nYEYKJk+QZ9WiKi7jVz86exxBCYWXJg5S6Lk9P26q8q9jY/hDHgq9Q5VlBjfe6jJcctwLU56zjiqIvo4qU9UilZzmWbXJo4Blaw1vIN2YOXiPZH3iCmNXLvLz7mF/waRShIqWk0nMlL5/8ElGrO+OZpJQ09T/PqeguGvM+xoKCz6IIFRBUeVbiUvPY3vMw+/p+wYqSv88aeRN2hOOhP3F16TcpdM5JH5/hvw0Y3lgXQqHSszx9XkHlcPAF8hx1zPB/aJzf1MRgKAZx2+TXg4J5VdEqPlJ1N051fJPYXlm4PC2YkGrDGnc1TtVJf6KfpEyioSGR7O1PudItL1iGLob9iRWhsCRvMes7Noz6vpesWjXVE9YjhELATKXoCybaiFv9VHlXoSteemIHBqeI3cSsPvKNGQgUTsV2E0y0UOJaQIlrfkaj68LNrNw7AUnzwPrBaeswqjCY6b8jLZgAilApdS8CBMHEsA9g3A7SGd2Jrnioy7lxUMgGLYwUH7W+67Key5JxjoVeRlPc1OfcPLhuGxao1LO56IzuxLSDWdcD1Piuo9A5J7XeSf8pGdPt9wO6ovPbtmd49dRGVhZeyX+q+jDGKEel0aKgUOnKtq3VFBVVqNhSpg1uEnaSU/FuNKFR6sz2V85z5OJWR+9Wd0mPnF69HEPJoS+eUsv3xA6gCgcFxix8egXd8f1IbAYSJ7CkSb4xA4DeeBMSmwJjZtbII4Qg11GLrrgJmEdJ2FEMdTi7mUPx4dPOdCoWKSUNAlsORwaPWX3ErD7cWhEuLTO5qhACv6MGcUb/GLP6UsoZabM/8ASqyPT2SNpRbGlh2mFMK4RTzUy4BIKiQcF8v7OtdzvtsQ5sbELJ8Kis0saKIpT01PRcWDJJwjYHtxOzOwlVqOiKTtwanfHEJS2churDq5enha8rtg+PXoJbKyLfmEFbZAsJO0xf/Aia4sTvSLmAxa3+wetHNp/ShBNVOEjKGJaMAcPCmTI5G10a86QdwcZCU5yoZF+jCfcI09IwtjSxpMnR4AZGUr2rwkBX3Iy0rhODHcUHgUAiwB0Vt3Eo2MSf+3bwzMnnuKvijjFpRMcTRSipZQsSS2b7LEvkqCJNDnFJC6eCTp7RQGtoEzGrl774YQqcs1CFQaFzNocHnieUaCdgNuPWinAPjl5Do9FIyhgAiY3ETm2nZGlTRz8ipa4VSGm/S69uc6aADV3j0UpZU/4v6W2fkUp3a+Of6vy9IbOWARPJ4rxFrCtby/KCK/jfTd9nQ8fLFBvFXF206pxG5ROBJjT8eg6nYqfoMwOUu8ozzketGDErNuqkXJf8IqTAmIFpB+mLHyGSPEXRoBJkaB+xN36IYKINv16d1rz6HCnvi9PXh6eTMvyO4lTz0ZXzH4UMNQdNOInbQZJ2JOt8zApgn/ExG6ofh+IlYYfRFBdevexd/kondR9xmKH9vGxtbcKOYtrhrOMThaqoCAT5jjw+WfsJcnQfT7Y8zb7+dy5IFnJVqNR767Gx2dOfCmY3hJSS5lAzUWv0JouXtHAOKYUk0BndiS2TaU2pVyvBpRXQGd1FLNlLgXMmkFKOlDjn4VC8dER3ELf7M8qUUtIWfhNLxih1L0R9D2ZsTjWPHL2CWLKXnvihjA9GSklndBdnjpyG6qfI1UjcHqA1vHnEj2womvyFwKF4AUko2ZH1PD3xg+klw2QihKDaPY2/rP44EpufHv8ZrdG2jPrZ0iZhJ4hZcSJWND3tjFoxolYU0zaxpPWe2/WK/KV4NA8buzaxve/PRJNRYlaM5vBRnmt/YUzr4kt6Wgvg1ctwKF5ORt7CUHPx6WVAyrIl11HLqdhuTDucUgYNzkhzHNXU+q7nUP8z7Ox5lHn5n8Kp+rFlko7odvYHnsCl5jM950NjmcVmoQqDupwb6ek6yK7ex/DpZXj0MqS06Yzu5GjwpaxrBAqzcz9Me2Qbu3ofR1c8VHiWowknEou4NUBv/CAOxUep+/Lzr9x5IMSgsgmFIwMvUOm+Ap+jCqSkP3GMXT2Pjbj/mfrgZWq5IG3koGDYMuVGJoQyqBg7uxP8ueo2L3cud1XeyS9P/JqfHP0pfz398/h1P0IItvZu48WOl4jbJnE7TsAMkJRJfnD4h7hVFw7FoNxVyidrPoExgjJntHWocldyR8VtPNnyNI8ceZRCoxCBQiAR4PK8BTgVg85Y56jKu+SF06Hm4NPLORXbTaVnBbqSshQSKBQ6Z9MSfh2H4iVHnzYcIxeFBfmfIZLs5lD/s7SGt+DVywZN146jK26WFf13ch216WvOByEE9b51dER20BJ+nT+03k+OXoUl44QS7dT6ruNo8I9Z1xQ757K06L+xrfv7bO78Fm6tCIfixZImcasf0w6xqPD+SRdOgHL3MsrcSzgZeZv1bV8gR5+GTZIBs5UiZyPFzrkEzKMZ1wTMZnb0PIJph0naEYKDpoI7e3/Mof7foSluDNXP0qK/wa0VnbMOZc5Sbiy9gRlneJQoQmF10VUoCDrjXbRG2/DrKaWfX/czwzf9rOXmaDnptapAsDR/CfXeunQZp+NUnFxbvBpd0TMUUIpQuLZ4NRWuct7ofnPQttbNzeU3sSRvETsDuzkZPTmiNvdMLnnhVNCoy1mLVy+j0rMivTUhhKDcvYx+8wRONS9DeSKEwFBzWVX6DxwNvkxLaCPhZBea4mSG/zYacm4e3EMdFkxVGNR4r0EVzhHXem6tiFrfDek17xC64mFFyd/RNPA8reHNxK0gHr2YxryPU+G5Ak1x4VC8GZ2AEAp1vhvJN2bQHHyRrtg+TCuIQ/WRb0ynxLWQau/VWXUocc1HFcZ5KYp8jgrqfDdS4Jx91t/pioeVJQ9yaOBZ2iNbMa0ghprD3Px7mZ5zCy3hLXRFd6OdtlYXpPZ19UFbXL+jJqvclAZ8dB1htaeaak/1iOc0RePakmuyjs/KmcmsnJmjKj9VH4U1I5QzhFtzc2fl7SOeU4XKbN8sZvtmpaexYnBWsKxgyajrMO4xhCabM+t/ukCd7dzpv0lNtywQAmWwvxrJsPxsZY2mHhILKW2EULP2N89W5tB1qfqltLljrd+5GEsGtOznGUmrnZlxbbR8EPZnR2DEh77khXOKKd4HjCicl7S2doop3s9MCecUU1yknEsh9IFcAEwxxcXA1Mg5xRQXKVPCOcUUFylTwjnFFBcpU8I5xRQXKVPCOcUUFylTwjnFFBcp/x9twY0Khn8kkwAAAABJRU5ErkJggg==\n",
          "text/plain": "<Figure size 432x288 with 1 Axes>"
         },
         "metadata": {
          "needs_background": "light"
         },
         "output_type": "display_data"
        }
       ]
      }
     },
     "b619304bfca14ed8a131a3cc61791e2c": {
      "model_module": "@jupyter-widgets/controls",
      "model_module_version": "1.5.0",
      "model_name": "DropdownModel",
      "state": {
       "_options_labels": [
        "cooking",
        "influencers",
        "gaming"
       ],
       "description": "Genre",
       "index": 0,
       "layout": "IPY_MODEL_682d4ee2288e40b39035de6905c75dd8",
       "style": "IPY_MODEL_ba3e4c4a45c8438d9a0ecf21f8d140bd"
      }
     },
     "b694083af6f74431b28d3014560b82a8": {
      "model_module": "@jupyter-widgets/base",
      "model_module_version": "1.2.0",
      "model_name": "LayoutModel",
      "state": {}
     },
     "b70398e5e103448caeff73610604f13b": {
      "model_module": "@jupyter-widgets/controls",
      "model_module_version": "1.5.0",
      "model_name": "TextModel",
      "state": {
       "description": "like",
       "layout": "IPY_MODEL_a58481480b3b438b8c2d5c853d0d6246",
       "style": "IPY_MODEL_c546ea3ae0a34f6097f506b688bd8b4d",
       "value": "like"
      }
     },
     "b7ede8f16df34d4dbb7beabc10293d07": {
      "model_module": "@jupyter-widgets/base",
      "model_module_version": "1.2.0",
      "model_name": "LayoutModel",
      "state": {}
     },
     "b89327a54c0e41818235631e6c4d2432": {
      "model_module": "@jupyter-widgets/controls",
      "model_module_version": "1.5.0",
      "model_name": "DropdownModel",
      "state": {
       "_options_labels": [
        "cooking",
        "influencers",
        "gaming"
       ],
       "description": "Genre",
       "index": 0,
       "layout": "IPY_MODEL_27a7ebe031cf45cbb412fbca73d355da",
       "style": "IPY_MODEL_f0f3f20dd57f4e8aa00f408d65c6d384"
      }
     },
     "ba3e4c4a45c8438d9a0ecf21f8d140bd": {
      "model_module": "@jupyter-widgets/controls",
      "model_module_version": "1.5.0",
      "model_name": "DescriptionStyleModel",
      "state": {
       "description_width": ""
      }
     },
     "bc96012888474fd4abb089316867fb94": {
      "model_module": "@jupyter-widgets/base",
      "model_module_version": "1.2.0",
      "model_name": "LayoutModel",
      "state": {}
     },
     "c3191931d91043d984338575e8ae6b0f": {
      "model_module": "@jupyter-widgets/controls",
      "model_module_version": "1.5.0",
      "model_name": "DescriptionStyleModel",
      "state": {
       "description_width": ""
      }
     },
     "c442ae89b167492abfa61c9923f63262": {
      "model_module": "@jupyter-widgets/controls",
      "model_module_version": "1.5.0",
      "model_name": "DropdownModel",
      "state": {
       "_options_labels": [
        "cooking",
        "influencers",
        "gaming"
       ],
       "description": "Genre",
       "index": 0,
       "layout": "IPY_MODEL_632aab32e9084d339384fd529623ee54",
       "style": "IPY_MODEL_7ebeb2b1135e4e69bed4b49dbba5007b"
      }
     },
     "c546ea3ae0a34f6097f506b688bd8b4d": {
      "model_module": "@jupyter-widgets/controls",
      "model_module_version": "1.5.0",
      "model_name": "DescriptionStyleModel",
      "state": {
       "description_width": ""
      }
     },
     "c7ca21e8552c457981f0d8735936d82e": {
      "model_module": "@jupyter-widgets/controls",
      "model_module_version": "1.5.0",
      "model_name": "VBoxModel",
      "state": {
       "children": [
        "IPY_MODEL_f07377ec684c42eab3ac134c8faea3a8",
        "IPY_MODEL_8435c70a38384a7f88052b9bd426b581",
        "IPY_MODEL_1c8d3e7aaac64971a4a266539d3b756b"
       ],
       "layout": "IPY_MODEL_a82008b45ff444fe95f91efd8ab2ec06"
      }
     },
     "cc9b051d340e4c9196966854dd255111": {
      "model_module": "@jupyter-widgets/controls",
      "model_module_version": "1.5.0",
      "model_name": "VBoxModel",
      "state": {
       "_dom_classes": [
        "widget-interact"
       ],
       "children": [
        "IPY_MODEL_5b485e107d2f422292d13fdefb9b81d0",
        "IPY_MODEL_5b28b6346ab446af9c24e9044e4ddf89",
        "IPY_MODEL_65c864ed779342ed960078524ab3c060"
       ],
       "layout": "IPY_MODEL_4228218c012c4b2183b44d2bb1353cc3"
      }
     },
     "cd60c3c354ad480f8641818c3e873c8c": {
      "model_module": "@jupyter-widgets/controls",
      "model_module_version": "1.5.0",
      "model_name": "BoundedIntTextModel",
      "state": {
       "description": "Integer:",
       "layout": "IPY_MODEL_51c3194e2e754d32be34a27a48d2d904",
       "max": 200,
       "style": "IPY_MODEL_d22c02858aaf4efcaac79ced1a54494a",
       "value": 10
      }
     },
     "ce87e45ef33e4d2fbd3ef52b199395a1": {
      "model_module": "@jupyter-widgets/controls",
      "model_module_version": "1.5.0",
      "model_name": "DescriptionStyleModel",
      "state": {
       "description_width": ""
      }
     },
     "d22c02858aaf4efcaac79ced1a54494a": {
      "model_module": "@jupyter-widgets/controls",
      "model_module_version": "1.5.0",
      "model_name": "DescriptionStyleModel",
      "state": {
       "description_width": ""
      }
     },
     "d278327f188645258aa14d4fd75bb8f4": {
      "model_module": "@jupyter-widgets/base",
      "model_module_version": "1.2.0",
      "model_name": "LayoutModel",
      "state": {}
     },
     "d3618e8a347442a8a5edfc56c27fb9ba": {
      "model_module": "@jupyter-widgets/base",
      "model_module_version": "1.2.0",
      "model_name": "LayoutModel",
      "state": {}
     },
     "d5490fee49ce44a4a771b2874ff9dbf1": {
      "model_module": "@jupyter-widgets/base",
      "model_module_version": "1.2.0",
      "model_name": "LayoutModel",
      "state": {}
     },
     "d613f8942983490c9f54a2a028bf1149": {
      "model_module": "@jupyter-widgets/controls",
      "model_module_version": "1.5.0",
      "model_name": "DescriptionStyleModel",
      "state": {
       "description_width": ""
      }
     },
     "d75a0ea9bdb940bdbe7209dad82d7e0c": {
      "model_module": "@jupyter-widgets/base",
      "model_module_version": "1.2.0",
      "model_name": "LayoutModel",
      "state": {}
     },
     "db4775e97d7743f7919937558548e0a3": {
      "model_module": "@jupyter-widgets/controls",
      "model_module_version": "1.5.0",
      "model_name": "SelectionSliderModel",
      "state": {
       "_options_labels": [
        "2015-01",
        "2015-02",
        "2015-03",
        "2015-04",
        "2015-05",
        "2015-06",
        "2015-07",
        "2015-08",
        "2015-09",
        "2015-10",
        "2015-11",
        "2015-12",
        "2016-01",
        "2016-02",
        "2016-03",
        "2016-04",
        "2016-05",
        "2016-06",
        "2016-07",
        "2016-08",
        "2016-09",
        "2016-10",
        "2016-11",
        "2016-12",
        "2017-01",
        "2017-02",
        "2017-03",
        "2017-04",
        "2017-05",
        "2017-06",
        "2017-07",
        "2017-08",
        "2017-09",
        "2017-10",
        "2017-11",
        "2017-12",
        "2018-01",
        "2018-02",
        "2018-03",
        "2018-04",
        "2018-05",
        "2018-06",
        "2018-07",
        "2018-08",
        "2018-09",
        "2018-10",
        "2018-11",
        "2018-12",
        "2019-01",
        "2019-02",
        "2019-03",
        "2019-04",
        "2019-05",
        "2019-06",
        "2019-07",
        "2019-08",
        "2019-09",
        "2019-10",
        "2019-11",
        "2019-12"
       ],
       "continuous_update": false,
       "description": "Date",
       "index": 0,
       "layout": "IPY_MODEL_b39f9d20daf4455fbe66d77d3615cf49",
       "style": "IPY_MODEL_f415cea9621f48dbb4e7d3c0f81ecbe2"
      }
     },
     "decb04465fc142da8d9c7257b0ded36b": {
      "model_module": "@jupyter-widgets/base",
      "model_module_version": "1.2.0",
      "model_name": "LayoutModel",
      "state": {}
     },
     "e00d9f4895144937b3216bbf39bd00e9": {
      "model_module": "@jupyter-widgets/output",
      "model_module_version": "1.0.0",
      "model_name": "OutputModel",
      "state": {
       "layout": "IPY_MODEL_18d2404e9925403ea6672f8edf6967d8",
       "outputs": [
        {
         "name": "stdout",
         "output_type": "stream",
         "text": "Complete!     \r"
        }
       ]
      }
     },
     "e02ecb97267244d0868d3557c053aa9b": {
      "model_module": "@jupyter-widgets/controls",
      "model_module_version": "1.5.0",
      "model_name": "VBoxModel",
      "state": {
       "_dom_classes": [
        "widget-interact"
       ],
       "children": [
        "IPY_MODEL_db4775e97d7743f7919937558548e0a3",
        "IPY_MODEL_c442ae89b167492abfa61c9923f63262",
        "IPY_MODEL_488ed8fe062b40ad88891277f2b28c7d",
        "IPY_MODEL_3fd11ed2200b4fea93301e64b279471f"
       ],
       "layout": "IPY_MODEL_5d3db958f4ce46b8b6131c9a9f228eaa"
      }
     },
     "e04cd60e57e945489fce44a527fa18ef": {
      "model_module": "@jupyter-widgets/controls",
      "model_module_version": "1.5.0",
      "model_name": "HTMLModel",
      "state": {
       "layout": "IPY_MODEL_3fbd543c1e024280aebb8f65c486b062",
       "style": "IPY_MODEL_70ab43192b1f4027854d85fa47d1f2e8",
       "value": "<b><font size='2' color='Black'>\nA second display will compose of two word clouds that present the positive and negative words respectively, \nshowcasing the words’ popularity based on its size. \n</b>"
      }
     },
     "e90890881bd441f5a1c9fd20e9f198f7": {
      "model_module": "@jupyter-widgets/base",
      "model_module_version": "1.2.0",
      "model_name": "LayoutModel",
      "state": {}
     },
     "e9d740e69e2a4f5dad22977508f4a3a0": {
      "model_module": "@jupyter-widgets/base",
      "model_module_version": "1.2.0",
      "model_name": "LayoutModel",
      "state": {}
     },
     "ea9f253732e2446ba44e7109c8e75eaa": {
      "model_module": "@jupyter-widgets/base",
      "model_module_version": "1.2.0",
      "model_name": "LayoutModel",
      "state": {}
     },
     "eb083a1fe1624019aea28c8c862dad38": {
      "model_module": "@jupyter-widgets/base",
      "model_module_version": "1.2.0",
      "model_name": "LayoutModel",
      "state": {}
     },
     "eb0ca93276194fc0a0caf94301e0f914": {
      "model_module": "@jupyter-widgets/controls",
      "model_module_version": "1.5.0",
      "model_name": "VBoxModel",
      "state": {
       "children": [
        "IPY_MODEL_352c7079a6dd4fceb6702329d44313f6",
        "IPY_MODEL_3b3c83afdb7e4da3afd222af72e6e0ae",
        "IPY_MODEL_8039a61405f148c99a2dd0dcc46e9314"
       ],
       "layout": "IPY_MODEL_2b7e6c4e4c624bb58d2bbabc1aa8623a"
      }
     },
     "eba0984e70fd40ae97050ec2c77a11b8": {
      "model_module": "@jupyter-widgets/base",
      "model_module_version": "1.2.0",
      "model_name": "LayoutModel",
      "state": {}
     },
     "ec563faf16e347bb9235e7f1e2d75dff": {
      "model_module": "@jupyter-widgets/controls",
      "model_module_version": "1.5.0",
      "model_name": "DropdownModel",
      "state": {
       "_options_labels": [
        "cooking",
        "influencers",
        "gaming"
       ],
       "description": "Genre",
       "index": 0,
       "layout": "IPY_MODEL_bc96012888474fd4abb089316867fb94",
       "style": "IPY_MODEL_75aa24e41b3546c5a8b98b6517bd47ca"
      }
     },
     "eea3640a0c774c00b537dfbc91e1b148": {
      "model_module": "@jupyter-widgets/controls",
      "model_module_version": "1.5.0",
      "model_name": "HTMLModel",
      "state": {
       "layout": "IPY_MODEL_f4a54cf1b6d04ceabbcde0329c0914b7",
       "style": "IPY_MODEL_892a30bc23214fecae80a6be41c08b34",
       "value": "<b><font size='2' color='Black'>How insane is it that sometimes you see the most amazing video on youtube, \nand yet it took nearly a decade for it to be popular? Or a subpar video which hits a \nmillion views within a week? A lot of it has to do with the way you market your content. \nSponsoring advertisements for your posts helps, but it depends heavily on the \ntextual supporting descriptions that you add. And an even deeper question is: what makes certain \nwords more popular than others? What receives more hate by the public? Are certain \ntopics more active during election years or during a pandemic? Fortunately, our platform and tools will figure it out for you\n. We’re trying to create a simple \nplatform which serves as a proof of concept for how sentiment analysis can be extended \nto utility on a daily basis, with a very wide customer demographic.\n</b>"
      }
     },
     "ef1527d7d0aa4227b7f411e56b4d0788": {
      "model_module": "@jupyter-widgets/controls",
      "model_module_version": "1.5.0",
      "model_name": "VBoxModel",
      "state": {
       "_dom_classes": [
        "widget-interact"
       ],
       "children": [
        "IPY_MODEL_db4775e97d7743f7919937558548e0a3",
        "IPY_MODEL_c442ae89b167492abfa61c9923f63262",
        "IPY_MODEL_b70398e5e103448caeff73610604f13b",
        "IPY_MODEL_857c933eeb374a57836f082e8c001c2c"
       ],
       "layout": "IPY_MODEL_6a4dc583cb37474e98dbb186f5ff67c2"
      }
     },
     "efbc25dbe701441c92ff8cf8c983efe0": {
      "model_module": "@jupyter-widgets/controls",
      "model_module_version": "1.5.0",
      "model_name": "VBoxModel",
      "state": {
       "children": [
        "IPY_MODEL_992080c1affb4230b318c41faea60b83",
        "IPY_MODEL_cc9b051d340e4c9196966854dd255111",
        "IPY_MODEL_f7b32b5371aa4e3b8a3f02c57a8120f4"
       ],
       "layout": "IPY_MODEL_1c0952d8182f459ab24bf758c14b19cf"
      }
     },
     "f07377ec684c42eab3ac134c8faea3a8": {
      "model_module": "@jupyter-widgets/controls",
      "model_module_version": "1.5.0",
      "model_name": "HTMLModel",
      "state": {
       "layout": "IPY_MODEL_6414d58f27704fe7971eb15d6a1e564b",
       "style": "IPY_MODEL_ce87e45ef33e4d2fbd3ef52b199395a1",
       "value": "<b><font size='2' color='Black'>\nOur Text Analysis tool will generate word connotations based on the words typed into the textbox.  \nWords will be colored according to its positive or negative sentiment.\n For example, words in red denoting a negative word, words in yellow denoting neutral words and green denoting a positive word. Words that can not be \n decided will remain in black.\n Also, you can select the genre and metric of interest. \n</b>"
      }
     },
     "f0f3f20dd57f4e8aa00f408d65c6d384": {
      "model_module": "@jupyter-widgets/controls",
      "model_module_version": "1.5.0",
      "model_name": "DescriptionStyleModel",
      "state": {
       "description_width": ""
      }
     },
     "f415cea9621f48dbb4e7d3c0f81ecbe2": {
      "model_module": "@jupyter-widgets/controls",
      "model_module_version": "1.5.0",
      "model_name": "DescriptionStyleModel",
      "state": {
       "description_width": ""
      }
     },
     "f443852143b8402e8fae7e08f8bc9a2b": {
      "model_module": "@jupyter-widgets/base",
      "model_module_version": "1.2.0",
      "model_name": "LayoutModel",
      "state": {}
     },
     "f469d2faba7245efa695b16fae0c3c4d": {
      "model_module": "@jupyter-widgets/controls",
      "model_module_version": "1.5.0",
      "model_name": "VBoxModel",
      "state": {
       "children": [
        "IPY_MODEL_56880062f13344c8b313898a83e846e5",
        "IPY_MODEL_39897ea6cbfa46e4bda32957e5f14ee4",
        "IPY_MODEL_e00d9f4895144937b3216bbf39bd00e9"
       ],
       "layout": "IPY_MODEL_f6af84989f5245bda277381dad70e68c"
      }
     },
     "f4a54cf1b6d04ceabbcde0329c0914b7": {
      "model_module": "@jupyter-widgets/base",
      "model_module_version": "1.2.0",
      "model_name": "LayoutModel",
      "state": {}
     },
     "f5d88da42cbc46e082df3b96ef982238": {
      "model_module": "@jupyter-widgets/base",
      "model_module_version": "1.2.0",
      "model_name": "LayoutModel",
      "state": {}
     },
     "f6af84989f5245bda277381dad70e68c": {
      "model_module": "@jupyter-widgets/base",
      "model_module_version": "1.2.0",
      "model_name": "LayoutModel",
      "state": {}
     },
     "f7b32b5371aa4e3b8a3f02c57a8120f4": {
      "model_module": "@jupyter-widgets/output",
      "model_module_version": "1.0.0",
      "model_name": "OutputModel",
      "state": {
       "layout": "IPY_MODEL_89f992934be8443ba1b49ece736b3471",
       "outputs": [
        {
         "name": "stdout",
         "output_type": "stream",
         "text": "Complete!     \r"
        }
       ]
      }
     },
     "f93d20db3256409bb7536912d7e1fa81": {
      "model_module": "@jupyter-widgets/base",
      "model_module_version": "1.2.0",
      "model_name": "LayoutModel",
      "state": {}
     },
     "fa38e33bdead49dda3c9d976d0e5f45b": {
      "model_module": "@jupyter-widgets/controls",
      "model_module_version": "1.5.0",
      "model_name": "TextModel",
      "state": {
       "description": "like",
       "layout": "IPY_MODEL_96a73ec91d20462a9625197e44b12fe8",
       "style": "IPY_MODEL_1d19b94c50e84080b5614af4f49ce6f9",
       "value": "like"
      }
     },
     "fbd342a657e6406eb79992291d87d81f": {
      "model_module": "@jupyter-widgets/controls",
      "model_module_version": "1.5.0",
      "model_name": "SelectionSliderModel",
      "state": {
       "_options_labels": [
        "2015-01",
        "2015-02",
        "2015-03",
        "2015-04",
        "2015-05",
        "2015-06",
        "2015-07",
        "2015-08",
        "2015-09",
        "2015-10",
        "2015-11",
        "2015-12",
        "2016-01",
        "2016-02",
        "2016-03",
        "2016-04",
        "2016-05",
        "2016-06",
        "2016-07",
        "2016-08",
        "2016-09",
        "2016-10",
        "2016-11",
        "2016-12",
        "2017-01",
        "2017-02",
        "2017-03",
        "2017-04",
        "2017-05",
        "2017-06",
        "2017-07",
        "2017-08",
        "2017-09",
        "2017-10",
        "2017-11",
        "2017-12",
        "2018-01",
        "2018-02",
        "2018-03",
        "2018-04",
        "2018-05",
        "2018-06",
        "2018-07",
        "2018-08",
        "2018-09",
        "2018-10",
        "2018-11",
        "2018-12",
        "2019-01",
        "2019-02",
        "2019-03",
        "2019-04",
        "2019-05",
        "2019-06",
        "2019-07",
        "2019-08",
        "2019-09",
        "2019-10",
        "2019-11",
        "2019-12"
       ],
       "continuous_update": false,
       "description": "Date",
       "index": 0,
       "layout": "IPY_MODEL_b694083af6f74431b28d3014560b82a8",
       "style": "IPY_MODEL_c3191931d91043d984338575e8ae6b0f"
      }
     }
    },
    "version_major": 2,
    "version_minor": 0
   }
  }
 },
 "nbformat": 4,
 "nbformat_minor": 4
}
