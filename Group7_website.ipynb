{
 "cells": [
  {
   "cell_type": "markdown",
   "metadata": {},
   "source": [
    "## Group 7 Youtube Content Creator Dashboards "
   ]
  },
  {
   "cell_type": "code",
   "execution_count": 4,
   "metadata": {
    "scrolled": false
   },
   "outputs": [
    {
     "data": {
      "application/vnd.jupyter.widget-view+json": {
       "model_id": "2558a2c6bd6c45d2b67a827c21802b1b",
       "version_major": 2,
       "version_minor": 0
      },
      "text/plain": [
       "AppLayout(children=(VBox(children=(HTML(value=\"<b><font size='5' color='Black'>Youtube Trend over Time</b>\"), …"
      ]
     },
     "metadata": {},
     "output_type": "display_data"
    }
   ],
   "source": [
    "#HIDDEN\n",
    "\n",
    "from ipywidgets import interact, interactive, fixed, interact_manual\n",
    "\n",
    "import ipywidgets as widgets\n",
    "\n",
    "from ipywidgets import FloatSlider\n",
    "\n",
    "from ipywidgets import VBox, HBox, interactive_output\n",
    "\n",
    "from ipywidgets import Dropdown\n",
    "#from matplotlib.image import imread\n",
    "import pickle\n",
    "\n",
    "from matplotlib import pyplot as plt\n",
    "#from matplotlib.pylab import subplots\n",
    "from wordcloud import WordCloud\n",
    "import numpy as np\n",
    "from random import shuffle\n",
    "from ipywidgets import IntSlider, AppLayout, Layout\n",
    "import pandas as pd\n",
    "from matplotlib.image import imread\n",
    "import nltk\n",
    "\n",
    "data = pickle.load(open('data_project.p', 'rb'))\n",
    "# nltk.download('punkt')\n",
    "# SENT_DETECTOR = nltk.data.load('tokenizers/punkt/english.pickle')\n",
    "\n",
    "\n",
    "year_end=2019\n",
    "year_start=2015\n",
    "month=['Jan','Feb','Mar','Apr','May','Jun','Jul','Aug','Sept','Oct','Nov','Dec']\n",
    "start_month=1\n",
    "end_month=(year_end-year_start+1)*12\n",
    "#fsx = IntSlider(min=start_month,max=end_month,step=1,continuous_update=False,description='Time:') #slider of months\n",
    "\n",
    "time_idx=pd.date_range(start=str(year_start)+'0101',end=str(year_end)+'1231',freq='M')\n",
    "fmt='%Y-%m'\n",
    "options = [(item.strftime(fmt),item) for item in time_idx]\n",
    "\n",
    "fsx=widgets.SelectionSlider(\n",
    "            description='Date',\n",
    "            options=options,\n",
    "            continuous_update=False\n",
    "        )\n",
    "\n",
    "status = widgets.Output() #status indicator\n",
    "status2 = widgets.Output() #status indicator for part 2\n",
    "status3 = widgets.Output() #status indicator for part 3\n",
    "#with status:\n",
    "    #print('Please select a date'+'\\r',end='')\n",
    "\n",
    "def fplot(x,Genre):\n",
    "    \"\"\"x : input time\n",
    "     Genre: different topics\"\"\"\n",
    "    #fig,ax=subplots()\n",
    "    #ax.plot(xi,np.sin(2*np.pi*x*xi+y),color=color)\n",
    "    #indicate running\n",
    "    plt.cla()\n",
    "    loading=\"Now loading...\"\n",
    "    plt.axis('off') \n",
    "    plt.text(0.5,0.5,loading)\n",
    "    #load_img=imread('loading_img.jpg')\n",
    "    #plt.imshow(load_img)\n",
    "    #plt.show()\n",
    "    #print(loading+'\\r',end='')\n",
    "    with status:\n",
    "        print('Now loading...'+'\\r',end='')\n",
    "    \n",
    "    data_cloud=data[Genre]\n",
    "    freq=np.array(list(data_cloud.frequency_time))\n",
    "    string = ''\n",
    "    m,n=freq.shape\n",
    "    for i in range(m):\n",
    "        time=str(x).split(' ')[0].split('-')\n",
    "        col=(int(time[0])-year_start)*12+int(time[1])\n",
    "        string=string+(data_cloud.loc[i].words+' ')*(freq[i,col-1])\n",
    "    if string.split()==[]:\n",
    "        \"\"\"if there is no words shown\"\"\"\n",
    "        string='There is no interesting word'\n",
    "        plt.cla()\n",
    "        plt.axis('off') \n",
    "        plt.text(0.5,0.5,string)\n",
    "        #plt.imshow(nointerest_img)\n",
    "        plt.show()       \n",
    "        #print(string)\n",
    "        with status:\n",
    "            print('Complete!     '+'\\r',end='')\n",
    "        return\n",
    "    lis=string.split(' ')\n",
    "    shuffle(lis)\n",
    "    string=' '.join(lis)\n",
    "    wc = WordCloud(\n",
    "               background_color='white',max_words=20,\n",
    "               width=1000,\n",
    "               height=1000,\n",
    "               ).generate(string)  #wordcloud\n",
    "    #wc.to_file('ss.png') \n",
    "    plt.cla()\n",
    "    plt.imshow(wc)  \n",
    "    plt.axis('off') \n",
    "    plt.show()\n",
    "    #print(string)\n",
    "    with status:\n",
    "        print('Complete!     '+'\\r',end='')\n",
    "interactive_plot = interactive(fplot,x=fsx,Genre=['cooking', 'influencers', 'gaming'])\n",
    "#display(interactive_plot)\n",
    "\n",
    "\n",
    "def acrosstime(dis_num,Genre):   \n",
    "    data_cloud=data[Genre]\n",
    "    freq=np.array(list(data_cloud.frequency_time))\n",
    "    freq=np.sum(freq,axis=1)\n",
    "    string = ''\n",
    "    idx=np.argpartition(freq,-dis_num)[-dis_num:]\n",
    "    string=''\n",
    "    for i in idx:\n",
    "        string=string+(data_cloud.loc[i].words+' ')*(freq[i])\n",
    "    if string.split()==[]:\n",
    "        \"\"\"if there is no words shown\"\"\"\n",
    "        string='There is no interesting word'\n",
    "        plt.cla()\n",
    "        plt.axis('off') \n",
    "        plt.text(0.5,0.5,string)\n",
    "        #plt.imshow(nointerest_img)\n",
    "        plt.show()       \n",
    "        #print(string)\n",
    "        return\n",
    "    lis=string.split(' ')\n",
    "    shuffle(lis)\n",
    "    string=' '.join(lis)\n",
    "    wc = WordCloud(\n",
    "               background_color='white',max_words=dis_num,\n",
    "               width=1000,\n",
    "               height=1000,\n",
    "               ).generate(string)  #wordcloud\n",
    "    #wc.to_file('ss.png') \n",
    "    plt.cla()\n",
    "    plt.imshow(wc)  \n",
    "    plt.axis('off') \n",
    "    plt.show()\n",
    "    #print(string)\n",
    "dis_num=widgets.BoundedIntText(\n",
    "    value=10,\n",
    "    min=0,\n",
    "    max=200,\n",
    "    step=1,\n",
    "    description='Integer:',\n",
    "    disabled=False\n",
    ")\n",
    "acrossAlltime=interactive(acrosstime,dis_num=dis_num,Genre=['cooking', 'influencers', 'gaming'])\n",
    "\n",
    "\n",
    "\n",
    "Genre= Dropdown(options=['cooking', 'influencers', 'gaming'])\n",
    "#Fsx = IntSlider(min=start_month,max=end_month,step=1,continuous_update=False,description='Time:')\n",
    "Fsx=widgets.SelectionSlider(\n",
    "            description='Date',\n",
    "            options=options,\n",
    "            continuous_update=False\n",
    "        )\n",
    "loaded={}\n",
    "loaded['like']=0\n",
    "loaded['hate']=0\n",
    "def Fplot(x,Genre,like):\n",
    "    \"\"\"x: input time\n",
    "      Genre: diffenrent topics\n",
    "      like: positive or negative result\"\"\"\n",
    "    #fig,ax=subplots()\n",
    "    #ax.plot(xi,np.sin(2*np.pi*x*xi+y),color=color)\n",
    "    plt.cla()\n",
    "    loading=\"Now loading...\"\n",
    "    plt.axis('off') \n",
    "    plt.text(0.5,0.5,loading)\n",
    "    if loaded['like']==0 and loaded['hate']==0:\n",
    "        with status2:\n",
    "            print('Now loading...'+'\\r',end='')\n",
    "    \n",
    "    data_cloud=data[Genre]\n",
    "    if like=='like':\n",
    "        data_cloud=data_cloud[data_cloud.polarity>0]#data_cloud[data_cloud.likes_mean >= data_cloud.dislikes_mean]\n",
    "    elif like=='hate':\n",
    "        data_cloud=data_cloud[data_cloud.polarity<=0]\n",
    "    data_cloud=data_cloud.reset_index()\n",
    "    freq=np.array(list(data_cloud.frequency_time))\n",
    "    string = ''\n",
    "    if freq.shape==(0,):\n",
    "        string='There is no interesting word'\n",
    "        plt.cla()\n",
    "        plt.axis('off') \n",
    "        plt.text(0.5,0.5,string)\n",
    "        #print(string)\n",
    "        loaded[like]=1\n",
    "        if loaded['like']==1 and loaded['hate']==1:\n",
    "            with status2:\n",
    "                print('Complete!     '+'\\r',end='')\n",
    "            loaded['like']=0\n",
    "            loaded['hate']=0\n",
    "        return\n",
    "        \n",
    "    m,n=freq.shape\n",
    "    for i in range(m):\n",
    "        time=str(x).split(' ')[0].split('-')\n",
    "        col=(int(time[0])-year_start)*12+int(time[1])\n",
    "        string=string+(data_cloud.loc[i].words+' ')*(freq[i,col-1])\n",
    "    if string.split()==[]:\n",
    "        \"\"\"if there is no words shown\"\"\"\n",
    "        string='There is no interesting word'\n",
    "        plt.cla()\n",
    "        plt.axis('off') \n",
    "        plt.text(0.5,0.5,string)\n",
    "        #print(string)\n",
    "        loaded[like]=1\n",
    "        if loaded['like']==1 and loaded['hate']==1:\n",
    "            with status2:\n",
    "                print('Complete!     '+'\\r',end='')\n",
    "            loaded['like']=0\n",
    "            loaded['hate']=0\n",
    "        return\n",
    "    lis=string.split(' ')\n",
    "    shuffle(lis)\n",
    "    string=' '.join(lis)\n",
    "    wc = WordCloud(\n",
    "               background_color='white',max_words=20,\n",
    "               width=1000,\n",
    "               height=1000,\n",
    "               ).generate(string)  #wordcloud\n",
    "    #wc.to_file('ss.png') \n",
    "    plt.cla()\n",
    "    plt.imshow(wc)  \n",
    "    plt.axis('off') \n",
    "    plt.show()\n",
    "    #print(string)\n",
    "    loaded[like]=1\n",
    "    if loaded['like']==1 and loaded['hate']==1:\n",
    "        with status2:\n",
    "            print('Complete!     '+'\\r',end='')\n",
    "        loaded['like']=0\n",
    "        loaded['hate']=0\n",
    "#l = widgets.link((sliders1, 'value'), (slider2, 'value'))\n",
    "interactive_plot_like = interactive(Fplot,x=Fsx,Genre=Genre,like='like')\n",
    "interactive_plot_hate=interactive(Fplot,x=Fsx,Genre=Genre,like='hate')\n",
    "#display(HBox([interactive_plot_like,interactive_plot_hate ]))\n",
    "\n",
    "\n",
    "def analyze_text(text, genre, metric):\n",
    "    '''\n",
    "    Purpose: \n",
    "    Analyze the given text and produce color labels for the words as well as generate an overall score based on the\n",
    "    given genre and metric\n",
    "    \n",
    "    Input:\n",
    "    text = str; scalar depicting the text that needs to be analyzed\n",
    "    genre = str; scalar depicting the genre of the content: \"cooking\", \"gaming\", \"influencers\"\n",
    "    metric = str; scalar depicting the metric to base the analysis on: \"likes_mean\", \"likes_median\",\n",
    "             \"dislikes_mean\", \"dislikes_median\", \"views_mean\", \"views_median\", \"polarity\", \"subjectivity\"\n",
    "    \n",
    "    Output:\n",
    "    analysis = list; a list with the same number of elements as number of words in given text, with each\n",
    "               corresponding element being the color for that word: \"red\" means bad, \"yellow\" means okay, \"green\"\n",
    "               means good and \"white\" means \"Not found\" (in database)\n",
    "    score_avg = float; average value of the score: float or \"Not applicable\" (if none of the words matched the\n",
    "                database)\n",
    "               \n",
    "    '''\n",
    "    from textblob import TextBlob\n",
    "    import pickle\n",
    "    pickle.load(open('data_project.p', 'rb'))\n",
    "    Blob = TextBlob(text)\n",
    "    scores = []\n",
    "    df_genre = data[genre]\n",
    "    score_avg = 0\n",
    "    counter = 0\n",
    "    for word in list(Blob.words):\n",
    "        if word in list(df_genre.words):\n",
    "            word_index = df_genre.words[df_genre.words==word].index[0]\n",
    "            scores.append(df_genre[metric][word_index])\n",
    "            score_avg += df_genre[metric][word_index]\n",
    "            counter += 1\n",
    "        else:\n",
    "            scores.append(\"Not found\")\n",
    "    if counter > 0:\n",
    "        score_avg = score_avg/counter\n",
    "    else:\n",
    "        score_avg = \"Not Applicable\"\n",
    "    intervals = [df_genre[metric].mean()-df_genre[metric].std(), df_genre[metric].mean()+df_genre[metric].std()]\n",
    "    analysis = []\n",
    "    for score in scores:\n",
    "        if score==\"Not found\":\n",
    "            analysis.append(\"white\")\n",
    "            continue\n",
    "        if score<=intervals[0]:\n",
    "            analysis.append(\"red\")\n",
    "        elif score>intervals[0] and score<=intervals[1]:\n",
    "            analysis.append(\"yellow\");\n",
    "        elif score>intervals[1]:\n",
    "            analysis.append(\"green\")\n",
    "    return analysis, score_avg\n",
    "w=widgets.Textarea(\n",
    "    value='',\n",
    "    placeholder='Type to analyze',\n",
    "    description='Text box:',\n",
    "    disabled=False,\n",
    "    continuous_update=False\n",
    ")\n",
    "def color_changer(x,Genre,Metric):\n",
    "    with status3:\n",
    "        print('Now loading...'+'\\r',end='')\n",
    "    categorization, overall_score = analyze_text(x,Genre,Metric)\n",
    "    words = x.split()\n",
    "    for word in words:\n",
    "        color,score = analyze_text(word,Genre,Metric)\n",
    "        if color[0] == \"red\":\n",
    "            print('\\033[31m %s' %word, end = \"\")\n",
    "        elif color[0] == \"yellow\":\n",
    "            print('\\033[33m %s' %word, end = \"\")\n",
    "        elif color[0] == \"green\":\n",
    "            print('\\033[32m %s' %word, end = \"\")\n",
    "        else:\n",
    "            print('\\033[37m %s' %word, end = \"\")\n",
    "    with status3:\n",
    "        print('Complete!     '+'\\r',end='')\n",
    "box = interactive(color_changer,x=w,Genre=['cooking', 'influencers', 'gaming'],Metric=[\"likes_mean\", \"likes_median\",\n",
    "             \"dislikes_mean\", \"dislikes_median\", \"views_mean\", \"views_median\", \"polarity\", \"subjectivity\"])\n",
    "\n",
    "\n",
    "\n",
    "\n",
    "#description of all three parts\n",
    "descrip_part1=\"\"\"\n",
    "In this part, you can use our tools to create a word cloud of popular words in different time periods. Size of a word will be based on\n",
    "its popularity. \n",
    " We also provide you with different genres to choose. You can check the popular words within the genre you have interest in.\n",
    " The time will be in a month and year format that the user can toggle with the slider and see how the word cloud changes over time.\n",
    "\"\"\"\n",
    "descrip_part2=\"\"\"\n",
    "A second display will compose of two word clouds that present the positive and negative words respectively, \n",
    "showcasing the words’ popularity based on its size. \n",
    "\"\"\"\n",
    "descrip_part3=\"\"\"\n",
    "Our Text Analysis tool will generate word connotations based on the words typed into the textbox.  \n",
    "Words will be colored according to its positive or negative sentiment.\n",
    " For example, words in red denoting a negative word, words in yellow denoting neutral words and green denoting a positive word. Words that can not be \n",
    " decided will remain in black.\n",
    " Also, you can select the genre and metric of interest. \n",
    "\"\"\"\n",
    "Descrip_part1=widgets.HTML(value = f\"<b><font size='2' color='Black'>{descrip_part1}</b>\")\n",
    "Descrip_part2=widgets.HTML(value = f\"<b><font size='2' color='Black'>{descrip_part2}</b>\")\n",
    "Descrip_part3=widgets.HTML(value = f\"<b><font size='2' color='Black'>{descrip_part3}</b>\")\n",
    "\n",
    "\n",
    "\n",
    "\n",
    "\n",
    "tab = widgets.Tab()\n",
    "tab.children = [VBox([Descrip_part1,interactive_plot,status]),acrossAlltime]\n",
    "tab.set_title(0, 'Popular Keywords VS Month')\n",
    "tab.set_title(1, 'Popular Keywords across all time')\n",
    "\n",
    "\n",
    "#container for the main interface\n",
    "\n",
    "\n",
    "\n",
    "\n",
    "accordion = widgets.Accordion(children=[VBox([Descrip_part1,interactive_plot,status]),\n",
    "                                        VBox([Descrip_part2,\n",
    "                                              HBox([interactive_plot_like,interactive_plot_hate ]),status2]),\n",
    "                                        VBox([Descrip_part3,box,status3])])\n",
    "accordion.set_title(0, 'Popular Keywords over Time')\n",
    "accordion.set_title(1, 'Likes&Dislikes over Time ')\n",
    "accordion.set_title(2, 'Text Analysis ')\n",
    "\n",
    "\n",
    "\n",
    "title = 'Youtube Trend over Time'\n",
    "Title = widgets.HTML(value = f\"<b><font size='5' color='Black'>{title}</b>\")\n",
    "descrip=\"\"\"How insane is it that sometimes you see the most amazing video on youtube, \n",
    "and yet it took nearly a decade for it to be popular? Or a subpar video which hits a \n",
    "million views within a week? A lot of it has to do with the way you market your content. \n",
    "Sponsoring advertisements for your posts helps, but it depends heavily on the \n",
    "textual supporting descriptions that you add. And an even deeper question is: what makes certain \n",
    "words more popular than others? What receives more hate by the public? Are certain \n",
    "topics more active during election years or during a pandemic? Fortunately, our platform and tools will figure it out for you\n",
    ". We’re trying to create a simple \n",
    "platform which serves as a proof of concept for how sentiment analysis can be extended \n",
    "to utility on a daily basis, with a very wide customer demographic.\n",
    "\"\"\"\n",
    "Descrip=widgets.HTML(value = f\"<b><font size='2' color='Black'>{descrip}</b>\")\n",
    "AppLayout(header=VBox([Title,Descrip]),\n",
    "          left_sidebar=None,\n",
    "          center=accordion,\n",
    "          right_sidebar=None,\n",
    "          footer=None)\n",
    "          \n",
    "          #widgets.IntSlider(description='c',\n",
    "                                   #layout=Layout(height='auto', width='auto')))"
   ]
  },
  {
   "cell_type": "code",
   "execution_count": null,
   "metadata": {},
   "outputs": [],
   "source": []
  }
 ],
 "metadata": {
  "kernelspec": {
   "display_name": "Python 3.6.9 64-bit ('keras': conda)",
   "language": "python",
   "name": "python36964bitkerasconda8290334058c3475a95a8e6d06e02066d"
  },
  "language_info": {
   "codemirror_mode": {
    "name": "ipython",
    "version": 3
   },
   "file_extension": ".py",
   "mimetype": "text/x-python",
   "name": "python",
   "nbconvert_exporter": "python",
   "pygments_lexer": "ipython3",
   "version": "3.6.9"
  },
  "widgets": {
   "application/vnd.jupyter.widget-state+json": {
    "state": {
     "00e633edf9d0479abed0d86ad10c0d35": {
      "model_module": "@jupyter-widgets/base",
      "model_module_version": "1.2.0",
      "model_name": "LayoutModel",
      "state": {}
     },
     "0127d1eed761488891e1864c6da12710": {
      "model_module": "@jupyter-widgets/base",
      "model_module_version": "1.2.0",
      "model_name": "LayoutModel",
      "state": {}
     },
     "01cb9ee5008a46f59f2bcc086ba78653": {
      "model_module": "@jupyter-widgets/controls",
      "model_module_version": "1.5.0",
      "model_name": "DescriptionStyleModel",
      "state": {
       "description_width": ""
      }
     },
     "021b0a25650d4ac4b3ef8b89a2b714b2": {
      "model_module": "@jupyter-widgets/base",
      "model_module_version": "1.2.0",
      "model_name": "LayoutModel",
      "state": {}
     },
     "025bf0716fdd4236a5d531860bcb3ecc": {
      "model_module": "@jupyter-widgets/base",
      "model_module_version": "1.2.0",
      "model_name": "LayoutModel",
      "state": {}
     },
     "0281b69488d64dc586754bd904363863": {
      "model_module": "@jupyter-widgets/controls",
      "model_module_version": "1.5.0",
      "model_name": "VBoxModel",
      "state": {
       "children": [
        "IPY_MODEL_4c41f2ca9a2843388d367b88dfe3248d",
        "IPY_MODEL_36a3589bf06f4c41a297ab40ece492db",
        "IPY_MODEL_1f676ab53c974871a122f1b97ca5815e"
       ],
       "layout": "IPY_MODEL_38a0eb4f433b43a8b5d201aa70380263"
      }
     },
     "02a545e045434859b9c19bf4cb18a1ab": {
      "model_module": "@jupyter-widgets/controls",
      "model_module_version": "1.5.0",
      "model_name": "DescriptionStyleModel",
      "state": {
       "description_width": ""
      }
     },
     "0314dfdd96f74b28a65a7cd7b5cb1c96": {
      "model_module": "@jupyter-widgets/controls",
      "model_module_version": "1.5.0",
      "model_name": "DescriptionStyleModel",
      "state": {
       "description_width": ""
      }
     },
     "04858cb91db1485aaeecd9dd48c91114": {
      "model_module": "@jupyter-widgets/base",
      "model_module_version": "1.2.0",
      "model_name": "LayoutModel",
      "state": {}
     },
     "05095101551b421f9913856a1bcc21cc": {
      "model_module": "@jupyter-widgets/controls",
      "model_module_version": "1.5.0",
      "model_name": "VBoxModel",
      "state": {
       "children": [
        "IPY_MODEL_5de7cbbb88cb479b88815ef1245fe529",
        "IPY_MODEL_7f6bf1d8d2524de8bf0d623281d9a61c",
        "IPY_MODEL_e653bd1508c44d8db24d081b610f5149"
       ],
       "layout": "IPY_MODEL_1e67b625cea44f068db2ae77c00f958a"
      }
     },
     "05360d73fcfe4133a608334d6067a738": {
      "model_module": "@jupyter-widgets/controls",
      "model_module_version": "1.5.0",
      "model_name": "DescriptionStyleModel",
      "state": {
       "description_width": ""
      }
     },
     "05a033cff8c9401cb8dc869e4da7ca6c": {
      "model_module": "@jupyter-widgets/controls",
      "model_module_version": "1.5.0",
      "model_name": "TextModel",
      "state": {
       "description": "like",
       "layout": "IPY_MODEL_a0b11516036d46db8a5cd7979844e242",
       "style": "IPY_MODEL_a336bd3c20fb4b94a1c3f95909c5ef86",
       "value": "like"
      }
     },
     "0651da36f04c4ea48641a37c6ce43d4d": {
      "model_module": "@jupyter-widgets/controls",
      "model_module_version": "1.5.0",
      "model_name": "DropdownModel",
      "state": {
       "_options_labels": [
        "cooking",
        "influencers",
        "gaming"
       ],
       "description": "Genre",
       "index": 0,
       "layout": "IPY_MODEL_734885f872d04705a6bde5c42eb8043d",
       "style": "IPY_MODEL_36e41af1c29c40038d76c3be2ab19b89"
      }
     },
     "069adfad37154556baf1a04baa9fd0f2": {
      "model_module": "@jupyter-widgets/controls",
      "model_module_version": "1.5.0",
      "model_name": "DescriptionStyleModel",
      "state": {
       "description_width": ""
      }
     },
     "09163c1ad3e240d98a124ca2908b53c2": {
      "model_module": "@jupyter-widgets/controls",
      "model_module_version": "1.5.0",
      "model_name": "DescriptionStyleModel",
      "state": {
       "description_width": ""
      }
     },
     "0975d5b50ef34e7e84b07b57999a8c11": {
      "model_module": "@jupyter-widgets/base",
      "model_module_version": "1.2.0",
      "model_name": "LayoutModel",
      "state": {}
     },
     "0a1e7108d6cf4731afb99209d02583fb": {
      "model_module": "@jupyter-widgets/controls",
      "model_module_version": "1.5.0",
      "model_name": "HTMLModel",
      "state": {
       "layout": "IPY_MODEL_0f1a684a6bf74a399ae6ba63d4a6f17a",
       "style": "IPY_MODEL_29287423a44646c79486926f17811ccc",
       "value": "<b><font size='5' color='Black'>Youtube Trend over Time</b>"
      }
     },
     "0ba806cc19d44743b7aa539a36b6a0cb": {
      "model_module": "@jupyter-widgets/base",
      "model_module_version": "1.2.0",
      "model_name": "LayoutModel",
      "state": {
       "grid_area": "header"
      }
     },
     "0be4194e286b43f3a03454644c909c63": {
      "model_module": "@jupyter-widgets/base",
      "model_module_version": "1.2.0",
      "model_name": "LayoutModel",
      "state": {}
     },
     "0c518eff4d674d0baa42f26e444db029": {
      "model_module": "@jupyter-widgets/output",
      "model_module_version": "1.0.0",
      "model_name": "OutputModel",
      "state": {
       "layout": "IPY_MODEL_43a8d3865994413d8103efa0adfb05ce",
       "outputs": [
        {
         "data": {
          "image/png": "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\n",
          "text/plain": "<Figure size 432x288 with 1 Axes>"
         },
         "metadata": {
          "needs_background": "light"
         },
         "output_type": "display_data"
        }
       ]
      }
     },
     "0cc2a71e19194f76aa150373e2ee6515": {
      "model_module": "@jupyter-widgets/output",
      "model_module_version": "1.0.0",
      "model_name": "OutputModel",
      "state": {
       "layout": "IPY_MODEL_4d23a9cd421e4a31942ed9678f8564f6"
      }
     },
     "0cc30e17774f48b68bea2a27cf33fe66": {
      "model_module": "@jupyter-widgets/controls",
      "model_module_version": "1.5.0",
      "model_name": "DropdownModel",
      "state": {
       "_options_labels": [
        "likes_mean",
        "likes_median",
        "dislikes_mean",
        "dislikes_median",
        "views_mean",
        "views_median",
        "polarity",
        "subjectivity"
       ],
       "description": "Metric",
       "index": 0,
       "layout": "IPY_MODEL_f21be44a04684c7eaa783a05699b7192",
       "style": "IPY_MODEL_773b523c20724cc59550a94fd06eecbd"
      }
     },
     "0cc529b6eaaa4d2781c621de3c58d801": {
      "model_module": "@jupyter-widgets/controls",
      "model_module_version": "1.5.0",
      "model_name": "HBoxModel",
      "state": {
       "children": [
        "IPY_MODEL_e09072d763a04c4d9b7661343ac68f1a",
        "IPY_MODEL_5a71d84cb65340bf8cdf23148c8c0376"
       ],
       "layout": "IPY_MODEL_adc6321c9dca4b7198c58f96be3f1ba6"
      }
     },
     "0efd06c19b4449a1adcf7d299f518a87": {
      "model_module": "@jupyter-widgets/controls",
      "model_module_version": "1.5.0",
      "model_name": "DescriptionStyleModel",
      "state": {
       "description_width": ""
      }
     },
     "0f1a684a6bf74a399ae6ba63d4a6f17a": {
      "model_module": "@jupyter-widgets/base",
      "model_module_version": "1.2.0",
      "model_name": "LayoutModel",
      "state": {}
     },
     "0fe594a23d564c20b7b63b4ae83bd488": {
      "model_module": "@jupyter-widgets/base",
      "model_module_version": "1.2.0",
      "model_name": "LayoutModel",
      "state": {}
     },
     "1011265bb2334a9eb32e4876aa66493d": {
      "model_module": "@jupyter-widgets/base",
      "model_module_version": "1.2.0",
      "model_name": "LayoutModel",
      "state": {}
     },
     "10839938cc1d4db9944aa81a9fc5001b": {
      "model_module": "@jupyter-widgets/base",
      "model_module_version": "1.2.0",
      "model_name": "LayoutModel",
      "state": {}
     },
     "10b35f00b6aa4a7aaf3dda12775d2000": {
      "model_module": "@jupyter-widgets/controls",
      "model_module_version": "1.5.0",
      "model_name": "DescriptionStyleModel",
      "state": {
       "description_width": ""
      }
     },
     "10fb8efc6acf4366bc7ee353c965aefc": {
      "model_module": "@jupyter-widgets/controls",
      "model_module_version": "1.5.0",
      "model_name": "DescriptionStyleModel",
      "state": {
       "description_width": ""
      }
     },
     "112c48d00b134db6929d919e7e8b77cf": {
      "model_module": "@jupyter-widgets/base",
      "model_module_version": "1.2.0",
      "model_name": "LayoutModel",
      "state": {}
     },
     "121fef73cc014ad1bbda81a3d3b98a32": {
      "model_module": "@jupyter-widgets/base",
      "model_module_version": "1.2.0",
      "model_name": "LayoutModel",
      "state": {}
     },
     "14212520174e45f5ba8d382b6a8434a4": {
      "model_module": "@jupyter-widgets/controls",
      "model_module_version": "1.5.0",
      "model_name": "DescriptionStyleModel",
      "state": {
       "description_width": ""
      }
     },
     "161c423d53714eaab65732da4aeccf6e": {
      "model_module": "@jupyter-widgets/output",
      "model_module_version": "1.0.0",
      "model_name": "OutputModel",
      "state": {
       "layout": "IPY_MODEL_533a11ab2b2a454fa695a2b33667b896",
       "outputs": [
        {
         "name": "stdout",
         "output_type": "stream",
         "text": "Complete!     \r"
        }
       ]
      }
     },
     "16779d0055ad4a6bba1203034d77a346": {
      "model_module": "@jupyter-widgets/controls",
      "model_module_version": "1.5.0",
      "model_name": "VBoxModel",
      "state": {
       "children": [
        "IPY_MODEL_ab9702c822694d14b6743580b6ef74e1",
        "IPY_MODEL_767336f9f68d4021b22361545670b316",
        "IPY_MODEL_3a017bc5845641b582769f15d947a476"
       ],
       "layout": "IPY_MODEL_3591c42374964b3999339a94aa38202b"
      }
     },
     "173ade8c0cdc4644a1220d2b29ede5dc": {
      "model_module": "@jupyter-widgets/controls",
      "model_module_version": "1.5.0",
      "model_name": "DescriptionStyleModel",
      "state": {
       "description_width": ""
      }
     },
     "19d987d02c3f495e8a11d26d4469bce3": {
      "model_module": "@jupyter-widgets/output",
      "model_module_version": "1.0.0",
      "model_name": "OutputModel",
      "state": {
       "layout": "IPY_MODEL_d54f3616928246f1810f7d56c0ed02c2",
       "outputs": [
        {
         "data": {
          "image/png": "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\n",
          "text/plain": "<Figure size 432x288 with 1 Axes>"
         },
         "metadata": {
          "needs_background": "light"
         },
         "output_type": "display_data"
        }
       ]
      }
     },
     "19eeccf022b64e9d83763e54af8854ec": {
      "model_module": "@jupyter-widgets/controls",
      "model_module_version": "1.5.0",
      "model_name": "TextareaModel",
      "state": {
       "continuous_update": false,
       "description": "Text box:",
       "layout": "IPY_MODEL_9a161c040c30490a8b3306a980d00428",
       "placeholder": "Type to analyze",
       "style": "IPY_MODEL_5568ce0b4717489abd0e635be5963fe5"
      }
     },
     "1a1388be509f403c8cf40d085a70e940": {
      "model_module": "@jupyter-widgets/base",
      "model_module_version": "1.2.0",
      "model_name": "LayoutModel",
      "state": {}
     },
     "1a520462c521445390becdaec5fcbd44": {
      "model_module": "@jupyter-widgets/output",
      "model_module_version": "1.0.0",
      "model_name": "OutputModel",
      "state": {
       "layout": "IPY_MODEL_bd33186de39740f89510188b06ffde16"
      }
     },
     "1b322a3169b142cd896d75d058bc4de1": {
      "model_module": "@jupyter-widgets/output",
      "model_module_version": "1.0.0",
      "model_name": "OutputModel",
      "state": {
       "layout": "IPY_MODEL_829adc490cba41b98ffb72fb15c1d8b7",
       "outputs": [
        {
         "data": {
          "image/png": "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\n",
          "text/plain": "<Figure size 432x288 with 1 Axes>"
         },
         "metadata": {
          "needs_background": "light"
         },
         "output_type": "display_data"
        }
       ]
      }
     },
     "1be0bda1f06f4d46a6f8a10e62ce1865": {
      "model_module": "@jupyter-widgets/controls",
      "model_module_version": "1.5.0",
      "model_name": "DropdownModel",
      "state": {
       "_options_labels": [
        "cooking",
        "influencers",
        "gaming"
       ],
       "description": "Genre",
       "index": 0,
       "layout": "IPY_MODEL_9b6032f9615747d2bababf59c541d325",
       "style": "IPY_MODEL_e8438bceb588483099baa0fc8c5b8bd7"
      }
     },
     "1c299431a1ec47c8940fbc4704add6b2": {
      "model_module": "@jupyter-widgets/controls",
      "model_module_version": "1.5.0",
      "model_name": "DescriptionStyleModel",
      "state": {
       "description_width": ""
      }
     },
     "1da1076a69074dc297dfb7cd1b05348d": {
      "model_module": "@jupyter-widgets/controls",
      "model_module_version": "1.5.0",
      "model_name": "HTMLModel",
      "state": {
       "layout": "IPY_MODEL_447b31e9b7ae4c919ed9bd3cd189cd88",
       "style": "IPY_MODEL_dd77bd20262d401cb4e47668ac4a1963",
       "value": "<b><font size='2' color='Black'>\nIn this part, you can use our tools to create a word cloud of popular words in different time periods. Size of a word will be based on\nits popularity. \n We also provide you with different genres to choose. You can check the popular words within the genre you have interest in.\n The time will be in a month and year format that the user can toggle with the slider and see how the word cloud changes over time.\n</b>"
      }
     },
     "1dde46987ac4438a80a479a02404889e": {
      "model_module": "@jupyter-widgets/base",
      "model_module_version": "1.2.0",
      "model_name": "LayoutModel",
      "state": {}
     },
     "1de8f9a600694f478661ffced8a38598": {
      "model_module": "@jupyter-widgets/base",
      "model_module_version": "1.2.0",
      "model_name": "LayoutModel",
      "state": {}
     },
     "1e67b625cea44f068db2ae77c00f958a": {
      "model_module": "@jupyter-widgets/base",
      "model_module_version": "1.2.0",
      "model_name": "LayoutModel",
      "state": {}
     },
     "1f676ab53c974871a122f1b97ca5815e": {
      "model_module": "@jupyter-widgets/output",
      "model_module_version": "1.0.0",
      "model_name": "OutputModel",
      "state": {
       "layout": "IPY_MODEL_70056f0f9d0a4f4f942818a99ee64072",
       "outputs": [
        {
         "name": "stdout",
         "output_type": "stream",
         "text": "Complete!     \r"
        }
       ]
      }
     },
     "1f753e26b490473eb3f14a5c784cdb2e": {
      "model_module": "@jupyter-widgets/controls",
      "model_module_version": "1.5.0",
      "model_name": "TextareaModel",
      "state": {
       "continuous_update": false,
       "description": "Text box:",
       "layout": "IPY_MODEL_f96c25cef84541a99601a4dbe74ea5e5",
       "placeholder": "Type to analyze",
       "style": "IPY_MODEL_6ef9f228af2b4487a98bdfb278252935"
      }
     },
     "2051dd74a3374f66aacde11c47b1efe3": {
      "model_module": "@jupyter-widgets/base",
      "model_module_version": "1.2.0",
      "model_name": "LayoutModel",
      "state": {}
     },
     "214fe5b84a494fcd8629def7e1a18fd5": {
      "model_module": "@jupyter-widgets/base",
      "model_module_version": "1.2.0",
      "model_name": "LayoutModel",
      "state": {}
     },
     "22260baf98c24a86970886dd64a526bf": {
      "model_module": "@jupyter-widgets/controls",
      "model_module_version": "1.5.0",
      "model_name": "HTMLModel",
      "state": {
       "layout": "IPY_MODEL_54dfbe55168f4cf7a1d89fa2fe0c4a00",
       "style": "IPY_MODEL_db4c0c45e7ca44b599f8ee4c52159a0d",
       "value": "<b><font size='2' color='Black'>How insane is it that sometimes you see the most amazing video on youtube, \nand yet it took nearly a decade for it to be popular? Or a subpar video which hits a \nmillion views within a week? A lot of it has to do with the way you market your content. \nSponsoring advertisements for your posts helps, but it depends heavily on the \ntextual supporting descriptions that you add. And an even deeper question is: what makes certain \nwords more popular than others? What receives more hate by the public? Are certain \ntopics more active during election years or during a pandemic? Fortunately, our platform and tools will figure it out for you\n. We’re trying to create a simple \nplatform which serves as a proof of concept for how sentiment analysis can be extended \nto utility on a daily basis, with a very wide customer demographic.\n</b>"
      }
     },
     "2276a5d48ba6406eb9bab277ba2bb23c": {
      "model_module": "@jupyter-widgets/controls",
      "model_module_version": "1.5.0",
      "model_name": "DescriptionStyleModel",
      "state": {
       "description_width": ""
      }
     },
     "23f84d003ee34fbfaf4daf34657fd014": {
      "model_module": "@jupyter-widgets/base",
      "model_module_version": "1.2.0",
      "model_name": "LayoutModel",
      "state": {}
     },
     "2558a2c6bd6c45d2b67a827c21802b1b": {
      "model_module": "@jupyter-widgets/controls",
      "model_module_version": "1.5.0",
      "model_name": "GridBoxModel",
      "state": {
       "children": [
        "IPY_MODEL_a38cdae1b16844eb94aaeb85c4392d83",
        "IPY_MODEL_cef5f3594f4a44049c5f56019bbe9c26"
       ],
       "layout": "IPY_MODEL_27ae55b95035463ab617b3830be4637c"
      }
     },
     "270bf59116634899a17c890e7ca93851": {
      "model_module": "@jupyter-widgets/base",
      "model_module_version": "1.2.0",
      "model_name": "LayoutModel",
      "state": {}
     },
     "27669550f40f46b0aac485a62d5e86ca": {
      "model_module": "@jupyter-widgets/controls",
      "model_module_version": "1.5.0",
      "model_name": "HTMLModel",
      "state": {
       "layout": "IPY_MODEL_121fef73cc014ad1bbda81a3d3b98a32",
       "style": "IPY_MODEL_d976bf2118cf4c3598b4acbd5fae3936",
       "value": "<b><font size='2' color='Black'>\nA second display will compose of two word clouds that present the positive and negative words respectively, \nshowcasing the words’ popularity based on its size. \n</b>"
      }
     },
     "27ae55b95035463ab617b3830be4637c": {
      "model_module": "@jupyter-widgets/base",
      "model_module_version": "1.2.0",
      "model_name": "LayoutModel",
      "state": {
       "grid_template_areas": "\"header header header\"\n\"center center center\"",
       "grid_template_columns": "1fr 2fr 1fr",
       "grid_template_rows": "1fr 3fr"
      }
     },
     "27cc694547fc44f5861b75777b2f0205": {
      "model_module": "@jupyter-widgets/controls",
      "model_module_version": "1.5.0",
      "model_name": "DropdownModel",
      "state": {
       "_options_labels": [
        "cooking",
        "influencers",
        "gaming"
       ],
       "description": "Genre",
       "index": 0,
       "layout": "IPY_MODEL_858e53cdde7a41c39bfa619b62739bd9",
       "style": "IPY_MODEL_cc54f86922bf4d9cae3c43dc9f852eab"
      }
     },
     "292671b59adc4312a26c0018fdfe8537": {
      "model_module": "@jupyter-widgets/controls",
      "model_module_version": "1.5.0",
      "model_name": "VBoxModel",
      "state": {
       "_dom_classes": [
        "widget-interact"
       ],
       "children": [
        "IPY_MODEL_57ff9735031a4529800ae9ebd67ec214",
        "IPY_MODEL_0651da36f04c4ea48641a37c6ce43d4d",
        "IPY_MODEL_05a033cff8c9401cb8dc869e4da7ca6c",
        "IPY_MODEL_4e3fffac29a847338e869738bb9ae395"
       ],
       "layout": "IPY_MODEL_436a75e5650148f5a445fc2504f74dae"
      }
     },
     "29287423a44646c79486926f17811ccc": {
      "model_module": "@jupyter-widgets/controls",
      "model_module_version": "1.5.0",
      "model_name": "DescriptionStyleModel",
      "state": {
       "description_width": ""
      }
     },
     "29291fe733b84e59876359c568b3338c": {
      "model_module": "@jupyter-widgets/controls",
      "model_module_version": "1.5.0",
      "model_name": "HTMLModel",
      "state": {
       "layout": "IPY_MODEL_7f76676257554e45ae00427e2d27f9dc",
       "style": "IPY_MODEL_069adfad37154556baf1a04baa9fd0f2",
       "value": "<b><font size='5' color='Black'>Youtube Trend over Time</b>"
      }
     },
     "29a301b2b8ba45c8a259e4ce4b732005": {
      "model_module": "@jupyter-widgets/base",
      "model_module_version": "1.2.0",
      "model_name": "LayoutModel",
      "state": {}
     },
     "29d14e31fe264b6eac15abc37d624204": {
      "model_module": "@jupyter-widgets/base",
      "model_module_version": "1.2.0",
      "model_name": "LayoutModel",
      "state": {}
     },
     "2ad3090fae0b4b59abe8fcfb30dbda7b": {
      "model_module": "@jupyter-widgets/output",
      "model_module_version": "1.0.0",
      "model_name": "OutputModel",
      "state": {
       "layout": "IPY_MODEL_214fe5b84a494fcd8629def7e1a18fd5",
       "outputs": [
        {
         "name": "stdout",
         "output_type": "stream",
         "text": "Complete!     \r"
        }
       ]
      }
     },
     "2b2cd7eb649d487695a7da7d6c55bc2d": {
      "model_module": "@jupyter-widgets/controls",
      "model_module_version": "1.5.0",
      "model_name": "VBoxModel",
      "state": {
       "children": [
        "IPY_MODEL_79ca520e0c8f463c99ffdfb5aa7d6752",
        "IPY_MODEL_54c1dfd52bd449ed97aed12d549e01a4",
        "IPY_MODEL_161c423d53714eaab65732da4aeccf6e"
       ],
       "layout": "IPY_MODEL_0be4194e286b43f3a03454644c909c63"
      }
     },
     "2cb02c107601431b9fc0cbabd52bd4d2": {
      "model_module": "@jupyter-widgets/base",
      "model_module_version": "1.2.0",
      "model_name": "LayoutModel",
      "state": {
       "grid_area": "center"
      }
     },
     "2cc1a09cd89547b19ced999647be1de5": {
      "model_module": "@jupyter-widgets/controls",
      "model_module_version": "1.5.0",
      "model_name": "AccordionModel",
      "state": {
       "_titles": {
        "0": "Popular Keywords over Time",
        "1": "Likes&Dislikes over Time ",
        "2": "Text Analysis "
       },
       "children": [
        "IPY_MODEL_4a03461966124ae988cdd6c789b1efe3",
        "IPY_MODEL_32a202b3ce1f4957a41856adc8e3497a",
        "IPY_MODEL_2b2cd7eb649d487695a7da7d6c55bc2d"
       ],
       "layout": "IPY_MODEL_892d2b0236b94ea7beccf58b9422f4c3",
       "selected_index": 2
      }
     },
     "2dc2f11a05534f32962991cbbcfa35fa": {
      "model_module": "@jupyter-widgets/controls",
      "model_module_version": "1.5.0",
      "model_name": "AccordionModel",
      "state": {
       "_titles": {
        "0": "Popular Keywords over Time",
        "1": "Likes&Dislikes over Time ",
        "2": "Text Analysis "
       },
       "children": [
        "IPY_MODEL_6b393c2e659d44b481f12c6f02a46879",
        "IPY_MODEL_3e7d7779b3a34b92a7ff32dbdc8b9e35",
        "IPY_MODEL_0281b69488d64dc586754bd904363863"
       ],
       "layout": "IPY_MODEL_37fe38fcc0cf4c0f926d367a4fc83956"
      }
     },
     "2ecf6442095f42aa975bf7af30a88a04": {
      "model_module": "@jupyter-widgets/base",
      "model_module_version": "1.2.0",
      "model_name": "LayoutModel",
      "state": {}
     },
     "2ef106c0298f458ebd12eefc63b63157": {
      "model_module": "@jupyter-widgets/output",
      "model_module_version": "1.0.0",
      "model_name": "OutputModel",
      "state": {
       "layout": "IPY_MODEL_04858cb91db1485aaeecd9dd48c91114",
       "outputs": [
        {
         "name": "stdout",
         "output_type": "stream",
         "text": "Complete!     \r"
        }
       ]
      }
     },
     "2f3f9b8a5c484b9f9d5385be6e484156": {
      "model_module": "@jupyter-widgets/controls",
      "model_module_version": "1.5.0",
      "model_name": "BoundedIntTextModel",
      "state": {
       "description": "Integer:",
       "layout": "IPY_MODEL_8162f6634e514294aade4e4a67d5ee0d",
       "max": 200,
       "style": "IPY_MODEL_3b5c24d6fcc54b1593bc85891d0a345f",
       "value": 10
      }
     },
     "2f5043721a6c49c292acec1a6813a665": {
      "model_module": "@jupyter-widgets/controls",
      "model_module_version": "1.5.0",
      "model_name": "AccordionModel",
      "state": {
       "_titles": {
        "0": "Popular Keywords over Time",
        "1": "Likes&Dislikes over Time ",
        "2": "Text Analysis "
       },
       "children": [
        "IPY_MODEL_fa1a066b33384305a2d95fd3d421d7b7",
        "IPY_MODEL_dd941048d92141eaa387c7f4af097f4f",
        "IPY_MODEL_41389d7b2b974489baa0c304cef7e278"
       ],
       "layout": "IPY_MODEL_e9ffb5634a924bfc904215cb3875b374",
       "selected_index": 2
      }
     },
     "302b9f00ce7a4ef19733fb5539ebda81": {
      "model_module": "@jupyter-widgets/base",
      "model_module_version": "1.2.0",
      "model_name": "LayoutModel",
      "state": {}
     },
     "303db1d425af4eacac988be58cbdedea": {
      "model_module": "@jupyter-widgets/base",
      "model_module_version": "1.2.0",
      "model_name": "LayoutModel",
      "state": {}
     },
     "319337066e5f4ef280a009930e0c412e": {
      "model_module": "@jupyter-widgets/output",
      "model_module_version": "1.0.0",
      "model_name": "OutputModel",
      "state": {
       "layout": "IPY_MODEL_ac0ff18f5b8d4f3d9997d2ff36e29507"
      }
     },
     "31a1d91a402d40a5ae3299e4b1bb31ef": {
      "model_module": "@jupyter-widgets/base",
      "model_module_version": "1.2.0",
      "model_name": "LayoutModel",
      "state": {}
     },
     "31ecc0c719434965b1333df77a45ca1e": {
      "model_module": "@jupyter-widgets/base",
      "model_module_version": "1.2.0",
      "model_name": "LayoutModel",
      "state": {}
     },
     "3214c9eccfc349d4bd9476674cf8c706": {
      "model_module": "@jupyter-widgets/controls",
      "model_module_version": "1.5.0",
      "model_name": "DescriptionStyleModel",
      "state": {
       "description_width": ""
      }
     },
     "329ad68e0a4342acb6f6a4ca3c0de402": {
      "model_module": "@jupyter-widgets/controls",
      "model_module_version": "1.5.0",
      "model_name": "DescriptionStyleModel",
      "state": {
       "description_width": ""
      }
     },
     "32a202b3ce1f4957a41856adc8e3497a": {
      "model_module": "@jupyter-widgets/controls",
      "model_module_version": "1.5.0",
      "model_name": "VBoxModel",
      "state": {
       "children": [
        "IPY_MODEL_e730415039c94d51a07ded82bfa5b59a",
        "IPY_MODEL_0cc529b6eaaa4d2781c621de3c58d801",
        "IPY_MODEL_f1e1945313c244adadac74bd2a8eb8d4"
       ],
       "layout": "IPY_MODEL_bb5453b016b247b29ce0d21b8837f7e0"
      }
     },
     "33e1a83d82944900894fdb7073ffbf1a": {
      "model_module": "@jupyter-widgets/controls",
      "model_module_version": "1.5.0",
      "model_name": "DescriptionStyleModel",
      "state": {
       "description_width": ""
      }
     },
     "3591c42374964b3999339a94aa38202b": {
      "model_module": "@jupyter-widgets/base",
      "model_module_version": "1.2.0",
      "model_name": "LayoutModel",
      "state": {}
     },
     "3687053a039f4be5a08823c293b1066f": {
      "model_module": "@jupyter-widgets/base",
      "model_module_version": "1.2.0",
      "model_name": "LayoutModel",
      "state": {
       "grid_template_areas": "\"header header header\"\n\"center center center\"",
       "grid_template_columns": "1fr 2fr 1fr",
       "grid_template_rows": "1fr 3fr"
      }
     },
     "36a3589bf06f4c41a297ab40ece492db": {
      "model_module": "@jupyter-widgets/controls",
      "model_module_version": "1.5.0",
      "model_name": "VBoxModel",
      "state": {
       "_dom_classes": [
        "widget-interact"
       ],
       "children": [
        "IPY_MODEL_f84112c1d88a49f797a585336c650863",
        "IPY_MODEL_463f75f0b94b4a0a8a386c32997ba1ca",
        "IPY_MODEL_0cc30e17774f48b68bea2a27cf33fe66",
        "IPY_MODEL_511110f93eb340e18f38da4659a3c938"
       ],
       "layout": "IPY_MODEL_a56dd09c9e06449d93bd0d9e15d50801"
      }
     },
     "36e41af1c29c40038d76c3be2ab19b89": {
      "model_module": "@jupyter-widgets/controls",
      "model_module_version": "1.5.0",
      "model_name": "DescriptionStyleModel",
      "state": {
       "description_width": ""
      }
     },
     "37fe38fcc0cf4c0f926d367a4fc83956": {
      "model_module": "@jupyter-widgets/base",
      "model_module_version": "1.2.0",
      "model_name": "LayoutModel",
      "state": {
       "grid_area": "center"
      }
     },
     "38a0eb4f433b43a8b5d201aa70380263": {
      "model_module": "@jupyter-widgets/base",
      "model_module_version": "1.2.0",
      "model_name": "LayoutModel",
      "state": {}
     },
     "38b7d6948abe42ad87915213e06d9045": {
      "model_module": "@jupyter-widgets/base",
      "model_module_version": "1.2.0",
      "model_name": "LayoutModel",
      "state": {}
     },
     "39a318e8333348fe87e566a63d53f8ef": {
      "model_module": "@jupyter-widgets/controls",
      "model_module_version": "1.5.0",
      "model_name": "DescriptionStyleModel",
      "state": {
       "description_width": ""
      }
     },
     "39abc8068ba04d1b93e1a3885c444a69": {
      "model_module": "@jupyter-widgets/controls",
      "model_module_version": "1.5.0",
      "model_name": "GridBoxModel",
      "state": {
       "children": [
        "IPY_MODEL_40d2eb561d354ff8ace804143296dfcb",
        "IPY_MODEL_2dc2f11a05534f32962991cbbcfa35fa"
       ],
       "layout": "IPY_MODEL_9de3a69cf3c04c15affc25a6739ef3a2"
      }
     },
     "39dddd438dd9478687737e3023c744e4": {
      "model_module": "@jupyter-widgets/base",
      "model_module_version": "1.2.0",
      "model_name": "LayoutModel",
      "state": {}
     },
     "3a017bc5845641b582769f15d947a476": {
      "model_module": "@jupyter-widgets/output",
      "model_module_version": "1.0.0",
      "model_name": "OutputModel",
      "state": {
       "layout": "IPY_MODEL_5df2e96da0e84522bef08735a5128d82",
       "outputs": [
        {
         "name": "stdout",
         "output_type": "stream",
         "text": "Complete!     \r"
        }
       ]
      }
     },
     "3a9245e092dd449e991f7d66db75c0db": {
      "model_module": "@jupyter-widgets/base",
      "model_module_version": "1.2.0",
      "model_name": "LayoutModel",
      "state": {}
     },
     "3ad195a7400047fa9e4497b57f5642e2": {
      "model_module": "@jupyter-widgets/controls",
      "model_module_version": "1.5.0",
      "model_name": "DescriptionStyleModel",
      "state": {
       "description_width": ""
      }
     },
     "3b5c24d6fcc54b1593bc85891d0a345f": {
      "model_module": "@jupyter-widgets/controls",
      "model_module_version": "1.5.0",
      "model_name": "DescriptionStyleModel",
      "state": {
       "description_width": ""
      }
     },
     "3c4b2a86ca944af485450d90c82ec9c4": {
      "model_module": "@jupyter-widgets/controls",
      "model_module_version": "1.5.0",
      "model_name": "DropdownModel",
      "state": {
       "_options_labels": [
        "cooking",
        "influencers",
        "gaming"
       ],
       "description": "Genre",
       "index": 0,
       "layout": "IPY_MODEL_23f84d003ee34fbfaf4daf34657fd014",
       "style": "IPY_MODEL_0efd06c19b4449a1adcf7d299f518a87"
      }
     },
     "3df40a6d835441019c2a534f07edf58e": {
      "model_module": "@jupyter-widgets/controls",
      "model_module_version": "1.5.0",
      "model_name": "HTMLModel",
      "state": {
       "layout": "IPY_MODEL_a058279435ce4eafa17aa761b3eb3e82",
       "style": "IPY_MODEL_b510659635ee44b990284f3abe1c991f",
       "value": "<b><font size='2' color='Black'>\nA second display will compose of two word clouds that present the positive and negative words respectively, \nshowcasing the words’ popularity based on its size. \n</b>"
      }
     },
     "3e7d7779b3a34b92a7ff32dbdc8b9e35": {
      "model_module": "@jupyter-widgets/controls",
      "model_module_version": "1.5.0",
      "model_name": "VBoxModel",
      "state": {
       "children": [
        "IPY_MODEL_48ad40d37ec041058db7dd3ccdf2fb99",
        "IPY_MODEL_a6bcded5ac2245beba72d7cce353c0cd",
        "IPY_MODEL_2ef106c0298f458ebd12eefc63b63157"
       ],
       "layout": "IPY_MODEL_6b4a4ee7d17a43e4b76f7151cf1ad6ef"
      }
     },
     "3f34ea2cbdbe49e5b8a1304579870fee": {
      "model_module": "@jupyter-widgets/controls",
      "model_module_version": "1.5.0",
      "model_name": "HTMLModel",
      "state": {
       "layout": "IPY_MODEL_475ecb942a594c979c39731dceceaf68",
       "style": "IPY_MODEL_01cb9ee5008a46f59f2bcc086ba78653",
       "value": "<b><font size='5' color='Black'>Youtube Trend over Time</b>"
      }
     },
     "3f55a102951d410287a3c31cebdb2407": {
      "model_module": "@jupyter-widgets/base",
      "model_module_version": "1.2.0",
      "model_name": "LayoutModel",
      "state": {}
     },
     "3f77854086b841e18c0ca833074ef401": {
      "model_module": "@jupyter-widgets/controls",
      "model_module_version": "1.5.0",
      "model_name": "VBoxModel",
      "state": {
       "_dom_classes": [
        "widget-interact"
       ],
       "children": [
        "IPY_MODEL_ac90f73216824f8ab3f794ed2596eb8f",
        "IPY_MODEL_721c288381aa44b98fd93891d4ef1baa",
        "IPY_MODEL_0c518eff4d674d0baa42f26e444db029"
       ],
       "layout": "IPY_MODEL_7f821189b23946c4bae8f848b41a25d9"
      }
     },
     "400213b36f0d4aaaa3f9dc6b4cc45bf4": {
      "model_module": "@jupyter-widgets/controls",
      "model_module_version": "1.5.0",
      "model_name": "DescriptionStyleModel",
      "state": {
       "description_width": ""
      }
     },
     "40cd0f6bf1c04e808572f11059040c60": {
      "model_module": "@jupyter-widgets/controls",
      "model_module_version": "1.5.0",
      "model_name": "DescriptionStyleModel",
      "state": {
       "description_width": ""
      }
     },
     "40d2eb561d354ff8ace804143296dfcb": {
      "model_module": "@jupyter-widgets/controls",
      "model_module_version": "1.5.0",
      "model_name": "VBoxModel",
      "state": {
       "children": [
        "IPY_MODEL_29291fe733b84e59876359c568b3338c",
        "IPY_MODEL_b98f65896e5b488aa2190d347aaeaf2b"
       ],
       "layout": "IPY_MODEL_6c43784b41b04fe4bedbeef17f75eb37"
      }
     },
     "41389d7b2b974489baa0c304cef7e278": {
      "model_module": "@jupyter-widgets/controls",
      "model_module_version": "1.5.0",
      "model_name": "VBoxModel",
      "state": {
       "children": [
        "IPY_MODEL_ceb212ae64384754a801dec75fa71f39",
        "IPY_MODEL_541e9fa617184c26af1336b051b69e7c",
        "IPY_MODEL_b8ab9a5587bf450d914d8f6af47bca0c"
       ],
       "layout": "IPY_MODEL_69025059380b414b8b660161570c5084"
      }
     },
     "416fde84c4d348019a1356c1fc964b8a": {
      "model_module": "@jupyter-widgets/controls",
      "model_module_version": "1.5.0",
      "model_name": "SelectionSliderModel",
      "state": {
       "_options_labels": [
        "2015-01",
        "2015-02",
        "2015-03",
        "2015-04",
        "2015-05",
        "2015-06",
        "2015-07",
        "2015-08",
        "2015-09",
        "2015-10",
        "2015-11",
        "2015-12",
        "2016-01",
        "2016-02",
        "2016-03",
        "2016-04",
        "2016-05",
        "2016-06",
        "2016-07",
        "2016-08",
        "2016-09",
        "2016-10",
        "2016-11",
        "2016-12",
        "2017-01",
        "2017-02",
        "2017-03",
        "2017-04",
        "2017-05",
        "2017-06",
        "2017-07",
        "2017-08",
        "2017-09",
        "2017-10",
        "2017-11",
        "2017-12",
        "2018-01",
        "2018-02",
        "2018-03",
        "2018-04",
        "2018-05",
        "2018-06",
        "2018-07",
        "2018-08",
        "2018-09",
        "2018-10",
        "2018-11",
        "2018-12",
        "2019-01",
        "2019-02",
        "2019-03",
        "2019-04",
        "2019-05",
        "2019-06",
        "2019-07",
        "2019-08",
        "2019-09",
        "2019-10",
        "2019-11",
        "2019-12"
       ],
       "continuous_update": false,
       "description": "Date",
       "index": 0,
       "layout": "IPY_MODEL_451ab89367f446339348a7ba5ac430f8",
       "style": "IPY_MODEL_bd0a621f4e814b7da822a4737423feb8"
      }
     },
     "41d08c119ffe4ce390a3c22783ae346d": {
      "model_module": "@jupyter-widgets/controls",
      "model_module_version": "1.5.0",
      "model_name": "SelectionSliderModel",
      "state": {
       "_options_labels": [
        "2015-01",
        "2015-02",
        "2015-03",
        "2015-04",
        "2015-05",
        "2015-06",
        "2015-07",
        "2015-08",
        "2015-09",
        "2015-10",
        "2015-11",
        "2015-12",
        "2016-01",
        "2016-02",
        "2016-03",
        "2016-04",
        "2016-05",
        "2016-06",
        "2016-07",
        "2016-08",
        "2016-09",
        "2016-10",
        "2016-11",
        "2016-12",
        "2017-01",
        "2017-02",
        "2017-03",
        "2017-04",
        "2017-05",
        "2017-06",
        "2017-07",
        "2017-08",
        "2017-09",
        "2017-10",
        "2017-11",
        "2017-12",
        "2018-01",
        "2018-02",
        "2018-03",
        "2018-04",
        "2018-05",
        "2018-06",
        "2018-07",
        "2018-08",
        "2018-09",
        "2018-10",
        "2018-11",
        "2018-12",
        "2019-01",
        "2019-02",
        "2019-03",
        "2019-04",
        "2019-05",
        "2019-06",
        "2019-07",
        "2019-08",
        "2019-09",
        "2019-10",
        "2019-11",
        "2019-12"
       ],
       "continuous_update": false,
       "description": "Date",
       "index": 0,
       "layout": "IPY_MODEL_ba503b08d18e46f8b78b6c3309edd4ea",
       "style": "IPY_MODEL_14212520174e45f5ba8d382b6a8434a4"
      }
     },
     "42bd3e54fadf4162bbf307fe10978505": {
      "model_module": "@jupyter-widgets/output",
      "model_module_version": "1.0.0",
      "model_name": "OutputModel",
      "state": {
       "layout": "IPY_MODEL_81aa783846d042f7af7e30a2b75618df"
      }
     },
     "42c6c5252c2f401ab000a61c43508253": {
      "model_module": "@jupyter-widgets/controls",
      "model_module_version": "1.5.0",
      "model_name": "HBoxModel",
      "state": {
       "children": [
        "IPY_MODEL_839bef7457074342bd10672053c4939d",
        "IPY_MODEL_e91137aed853442f9359752fd8da7c4b"
       ],
       "layout": "IPY_MODEL_68a7c945ba6744389bdabacd7c6b7b67"
      }
     },
     "436a75e5650148f5a445fc2504f74dae": {
      "model_module": "@jupyter-widgets/base",
      "model_module_version": "1.2.0",
      "model_name": "LayoutModel",
      "state": {}
     },
     "4385f4a9b41a4b2eb2c8a875b43b4e58": {
      "model_module": "@jupyter-widgets/output",
      "model_module_version": "1.0.0",
      "model_name": "OutputModel",
      "state": {
       "layout": "IPY_MODEL_a0308fdb1e5a4aea954dbfe81d37deb3",
       "outputs": [
        {
         "data": {
          "image/png": "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\n",
          "text/plain": "<Figure size 432x288 with 1 Axes>"
         },
         "metadata": {
          "needs_background": "light"
         },
         "output_type": "display_data"
        }
       ]
      }
     },
     "43a8d3865994413d8103efa0adfb05ce": {
      "model_module": "@jupyter-widgets/base",
      "model_module_version": "1.2.0",
      "model_name": "LayoutModel",
      "state": {}
     },
     "447b31e9b7ae4c919ed9bd3cd189cd88": {
      "model_module": "@jupyter-widgets/base",
      "model_module_version": "1.2.0",
      "model_name": "LayoutModel",
      "state": {}
     },
     "451ab89367f446339348a7ba5ac430f8": {
      "model_module": "@jupyter-widgets/base",
      "model_module_version": "1.2.0",
      "model_name": "LayoutModel",
      "state": {}
     },
     "462bac8b0d434fcf9e0f47cba2ed61ea": {
      "model_module": "@jupyter-widgets/controls",
      "model_module_version": "1.5.0",
      "model_name": "TextModel",
      "state": {
       "description": "like",
       "layout": "IPY_MODEL_ce192155f9f647bda4c3346a925ab9d8",
       "style": "IPY_MODEL_39a318e8333348fe87e566a63d53f8ef",
       "value": "hate"
      }
     },
     "463f75f0b94b4a0a8a386c32997ba1ca": {
      "model_module": "@jupyter-widgets/controls",
      "model_module_version": "1.5.0",
      "model_name": "DropdownModel",
      "state": {
       "_options_labels": [
        "cooking",
        "influencers",
        "gaming"
       ],
       "description": "Genre",
       "index": 0,
       "layout": "IPY_MODEL_9f0b46da44de4536a7b62e7bc8907e96",
       "style": "IPY_MODEL_400213b36f0d4aaaa3f9dc6b4cc45bf4"
      }
     },
     "4718b14777684122abd5e0c205006d4a": {
      "model_module": "@jupyter-widgets/base",
      "model_module_version": "1.2.0",
      "model_name": "LayoutModel",
      "state": {}
     },
     "475ecb942a594c979c39731dceceaf68": {
      "model_module": "@jupyter-widgets/base",
      "model_module_version": "1.2.0",
      "model_name": "LayoutModel",
      "state": {}
     },
     "477e2797cc5546bc8e449de7f7cf0b0f": {
      "model_module": "@jupyter-widgets/base",
      "model_module_version": "1.2.0",
      "model_name": "LayoutModel",
      "state": {}
     },
     "481094cb7aa04b50aa47024b7a3faa99": {
      "model_module": "@jupyter-widgets/output",
      "model_module_version": "1.0.0",
      "model_name": "OutputModel",
      "state": {
       "layout": "IPY_MODEL_be36eaf0598d4888a6db6c2dbdf38a60",
       "outputs": [
        {
         "data": {
          "image/png": "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\n",
          "text/plain": "<Figure size 432x288 with 1 Axes>"
         },
         "metadata": {
          "needs_background": "light"
         },
         "output_type": "display_data"
        }
       ]
      }
     },
     "48ad40d37ec041058db7dd3ccdf2fb99": {
      "model_module": "@jupyter-widgets/controls",
      "model_module_version": "1.5.0",
      "model_name": "HTMLModel",
      "state": {
       "layout": "IPY_MODEL_2ecf6442095f42aa975bf7af30a88a04",
       "style": "IPY_MODEL_173ade8c0cdc4644a1220d2b29ede5dc",
       "value": "<b><font size='2' color='Black'>\nA second display will compose of two word clouds that present the positive and negative words respectively, \nshowcasing the words’ popularity based on its size. \n</b>"
      }
     },
     "49fcce4e14c54dea9b24f222add54fcd": {
      "model_module": "@jupyter-widgets/controls",
      "model_module_version": "1.5.0",
      "model_name": "HTMLModel",
      "state": {
       "layout": "IPY_MODEL_56cb012a2fa844b7aa7cff46c23ca213",
       "style": "IPY_MODEL_b910374be2ff48eb97a1e1c3cdc584d0",
       "value": "<b><font size='2' color='Black'>\nOur Text Analysis tool will generate word connotations based on the words typed into the textbox.  \nWords will be colored according to its positive or negative sentiment.\n For example, words in red denoting a negative word, words in yellow denoting neutral words and green denoting a positive word. Words that can not be \n decided will remain in black.\n Also, you can select the genre and metric of interest. \n</b>"
      }
     },
     "4a03461966124ae988cdd6c789b1efe3": {
      "model_module": "@jupyter-widgets/controls",
      "model_module_version": "1.5.0",
      "model_name": "VBoxModel",
      "state": {
       "children": [
        "IPY_MODEL_1da1076a69074dc297dfb7cd1b05348d",
        "IPY_MODEL_6b10159b53114f8390a821c0addfda0e",
        "IPY_MODEL_2ad3090fae0b4b59abe8fcfb30dbda7b"
       ],
       "layout": "IPY_MODEL_00e633edf9d0479abed0d86ad10c0d35"
      }
     },
     "4b0352165a35400b85fcb97d6fd478c0": {
      "model_module": "@jupyter-widgets/controls",
      "model_module_version": "1.5.0",
      "model_name": "VBoxModel",
      "state": {
       "children": [
        "IPY_MODEL_0a1e7108d6cf4731afb99209d02583fb",
        "IPY_MODEL_af6c4e184f744efea43ad4d8586b2905"
       ],
       "layout": "IPY_MODEL_0ba806cc19d44743b7aa539a36b6a0cb"
      }
     },
     "4bdc91682936454f9ba7f78d8ed98d19": {
      "model_module": "@jupyter-widgets/base",
      "model_module_version": "1.2.0",
      "model_name": "LayoutModel",
      "state": {}
     },
     "4c41f2ca9a2843388d367b88dfe3248d": {
      "model_module": "@jupyter-widgets/controls",
      "model_module_version": "1.5.0",
      "model_name": "HTMLModel",
      "state": {
       "layout": "IPY_MODEL_ea8096671fb044a0b13fc4a7ec98d0d3",
       "style": "IPY_MODEL_72c2da25cc9842a0952e9e931ae53fc1",
       "value": "<b><font size='2' color='Black'>\nOur Text Analysis tool will generate word connotations based on the words typed into the textbox.  \nWords will be colored according to its positive or negative sentiment.\n For example, words in red denoting a negative word, words in yellow denoting neutral words and green denoting a positive word. Words that can not be \n decided will remain in black.\n Also, you can select the genre and metric of interest. \n</b>"
      }
     },
     "4c422c1083974817944028c9772aea78": {
      "model_module": "@jupyter-widgets/base",
      "model_module_version": "1.2.0",
      "model_name": "LayoutModel",
      "state": {}
     },
     "4d23a9cd421e4a31942ed9678f8564f6": {
      "model_module": "@jupyter-widgets/base",
      "model_module_version": "1.2.0",
      "model_name": "LayoutModel",
      "state": {}
     },
     "4e3fffac29a847338e869738bb9ae395": {
      "model_module": "@jupyter-widgets/output",
      "model_module_version": "1.0.0",
      "model_name": "OutputModel",
      "state": {
       "layout": "IPY_MODEL_a127003de42843d388d996b003e5b3f6",
       "outputs": [
        {
         "data": {
          "text/plain": "<Figure size 640x480 with 1 Axes>"
         },
         "metadata": {},
         "output_type": "display_data"
        }
       ]
      }
     },
     "502425be78f6429999f6e4cf6aa95ed2": {
      "model_module": "@jupyter-widgets/controls",
      "model_module_version": "1.5.0",
      "model_name": "DescriptionStyleModel",
      "state": {
       "description_width": ""
      }
     },
     "511110f93eb340e18f38da4659a3c938": {
      "model_module": "@jupyter-widgets/output",
      "model_module_version": "1.0.0",
      "model_name": "OutputModel",
      "state": {
       "layout": "IPY_MODEL_fbd603a568ad4ab081d20b31f29a76bf"
      }
     },
     "51d407023bda41f2865f3d0db53373f6": {
      "model_module": "@jupyter-widgets/base",
      "model_module_version": "1.2.0",
      "model_name": "LayoutModel",
      "state": {}
     },
     "533a11ab2b2a454fa695a2b33667b896": {
      "model_module": "@jupyter-widgets/base",
      "model_module_version": "1.2.0",
      "model_name": "LayoutModel",
      "state": {}
     },
     "541e9fa617184c26af1336b051b69e7c": {
      "model_module": "@jupyter-widgets/controls",
      "model_module_version": "1.5.0",
      "model_name": "VBoxModel",
      "state": {
       "_dom_classes": [
        "widget-interact"
       ],
       "children": [
        "IPY_MODEL_19eeccf022b64e9d83763e54af8854ec",
        "IPY_MODEL_77cf2cb096e04a9893386dcc56d69e2b",
        "IPY_MODEL_f197a8a9e8fb49ad998882c5488aab0e",
        "IPY_MODEL_b6c470a4e9434472a4f336d28717082a"
       ],
       "layout": "IPY_MODEL_672552f1ae8749a1a55751ccd2593141"
      }
     },
     "54c1dfd52bd449ed97aed12d549e01a4": {
      "model_module": "@jupyter-widgets/controls",
      "model_module_version": "1.5.0",
      "model_name": "VBoxModel",
      "state": {
       "_dom_classes": [
        "widget-interact"
       ],
       "children": [
        "IPY_MODEL_1f753e26b490473eb3f14a5c784cdb2e",
        "IPY_MODEL_909623dafd60464591ad725831a9a555",
        "IPY_MODEL_b36db90051b741b7995410adeca00710",
        "IPY_MODEL_990b857940d74806b4be4e8a0641365c"
       ],
       "layout": "IPY_MODEL_3f55a102951d410287a3c31cebdb2407"
      }
     },
     "54dfbe55168f4cf7a1d89fa2fe0c4a00": {
      "model_module": "@jupyter-widgets/base",
      "model_module_version": "1.2.0",
      "model_name": "LayoutModel",
      "state": {}
     },
     "5568ce0b4717489abd0e635be5963fe5": {
      "model_module": "@jupyter-widgets/controls",
      "model_module_version": "1.5.0",
      "model_name": "DescriptionStyleModel",
      "state": {
       "description_width": ""
      }
     },
     "559592ec666c41d59ca474c9a2445478": {
      "model_module": "@jupyter-widgets/base",
      "model_module_version": "1.2.0",
      "model_name": "LayoutModel",
      "state": {}
     },
     "56cb012a2fa844b7aa7cff46c23ca213": {
      "model_module": "@jupyter-widgets/base",
      "model_module_version": "1.2.0",
      "model_name": "LayoutModel",
      "state": {}
     },
     "57689241f0e0497991ce9c53646c9186": {
      "model_module": "@jupyter-widgets/controls",
      "model_module_version": "1.5.0",
      "model_name": "DescriptionStyleModel",
      "state": {
       "description_width": ""
      }
     },
     "57c8e6db06b94f3983ca91f8e773a5a3": {
      "model_module": "@jupyter-widgets/base",
      "model_module_version": "1.2.0",
      "model_name": "LayoutModel",
      "state": {}
     },
     "57ff9735031a4529800ae9ebd67ec214": {
      "model_module": "@jupyter-widgets/controls",
      "model_module_version": "1.5.0",
      "model_name": "SelectionSliderModel",
      "state": {
       "_options_labels": [
        "2015-01",
        "2015-02",
        "2015-03",
        "2015-04",
        "2015-05",
        "2015-06",
        "2015-07",
        "2015-08",
        "2015-09",
        "2015-10",
        "2015-11",
        "2015-12",
        "2016-01",
        "2016-02",
        "2016-03",
        "2016-04",
        "2016-05",
        "2016-06",
        "2016-07",
        "2016-08",
        "2016-09",
        "2016-10",
        "2016-11",
        "2016-12",
        "2017-01",
        "2017-02",
        "2017-03",
        "2017-04",
        "2017-05",
        "2017-06",
        "2017-07",
        "2017-08",
        "2017-09",
        "2017-10",
        "2017-11",
        "2017-12",
        "2018-01",
        "2018-02",
        "2018-03",
        "2018-04",
        "2018-05",
        "2018-06",
        "2018-07",
        "2018-08",
        "2018-09",
        "2018-10",
        "2018-11",
        "2018-12",
        "2019-01",
        "2019-02",
        "2019-03",
        "2019-04",
        "2019-05",
        "2019-06",
        "2019-07",
        "2019-08",
        "2019-09",
        "2019-10",
        "2019-11",
        "2019-12"
       ],
       "continuous_update": false,
       "description": "Date",
       "index": 0,
       "layout": "IPY_MODEL_c56949a107754d939627d4b039c5be0d",
       "style": "IPY_MODEL_c1983130db314167ae2bff9cb309df97"
      }
     },
     "58ef113a36f34109b116b5df6152ed8d": {
      "model_module": "@jupyter-widgets/base",
      "model_module_version": "1.2.0",
      "model_name": "LayoutModel",
      "state": {}
     },
     "59e38254ac1e4a5a901dd777a61c0bc0": {
      "model_module": "@jupyter-widgets/controls",
      "model_module_version": "1.5.0",
      "model_name": "VBoxModel",
      "state": {
       "_dom_classes": [
        "widget-interact"
       ],
       "children": [
        "IPY_MODEL_57ff9735031a4529800ae9ebd67ec214",
        "IPY_MODEL_0651da36f04c4ea48641a37c6ce43d4d",
        "IPY_MODEL_a3a2566779ca4004add7d81fffd9f0d9",
        "IPY_MODEL_c2fb99b9a66f4803ae193abafc238d64"
       ],
       "layout": "IPY_MODEL_67da884edcfc4eea83051f63e89ad8d5"
      }
     },
     "5a71d84cb65340bf8cdf23148c8c0376": {
      "model_module": "@jupyter-widgets/controls",
      "model_module_version": "1.5.0",
      "model_name": "VBoxModel",
      "state": {
       "_dom_classes": [
        "widget-interact"
       ],
       "children": [
        "IPY_MODEL_9973dda7a5194037ae280a27aeb4fd34",
        "IPY_MODEL_e992899ffd614efeabeea1d62704f218",
        "IPY_MODEL_462bac8b0d434fcf9e0f47cba2ed61ea",
        "IPY_MODEL_4385f4a9b41a4b2eb2c8a875b43b4e58"
       ],
       "layout": "IPY_MODEL_a45839c4b68741069ae55c823aafd0c7"
      }
     },
     "5de7cbbb88cb479b88815ef1245fe529": {
      "model_module": "@jupyter-widgets/controls",
      "model_module_version": "1.5.0",
      "model_name": "HTMLModel",
      "state": {
       "layout": "IPY_MODEL_39dddd438dd9478687737e3023c744e4",
       "style": "IPY_MODEL_d4bd2f249f0b4c9cae7e3cb304c1b930",
       "value": "<b><font size='2' color='Black'>\nIn this part, you can use our tools to create a word cloud of popular words in different time periods. Size of a word will be based on\nits popularity. \n We also provide you with different genres to choose. You can check the popular words within the genre you have interest in.\n The time will be in a month and year format that the user can toggle with the slider and see how the word cloud changes over time.\n</b>"
      }
     },
     "5df2e96da0e84522bef08735a5128d82": {
      "model_module": "@jupyter-widgets/base",
      "model_module_version": "1.2.0",
      "model_name": "LayoutModel",
      "state": {}
     },
     "5e6fe4205ab847ae85fe71aa9fe968b9": {
      "model_module": "@jupyter-widgets/controls",
      "model_module_version": "1.5.0",
      "model_name": "HBoxModel",
      "state": {
       "children": [
        "IPY_MODEL_292671b59adc4312a26c0018fdfe8537",
        "IPY_MODEL_59e38254ac1e4a5a901dd777a61c0bc0"
       ],
       "layout": "IPY_MODEL_c0cd094093204fa985bc4e852d07222a"
      }
     },
     "5ef4d69b34e04ffeb9272cba34601d3e": {
      "model_module": "@jupyter-widgets/controls",
      "model_module_version": "1.5.0",
      "model_name": "VBoxModel",
      "state": {
       "_dom_classes": [
        "widget-interact"
       ],
       "children": [
        "IPY_MODEL_416fde84c4d348019a1356c1fc964b8a",
        "IPY_MODEL_9a4e0491c01d41ceaf453915b6f9b508",
        "IPY_MODEL_b644bc4ec6724cb0989c18b61a755c7b",
        "IPY_MODEL_481094cb7aa04b50aa47024b7a3faa99"
       ],
       "layout": "IPY_MODEL_988efe649b134b618cb22f959df3736e"
      }
     },
     "5f1a4285def54914bc14a8960194a1ab": {
      "model_module": "@jupyter-widgets/base",
      "model_module_version": "1.2.0",
      "model_name": "LayoutModel",
      "state": {}
     },
     "5f88385f4dff42be92cc5b72c96b729b": {
      "model_module": "@jupyter-widgets/output",
      "model_module_version": "1.0.0",
      "model_name": "OutputModel",
      "state": {
       "layout": "IPY_MODEL_1dde46987ac4438a80a479a02404889e",
       "outputs": [
        {
         "name": "stdout",
         "output_type": "stream",
         "text": "Complete!     \r"
        }
       ]
      }
     },
     "5fbeaf2186244580a95667a7f7548bf8": {
      "model_module": "@jupyter-widgets/controls",
      "model_module_version": "1.5.0",
      "model_name": "DescriptionStyleModel",
      "state": {
       "description_width": ""
      }
     },
     "605b061cdfd045d3845cf8db277fd3b1": {
      "model_module": "@jupyter-widgets/controls",
      "model_module_version": "1.5.0",
      "model_name": "DropdownModel",
      "state": {
       "_options_labels": [
        "likes_mean",
        "likes_median",
        "dislikes_mean",
        "dislikes_median",
        "views_mean",
        "views_median",
        "polarity",
        "subjectivity"
       ],
       "description": "Metric",
       "index": 0,
       "layout": "IPY_MODEL_4718b14777684122abd5e0c205006d4a",
       "style": "IPY_MODEL_b443eeeb84c64856a823fea828fbaa9f"
      }
     },
     "63a2a9b2f19547d6b8d110731d5f90c0": {
      "model_module": "@jupyter-widgets/controls",
      "model_module_version": "1.5.0",
      "model_name": "BoundedIntTextModel",
      "state": {
       "description": "Integer:",
       "layout": "IPY_MODEL_302b9f00ce7a4ef19733fb5539ebda81",
       "max": 200,
       "style": "IPY_MODEL_67f66698b52e4966b7ef57f707e77812",
       "value": 10
      }
     },
     "64ffd80df6d74aacbef7ac59d811f626": {
      "model_module": "@jupyter-widgets/base",
      "model_module_version": "1.2.0",
      "model_name": "LayoutModel",
      "state": {}
     },
     "6570a938e4304f64bcfbd48fcf6742e5": {
      "model_module": "@jupyter-widgets/controls",
      "model_module_version": "1.5.0",
      "model_name": "VBoxModel",
      "state": {
       "children": [
        "IPY_MODEL_3df40a6d835441019c2a534f07edf58e",
        "IPY_MODEL_42c6c5252c2f401ab000a61c43508253",
        "IPY_MODEL_f3b0e872a7f540288d199e970b6027cd"
       ],
       "layout": "IPY_MODEL_57c8e6db06b94f3983ca91f8e773a5a3"
      }
     },
     "658a1c2f32024c73a2998b887036c16e": {
      "model_module": "@jupyter-widgets/base",
      "model_module_version": "1.2.0",
      "model_name": "LayoutModel",
      "state": {}
     },
     "65ef963c677841459db52a19da531d12": {
      "model_module": "@jupyter-widgets/base",
      "model_module_version": "1.2.0",
      "model_name": "LayoutModel",
      "state": {}
     },
     "66951cf6ff1a41ea8c1008b7c172b7a3": {
      "model_module": "@jupyter-widgets/controls",
      "model_module_version": "1.5.0",
      "model_name": "SelectionSliderModel",
      "state": {
       "_options_labels": [
        "2015-01",
        "2015-02",
        "2015-03",
        "2015-04",
        "2015-05",
        "2015-06",
        "2015-07",
        "2015-08",
        "2015-09",
        "2015-10",
        "2015-11",
        "2015-12",
        "2016-01",
        "2016-02",
        "2016-03",
        "2016-04",
        "2016-05",
        "2016-06",
        "2016-07",
        "2016-08",
        "2016-09",
        "2016-10",
        "2016-11",
        "2016-12",
        "2017-01",
        "2017-02",
        "2017-03",
        "2017-04",
        "2017-05",
        "2017-06",
        "2017-07",
        "2017-08",
        "2017-09",
        "2017-10",
        "2017-11",
        "2017-12",
        "2018-01",
        "2018-02",
        "2018-03",
        "2018-04",
        "2018-05",
        "2018-06",
        "2018-07",
        "2018-08",
        "2018-09",
        "2018-10",
        "2018-11",
        "2018-12",
        "2019-01",
        "2019-02",
        "2019-03",
        "2019-04",
        "2019-05",
        "2019-06",
        "2019-07",
        "2019-08",
        "2019-09",
        "2019-10",
        "2019-11",
        "2019-12"
       ],
       "continuous_update": false,
       "description": "Date",
       "index": 33,
       "layout": "IPY_MODEL_559592ec666c41d59ca474c9a2445478",
       "style": "IPY_MODEL_2276a5d48ba6406eb9bab277ba2bb23c"
      }
     },
     "672552f1ae8749a1a55751ccd2593141": {
      "model_module": "@jupyter-widgets/base",
      "model_module_version": "1.2.0",
      "model_name": "LayoutModel",
      "state": {}
     },
     "67da884edcfc4eea83051f63e89ad8d5": {
      "model_module": "@jupyter-widgets/base",
      "model_module_version": "1.2.0",
      "model_name": "LayoutModel",
      "state": {}
     },
     "67f66698b52e4966b7ef57f707e77812": {
      "model_module": "@jupyter-widgets/controls",
      "model_module_version": "1.5.0",
      "model_name": "DescriptionStyleModel",
      "state": {
       "description_width": ""
      }
     },
     "68a7c945ba6744389bdabacd7c6b7b67": {
      "model_module": "@jupyter-widgets/base",
      "model_module_version": "1.2.0",
      "model_name": "LayoutModel",
      "state": {}
     },
     "69025059380b414b8b660161570c5084": {
      "model_module": "@jupyter-widgets/base",
      "model_module_version": "1.2.0",
      "model_name": "LayoutModel",
      "state": {}
     },
     "69b3988b51fc4d67a13b5813a9ec5d6c": {
      "model_module": "@jupyter-widgets/controls",
      "model_module_version": "1.5.0",
      "model_name": "DescriptionStyleModel",
      "state": {
       "description_width": ""
      }
     },
     "6a103745a494473592cfdf28866e2c36": {
      "model_module": "@jupyter-widgets/controls",
      "model_module_version": "1.5.0",
      "model_name": "DescriptionStyleModel",
      "state": {
       "description_width": ""
      }
     },
     "6aa3f237ee51452fa76e73e1c2063be2": {
      "model_module": "@jupyter-widgets/base",
      "model_module_version": "1.2.0",
      "model_name": "LayoutModel",
      "state": {}
     },
     "6b10159b53114f8390a821c0addfda0e": {
      "model_module": "@jupyter-widgets/controls",
      "model_module_version": "1.5.0",
      "model_name": "VBoxModel",
      "state": {
       "_dom_classes": [
        "widget-interact"
       ],
       "children": [
        "IPY_MODEL_8c3fe56b3c804c04af6be4d39307a303",
        "IPY_MODEL_c36017309fe04078ba3f988ec7629c5e",
        "IPY_MODEL_6f3f9aedde9845ab8822b2fa5ab40a33"
       ],
       "layout": "IPY_MODEL_fa1ec728917245afa3a440ef76452ff8"
      }
     },
     "6b393c2e659d44b481f12c6f02a46879": {
      "model_module": "@jupyter-widgets/controls",
      "model_module_version": "1.5.0",
      "model_name": "VBoxModel",
      "state": {
       "children": [
        "IPY_MODEL_ab9702c822694d14b6743580b6ef74e1",
        "IPY_MODEL_767336f9f68d4021b22361545670b316",
        "IPY_MODEL_3a017bc5845641b582769f15d947a476"
       ],
       "layout": "IPY_MODEL_c49a2baefbef4dbca9cb2ba4635bdc5b"
      }
     },
     "6b47810d627d4339ac714021e7e35b0f": {
      "model_module": "@jupyter-widgets/controls",
      "model_module_version": "1.5.0",
      "model_name": "VBoxModel",
      "state": {
       "children": [
        "IPY_MODEL_49fcce4e14c54dea9b24f222add54fcd",
        "IPY_MODEL_99d7142e5fef4a228af7ac5555daf399",
        "IPY_MODEL_ff6bb838ad504ac78e60abc5986b8d68"
       ],
       "layout": "IPY_MODEL_883a814e002f4ebcbbf9e54a141c07cf"
      }
     },
     "6b4a4ee7d17a43e4b76f7151cf1ad6ef": {
      "model_module": "@jupyter-widgets/base",
      "model_module_version": "1.2.0",
      "model_name": "LayoutModel",
      "state": {}
     },
     "6c43784b41b04fe4bedbeef17f75eb37": {
      "model_module": "@jupyter-widgets/base",
      "model_module_version": "1.2.0",
      "model_name": "LayoutModel",
      "state": {
       "grid_area": "header"
      }
     },
     "6eeb514f1d27440e9f56536892e1d08a": {
      "model_module": "@jupyter-widgets/base",
      "model_module_version": "1.2.0",
      "model_name": "LayoutModel",
      "state": {}
     },
     "6ef9f228af2b4487a98bdfb278252935": {
      "model_module": "@jupyter-widgets/controls",
      "model_module_version": "1.5.0",
      "model_name": "DescriptionStyleModel",
      "state": {
       "description_width": ""
      }
     },
     "6f3f9aedde9845ab8822b2fa5ab40a33": {
      "model_module": "@jupyter-widgets/output",
      "model_module_version": "1.0.0",
      "model_name": "OutputModel",
      "state": {
       "layout": "IPY_MODEL_10839938cc1d4db9944aa81a9fc5001b",
       "outputs": [
        {
         "data": {
          "image/png": "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\n",
          "text/plain": "<Figure size 432x288 with 1 Axes>"
         },
         "metadata": {
          "needs_background": "light"
         },
         "output_type": "display_data"
        }
       ]
      }
     },
     "70056f0f9d0a4f4f942818a99ee64072": {
      "model_module": "@jupyter-widgets/base",
      "model_module_version": "1.2.0",
      "model_name": "LayoutModel",
      "state": {}
     },
     "721c288381aa44b98fd93891d4ef1baa": {
      "model_module": "@jupyter-widgets/controls",
      "model_module_version": "1.5.0",
      "model_name": "DropdownModel",
      "state": {
       "_options_labels": [
        "cooking",
        "influencers",
        "gaming"
       ],
       "description": "Genre",
       "index": 1,
       "layout": "IPY_MODEL_7ba004efc3994817b09dcc4c44675f9f",
       "style": "IPY_MODEL_b5c470aef0a9420484b6b1b73b99fc2c"
      }
     },
     "72505c96b4254573933398385060c4ee": {
      "model_module": "@jupyter-widgets/controls",
      "model_module_version": "1.5.0",
      "model_name": "VBoxModel",
      "state": {
       "_dom_classes": [
        "widget-interact"
       ],
       "children": [
        "IPY_MODEL_d2a7849dbf8e4ef5b51f4133f6601aaa",
        "IPY_MODEL_d8cfc5480c864fe880045fc4ecb895e8",
        "IPY_MODEL_319337066e5f4ef280a009930e0c412e"
       ],
       "layout": "IPY_MODEL_e735edf5466d4c77bef9129b6877f375"
      }
     },
     "72c2da25cc9842a0952e9e931ae53fc1": {
      "model_module": "@jupyter-widgets/controls",
      "model_module_version": "1.5.0",
      "model_name": "DescriptionStyleModel",
      "state": {
       "description_width": ""
      }
     },
     "734885f872d04705a6bde5c42eb8043d": {
      "model_module": "@jupyter-widgets/base",
      "model_module_version": "1.2.0",
      "model_name": "LayoutModel",
      "state": {}
     },
     "74b56f894f464cde91e5fff03ed27231": {
      "model_module": "@jupyter-widgets/controls",
      "model_module_version": "1.5.0",
      "model_name": "DescriptionStyleModel",
      "state": {
       "description_width": ""
      }
     },
     "767336f9f68d4021b22361545670b316": {
      "model_module": "@jupyter-widgets/controls",
      "model_module_version": "1.5.0",
      "model_name": "VBoxModel",
      "state": {
       "_dom_classes": [
        "widget-interact"
       ],
       "children": [
        "IPY_MODEL_66951cf6ff1a41ea8c1008b7c172b7a3",
        "IPY_MODEL_1be0bda1f06f4d46a6f8a10e62ce1865",
        "IPY_MODEL_e1f82e38a319436ab5bc4dccf327fa9e"
       ],
       "layout": "IPY_MODEL_b2c2450dbe7b44dba4c9f9a03d3cf54c"
      }
     },
     "76d4ccabc8ba41ff87bbc4bec9c275a9": {
      "model_module": "@jupyter-widgets/controls",
      "model_module_version": "1.5.0",
      "model_name": "TabModel",
      "state": {
       "_titles": {
        "0": "Popular Keywords VS Month",
        "1": "Popular Keywords across all time"
       },
       "children": [
        "IPY_MODEL_dca9d71bc31a4c0890529309a408189c",
        "IPY_MODEL_72505c96b4254573933398385060c4ee"
       ],
       "layout": "IPY_MODEL_e708c48e108e4949809dbec1f961012b"
      }
     },
     "773b523c20724cc59550a94fd06eecbd": {
      "model_module": "@jupyter-widgets/controls",
      "model_module_version": "1.5.0",
      "model_name": "DescriptionStyleModel",
      "state": {
       "description_width": ""
      }
     },
     "775a39b41c1a4c2aaa2ecebc69f31bcb": {
      "model_module": "@jupyter-widgets/controls",
      "model_module_version": "1.5.0",
      "model_name": "DescriptionStyleModel",
      "state": {
       "description_width": ""
      }
     },
     "77cf2cb096e04a9893386dcc56d69e2b": {
      "model_module": "@jupyter-widgets/controls",
      "model_module_version": "1.5.0",
      "model_name": "DropdownModel",
      "state": {
       "_options_labels": [
        "cooking",
        "influencers",
        "gaming"
       ],
       "description": "Genre",
       "index": 0,
       "layout": "IPY_MODEL_a8759681d08c4656981cc609d9ef9924",
       "style": "IPY_MODEL_942e3a048d3a4e868979fffd5b8f7c09"
      }
     },
     "7854c66641e34fe18614b5c516f1fbf5": {
      "model_module": "@jupyter-widgets/base",
      "model_module_version": "1.2.0",
      "model_name": "LayoutModel",
      "state": {}
     },
     "78fa86f280354ac4a4e518e968555685": {
      "model_module": "@jupyter-widgets/controls",
      "model_module_version": "1.5.0",
      "model_name": "DescriptionStyleModel",
      "state": {
       "description_width": ""
      }
     },
     "79ca520e0c8f463c99ffdfb5aa7d6752": {
      "model_module": "@jupyter-widgets/controls",
      "model_module_version": "1.5.0",
      "model_name": "HTMLModel",
      "state": {
       "layout": "IPY_MODEL_e34bb85cb3db48da84ea353fd4c47349",
       "style": "IPY_MODEL_57689241f0e0497991ce9c53646c9186",
       "value": "<b><font size='2' color='Black'>\nOur Text Analysis tool will generate word connotations based on the words typed into the textbox.  \nWords will be colored according to its positive or negative sentiment.\n For example, words in red denoting a negative word, words in yellow denoting neutral words and green denoting a positive word. Words that can not be \n decided will remain in black.\n Also, you can select the genre and metric of interest. \n</b>"
      }
     },
     "79e8ac545fea4d3898d650967ce06737": {
      "model_module": "@jupyter-widgets/controls",
      "model_module_version": "1.5.0",
      "model_name": "GridBoxModel",
      "state": {
       "children": [
        "IPY_MODEL_a15ad9bd451742d49287fa2862753840",
        "IPY_MODEL_2f5043721a6c49c292acec1a6813a665"
       ],
       "layout": "IPY_MODEL_d2908b2561cb4da7aaf2aee9e360e6b7"
      }
     },
     "7ba004efc3994817b09dcc4c44675f9f": {
      "model_module": "@jupyter-widgets/base",
      "model_module_version": "1.2.0",
      "model_name": "LayoutModel",
      "state": {}
     },
     "7ba97431549c4571a925b4ea13057748": {
      "model_module": "@jupyter-widgets/controls",
      "model_module_version": "1.5.0",
      "model_name": "DescriptionStyleModel",
      "state": {
       "description_width": ""
      }
     },
     "7f6bf1d8d2524de8bf0d623281d9a61c": {
      "model_module": "@jupyter-widgets/controls",
      "model_module_version": "1.5.0",
      "model_name": "VBoxModel",
      "state": {
       "_dom_classes": [
        "widget-interact"
       ],
       "children": [
        "IPY_MODEL_d12b78ab9ce745c2a88660a5b15c245b",
        "IPY_MODEL_8fdcfb4b950340e7aef3b39d01f91ef7",
        "IPY_MODEL_eddc6cabba0d4f11a3ac252f3dbe3fdf"
       ],
       "layout": "IPY_MODEL_c58a1feaa7e34e589c6b202cec9c0802"
      }
     },
     "7f76676257554e45ae00427e2d27f9dc": {
      "model_module": "@jupyter-widgets/base",
      "model_module_version": "1.2.0",
      "model_name": "LayoutModel",
      "state": {}
     },
     "7f821189b23946c4bae8f848b41a25d9": {
      "model_module": "@jupyter-widgets/base",
      "model_module_version": "1.2.0",
      "model_name": "LayoutModel",
      "state": {}
     },
     "8089f7666906420f8a812d93c1350866": {
      "model_module": "@jupyter-widgets/base",
      "model_module_version": "1.2.0",
      "model_name": "LayoutModel",
      "state": {}
     },
     "8162f6634e514294aade4e4a67d5ee0d": {
      "model_module": "@jupyter-widgets/base",
      "model_module_version": "1.2.0",
      "model_name": "LayoutModel",
      "state": {}
     },
     "81aa783846d042f7af7e30a2b75618df": {
      "model_module": "@jupyter-widgets/base",
      "model_module_version": "1.2.0",
      "model_name": "LayoutModel",
      "state": {}
     },
     "829adc490cba41b98ffb72fb15c1d8b7": {
      "model_module": "@jupyter-widgets/base",
      "model_module_version": "1.2.0",
      "model_name": "LayoutModel",
      "state": {}
     },
     "839bef7457074342bd10672053c4939d": {
      "model_module": "@jupyter-widgets/controls",
      "model_module_version": "1.5.0",
      "model_name": "VBoxModel",
      "state": {
       "_dom_classes": [
        "widget-interact"
       ],
       "children": [
        "IPY_MODEL_41d08c119ffe4ce390a3c22783ae346d",
        "IPY_MODEL_3c4b2a86ca944af485450d90c82ec9c4",
        "IPY_MODEL_c646d3d170294629ac4bf91b98f069e2",
        "IPY_MODEL_1b322a3169b142cd896d75d058bc4de1"
       ],
       "layout": "IPY_MODEL_31a1d91a402d40a5ae3299e4b1bb31ef"
      }
     },
     "83edc4f88de74081a3c4f718b3b497ec": {
      "model_module": "@jupyter-widgets/base",
      "model_module_version": "1.2.0",
      "model_name": "LayoutModel",
      "state": {}
     },
     "84ce2a7cf9614b2692a0d3fabe31d5f1": {
      "model_module": "@jupyter-widgets/base",
      "model_module_version": "1.2.0",
      "model_name": "LayoutModel",
      "state": {}
     },
     "8530eb834b0a4d61a6da0ad5ef754666": {
      "model_module": "@jupyter-widgets/controls",
      "model_module_version": "1.5.0",
      "model_name": "DescriptionStyleModel",
      "state": {
       "description_width": ""
      }
     },
     "858e53cdde7a41c39bfa619b62739bd9": {
      "model_module": "@jupyter-widgets/base",
      "model_module_version": "1.2.0",
      "model_name": "LayoutModel",
      "state": {}
     },
     "883a814e002f4ebcbbf9e54a141c07cf": {
      "model_module": "@jupyter-widgets/base",
      "model_module_version": "1.2.0",
      "model_name": "LayoutModel",
      "state": {}
     },
     "886d6a70b50b4206ad0c4094fa7ac117": {
      "model_module": "@jupyter-widgets/controls",
      "model_module_version": "1.5.0",
      "model_name": "DescriptionStyleModel",
      "state": {
       "description_width": ""
      }
     },
     "892d2b0236b94ea7beccf58b9422f4c3": {
      "model_module": "@jupyter-widgets/base",
      "model_module_version": "1.2.0",
      "model_name": "LayoutModel",
      "state": {
       "grid_area": "center"
      }
     },
     "89c5c2ad7b5244dbadda6ba1b7f9a660": {
      "model_module": "@jupyter-widgets/controls",
      "model_module_version": "1.5.0",
      "model_name": "HTMLModel",
      "state": {
       "layout": "IPY_MODEL_6aa3f237ee51452fa76e73e1c2063be2",
       "style": "IPY_MODEL_775a39b41c1a4c2aaa2ecebc69f31bcb",
       "value": "<b><font size='5' color='Black'>Youtube Trend over Time</b>"
      }
     },
     "8c3fe56b3c804c04af6be4d39307a303": {
      "model_module": "@jupyter-widgets/controls",
      "model_module_version": "1.5.0",
      "model_name": "SelectionSliderModel",
      "state": {
       "_options_labels": [
        "2015-01",
        "2015-02",
        "2015-03",
        "2015-04",
        "2015-05",
        "2015-06",
        "2015-07",
        "2015-08",
        "2015-09",
        "2015-10",
        "2015-11",
        "2015-12",
        "2016-01",
        "2016-02",
        "2016-03",
        "2016-04",
        "2016-05",
        "2016-06",
        "2016-07",
        "2016-08",
        "2016-09",
        "2016-10",
        "2016-11",
        "2016-12",
        "2017-01",
        "2017-02",
        "2017-03",
        "2017-04",
        "2017-05",
        "2017-06",
        "2017-07",
        "2017-08",
        "2017-09",
        "2017-10",
        "2017-11",
        "2017-12",
        "2018-01",
        "2018-02",
        "2018-03",
        "2018-04",
        "2018-05",
        "2018-06",
        "2018-07",
        "2018-08",
        "2018-09",
        "2018-10",
        "2018-11",
        "2018-12",
        "2019-01",
        "2019-02",
        "2019-03",
        "2019-04",
        "2019-05",
        "2019-06",
        "2019-07",
        "2019-08",
        "2019-09",
        "2019-10",
        "2019-11",
        "2019-12"
       ],
       "continuous_update": false,
       "description": "Date",
       "index": 0,
       "layout": "IPY_MODEL_65ef963c677841459db52a19da531d12",
       "style": "IPY_MODEL_8530eb834b0a4d61a6da0ad5ef754666"
      }
     },
     "8f6904f8a4d440edaad8e86384ddaf3d": {
      "model_module": "@jupyter-widgets/base",
      "model_module_version": "1.2.0",
      "model_name": "LayoutModel",
      "state": {}
     },
     "8fdcfb4b950340e7aef3b39d01f91ef7": {
      "model_module": "@jupyter-widgets/controls",
      "model_module_version": "1.5.0",
      "model_name": "DropdownModel",
      "state": {
       "_options_labels": [
        "cooking",
        "influencers",
        "gaming"
       ],
       "description": "Genre",
       "index": 0,
       "layout": "IPY_MODEL_7854c66641e34fe18614b5c516f1fbf5",
       "style": "IPY_MODEL_6a103745a494473592cfdf28866e2c36"
      }
     },
     "909623dafd60464591ad725831a9a555": {
      "model_module": "@jupyter-widgets/controls",
      "model_module_version": "1.5.0",
      "model_name": "DropdownModel",
      "state": {
       "_options_labels": [
        "cooking",
        "influencers",
        "gaming"
       ],
       "description": "Genre",
       "index": 0,
       "layout": "IPY_MODEL_cef4afbb3abf4e769e736f5c94745a65",
       "style": "IPY_MODEL_05360d73fcfe4133a608334d6067a738"
      }
     },
     "92b351648e1542fd8c9f34fcc386d6f5": {
      "model_module": "@jupyter-widgets/controls",
      "model_module_version": "1.5.0",
      "model_name": "TextModel",
      "state": {
       "description": "like",
       "layout": "IPY_MODEL_270bf59116634899a17c890e7ca93851",
       "style": "IPY_MODEL_3ad195a7400047fa9e4497b57f5642e2",
       "value": "like"
      }
     },
     "942e3a048d3a4e868979fffd5b8f7c09": {
      "model_module": "@jupyter-widgets/controls",
      "model_module_version": "1.5.0",
      "model_name": "DescriptionStyleModel",
      "state": {
       "description_width": ""
      }
     },
     "94c7ac91445148568d518585f22785d0": {
      "model_module": "@jupyter-widgets/base",
      "model_module_version": "1.2.0",
      "model_name": "LayoutModel",
      "state": {}
     },
     "96002fb64d1946669fa6e9c8b3a180d2": {
      "model_module": "@jupyter-widgets/controls",
      "model_module_version": "1.5.0",
      "model_name": "TextareaModel",
      "state": {
       "continuous_update": false,
       "description": "Text box:",
       "layout": "IPY_MODEL_ec8e9c3aa8594ebab5f64473494660ee",
       "placeholder": "Type to analyze",
       "style": "IPY_MODEL_329ad68e0a4342acb6f6a4ca3c0de402"
      }
     },
     "96212e94367c4f2ba8c10491ae2c53f8": {
      "model_module": "@jupyter-widgets/controls",
      "model_module_version": "1.5.0",
      "model_name": "DescriptionStyleModel",
      "state": {
       "description_width": ""
      }
     },
     "988efe649b134b618cb22f959df3736e": {
      "model_module": "@jupyter-widgets/base",
      "model_module_version": "1.2.0",
      "model_name": "LayoutModel",
      "state": {}
     },
     "990b857940d74806b4be4e8a0641365c": {
      "model_module": "@jupyter-widgets/output",
      "model_module_version": "1.0.0",
      "model_name": "OutputModel",
      "state": {
       "layout": "IPY_MODEL_fcf1a0fe686043fdad10f4bd95e9c5f8"
      }
     },
     "9973dda7a5194037ae280a27aeb4fd34": {
      "model_module": "@jupyter-widgets/controls",
      "model_module_version": "1.5.0",
      "model_name": "SelectionSliderModel",
      "state": {
       "_options_labels": [
        "2015-01",
        "2015-02",
        "2015-03",
        "2015-04",
        "2015-05",
        "2015-06",
        "2015-07",
        "2015-08",
        "2015-09",
        "2015-10",
        "2015-11",
        "2015-12",
        "2016-01",
        "2016-02",
        "2016-03",
        "2016-04",
        "2016-05",
        "2016-06",
        "2016-07",
        "2016-08",
        "2016-09",
        "2016-10",
        "2016-11",
        "2016-12",
        "2017-01",
        "2017-02",
        "2017-03",
        "2017-04",
        "2017-05",
        "2017-06",
        "2017-07",
        "2017-08",
        "2017-09",
        "2017-10",
        "2017-11",
        "2017-12",
        "2018-01",
        "2018-02",
        "2018-03",
        "2018-04",
        "2018-05",
        "2018-06",
        "2018-07",
        "2018-08",
        "2018-09",
        "2018-10",
        "2018-11",
        "2018-12",
        "2019-01",
        "2019-02",
        "2019-03",
        "2019-04",
        "2019-05",
        "2019-06",
        "2019-07",
        "2019-08",
        "2019-09",
        "2019-10",
        "2019-11",
        "2019-12"
       ],
       "continuous_update": false,
       "description": "Date",
       "index": 0,
       "layout": "IPY_MODEL_fbbd6303a2f24554aa50259825512d59",
       "style": "IPY_MODEL_c7d05790c111421a84303a5f673464e5"
      }
     },
     "99d7142e5fef4a228af7ac5555daf399": {
      "model_module": "@jupyter-widgets/controls",
      "model_module_version": "1.5.0",
      "model_name": "VBoxModel",
      "state": {
       "_dom_classes": [
        "widget-interact"
       ],
       "children": [
        "IPY_MODEL_96002fb64d1946669fa6e9c8b3a180d2",
        "IPY_MODEL_ba3200a414f64228992f7a15bd1938a1",
        "IPY_MODEL_605b061cdfd045d3845cf8db277fd3b1",
        "IPY_MODEL_e70cca8b3cf84aeea2c429261de3ac0a"
       ],
       "layout": "IPY_MODEL_f62cba71f304491fb82d38a2fb270d9b"
      }
     },
     "9a161c040c30490a8b3306a980d00428": {
      "model_module": "@jupyter-widgets/base",
      "model_module_version": "1.2.0",
      "model_name": "LayoutModel",
      "state": {}
     },
     "9a4e0491c01d41ceaf453915b6f9b508": {
      "model_module": "@jupyter-widgets/controls",
      "model_module_version": "1.5.0",
      "model_name": "DropdownModel",
      "state": {
       "_options_labels": [
        "cooking",
        "influencers",
        "gaming"
       ],
       "description": "Genre",
       "index": 0,
       "layout": "IPY_MODEL_9d0b4bb1f32a408f8f2b8dfd9f0a8cef",
       "style": "IPY_MODEL_f409a5a9c19d45cca84ed53e16258052"
      }
     },
     "9af12716ac434d8da70dd0ecba924e47": {
      "model_module": "@jupyter-widgets/base",
      "model_module_version": "1.2.0",
      "model_name": "LayoutModel",
      "state": {}
     },
     "9b6032f9615747d2bababf59c541d325": {
      "model_module": "@jupyter-widgets/base",
      "model_module_version": "1.2.0",
      "model_name": "LayoutModel",
      "state": {}
     },
     "9b93fdfa01064f8eae81c3f148bc2e39": {
      "model_module": "@jupyter-widgets/controls",
      "model_module_version": "1.5.0",
      "model_name": "DescriptionStyleModel",
      "state": {
       "description_width": ""
      }
     },
     "9d0b4bb1f32a408f8f2b8dfd9f0a8cef": {
      "model_module": "@jupyter-widgets/base",
      "model_module_version": "1.2.0",
      "model_name": "LayoutModel",
      "state": {}
     },
     "9d26cc744b1f4d8e95d8e1249df5f98e": {
      "model_module": "@jupyter-widgets/controls",
      "model_module_version": "1.5.0",
      "model_name": "DescriptionStyleModel",
      "state": {
       "description_width": ""
      }
     },
     "9de3a69cf3c04c15affc25a6739ef3a2": {
      "model_module": "@jupyter-widgets/base",
      "model_module_version": "1.2.0",
      "model_name": "LayoutModel",
      "state": {
       "grid_template_areas": "\"header header header\"\n\"center center center\"",
       "grid_template_columns": "1fr 2fr 1fr",
       "grid_template_rows": "1fr 3fr"
      }
     },
     "9edcd27850644a72af24c11025052148": {
      "model_module": "@jupyter-widgets/controls",
      "model_module_version": "1.5.0",
      "model_name": "TextModel",
      "state": {
       "description": "like",
       "layout": "IPY_MODEL_2051dd74a3374f66aacde11c47b1efe3",
       "style": "IPY_MODEL_adf3d1de5bdb4be5a312af5214778aca",
       "value": "hate"
      }
     },
     "9f0b46da44de4536a7b62e7bc8907e96": {
      "model_module": "@jupyter-widgets/base",
      "model_module_version": "1.2.0",
      "model_name": "LayoutModel",
      "state": {}
     },
     "9f31ca83c93c43249ca721303e11692d": {
      "model_module": "@jupyter-widgets/controls",
      "model_module_version": "1.5.0",
      "model_name": "VBoxModel",
      "state": {
       "_dom_classes": [
        "widget-interact"
       ],
       "children": [
        "IPY_MODEL_416fde84c4d348019a1356c1fc964b8a",
        "IPY_MODEL_9a4e0491c01d41ceaf453915b6f9b508",
        "IPY_MODEL_9edcd27850644a72af24c11025052148",
        "IPY_MODEL_fa9c1cc483384b72a133c18d1d4292e2"
       ],
       "layout": "IPY_MODEL_1a1388be509f403c8cf40d085a70e940"
      }
     },
     "a024a2b8510347a8a363947f05e9da94": {
      "model_module": "@jupyter-widgets/base",
      "model_module_version": "1.2.0",
      "model_name": "LayoutModel",
      "state": {}
     },
     "a0308fdb1e5a4aea954dbfe81d37deb3": {
      "model_module": "@jupyter-widgets/base",
      "model_module_version": "1.2.0",
      "model_name": "LayoutModel",
      "state": {}
     },
     "a058279435ce4eafa17aa761b3eb3e82": {
      "model_module": "@jupyter-widgets/base",
      "model_module_version": "1.2.0",
      "model_name": "LayoutModel",
      "state": {}
     },
     "a0b11516036d46db8a5cd7979844e242": {
      "model_module": "@jupyter-widgets/base",
      "model_module_version": "1.2.0",
      "model_name": "LayoutModel",
      "state": {}
     },
     "a127003de42843d388d996b003e5b3f6": {
      "model_module": "@jupyter-widgets/base",
      "model_module_version": "1.2.0",
      "model_name": "LayoutModel",
      "state": {}
     },
     "a15ad9bd451742d49287fa2862753840": {
      "model_module": "@jupyter-widgets/controls",
      "model_module_version": "1.5.0",
      "model_name": "VBoxModel",
      "state": {
       "children": [
        "IPY_MODEL_3f34ea2cbdbe49e5b8a1304579870fee",
        "IPY_MODEL_defa562fd0b14946a58fc0cd7c8b247d"
       ],
       "layout": "IPY_MODEL_f6be03f3e2f14049b3474b5841667136"
      }
     },
     "a336bd3c20fb4b94a1c3f95909c5ef86": {
      "model_module": "@jupyter-widgets/controls",
      "model_module_version": "1.5.0",
      "model_name": "DescriptionStyleModel",
      "state": {
       "description_width": ""
      }
     },
     "a38cdae1b16844eb94aaeb85c4392d83": {
      "model_module": "@jupyter-widgets/controls",
      "model_module_version": "1.5.0",
      "model_name": "VBoxModel",
      "state": {
       "children": [
        "IPY_MODEL_89c5c2ad7b5244dbadda6ba1b7f9a660",
        "IPY_MODEL_22260baf98c24a86970886dd64a526bf"
       ],
       "layout": "IPY_MODEL_d939c2986b79485b8c137807b8c89ffa"
      }
     },
     "a3a2566779ca4004add7d81fffd9f0d9": {
      "model_module": "@jupyter-widgets/controls",
      "model_module_version": "1.5.0",
      "model_name": "TextModel",
      "state": {
       "description": "like",
       "layout": "IPY_MODEL_303db1d425af4eacac988be58cbdedea",
       "style": "IPY_MODEL_7ba97431549c4571a925b4ea13057748",
       "value": "hate"
      }
     },
     "a45839c4b68741069ae55c823aafd0c7": {
      "model_module": "@jupyter-widgets/base",
      "model_module_version": "1.2.0",
      "model_name": "LayoutModel",
      "state": {}
     },
     "a56dd09c9e06449d93bd0d9e15d50801": {
      "model_module": "@jupyter-widgets/base",
      "model_module_version": "1.2.0",
      "model_name": "LayoutModel",
      "state": {}
     },
     "a6bcded5ac2245beba72d7cce353c0cd": {
      "model_module": "@jupyter-widgets/controls",
      "model_module_version": "1.5.0",
      "model_name": "HBoxModel",
      "state": {
       "children": [
        "IPY_MODEL_5ef4d69b34e04ffeb9272cba34601d3e",
        "IPY_MODEL_9f31ca83c93c43249ca721303e11692d"
       ],
       "layout": "IPY_MODEL_29d14e31fe264b6eac15abc37d624204"
      }
     },
     "a8759681d08c4656981cc609d9ef9924": {
      "model_module": "@jupyter-widgets/base",
      "model_module_version": "1.2.0",
      "model_name": "LayoutModel",
      "state": {}
     },
     "a8eab8c943544227972b7748003831d6": {
      "model_module": "@jupyter-widgets/controls",
      "model_module_version": "1.5.0",
      "model_name": "TextModel",
      "state": {
       "description": "like",
       "layout": "IPY_MODEL_38b7d6948abe42ad87915213e06d9045",
       "style": "IPY_MODEL_1c299431a1ec47c8940fbc4704add6b2",
       "value": "hate"
      }
     },
     "aaca24ca8a364679bef562a583bcdc0e": {
      "model_module": "@jupyter-widgets/base",
      "model_module_version": "1.2.0",
      "model_name": "LayoutModel",
      "state": {}
     },
     "aae2c5c417de4001bcd2270711e9422f": {
      "model_module": "@jupyter-widgets/base",
      "model_module_version": "1.2.0",
      "model_name": "LayoutModel",
      "state": {}
     },
     "ab40973ca07941578e03eefcb8e4a302": {
      "model_module": "@jupyter-widgets/output",
      "model_module_version": "1.0.0",
      "model_name": "OutputModel",
      "state": {
       "layout": "IPY_MODEL_9af12716ac434d8da70dd0ecba924e47",
       "outputs": [
        {
         "data": {
          "image/png": "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\n",
          "text/plain": "<Figure size 432x288 with 1 Axes>"
         },
         "metadata": {
          "needs_background": "light"
         },
         "output_type": "display_data"
        }
       ]
      }
     },
     "ab621d4cfb2f48cf903b17add81ffb67": {
      "model_module": "@jupyter-widgets/base",
      "model_module_version": "1.2.0",
      "model_name": "LayoutModel",
      "state": {}
     },
     "ab9702c822694d14b6743580b6ef74e1": {
      "model_module": "@jupyter-widgets/controls",
      "model_module_version": "1.5.0",
      "model_name": "HTMLModel",
      "state": {
       "layout": "IPY_MODEL_d2207b4ea31c40b690145298df529635",
       "style": "IPY_MODEL_02a545e045434859b9c19bf4cb18a1ab",
       "value": "<b><font size='2' color='Black'>\nIn this part, you can use our tools to create a word cloud of popular words in different time periods. Size of a word will be based on\nits popularity. \n We also provide you with different genres to choose. You can check the popular words within the genre you have interest in.\n The time will be in a month and year format that the user can toggle with the slider and see how the word cloud changes over time.\n</b>"
      }
     },
     "ac0ff18f5b8d4f3d9997d2ff36e29507": {
      "model_module": "@jupyter-widgets/base",
      "model_module_version": "1.2.0",
      "model_name": "LayoutModel",
      "state": {}
     },
     "ac1fd507b5c045b2802bf2a19a7bb9ec": {
      "model_module": "@jupyter-widgets/base",
      "model_module_version": "1.2.0",
      "model_name": "LayoutModel",
      "state": {}
     },
     "ac90f73216824f8ab3f794ed2596eb8f": {
      "model_module": "@jupyter-widgets/controls",
      "model_module_version": "1.5.0",
      "model_name": "SelectionSliderModel",
      "state": {
       "_options_labels": [
        "2015-01",
        "2015-02",
        "2015-03",
        "2015-04",
        "2015-05",
        "2015-06",
        "2015-07",
        "2015-08",
        "2015-09",
        "2015-10",
        "2015-11",
        "2015-12",
        "2016-01",
        "2016-02",
        "2016-03",
        "2016-04",
        "2016-05",
        "2016-06",
        "2016-07",
        "2016-08",
        "2016-09",
        "2016-10",
        "2016-11",
        "2016-12",
        "2017-01",
        "2017-02",
        "2017-03",
        "2017-04",
        "2017-05",
        "2017-06",
        "2017-07",
        "2017-08",
        "2017-09",
        "2017-10",
        "2017-11",
        "2017-12",
        "2018-01",
        "2018-02",
        "2018-03",
        "2018-04",
        "2018-05",
        "2018-06",
        "2018-07",
        "2018-08",
        "2018-09",
        "2018-10",
        "2018-11",
        "2018-12",
        "2019-01",
        "2019-02",
        "2019-03",
        "2019-04",
        "2019-05",
        "2019-06",
        "2019-07",
        "2019-08",
        "2019-09",
        "2019-10",
        "2019-11",
        "2019-12"
       ],
       "continuous_update": false,
       "description": "Date",
       "index": 4,
       "layout": "IPY_MODEL_b7e9a507c6e24a91bd23cee909a71057",
       "style": "IPY_MODEL_33e1a83d82944900894fdb7073ffbf1a"
      }
     },
     "adc6321c9dca4b7198c58f96be3f1ba6": {
      "model_module": "@jupyter-widgets/base",
      "model_module_version": "1.2.0",
      "model_name": "LayoutModel",
      "state": {}
     },
     "adf3d1de5bdb4be5a312af5214778aca": {
      "model_module": "@jupyter-widgets/controls",
      "model_module_version": "1.5.0",
      "model_name": "DescriptionStyleModel",
      "state": {
       "description_width": ""
      }
     },
     "ae0edf638a1944378f204894a9ce7db6": {
      "model_module": "@jupyter-widgets/controls",
      "model_module_version": "1.5.0",
      "model_name": "DescriptionStyleModel",
      "state": {
       "description_width": ""
      }
     },
     "ae6bde89226545a3a17e9b86904eedc9": {
      "model_module": "@jupyter-widgets/controls",
      "model_module_version": "1.5.0",
      "model_name": "HTMLModel",
      "state": {
       "layout": "IPY_MODEL_c3b17fab148b4e61b08ee165a9b5afe8",
       "style": "IPY_MODEL_bb26bbbce4e54739a86fee0d347a75e5",
       "value": "<b><font size='2' color='Black'>\nIn this part, you can use our tools to create a word cloud of popular words in different time periods. Size of a word will be based on\nits popularity. \n We also provide you with different genres to choose. You can check the popular words within the genre you have interest in.\n The time will be in a month and year format that the user can toggle with the slider and see how the word cloud changes over time.\n</b>"
      }
     },
     "ae7069231ec94040a874aefb4778cdfa": {
      "model_module": "@jupyter-widgets/controls",
      "model_module_version": "1.5.0",
      "model_name": "DescriptionStyleModel",
      "state": {
       "description_width": ""
      }
     },
     "af061f43cd7548d8b8f9d1eb8fa26715": {
      "model_module": "@jupyter-widgets/base",
      "model_module_version": "1.2.0",
      "model_name": "LayoutModel",
      "state": {}
     },
     "af6c4e184f744efea43ad4d8586b2905": {
      "model_module": "@jupyter-widgets/controls",
      "model_module_version": "1.5.0",
      "model_name": "HTMLModel",
      "state": {
       "layout": "IPY_MODEL_025bf0716fdd4236a5d531860bcb3ecc",
       "style": "IPY_MODEL_74b56f894f464cde91e5fff03ed27231",
       "value": "<b><font size='2' color='Black'>How insane is it that sometimes you see the most amazing video on youtube, \nand yet it took nearly a decade for it to be popular? Or a subpar video which hits a \nmillion views within a week? A lot of it has to do with the way you market your content. \nSponsoring advertisements for your posts helps, but it depends heavily on the \ntextual supporting descriptions that you add. And an even deeper question is: what makes certain \nwords more popular than others? What receives more hate by the public? Are certain \ntopics more active during election years or during a pandemic? Fortunately, our platform and tools will figure it out for you\n. We’re trying to create a simple \nplatform which serves as a proof of concept for how sentiment analysis can be extended \nto utility on a daily basis, with a very wide customer demographic.\n</b>"
      }
     },
     "b16c551f4c454048a85e076caa76da3c": {
      "model_module": "@jupyter-widgets/controls",
      "model_module_version": "1.5.0",
      "model_name": "VBoxModel",
      "state": {
       "_dom_classes": [
        "widget-interact"
       ],
       "children": [
        "IPY_MODEL_e43346ea092846af9c9f909e018f30b2",
        "IPY_MODEL_f052506e2cdb43c29bb0e73a01b3a255",
        "IPY_MODEL_42bd3e54fadf4162bbf307fe10978505"
       ],
       "layout": "IPY_MODEL_ab621d4cfb2f48cf903b17add81ffb67"
      }
     },
     "b1806758549e4a50a1db1deafa8cf9c0": {
      "model_module": "@jupyter-widgets/base",
      "model_module_version": "1.2.0",
      "model_name": "LayoutModel",
      "state": {}
     },
     "b2797cf319884c29899367816a0e5ff4": {
      "model_module": "@jupyter-widgets/controls",
      "model_module_version": "1.5.0",
      "model_name": "TabModel",
      "state": {
       "_titles": {
        "0": "Popular Keywords VS Month",
        "1": "Popular Keywords across all time"
       },
       "children": [
        "IPY_MODEL_16779d0055ad4a6bba1203034d77a346",
        "IPY_MODEL_b16c551f4c454048a85e076caa76da3c"
       ],
       "layout": "IPY_MODEL_021b0a25650d4ac4b3ef8b89a2b714b2"
      }
     },
     "b2c2450dbe7b44dba4c9f9a03d3cf54c": {
      "model_module": "@jupyter-widgets/base",
      "model_module_version": "1.2.0",
      "model_name": "LayoutModel",
      "state": {}
     },
     "b36db90051b741b7995410adeca00710": {
      "model_module": "@jupyter-widgets/controls",
      "model_module_version": "1.5.0",
      "model_name": "DropdownModel",
      "state": {
       "_options_labels": [
        "likes_mean",
        "likes_median",
        "dislikes_mean",
        "dislikes_median",
        "views_mean",
        "views_median",
        "polarity",
        "subjectivity"
       ],
       "description": "Metric",
       "index": 0,
       "layout": "IPY_MODEL_5f1a4285def54914bc14a8960194a1ab",
       "style": "IPY_MODEL_886d6a70b50b4206ad0c4094fa7ac117"
      }
     },
     "b443eeeb84c64856a823fea828fbaa9f": {
      "model_module": "@jupyter-widgets/controls",
      "model_module_version": "1.5.0",
      "model_name": "DescriptionStyleModel",
      "state": {
       "description_width": ""
      }
     },
     "b510659635ee44b990284f3abe1c991f": {
      "model_module": "@jupyter-widgets/controls",
      "model_module_version": "1.5.0",
      "model_name": "DescriptionStyleModel",
      "state": {
       "description_width": ""
      }
     },
     "b5927d98c67a43ebbdca9362a46117cf": {
      "model_module": "@jupyter-widgets/base",
      "model_module_version": "1.2.0",
      "model_name": "LayoutModel",
      "state": {}
     },
     "b5c470aef0a9420484b6b1b73b99fc2c": {
      "model_module": "@jupyter-widgets/controls",
      "model_module_version": "1.5.0",
      "model_name": "DescriptionStyleModel",
      "state": {
       "description_width": ""
      }
     },
     "b644bc4ec6724cb0989c18b61a755c7b": {
      "model_module": "@jupyter-widgets/controls",
      "model_module_version": "1.5.0",
      "model_name": "TextModel",
      "state": {
       "description": "like",
       "layout": "IPY_MODEL_f1ad35e0552f4be4b9506b58def7a82c",
       "style": "IPY_MODEL_9d26cc744b1f4d8e95d8e1249df5f98e",
       "value": "like"
      }
     },
     "b6c470a4e9434472a4f336d28717082a": {
      "model_module": "@jupyter-widgets/output",
      "model_module_version": "1.0.0",
      "model_name": "OutputModel",
      "state": {
       "layout": "IPY_MODEL_3a9245e092dd449e991f7d66db75c0db",
       "outputs": [
        {
         "name": "stdout",
         "output_type": "stream",
         "text": "\n**********************************************************************\n  Resource \u001b[93mpunkt\u001b[0m not found.\n  Please use the NLTK Downloader to obtain the resource:\n\n  \u001b[31m>>> import nltk\n  >>> nltk.download('punkt')\n  \u001b[0m\n  For more information see: https://www.nltk.org/data.html\n\n  Attempted to load \u001b[93mtokenizers/punkt/PY3/english.pickle\u001b[0m\n\n  Searched in:\n    - '/Users/lizichao/nltk_data'\n    - '/Users/lizichao/anaconda3/envs/keras/nltk_data'\n    - '/Users/lizichao/anaconda3/envs/keras/share/nltk_data'\n    - '/Users/lizichao/anaconda3/envs/keras/lib/nltk_data'\n    - '/usr/share/nltk_data'\n    - '/usr/local/share/nltk_data'\n    - '/usr/lib/nltk_data'\n    - '/usr/local/lib/nltk_data'\n    - ''\n**********************************************************************\n\n"
        },
        {
         "ename": "MissingCorpusError",
         "evalue": "\nLooks like you are missing some required data for this feature.\n\nTo download the necessary data, simply run\n\n    python -m textblob.download_corpora\n\nor use the NLTK downloader to download the missing data: http://nltk.org/data.html\nIf this doesn't fix the problem, file an issue at https://github.com/sloria/TextBlob/issues.\n",
         "output_type": "error",
         "traceback": [
          "\u001b[0;31m---------------------------------------------------------------------------\u001b[0m",
          "\u001b[0;31mLookupError\u001b[0m                               Traceback (most recent call last)",
          "\u001b[0;32m~/anaconda3/envs/keras/lib/python3.6/site-packages/textblob/decorators.py\u001b[0m in \u001b[0;36mdecorated\u001b[0;34m(*args, **kwargs)\u001b[0m\n\u001b[1;32m     34\u001b[0m         \u001b[0;32mtry\u001b[0m\u001b[0;34m:\u001b[0m\u001b[0;34m\u001b[0m\u001b[0;34m\u001b[0m\u001b[0m\n\u001b[0;32m---> 35\u001b[0;31m             \u001b[0;32mreturn\u001b[0m \u001b[0mfunc\u001b[0m\u001b[0;34m(\u001b[0m\u001b[0;34m*\u001b[0m\u001b[0margs\u001b[0m\u001b[0;34m,\u001b[0m \u001b[0;34m**\u001b[0m\u001b[0mkwargs\u001b[0m\u001b[0;34m)\u001b[0m\u001b[0;34m\u001b[0m\u001b[0;34m\u001b[0m\u001b[0m\n\u001b[0m\u001b[1;32m     36\u001b[0m         \u001b[0;32mexcept\u001b[0m \u001b[0mLookupError\u001b[0m \u001b[0;32mas\u001b[0m \u001b[0merr\u001b[0m\u001b[0;34m:\u001b[0m\u001b[0;34m\u001b[0m\u001b[0;34m\u001b[0m\u001b[0m\n",
          "\u001b[0;32m~/anaconda3/envs/keras/lib/python3.6/site-packages/textblob/tokenizers.py\u001b[0m in \u001b[0;36mtokenize\u001b[0;34m(self, text)\u001b[0m\n\u001b[1;32m     56\u001b[0m         \u001b[0;34m'''Return a list of sentences.'''\u001b[0m\u001b[0;34m\u001b[0m\u001b[0;34m\u001b[0m\u001b[0m\n\u001b[0;32m---> 57\u001b[0;31m         \u001b[0;32mreturn\u001b[0m \u001b[0mnltk\u001b[0m\u001b[0;34m.\u001b[0m\u001b[0mtokenize\u001b[0m\u001b[0;34m.\u001b[0m\u001b[0msent_tokenize\u001b[0m\u001b[0;34m(\u001b[0m\u001b[0mtext\u001b[0m\u001b[0;34m)\u001b[0m\u001b[0;34m\u001b[0m\u001b[0;34m\u001b[0m\u001b[0m\n\u001b[0m\u001b[1;32m     58\u001b[0m \u001b[0;34m\u001b[0m\u001b[0m\n",
          "\u001b[0;32m~/anaconda3/envs/keras/lib/python3.6/site-packages/nltk/tokenize/__init__.py\u001b[0m in \u001b[0;36msent_tokenize\u001b[0;34m(text, language)\u001b[0m\n\u001b[1;32m    104\u001b[0m     \"\"\"\n\u001b[0;32m--> 105\u001b[0;31m     \u001b[0mtokenizer\u001b[0m \u001b[0;34m=\u001b[0m \u001b[0mload\u001b[0m\u001b[0;34m(\u001b[0m\u001b[0;34m'tokenizers/punkt/{0}.pickle'\u001b[0m\u001b[0;34m.\u001b[0m\u001b[0mformat\u001b[0m\u001b[0;34m(\u001b[0m\u001b[0mlanguage\u001b[0m\u001b[0;34m)\u001b[0m\u001b[0;34m)\u001b[0m\u001b[0;34m\u001b[0m\u001b[0;34m\u001b[0m\u001b[0m\n\u001b[0m\u001b[1;32m    106\u001b[0m     \u001b[0;32mreturn\u001b[0m \u001b[0mtokenizer\u001b[0m\u001b[0;34m.\u001b[0m\u001b[0mtokenize\u001b[0m\u001b[0;34m(\u001b[0m\u001b[0mtext\u001b[0m\u001b[0;34m)\u001b[0m\u001b[0;34m\u001b[0m\u001b[0;34m\u001b[0m\u001b[0m\n",
          "\u001b[0;32m~/anaconda3/envs/keras/lib/python3.6/site-packages/nltk/data.py\u001b[0m in \u001b[0;36mload\u001b[0;34m(resource_url, format, cache, verbose, logic_parser, fstruct_reader, encoding)\u001b[0m\n\u001b[1;32m    867\u001b[0m     \u001b[0;31m# Load the resource.\u001b[0m\u001b[0;34m\u001b[0m\u001b[0;34m\u001b[0m\u001b[0;34m\u001b[0m\u001b[0m\n\u001b[0;32m--> 868\u001b[0;31m     \u001b[0mopened_resource\u001b[0m \u001b[0;34m=\u001b[0m \u001b[0m_open\u001b[0m\u001b[0;34m(\u001b[0m\u001b[0mresource_url\u001b[0m\u001b[0;34m)\u001b[0m\u001b[0;34m\u001b[0m\u001b[0;34m\u001b[0m\u001b[0m\n\u001b[0m\u001b[1;32m    869\u001b[0m \u001b[0;34m\u001b[0m\u001b[0m\n",
          "\u001b[0;32m~/anaconda3/envs/keras/lib/python3.6/site-packages/nltk/data.py\u001b[0m in \u001b[0;36m_open\u001b[0;34m(resource_url)\u001b[0m\n\u001b[1;32m    992\u001b[0m     \u001b[0;32mif\u001b[0m \u001b[0mprotocol\u001b[0m \u001b[0;32mis\u001b[0m \u001b[0;32mNone\u001b[0m \u001b[0;32mor\u001b[0m \u001b[0mprotocol\u001b[0m\u001b[0;34m.\u001b[0m\u001b[0mlower\u001b[0m\u001b[0;34m(\u001b[0m\u001b[0;34m)\u001b[0m \u001b[0;34m==\u001b[0m \u001b[0;34m'nltk'\u001b[0m\u001b[0;34m:\u001b[0m\u001b[0;34m\u001b[0m\u001b[0;34m\u001b[0m\u001b[0m\n\u001b[0;32m--> 993\u001b[0;31m         \u001b[0;32mreturn\u001b[0m \u001b[0mfind\u001b[0m\u001b[0;34m(\u001b[0m\u001b[0mpath_\u001b[0m\u001b[0;34m,\u001b[0m \u001b[0mpath\u001b[0m \u001b[0;34m+\u001b[0m \u001b[0;34m[\u001b[0m\u001b[0;34m''\u001b[0m\u001b[0;34m]\u001b[0m\u001b[0;34m)\u001b[0m\u001b[0;34m.\u001b[0m\u001b[0mopen\u001b[0m\u001b[0;34m(\u001b[0m\u001b[0;34m)\u001b[0m\u001b[0;34m\u001b[0m\u001b[0;34m\u001b[0m\u001b[0m\n\u001b[0m\u001b[1;32m    994\u001b[0m     \u001b[0;32melif\u001b[0m \u001b[0mprotocol\u001b[0m\u001b[0;34m.\u001b[0m\u001b[0mlower\u001b[0m\u001b[0;34m(\u001b[0m\u001b[0;34m)\u001b[0m \u001b[0;34m==\u001b[0m \u001b[0;34m'file'\u001b[0m\u001b[0;34m:\u001b[0m\u001b[0;34m\u001b[0m\u001b[0;34m\u001b[0m\u001b[0m\n",
          "\u001b[0;32m~/anaconda3/envs/keras/lib/python3.6/site-packages/nltk/data.py\u001b[0m in \u001b[0;36mfind\u001b[0;34m(resource_name, paths)\u001b[0m\n\u001b[1;32m    700\u001b[0m     \u001b[0mresource_not_found\u001b[0m \u001b[0;34m=\u001b[0m \u001b[0;34m'\\n%s\\n%s\\n%s\\n'\u001b[0m \u001b[0;34m%\u001b[0m \u001b[0;34m(\u001b[0m\u001b[0msep\u001b[0m\u001b[0;34m,\u001b[0m \u001b[0mmsg\u001b[0m\u001b[0;34m,\u001b[0m \u001b[0msep\u001b[0m\u001b[0;34m)\u001b[0m\u001b[0;34m\u001b[0m\u001b[0;34m\u001b[0m\u001b[0m\n\u001b[0;32m--> 701\u001b[0;31m     \u001b[0;32mraise\u001b[0m \u001b[0mLookupError\u001b[0m\u001b[0;34m(\u001b[0m\u001b[0mresource_not_found\u001b[0m\u001b[0;34m)\u001b[0m\u001b[0;34m\u001b[0m\u001b[0;34m\u001b[0m\u001b[0m\n\u001b[0m\u001b[1;32m    702\u001b[0m \u001b[0;34m\u001b[0m\u001b[0m\n",
          "\u001b[0;31mLookupError\u001b[0m: \n**********************************************************************\n  Resource \u001b[93mpunkt\u001b[0m not found.\n  Please use the NLTK Downloader to obtain the resource:\n\n  \u001b[31m>>> import nltk\n  >>> nltk.download('punkt')\n  \u001b[0m\n  For more information see: https://www.nltk.org/data.html\n\n  Attempted to load \u001b[93mtokenizers/punkt/PY3/english.pickle\u001b[0m\n\n  Searched in:\n    - '/Users/lizichao/nltk_data'\n    - '/Users/lizichao/anaconda3/envs/keras/nltk_data'\n    - '/Users/lizichao/anaconda3/envs/keras/share/nltk_data'\n    - '/Users/lizichao/anaconda3/envs/keras/lib/nltk_data'\n    - '/usr/share/nltk_data'\n    - '/usr/local/share/nltk_data'\n    - '/usr/lib/nltk_data'\n    - '/usr/local/lib/nltk_data'\n    - ''\n**********************************************************************\n",
          "\nDuring handling of the above exception, another exception occurred:\n",
          "\u001b[0;31mMissingCorpusError\u001b[0m                        Traceback (most recent call last)",
          "\u001b[0;32m~/anaconda3/envs/keras/lib/python3.6/site-packages/ipywidgets/widgets/interaction.py\u001b[0m in \u001b[0;36mupdate\u001b[0;34m(self, *args)\u001b[0m\n\u001b[1;32m    254\u001b[0m                     \u001b[0mvalue\u001b[0m \u001b[0;34m=\u001b[0m \u001b[0mwidget\u001b[0m\u001b[0;34m.\u001b[0m\u001b[0mget_interact_value\u001b[0m\u001b[0;34m(\u001b[0m\u001b[0;34m)\u001b[0m\u001b[0;34m\u001b[0m\u001b[0;34m\u001b[0m\u001b[0m\n\u001b[1;32m    255\u001b[0m                     \u001b[0mself\u001b[0m\u001b[0;34m.\u001b[0m\u001b[0mkwargs\u001b[0m\u001b[0;34m[\u001b[0m\u001b[0mwidget\u001b[0m\u001b[0;34m.\u001b[0m\u001b[0m_kwarg\u001b[0m\u001b[0;34m]\u001b[0m \u001b[0;34m=\u001b[0m \u001b[0mvalue\u001b[0m\u001b[0;34m\u001b[0m\u001b[0;34m\u001b[0m\u001b[0m\n\u001b[0;32m--> 256\u001b[0;31m                 \u001b[0mself\u001b[0m\u001b[0;34m.\u001b[0m\u001b[0mresult\u001b[0m \u001b[0;34m=\u001b[0m \u001b[0mself\u001b[0m\u001b[0;34m.\u001b[0m\u001b[0mf\u001b[0m\u001b[0;34m(\u001b[0m\u001b[0;34m**\u001b[0m\u001b[0mself\u001b[0m\u001b[0;34m.\u001b[0m\u001b[0mkwargs\u001b[0m\u001b[0;34m)\u001b[0m\u001b[0;34m\u001b[0m\u001b[0;34m\u001b[0m\u001b[0m\n\u001b[0m\u001b[1;32m    257\u001b[0m                 \u001b[0mshow_inline_matplotlib_plots\u001b[0m\u001b[0;34m(\u001b[0m\u001b[0;34m)\u001b[0m\u001b[0;34m\u001b[0m\u001b[0;34m\u001b[0m\u001b[0m\n\u001b[1;32m    258\u001b[0m                 \u001b[0;32mif\u001b[0m \u001b[0mself\u001b[0m\u001b[0;34m.\u001b[0m\u001b[0mauto_display\u001b[0m \u001b[0;32mand\u001b[0m \u001b[0mself\u001b[0m\u001b[0;34m.\u001b[0m\u001b[0mresult\u001b[0m \u001b[0;32mis\u001b[0m \u001b[0;32mnot\u001b[0m \u001b[0;32mNone\u001b[0m\u001b[0;34m:\u001b[0m\u001b[0;34m\u001b[0m\u001b[0;34m\u001b[0m\u001b[0m\n",
          "\u001b[0;32m<ipython-input-1-0d77f36c2c83>\u001b[0m in \u001b[0;36mcolor_changer\u001b[0;34m(x, Genre, Metric)\u001b[0m\n\u001b[1;32m    304\u001b[0m     \u001b[0;32mwith\u001b[0m \u001b[0mstatus3\u001b[0m\u001b[0;34m:\u001b[0m\u001b[0;34m\u001b[0m\u001b[0;34m\u001b[0m\u001b[0m\n\u001b[1;32m    305\u001b[0m         \u001b[0mprint\u001b[0m\u001b[0;34m(\u001b[0m\u001b[0;34m'Now loading...'\u001b[0m\u001b[0;34m+\u001b[0m\u001b[0;34m'\\r'\u001b[0m\u001b[0;34m,\u001b[0m\u001b[0mend\u001b[0m\u001b[0;34m=\u001b[0m\u001b[0;34m''\u001b[0m\u001b[0;34m)\u001b[0m\u001b[0;34m\u001b[0m\u001b[0;34m\u001b[0m\u001b[0m\n\u001b[0;32m--> 306\u001b[0;31m     \u001b[0mcategorization\u001b[0m\u001b[0;34m,\u001b[0m \u001b[0moverall_score\u001b[0m \u001b[0;34m=\u001b[0m \u001b[0manalyze_text\u001b[0m\u001b[0;34m(\u001b[0m\u001b[0mx\u001b[0m\u001b[0;34m,\u001b[0m\u001b[0mGenre\u001b[0m\u001b[0;34m,\u001b[0m\u001b[0mMetric\u001b[0m\u001b[0;34m)\u001b[0m\u001b[0;34m\u001b[0m\u001b[0;34m\u001b[0m\u001b[0m\n\u001b[0m\u001b[1;32m    307\u001b[0m     \u001b[0mwords\u001b[0m \u001b[0;34m=\u001b[0m \u001b[0mx\u001b[0m\u001b[0;34m.\u001b[0m\u001b[0msplit\u001b[0m\u001b[0;34m(\u001b[0m\u001b[0;34m)\u001b[0m\u001b[0;34m\u001b[0m\u001b[0;34m\u001b[0m\u001b[0m\n\u001b[1;32m    308\u001b[0m     \u001b[0;32mfor\u001b[0m \u001b[0mword\u001b[0m \u001b[0;32min\u001b[0m \u001b[0mwords\u001b[0m\u001b[0;34m:\u001b[0m\u001b[0;34m\u001b[0m\u001b[0;34m\u001b[0m\u001b[0m\n",
          "\u001b[0;32m<ipython-input-1-0d77f36c2c83>\u001b[0m in \u001b[0;36manalyze_text\u001b[0;34m(text, genre, metric)\u001b[0m\n\u001b[1;32m    269\u001b[0m     \u001b[0mscore_avg\u001b[0m \u001b[0;34m=\u001b[0m \u001b[0;36m0\u001b[0m\u001b[0;34m\u001b[0m\u001b[0;34m\u001b[0m\u001b[0m\n\u001b[1;32m    270\u001b[0m     \u001b[0mcounter\u001b[0m \u001b[0;34m=\u001b[0m \u001b[0;36m0\u001b[0m\u001b[0;34m\u001b[0m\u001b[0;34m\u001b[0m\u001b[0m\n\u001b[0;32m--> 271\u001b[0;31m     \u001b[0;32mfor\u001b[0m \u001b[0mword\u001b[0m \u001b[0;32min\u001b[0m \u001b[0mlist\u001b[0m\u001b[0;34m(\u001b[0m\u001b[0mBlob\u001b[0m\u001b[0;34m.\u001b[0m\u001b[0mwords\u001b[0m\u001b[0;34m)\u001b[0m\u001b[0;34m:\u001b[0m\u001b[0;34m\u001b[0m\u001b[0;34m\u001b[0m\u001b[0m\n\u001b[0m\u001b[1;32m    272\u001b[0m         \u001b[0;32mif\u001b[0m \u001b[0mword\u001b[0m \u001b[0;32min\u001b[0m \u001b[0mlist\u001b[0m\u001b[0;34m(\u001b[0m\u001b[0mdf_genre\u001b[0m\u001b[0;34m.\u001b[0m\u001b[0mwords\u001b[0m\u001b[0;34m)\u001b[0m\u001b[0;34m:\u001b[0m\u001b[0;34m\u001b[0m\u001b[0;34m\u001b[0m\u001b[0m\n\u001b[1;32m    273\u001b[0m             \u001b[0mword_index\u001b[0m \u001b[0;34m=\u001b[0m \u001b[0mdf_genre\u001b[0m\u001b[0;34m.\u001b[0m\u001b[0mwords\u001b[0m\u001b[0;34m[\u001b[0m\u001b[0mdf_genre\u001b[0m\u001b[0;34m.\u001b[0m\u001b[0mwords\u001b[0m\u001b[0;34m==\u001b[0m\u001b[0mword\u001b[0m\u001b[0;34m]\u001b[0m\u001b[0;34m.\u001b[0m\u001b[0mindex\u001b[0m\u001b[0;34m[\u001b[0m\u001b[0;36m0\u001b[0m\u001b[0;34m]\u001b[0m\u001b[0;34m\u001b[0m\u001b[0;34m\u001b[0m\u001b[0m\n",
          "\u001b[0;32m~/anaconda3/envs/keras/lib/python3.6/site-packages/textblob/decorators.py\u001b[0m in \u001b[0;36m__get__\u001b[0;34m(self, obj, cls)\u001b[0m\n\u001b[1;32m     22\u001b[0m         \u001b[0;32mif\u001b[0m \u001b[0mobj\u001b[0m \u001b[0;32mis\u001b[0m \u001b[0;32mNone\u001b[0m\u001b[0;34m:\u001b[0m\u001b[0;34m\u001b[0m\u001b[0;34m\u001b[0m\u001b[0m\n\u001b[1;32m     23\u001b[0m             \u001b[0;32mreturn\u001b[0m \u001b[0mself\u001b[0m\u001b[0;34m\u001b[0m\u001b[0;34m\u001b[0m\u001b[0m\n\u001b[0;32m---> 24\u001b[0;31m         \u001b[0mvalue\u001b[0m \u001b[0;34m=\u001b[0m \u001b[0mobj\u001b[0m\u001b[0;34m.\u001b[0m\u001b[0m__dict__\u001b[0m\u001b[0;34m[\u001b[0m\u001b[0mself\u001b[0m\u001b[0;34m.\u001b[0m\u001b[0mfunc\u001b[0m\u001b[0;34m.\u001b[0m\u001b[0m__name__\u001b[0m\u001b[0;34m]\u001b[0m \u001b[0;34m=\u001b[0m \u001b[0mself\u001b[0m\u001b[0;34m.\u001b[0m\u001b[0mfunc\u001b[0m\u001b[0;34m(\u001b[0m\u001b[0mobj\u001b[0m\u001b[0;34m)\u001b[0m\u001b[0;34m\u001b[0m\u001b[0;34m\u001b[0m\u001b[0m\n\u001b[0m\u001b[1;32m     25\u001b[0m         \u001b[0;32mreturn\u001b[0m \u001b[0mvalue\u001b[0m\u001b[0;34m\u001b[0m\u001b[0;34m\u001b[0m\u001b[0m\n\u001b[1;32m     26\u001b[0m \u001b[0;34m\u001b[0m\u001b[0m\n",
          "\u001b[0;32m~/anaconda3/envs/keras/lib/python3.6/site-packages/textblob/blob.py\u001b[0m in \u001b[0;36mwords\u001b[0;34m(self)\u001b[0m\n\u001b[1;32m    647\u001b[0m         \u001b[0;34m:\u001b[0m\u001b[0mreturns\u001b[0m\u001b[0;34m:\u001b[0m \u001b[0mA\u001b[0m \u001b[0;34m:\u001b[0m\u001b[0;32mclass\u001b[0m\u001b[0;34m:\u001b[0m\u001b[0;31m`\u001b[0m\u001b[0mWordList\u001b[0m \u001b[0;34m<\u001b[0m\u001b[0mWordList\u001b[0m\u001b[0;34m>\u001b[0m\u001b[0;31m`\u001b[0m \u001b[0mof\u001b[0m \u001b[0mword\u001b[0m \u001b[0mtokens\u001b[0m\u001b[0;34m.\u001b[0m\u001b[0;34m\u001b[0m\u001b[0;34m\u001b[0m\u001b[0m\n\u001b[1;32m    648\u001b[0m         \"\"\"\n\u001b[0;32m--> 649\u001b[0;31m         \u001b[0;32mreturn\u001b[0m \u001b[0mWordList\u001b[0m\u001b[0;34m(\u001b[0m\u001b[0mword_tokenize\u001b[0m\u001b[0;34m(\u001b[0m\u001b[0mself\u001b[0m\u001b[0;34m.\u001b[0m\u001b[0mraw\u001b[0m\u001b[0;34m,\u001b[0m \u001b[0minclude_punc\u001b[0m\u001b[0;34m=\u001b[0m\u001b[0;32mFalse\u001b[0m\u001b[0;34m)\u001b[0m\u001b[0;34m)\u001b[0m\u001b[0;34m\u001b[0m\u001b[0;34m\u001b[0m\u001b[0m\n\u001b[0m\u001b[1;32m    650\u001b[0m \u001b[0;34m\u001b[0m\u001b[0m\n\u001b[1;32m    651\u001b[0m     \u001b[0;34m@\u001b[0m\u001b[0mproperty\u001b[0m\u001b[0;34m\u001b[0m\u001b[0;34m\u001b[0m\u001b[0m\n",
          "\u001b[0;32m~/anaconda3/envs/keras/lib/python3.6/site-packages/textblob/tokenizers.py\u001b[0m in \u001b[0;36mword_tokenize\u001b[0;34m(text, include_punc, *args, **kwargs)\u001b[0m\n\u001b[1;32m     71\u001b[0m         _word_tokenizer.itokenize(sentence, include_punc=include_punc,\n\u001b[1;32m     72\u001b[0m                                 *args, **kwargs)\n\u001b[0;32m---> 73\u001b[0;31m         for sentence in sent_tokenize(text))\n\u001b[0m\u001b[1;32m     74\u001b[0m     \u001b[0;32mreturn\u001b[0m \u001b[0mwords\u001b[0m\u001b[0;34m\u001b[0m\u001b[0;34m\u001b[0m\u001b[0m\n",
          "\u001b[0;32m~/anaconda3/envs/keras/lib/python3.6/site-packages/textblob/base.py\u001b[0m in \u001b[0;36mitokenize\u001b[0;34m(self, text, *args, **kwargs)\u001b[0m\n\u001b[1;32m     62\u001b[0m         \u001b[0;34m:\u001b[0m\u001b[0mrtype\u001b[0m\u001b[0;34m:\u001b[0m \u001b[0mgenerator\u001b[0m\u001b[0;34m\u001b[0m\u001b[0;34m\u001b[0m\u001b[0m\n\u001b[1;32m     63\u001b[0m         \"\"\"\n\u001b[0;32m---> 64\u001b[0;31m         \u001b[0;32mreturn\u001b[0m \u001b[0;34m(\u001b[0m\u001b[0mt\u001b[0m \u001b[0;32mfor\u001b[0m \u001b[0mt\u001b[0m \u001b[0;32min\u001b[0m \u001b[0mself\u001b[0m\u001b[0;34m.\u001b[0m\u001b[0mtokenize\u001b[0m\u001b[0;34m(\u001b[0m\u001b[0mtext\u001b[0m\u001b[0;34m,\u001b[0m \u001b[0;34m*\u001b[0m\u001b[0margs\u001b[0m\u001b[0;34m,\u001b[0m \u001b[0;34m**\u001b[0m\u001b[0mkwargs\u001b[0m\u001b[0;34m)\u001b[0m\u001b[0;34m)\u001b[0m\u001b[0;34m\u001b[0m\u001b[0;34m\u001b[0m\u001b[0m\n\u001b[0m\u001b[1;32m     65\u001b[0m \u001b[0;34m\u001b[0m\u001b[0m\n\u001b[1;32m     66\u001b[0m \u001b[0;31m##### SENTIMENT ANALYZERS ####\u001b[0m\u001b[0;34m\u001b[0m\u001b[0;34m\u001b[0m\u001b[0;34m\u001b[0m\u001b[0m\n",
          "\u001b[0;32m~/anaconda3/envs/keras/lib/python3.6/site-packages/textblob/decorators.py\u001b[0m in \u001b[0;36mdecorated\u001b[0;34m(*args, **kwargs)\u001b[0m\n\u001b[1;32m     36\u001b[0m         \u001b[0;32mexcept\u001b[0m \u001b[0mLookupError\u001b[0m \u001b[0;32mas\u001b[0m \u001b[0merr\u001b[0m\u001b[0;34m:\u001b[0m\u001b[0;34m\u001b[0m\u001b[0;34m\u001b[0m\u001b[0m\n\u001b[1;32m     37\u001b[0m             \u001b[0mprint\u001b[0m\u001b[0;34m(\u001b[0m\u001b[0merr\u001b[0m\u001b[0;34m)\u001b[0m\u001b[0;34m\u001b[0m\u001b[0;34m\u001b[0m\u001b[0m\n\u001b[0;32m---> 38\u001b[0;31m             \u001b[0;32mraise\u001b[0m \u001b[0mMissingCorpusError\u001b[0m\u001b[0;34m(\u001b[0m\u001b[0;34m)\u001b[0m\u001b[0;34m\u001b[0m\u001b[0;34m\u001b[0m\u001b[0m\n\u001b[0m\u001b[1;32m     39\u001b[0m     \u001b[0;32mreturn\u001b[0m \u001b[0mdecorated\u001b[0m\u001b[0;34m\u001b[0m\u001b[0;34m\u001b[0m\u001b[0m\n",
          "\u001b[0;31mMissingCorpusError\u001b[0m: \nLooks like you are missing some required data for this feature.\n\nTo download the necessary data, simply run\n\n    python -m textblob.download_corpora\n\nor use the NLTK downloader to download the missing data: http://nltk.org/data.html\nIf this doesn't fix the problem, file an issue at https://github.com/sloria/TextBlob/issues.\n"
         ]
        }
       ]
      }
     },
     "b7e9a507c6e24a91bd23cee909a71057": {
      "model_module": "@jupyter-widgets/base",
      "model_module_version": "1.2.0",
      "model_name": "LayoutModel",
      "state": {}
     },
     "b8ab9a5587bf450d914d8f6af47bca0c": {
      "model_module": "@jupyter-widgets/output",
      "model_module_version": "1.0.0",
      "model_name": "OutputModel",
      "state": {
       "layout": "IPY_MODEL_e1733df1c38d49b4a1ebb34f7ba43e85",
       "outputs": [
        {
         "name": "stdout",
         "output_type": "stream",
         "text": "Now loading...\r"
        }
       ]
      }
     },
     "b8f001d80d8747a2a2e68035e9d63bf8": {
      "model_module": "@jupyter-widgets/controls",
      "model_module_version": "1.5.0",
      "model_name": "DropdownModel",
      "state": {
       "_options_labels": [
        "cooking",
        "influencers",
        "gaming"
       ],
       "description": "Genre",
       "index": 0,
       "layout": "IPY_MODEL_84ce2a7cf9614b2692a0d3fabe31d5f1",
       "style": "IPY_MODEL_78fa86f280354ac4a4e518e968555685"
      }
     },
     "b910374be2ff48eb97a1e1c3cdc584d0": {
      "model_module": "@jupyter-widgets/controls",
      "model_module_version": "1.5.0",
      "model_name": "DescriptionStyleModel",
      "state": {
       "description_width": ""
      }
     },
     "b98f65896e5b488aa2190d347aaeaf2b": {
      "model_module": "@jupyter-widgets/controls",
      "model_module_version": "1.5.0",
      "model_name": "HTMLModel",
      "state": {
       "layout": "IPY_MODEL_8089f7666906420f8a812d93c1350866",
       "style": "IPY_MODEL_ae7069231ec94040a874aefb4778cdfa",
       "value": "<b><font size='2' color='Black'>How insane is it that sometimes you see the most amazing video on youtube, \nand yet it took nearly a decade for it to be popular? Or a subpar video which hits a \nmillion views within a week? A lot of it has to do with the way you market your content. \nSponsoring advertisements for your posts helps, but it depends heavily on the \ntextual supporting descriptions that you add. And an even deeper question is: what makes certain \nwords more popular than others? What receives more hate by the public? Are certain \ntopics more active during election years or during a pandemic? Fortunately, our platform and tools will figure it out for you\n. We’re trying to create a simple \nplatform which serves as a proof of concept for how sentiment analysis can be extended \nto utility on a daily basis, with a very wide customer demographic.\n</b>"
      }
     },
     "ba3200a414f64228992f7a15bd1938a1": {
      "model_module": "@jupyter-widgets/controls",
      "model_module_version": "1.5.0",
      "model_name": "DropdownModel",
      "state": {
       "_options_labels": [
        "cooking",
        "influencers",
        "gaming"
       ],
       "description": "Genre",
       "index": 0,
       "layout": "IPY_MODEL_e8fbdfb057144c77b8a878d2d3d975ac",
       "style": "IPY_MODEL_502425be78f6429999f6e4cf6aa95ed2"
      }
     },
     "ba503b08d18e46f8b78b6c3309edd4ea": {
      "model_module": "@jupyter-widgets/base",
      "model_module_version": "1.2.0",
      "model_name": "LayoutModel",
      "state": {}
     },
     "bb26bbbce4e54739a86fee0d347a75e5": {
      "model_module": "@jupyter-widgets/controls",
      "model_module_version": "1.5.0",
      "model_name": "DescriptionStyleModel",
      "state": {
       "description_width": ""
      }
     },
     "bb5453b016b247b29ce0d21b8837f7e0": {
      "model_module": "@jupyter-widgets/base",
      "model_module_version": "1.2.0",
      "model_name": "LayoutModel",
      "state": {}
     },
     "bd0a621f4e814b7da822a4737423feb8": {
      "model_module": "@jupyter-widgets/controls",
      "model_module_version": "1.5.0",
      "model_name": "DescriptionStyleModel",
      "state": {
       "description_width": ""
      }
     },
     "bd33186de39740f89510188b06ffde16": {
      "model_module": "@jupyter-widgets/base",
      "model_module_version": "1.2.0",
      "model_name": "LayoutModel",
      "state": {}
     },
     "be36eaf0598d4888a6db6c2dbdf38a60": {
      "model_module": "@jupyter-widgets/base",
      "model_module_version": "1.2.0",
      "model_name": "LayoutModel",
      "state": {}
     },
     "bf33e0f631a040b3b8e0edc09fe77730": {
      "model_module": "@jupyter-widgets/controls",
      "model_module_version": "1.5.0",
      "model_name": "VBoxModel",
      "state": {
       "_dom_classes": [
        "widget-interact"
       ],
       "children": [
        "IPY_MODEL_63a2a9b2f19547d6b8d110731d5f90c0",
        "IPY_MODEL_27cc694547fc44f5861b75777b2f0205",
        "IPY_MODEL_1a520462c521445390becdaec5fcbd44"
       ],
       "layout": "IPY_MODEL_ea3776ad244d4a6c8b6017e272284a0d"
      }
     },
     "c02833ab727143ffa0d2972e80347b8f": {
      "model_module": "@jupyter-widgets/base",
      "model_module_version": "1.2.0",
      "model_name": "LayoutModel",
      "state": {}
     },
     "c0cd094093204fa985bc4e852d07222a": {
      "model_module": "@jupyter-widgets/base",
      "model_module_version": "1.2.0",
      "model_name": "LayoutModel",
      "state": {}
     },
     "c1983130db314167ae2bff9cb309df97": {
      "model_module": "@jupyter-widgets/controls",
      "model_module_version": "1.5.0",
      "model_name": "DescriptionStyleModel",
      "state": {
       "description_width": ""
      }
     },
     "c202a5b6ddb248fbac372a7e8fdab6af": {
      "model_module": "@jupyter-widgets/base",
      "model_module_version": "1.2.0",
      "model_name": "LayoutModel",
      "state": {}
     },
     "c2fb99b9a66f4803ae193abafc238d64": {
      "model_module": "@jupyter-widgets/output",
      "model_module_version": "1.0.0",
      "model_name": "OutputModel",
      "state": {
       "layout": "IPY_MODEL_94c7ac91445148568d518585f22785d0",
       "outputs": [
        {
         "data": {
          "text/plain": "<Figure size 640x480 with 1 Axes>"
         },
         "metadata": {},
         "output_type": "display_data"
        }
       ]
      }
     },
     "c36017309fe04078ba3f988ec7629c5e": {
      "model_module": "@jupyter-widgets/controls",
      "model_module_version": "1.5.0",
      "model_name": "DropdownModel",
      "state": {
       "_options_labels": [
        "cooking",
        "influencers",
        "gaming"
       ],
       "description": "Genre",
       "index": 0,
       "layout": "IPY_MODEL_de0418edf621401fa210902fb61c20b7",
       "style": "IPY_MODEL_9b93fdfa01064f8eae81c3f148bc2e39"
      }
     },
     "c3b17fab148b4e61b08ee165a9b5afe8": {
      "model_module": "@jupyter-widgets/base",
      "model_module_version": "1.2.0",
      "model_name": "LayoutModel",
      "state": {}
     },
     "c49a2baefbef4dbca9cb2ba4635bdc5b": {
      "model_module": "@jupyter-widgets/base",
      "model_module_version": "1.2.0",
      "model_name": "LayoutModel",
      "state": {}
     },
     "c56949a107754d939627d4b039c5be0d": {
      "model_module": "@jupyter-widgets/base",
      "model_module_version": "1.2.0",
      "model_name": "LayoutModel",
      "state": {}
     },
     "c58a1feaa7e34e589c6b202cec9c0802": {
      "model_module": "@jupyter-widgets/base",
      "model_module_version": "1.2.0",
      "model_name": "LayoutModel",
      "state": {}
     },
     "c646d3d170294629ac4bf91b98f069e2": {
      "model_module": "@jupyter-widgets/controls",
      "model_module_version": "1.5.0",
      "model_name": "TextModel",
      "state": {
       "description": "like",
       "layout": "IPY_MODEL_af061f43cd7548d8b8f9d1eb8fa26715",
       "style": "IPY_MODEL_10fb8efc6acf4366bc7ee353c965aefc",
       "value": "like"
      }
     },
     "c7d05790c111421a84303a5f673464e5": {
      "model_module": "@jupyter-widgets/controls",
      "model_module_version": "1.5.0",
      "model_name": "DescriptionStyleModel",
      "state": {
       "description_width": ""
      }
     },
     "cc54f86922bf4d9cae3c43dc9f852eab": {
      "model_module": "@jupyter-widgets/controls",
      "model_module_version": "1.5.0",
      "model_name": "DescriptionStyleModel",
      "state": {
       "description_width": ""
      }
     },
     "ce192155f9f647bda4c3346a925ab9d8": {
      "model_module": "@jupyter-widgets/base",
      "model_module_version": "1.2.0",
      "model_name": "LayoutModel",
      "state": {}
     },
     "ceb212ae64384754a801dec75fa71f39": {
      "model_module": "@jupyter-widgets/controls",
      "model_module_version": "1.5.0",
      "model_name": "HTMLModel",
      "state": {
       "layout": "IPY_MODEL_a024a2b8510347a8a363947f05e9da94",
       "style": "IPY_MODEL_f2876f906e314251aa42c23f2d752a26",
       "value": "<b><font size='2' color='Black'>\nOur Text Analysis tool will generate word connotations based on the words typed into the textbox.  \nWords will be colored according to its positive or negative sentiment.\n For example, words in red denoting a negative word, words in yellow denoting neutral words and green denoting a positive word. Words that can not be \n decided will remain in black.\n Also, you can select the genre and metric of interest. \n</b>"
      }
     },
     "cef4afbb3abf4e769e736f5c94745a65": {
      "model_module": "@jupyter-widgets/base",
      "model_module_version": "1.2.0",
      "model_name": "LayoutModel",
      "state": {}
     },
     "cef5f3594f4a44049c5f56019bbe9c26": {
      "model_module": "@jupyter-widgets/controls",
      "model_module_version": "1.5.0",
      "model_name": "AccordionModel",
      "state": {
       "_titles": {
        "0": "Popular Keywords over Time",
        "1": "Likes&Dislikes over Time ",
        "2": "Text Analysis "
       },
       "children": [
        "IPY_MODEL_05095101551b421f9913856a1bcc21cc",
        "IPY_MODEL_6570a938e4304f64bcfbd48fcf6742e5",
        "IPY_MODEL_6b47810d627d4339ac714021e7e35b0f"
       ],
       "layout": "IPY_MODEL_2cb02c107601431b9fc0cbabd52bd4d2",
       "selected_index": 2
      }
     },
     "d12b78ab9ce745c2a88660a5b15c245b": {
      "model_module": "@jupyter-widgets/controls",
      "model_module_version": "1.5.0",
      "model_name": "SelectionSliderModel",
      "state": {
       "_options_labels": [
        "2015-01",
        "2015-02",
        "2015-03",
        "2015-04",
        "2015-05",
        "2015-06",
        "2015-07",
        "2015-08",
        "2015-09",
        "2015-10",
        "2015-11",
        "2015-12",
        "2016-01",
        "2016-02",
        "2016-03",
        "2016-04",
        "2016-05",
        "2016-06",
        "2016-07",
        "2016-08",
        "2016-09",
        "2016-10",
        "2016-11",
        "2016-12",
        "2017-01",
        "2017-02",
        "2017-03",
        "2017-04",
        "2017-05",
        "2017-06",
        "2017-07",
        "2017-08",
        "2017-09",
        "2017-10",
        "2017-11",
        "2017-12",
        "2018-01",
        "2018-02",
        "2018-03",
        "2018-04",
        "2018-05",
        "2018-06",
        "2018-07",
        "2018-08",
        "2018-09",
        "2018-10",
        "2018-11",
        "2018-12",
        "2019-01",
        "2019-02",
        "2019-03",
        "2019-04",
        "2019-05",
        "2019-06",
        "2019-07",
        "2019-08",
        "2019-09",
        "2019-10",
        "2019-11",
        "2019-12"
       ],
       "continuous_update": false,
       "description": "Date",
       "index": 0,
       "layout": "IPY_MODEL_aae2c5c417de4001bcd2270711e9422f",
       "style": "IPY_MODEL_09163c1ad3e240d98a124ca2908b53c2"
      }
     },
     "d2207b4ea31c40b690145298df529635": {
      "model_module": "@jupyter-widgets/base",
      "model_module_version": "1.2.0",
      "model_name": "LayoutModel",
      "state": {}
     },
     "d2908b2561cb4da7aaf2aee9e360e6b7": {
      "model_module": "@jupyter-widgets/base",
      "model_module_version": "1.2.0",
      "model_name": "LayoutModel",
      "state": {
       "grid_template_areas": "\"header header header\"\n\"center center center\"",
       "grid_template_columns": "1fr 2fr 1fr",
       "grid_template_rows": "1fr 3fr"
      }
     },
     "d2a7849dbf8e4ef5b51f4133f6601aaa": {
      "model_module": "@jupyter-widgets/controls",
      "model_module_version": "1.5.0",
      "model_name": "BoundedIntTextModel",
      "state": {
       "description": "Integer:",
       "layout": "IPY_MODEL_658a1c2f32024c73a2998b887036c16e",
       "max": 200,
       "style": "IPY_MODEL_5fbeaf2186244580a95667a7f7548bf8",
       "value": 10
      }
     },
     "d4bd2f249f0b4c9cae7e3cb304c1b930": {
      "model_module": "@jupyter-widgets/controls",
      "model_module_version": "1.5.0",
      "model_name": "DescriptionStyleModel",
      "state": {
       "description_width": ""
      }
     },
     "d4e27f4589834f5393f45bd6363b56ba": {
      "model_module": "@jupyter-widgets/controls",
      "model_module_version": "1.5.0",
      "model_name": "VBoxModel",
      "state": {
       "children": [
        "IPY_MODEL_ae6bde89226545a3a17e9b86904eedc9",
        "IPY_MODEL_3f77854086b841e18c0ca833074ef401",
        "IPY_MODEL_5f88385f4dff42be92cc5b72c96b729b"
       ],
       "layout": "IPY_MODEL_8f6904f8a4d440edaad8e86384ddaf3d"
      }
     },
     "d54f3616928246f1810f7d56c0ed02c2": {
      "model_module": "@jupyter-widgets/base",
      "model_module_version": "1.2.0",
      "model_name": "LayoutModel",
      "state": {}
     },
     "d8cfc5480c864fe880045fc4ecb895e8": {
      "model_module": "@jupyter-widgets/controls",
      "model_module_version": "1.5.0",
      "model_name": "DropdownModel",
      "state": {
       "_options_labels": [
        "cooking",
        "influencers",
        "gaming"
       ],
       "description": "Genre",
       "index": 0,
       "layout": "IPY_MODEL_4bdc91682936454f9ba7f78d8ed98d19",
       "style": "IPY_MODEL_fc8310520e104826bc8b4ad8ba8bd92e"
      }
     },
     "d939c2986b79485b8c137807b8c89ffa": {
      "model_module": "@jupyter-widgets/base",
      "model_module_version": "1.2.0",
      "model_name": "LayoutModel",
      "state": {
       "grid_area": "header"
      }
     },
     "d976bf2118cf4c3598b4acbd5fae3936": {
      "model_module": "@jupyter-widgets/controls",
      "model_module_version": "1.5.0",
      "model_name": "DescriptionStyleModel",
      "state": {
       "description_width": ""
      }
     },
     "db0bb26161464eaa85efd50caa361f22": {
      "model_module": "@jupyter-widgets/controls",
      "model_module_version": "1.5.0",
      "model_name": "TabModel",
      "state": {
       "_titles": {
        "0": "Popular Keywords VS Month",
        "1": "Popular Keywords across all time"
       },
       "children": [
        "IPY_MODEL_f699b5cd94be4a769a1be00cf9787880",
        "IPY_MODEL_bf33e0f631a040b3b8e0edc09fe77730"
       ],
       "layout": "IPY_MODEL_f3ccfe55c50a4b74bbcb753160362476"
      }
     },
     "db4c0c45e7ca44b599f8ee4c52159a0d": {
      "model_module": "@jupyter-widgets/controls",
      "model_module_version": "1.5.0",
      "model_name": "DescriptionStyleModel",
      "state": {
       "description_width": ""
      }
     },
     "db60590f019e403fb579f86e1d0985cf": {
      "model_module": "@jupyter-widgets/controls",
      "model_module_version": "1.5.0",
      "model_name": "GridBoxModel",
      "state": {
       "children": [
        "IPY_MODEL_4b0352165a35400b85fcb97d6fd478c0",
        "IPY_MODEL_2cc1a09cd89547b19ced999647be1de5"
       ],
       "layout": "IPY_MODEL_3687053a039f4be5a08823c293b1066f"
      }
     },
     "dca9d71bc31a4c0890529309a408189c": {
      "model_module": "@jupyter-widgets/controls",
      "model_module_version": "1.5.0",
      "model_name": "VBoxModel",
      "state": {
       "children": [
        "IPY_MODEL_5de7cbbb88cb479b88815ef1245fe529",
        "IPY_MODEL_7f6bf1d8d2524de8bf0d623281d9a61c",
        "IPY_MODEL_e653bd1508c44d8db24d081b610f5149"
       ],
       "layout": "IPY_MODEL_112c48d00b134db6929d919e7e8b77cf"
      }
     },
     "dd77bd20262d401cb4e47668ac4a1963": {
      "model_module": "@jupyter-widgets/controls",
      "model_module_version": "1.5.0",
      "model_name": "DescriptionStyleModel",
      "state": {
       "description_width": ""
      }
     },
     "dd941048d92141eaa387c7f4af097f4f": {
      "model_module": "@jupyter-widgets/controls",
      "model_module_version": "1.5.0",
      "model_name": "VBoxModel",
      "state": {
       "children": [
        "IPY_MODEL_27669550f40f46b0aac485a62d5e86ca",
        "IPY_MODEL_5e6fe4205ab847ae85fe71aa9fe968b9",
        "IPY_MODEL_e62b2de490f945a8998f57e622a4624b"
       ],
       "layout": "IPY_MODEL_29a301b2b8ba45c8a259e4ce4b732005"
      }
     },
     "de0418edf621401fa210902fb61c20b7": {
      "model_module": "@jupyter-widgets/base",
      "model_module_version": "1.2.0",
      "model_name": "LayoutModel",
      "state": {}
     },
     "defa562fd0b14946a58fc0cd7c8b247d": {
      "model_module": "@jupyter-widgets/controls",
      "model_module_version": "1.5.0",
      "model_name": "HTMLModel",
      "state": {
       "layout": "IPY_MODEL_1de8f9a600694f478661ffced8a38598",
       "style": "IPY_MODEL_3214c9eccfc349d4bd9476674cf8c706",
       "value": "<b><font size='2' color='Black'>How insane is it that sometimes you see the most amazing video on youtube, \nand yet it took nearly a decade for it to be popular? Or a subpar video which hits a \nmillion views within a week? A lot of it has to do with the way you market your content. \nSponsoring advertisements for your posts helps, but it depends heavily on the \ntextual supporting descriptions that you add. And an even deeper question is: what makes certain \nwords more popular than others? What receives more hate by the public? Are certain \ntopics more active during election years or during a pandemic? Fortunately, our platform and tools will figure it out for you\n. We’re trying to create a simple \nplatform which serves as a proof of concept for how sentiment analysis can be extended \nto utility on a daily basis, with a very wide customer demographic.\n</b>"
      }
     },
     "e09072d763a04c4d9b7661343ac68f1a": {
      "model_module": "@jupyter-widgets/controls",
      "model_module_version": "1.5.0",
      "model_name": "VBoxModel",
      "state": {
       "_dom_classes": [
        "widget-interact"
       ],
       "children": [
        "IPY_MODEL_9973dda7a5194037ae280a27aeb4fd34",
        "IPY_MODEL_e992899ffd614efeabeea1d62704f218",
        "IPY_MODEL_92b351648e1542fd8c9f34fcc386d6f5",
        "IPY_MODEL_ab40973ca07941578e03eefcb8e4a302"
       ],
       "layout": "IPY_MODEL_58ef113a36f34109b116b5df6152ed8d"
      }
     },
     "e1733df1c38d49b4a1ebb34f7ba43e85": {
      "model_module": "@jupyter-widgets/base",
      "model_module_version": "1.2.0",
      "model_name": "LayoutModel",
      "state": {}
     },
     "e1f82e38a319436ab5bc4dccf327fa9e": {
      "model_module": "@jupyter-widgets/output",
      "model_module_version": "1.0.0",
      "model_name": "OutputModel",
      "state": {
       "layout": "IPY_MODEL_aaca24ca8a364679bef562a583bcdc0e",
       "outputs": [
        {
         "data": {
          "image/png": "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\n",
          "text/plain": "<Figure size 432x288 with 1 Axes>"
         },
         "metadata": {
          "needs_background": "light"
         },
         "output_type": "display_data"
        }
       ]
      }
     },
     "e34bb85cb3db48da84ea353fd4c47349": {
      "model_module": "@jupyter-widgets/base",
      "model_module_version": "1.2.0",
      "model_name": "LayoutModel",
      "state": {}
     },
     "e404ad7234d24ab5a60573c3f95270c6": {
      "model_module": "@jupyter-widgets/base",
      "model_module_version": "1.2.0",
      "model_name": "LayoutModel",
      "state": {}
     },
     "e412de0c252541e09b2c383ac8d92b32": {
      "model_module": "@jupyter-widgets/base",
      "model_module_version": "1.2.0",
      "model_name": "LayoutModel",
      "state": {}
     },
     "e43346ea092846af9c9f909e018f30b2": {
      "model_module": "@jupyter-widgets/controls",
      "model_module_version": "1.5.0",
      "model_name": "BoundedIntTextModel",
      "state": {
       "description": "Integer:",
       "layout": "IPY_MODEL_4c422c1083974817944028c9772aea78",
       "max": 200,
       "style": "IPY_MODEL_0314dfdd96f74b28a65a7cd7b5cb1c96",
       "value": 10
      }
     },
     "e62b2de490f945a8998f57e622a4624b": {
      "model_module": "@jupyter-widgets/output",
      "model_module_version": "1.0.0",
      "model_name": "OutputModel",
      "state": {
       "layout": "IPY_MODEL_477e2797cc5546bc8e449de7f7cf0b0f",
       "outputs": [
        {
         "name": "stdout",
         "output_type": "stream",
         "text": "Complete!     \r"
        }
       ]
      }
     },
     "e653bd1508c44d8db24d081b610f5149": {
      "model_module": "@jupyter-widgets/output",
      "model_module_version": "1.0.0",
      "model_name": "OutputModel",
      "state": {
       "layout": "IPY_MODEL_0127d1eed761488891e1864c6da12710",
       "outputs": [
        {
         "name": "stdout",
         "output_type": "stream",
         "text": "Complete!     \r"
        }
       ]
      }
     },
     "e708c48e108e4949809dbec1f961012b": {
      "model_module": "@jupyter-widgets/base",
      "model_module_version": "1.2.0",
      "model_name": "LayoutModel",
      "state": {}
     },
     "e70cca8b3cf84aeea2c429261de3ac0a": {
      "model_module": "@jupyter-widgets/output",
      "model_module_version": "1.0.0",
      "model_name": "OutputModel",
      "state": {
       "layout": "IPY_MODEL_c02833ab727143ffa0d2972e80347b8f"
      }
     },
     "e730415039c94d51a07ded82bfa5b59a": {
      "model_module": "@jupyter-widgets/controls",
      "model_module_version": "1.5.0",
      "model_name": "HTMLModel",
      "state": {
       "layout": "IPY_MODEL_1011265bb2334a9eb32e4876aa66493d",
       "style": "IPY_MODEL_96212e94367c4f2ba8c10491ae2c53f8",
       "value": "<b><font size='2' color='Black'>\nA second display will compose of two word clouds that present the positive and negative words respectively, \nshowcasing the words’ popularity based on its size. \n</b>"
      }
     },
     "e735edf5466d4c77bef9129b6877f375": {
      "model_module": "@jupyter-widgets/base",
      "model_module_version": "1.2.0",
      "model_name": "LayoutModel",
      "state": {}
     },
     "e8438bceb588483099baa0fc8c5b8bd7": {
      "model_module": "@jupyter-widgets/controls",
      "model_module_version": "1.5.0",
      "model_name": "DescriptionStyleModel",
      "state": {
       "description_width": ""
      }
     },
     "e8fbdfb057144c77b8a878d2d3d975ac": {
      "model_module": "@jupyter-widgets/base",
      "model_module_version": "1.2.0",
      "model_name": "LayoutModel",
      "state": {}
     },
     "e91137aed853442f9359752fd8da7c4b": {
      "model_module": "@jupyter-widgets/controls",
      "model_module_version": "1.5.0",
      "model_name": "VBoxModel",
      "state": {
       "_dom_classes": [
        "widget-interact"
       ],
       "children": [
        "IPY_MODEL_41d08c119ffe4ce390a3c22783ae346d",
        "IPY_MODEL_3c4b2a86ca944af485450d90c82ec9c4",
        "IPY_MODEL_a8eab8c943544227972b7748003831d6",
        "IPY_MODEL_19d987d02c3f495e8a11d26d4469bce3"
       ],
       "layout": "IPY_MODEL_0975d5b50ef34e7e84b07b57999a8c11"
      }
     },
     "e992899ffd614efeabeea1d62704f218": {
      "model_module": "@jupyter-widgets/controls",
      "model_module_version": "1.5.0",
      "model_name": "DropdownModel",
      "state": {
       "_options_labels": [
        "cooking",
        "influencers",
        "gaming"
       ],
       "description": "Genre",
       "index": 0,
       "layout": "IPY_MODEL_c202a5b6ddb248fbac372a7e8fdab6af",
       "style": "IPY_MODEL_10b35f00b6aa4a7aaf3dda12775d2000"
      }
     },
     "e9ffb5634a924bfc904215cb3875b374": {
      "model_module": "@jupyter-widgets/base",
      "model_module_version": "1.2.0",
      "model_name": "LayoutModel",
      "state": {
       "grid_area": "center"
      }
     },
     "ea3776ad244d4a6c8b6017e272284a0d": {
      "model_module": "@jupyter-widgets/base",
      "model_module_version": "1.2.0",
      "model_name": "LayoutModel",
      "state": {}
     },
     "ea8096671fb044a0b13fc4a7ec98d0d3": {
      "model_module": "@jupyter-widgets/base",
      "model_module_version": "1.2.0",
      "model_name": "LayoutModel",
      "state": {}
     },
     "ec7bcd6f39764e3193cffabc09ccf075": {
      "model_module": "@jupyter-widgets/controls",
      "model_module_version": "1.5.0",
      "model_name": "VBoxModel",
      "state": {
       "_dom_classes": [
        "widget-interact"
       ],
       "children": [
        "IPY_MODEL_2f3f9b8a5c484b9f9d5385be6e484156",
        "IPY_MODEL_b8f001d80d8747a2a2e68035e9d63bf8",
        "IPY_MODEL_0cc2a71e19194f76aa150373e2ee6515"
       ],
       "layout": "IPY_MODEL_e404ad7234d24ab5a60573c3f95270c6"
      }
     },
     "ec8e9c3aa8594ebab5f64473494660ee": {
      "model_module": "@jupyter-widgets/base",
      "model_module_version": "1.2.0",
      "model_name": "LayoutModel",
      "state": {}
     },
     "eddc6cabba0d4f11a3ac252f3dbe3fdf": {
      "model_module": "@jupyter-widgets/output",
      "model_module_version": "1.0.0",
      "model_name": "OutputModel",
      "state": {
       "layout": "IPY_MODEL_fd19c5a1d3514871824c3f55338b1e0b",
       "outputs": [
        {
         "data": {
          "image/png": "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\n",
          "text/plain": "<Figure size 432x288 with 1 Axes>"
         },
         "metadata": {
          "needs_background": "light"
         },
         "output_type": "display_data"
        }
       ]
      }
     },
     "ee9b31c3f10b4a119446b2af52b76330": {
      "model_module": "@jupyter-widgets/controls",
      "model_module_version": "1.5.0",
      "model_name": "TabModel",
      "state": {
       "_titles": {
        "0": "Popular Keywords VS Month",
        "1": "Popular Keywords across all time"
       },
       "children": [
        "IPY_MODEL_d4e27f4589834f5393f45bd6363b56ba",
        "IPY_MODEL_ec7bcd6f39764e3193cffabc09ccf075"
       ],
       "layout": "IPY_MODEL_0fe594a23d564c20b7b63b4ae83bd488"
      }
     },
     "f052506e2cdb43c29bb0e73a01b3a255": {
      "model_module": "@jupyter-widgets/controls",
      "model_module_version": "1.5.0",
      "model_name": "DropdownModel",
      "state": {
       "_options_labels": [
        "cooking",
        "influencers",
        "gaming"
       ],
       "description": "Genre",
       "index": 0,
       "layout": "IPY_MODEL_6eeb514f1d27440e9f56536892e1d08a",
       "style": "IPY_MODEL_40cd0f6bf1c04e808572f11059040c60"
      }
     },
     "f197a8a9e8fb49ad998882c5488aab0e": {
      "model_module": "@jupyter-widgets/controls",
      "model_module_version": "1.5.0",
      "model_name": "DropdownModel",
      "state": {
       "_options_labels": [
        "likes_mean",
        "likes_median",
        "dislikes_mean",
        "dislikes_median",
        "views_mean",
        "views_median",
        "polarity",
        "subjectivity"
       ],
       "description": "Metric",
       "index": 0,
       "layout": "IPY_MODEL_31ecc0c719434965b1333df77a45ca1e",
       "style": "IPY_MODEL_ae0edf638a1944378f204894a9ce7db6"
      }
     },
     "f1ad35e0552f4be4b9506b58def7a82c": {
      "model_module": "@jupyter-widgets/base",
      "model_module_version": "1.2.0",
      "model_name": "LayoutModel",
      "state": {}
     },
     "f1e1945313c244adadac74bd2a8eb8d4": {
      "model_module": "@jupyter-widgets/output",
      "model_module_version": "1.0.0",
      "model_name": "OutputModel",
      "state": {
       "layout": "IPY_MODEL_64ffd80df6d74aacbef7ac59d811f626",
       "outputs": [
        {
         "name": "stdout",
         "output_type": "stream",
         "text": "Complete!     \r"
        }
       ]
      }
     },
     "f21be44a04684c7eaa783a05699b7192": {
      "model_module": "@jupyter-widgets/base",
      "model_module_version": "1.2.0",
      "model_name": "LayoutModel",
      "state": {}
     },
     "f2876f906e314251aa42c23f2d752a26": {
      "model_module": "@jupyter-widgets/controls",
      "model_module_version": "1.5.0",
      "model_name": "DescriptionStyleModel",
      "state": {
       "description_width": ""
      }
     },
     "f3b0e872a7f540288d199e970b6027cd": {
      "model_module": "@jupyter-widgets/output",
      "model_module_version": "1.0.0",
      "model_name": "OutputModel",
      "state": {
       "layout": "IPY_MODEL_e412de0c252541e09b2c383ac8d92b32",
       "outputs": [
        {
         "name": "stdout",
         "output_type": "stream",
         "text": "Complete!     \r"
        }
       ]
      }
     },
     "f3ccfe55c50a4b74bbcb753160362476": {
      "model_module": "@jupyter-widgets/base",
      "model_module_version": "1.2.0",
      "model_name": "LayoutModel",
      "state": {}
     },
     "f409a5a9c19d45cca84ed53e16258052": {
      "model_module": "@jupyter-widgets/controls",
      "model_module_version": "1.5.0",
      "model_name": "DescriptionStyleModel",
      "state": {
       "description_width": ""
      }
     },
     "f62cba71f304491fb82d38a2fb270d9b": {
      "model_module": "@jupyter-widgets/base",
      "model_module_version": "1.2.0",
      "model_name": "LayoutModel",
      "state": {}
     },
     "f699b5cd94be4a769a1be00cf9787880": {
      "model_module": "@jupyter-widgets/controls",
      "model_module_version": "1.5.0",
      "model_name": "VBoxModel",
      "state": {
       "children": [
        "IPY_MODEL_1da1076a69074dc297dfb7cd1b05348d",
        "IPY_MODEL_6b10159b53114f8390a821c0addfda0e",
        "IPY_MODEL_2ad3090fae0b4b59abe8fcfb30dbda7b"
       ],
       "layout": "IPY_MODEL_51d407023bda41f2865f3d0db53373f6"
      }
     },
     "f6be03f3e2f14049b3474b5841667136": {
      "model_module": "@jupyter-widgets/base",
      "model_module_version": "1.2.0",
      "model_name": "LayoutModel",
      "state": {
       "grid_area": "header"
      }
     },
     "f84112c1d88a49f797a585336c650863": {
      "model_module": "@jupyter-widgets/controls",
      "model_module_version": "1.5.0",
      "model_name": "TextareaModel",
      "state": {
       "continuous_update": false,
       "description": "Text box:",
       "layout": "IPY_MODEL_ac1fd507b5c045b2802bf2a19a7bb9ec",
       "placeholder": "Type to analyze",
       "style": "IPY_MODEL_69b3988b51fc4d67a13b5813a9ec5d6c"
      }
     },
     "f96c25cef84541a99601a4dbe74ea5e5": {
      "model_module": "@jupyter-widgets/base",
      "model_module_version": "1.2.0",
      "model_name": "LayoutModel",
      "state": {}
     },
     "fa1a066b33384305a2d95fd3d421d7b7": {
      "model_module": "@jupyter-widgets/controls",
      "model_module_version": "1.5.0",
      "model_name": "VBoxModel",
      "state": {
       "children": [
        "IPY_MODEL_ae6bde89226545a3a17e9b86904eedc9",
        "IPY_MODEL_3f77854086b841e18c0ca833074ef401",
        "IPY_MODEL_5f88385f4dff42be92cc5b72c96b729b"
       ],
       "layout": "IPY_MODEL_83edc4f88de74081a3c4f718b3b497ec"
      }
     },
     "fa1ec728917245afa3a440ef76452ff8": {
      "model_module": "@jupyter-widgets/base",
      "model_module_version": "1.2.0",
      "model_name": "LayoutModel",
      "state": {}
     },
     "fa9c1cc483384b72a133c18d1d4292e2": {
      "model_module": "@jupyter-widgets/output",
      "model_module_version": "1.0.0",
      "model_name": "OutputModel",
      "state": {
       "layout": "IPY_MODEL_b1806758549e4a50a1db1deafa8cf9c0",
       "outputs": [
        {
         "data": {
          "image/png": "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\n",
          "text/plain": "<Figure size 432x288 with 1 Axes>"
         },
         "metadata": {
          "needs_background": "light"
         },
         "output_type": "display_data"
        }
       ]
      }
     },
     "fbbd6303a2f24554aa50259825512d59": {
      "model_module": "@jupyter-widgets/base",
      "model_module_version": "1.2.0",
      "model_name": "LayoutModel",
      "state": {}
     },
     "fbd603a568ad4ab081d20b31f29a76bf": {
      "model_module": "@jupyter-widgets/base",
      "model_module_version": "1.2.0",
      "model_name": "LayoutModel",
      "state": {}
     },
     "fc8310520e104826bc8b4ad8ba8bd92e": {
      "model_module": "@jupyter-widgets/controls",
      "model_module_version": "1.5.0",
      "model_name": "DescriptionStyleModel",
      "state": {
       "description_width": ""
      }
     },
     "fcf1a0fe686043fdad10f4bd95e9c5f8": {
      "model_module": "@jupyter-widgets/base",
      "model_module_version": "1.2.0",
      "model_name": "LayoutModel",
      "state": {}
     },
     "fd19c5a1d3514871824c3f55338b1e0b": {
      "model_module": "@jupyter-widgets/base",
      "model_module_version": "1.2.0",
      "model_name": "LayoutModel",
      "state": {}
     },
     "ff6bb838ad504ac78e60abc5986b8d68": {
      "model_module": "@jupyter-widgets/output",
      "model_module_version": "1.0.0",
      "model_name": "OutputModel",
      "state": {
       "layout": "IPY_MODEL_b5927d98c67a43ebbdca9362a46117cf",
       "outputs": [
        {
         "name": "stdout",
         "output_type": "stream",
         "text": "Complete!     \r"
        }
       ]
      }
     }
    },
    "version_major": 2,
    "version_minor": 0
   }
  }
 },
 "nbformat": 4,
 "nbformat_minor": 4
}
