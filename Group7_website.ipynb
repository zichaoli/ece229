{
 "cells": [
  {
   "cell_type": "markdown",
   "metadata": {},
   "source": [
    "## Group 7 Youtube Content Creator Dashboards "
   ]
  },
  {
   "cell_type": "code",
   "execution_count": 2,
   "metadata": {
    "scrolled": false
   },
   "outputs": [
    {
     "data": {
      "application/vnd.jupyter.widget-view+json": {
       "model_id": "db60590f019e403fb579f86e1d0985cf",
       "version_major": 2,
       "version_minor": 0
      },
      "text/plain": [
       "AppLayout(children=(VBox(children=(HTML(value=\"<b><font size='5' color='Black'>Youtube Trend over Time</b>\"), …"
      ]
     },
     "metadata": {},
     "output_type": "display_data"
    }
   ],
   "source": [
    "#HIDDEN\n",
    "\n",
    "from ipywidgets import interact, interactive, fixed, interact_manual\n",
    "\n",
    "import ipywidgets as widgets\n",
    "\n",
    "from ipywidgets import FloatSlider\n",
    "\n",
    "from ipywidgets import VBox, HBox, interactive_output\n",
    "\n",
    "from ipywidgets import Dropdown\n",
    "#from matplotlib.image import imread\n",
    "import pickle\n",
    "\n",
    "from matplotlib import pyplot as plt\n",
    "#from matplotlib.pylab import subplots\n",
    "from wordcloud import WordCloud\n",
    "import numpy as np\n",
    "from random import shuffle\n",
    "from ipywidgets import IntSlider, AppLayout, Layout\n",
    "import pandas as pd\n",
    "from matplotlib.image import imread\n",
    "\n",
    "data = pickle.load(open('data_project.p', 'rb'))\n",
    "\n",
    "\n",
    "year_end=2019\n",
    "year_start=2015\n",
    "month=['Jan','Feb','Mar','Apr','May','Jun','Jul','Aug','Sept','Oct','Nov','Dec']\n",
    "start_month=1\n",
    "end_month=(year_end-year_start+1)*12\n",
    "#fsx = IntSlider(min=start_month,max=end_month,step=1,continuous_update=False,description='Time:') #slider of months\n",
    "\n",
    "time_idx=pd.date_range(start=str(year_start)+'0101',end=str(year_end)+'1231',freq='M')\n",
    "fmt='%Y-%m'\n",
    "options = [(item.strftime(fmt),item) for item in time_idx]\n",
    "\n",
    "fsx=widgets.SelectionSlider(\n",
    "            description='Date',\n",
    "            options=options,\n",
    "            continuous_update=False\n",
    "        )\n",
    "\n",
    "status = widgets.Output() #status indicator\n",
    "status2 = widgets.Output() #status indicator for part 2\n",
    "status3 = widgets.Output() #status indicator for part 3\n",
    "#with status:\n",
    "    #print('Please select a date'+'\\r',end='')\n",
    "\n",
    "def fplot(x,Genre):\n",
    "    \"\"\"x : input time\n",
    "     Genre: different topics\"\"\"\n",
    "    #fig,ax=subplots()\n",
    "    #ax.plot(xi,np.sin(2*np.pi*x*xi+y),color=color)\n",
    "    #indicate running\n",
    "    plt.cla()\n",
    "    loading=\"Now loading...\"\n",
    "    plt.axis('off') \n",
    "    plt.text(0.5,0.5,loading)\n",
    "    #load_img=imread('loading_img.jpg')\n",
    "    #plt.imshow(load_img)\n",
    "    #plt.show()\n",
    "    #print(loading+'\\r',end='')\n",
    "    with status:\n",
    "        print('Now loading...'+'\\r',end='')\n",
    "    \n",
    "    data_cloud=data[Genre]\n",
    "    freq=np.array(list(data_cloud.frequency_time))\n",
    "    string = ''\n",
    "    m,n=freq.shape\n",
    "    for i in range(m):\n",
    "        time=str(x).split(' ')[0].split('-')\n",
    "        col=(int(time[0])-year_start)*12+int(time[1])\n",
    "        string=string+(data_cloud.loc[i].words+' ')*(freq[i,col-1])\n",
    "    if string.split()==[]:\n",
    "        \"\"\"if there is no words shown\"\"\"\n",
    "        string='There is no interesting word'\n",
    "        plt.cla()\n",
    "        plt.axis('off') \n",
    "        plt.text(0.5,0.5,string)\n",
    "        #plt.imshow(nointerest_img)\n",
    "        plt.show()       \n",
    "        #print(string)\n",
    "        with status:\n",
    "            print('Complete!     '+'\\r',end='')\n",
    "        return\n",
    "    lis=string.split(' ')\n",
    "    shuffle(lis)\n",
    "    string=' '.join(lis)\n",
    "    wc = WordCloud(\n",
    "               background_color='white',max_words=20,\n",
    "               width=1000,\n",
    "               height=1000,\n",
    "               ).generate(string)  #wordcloud\n",
    "    #wc.to_file('ss.png') \n",
    "    plt.cla()\n",
    "    plt.imshow(wc)  \n",
    "    plt.axis('off') \n",
    "    plt.show()\n",
    "    #print(string)\n",
    "    with status:\n",
    "        print('Complete!     '+'\\r',end='')\n",
    "interactive_plot = interactive(fplot,x=fsx,Genre=['cooking', 'influencers', 'gaming'])\n",
    "#display(interactive_plot)\n",
    "\n",
    "\n",
    "def acrosstime(dis_num,Genre):   \n",
    "    data_cloud=data[Genre]\n",
    "    freq=np.array(list(data_cloud.frequency_time))\n",
    "    freq=np.sum(freq,axis=1)\n",
    "    string = ''\n",
    "    idx=np.argpartition(freq,-dis_num)[-dis_num:]\n",
    "    string=''\n",
    "    for i in idx:\n",
    "        string=string+(data_cloud.loc[i].words+' ')*(freq[i])\n",
    "    if string.split()==[]:\n",
    "        \"\"\"if there is no words shown\"\"\"\n",
    "        string='There is no interesting word'\n",
    "        plt.cla()\n",
    "        plt.axis('off') \n",
    "        plt.text(0.5,0.5,string)\n",
    "        #plt.imshow(nointerest_img)\n",
    "        plt.show()       \n",
    "        #print(string)\n",
    "        return\n",
    "    lis=string.split(' ')\n",
    "    shuffle(lis)\n",
    "    string=' '.join(lis)\n",
    "    wc = WordCloud(\n",
    "               background_color='white',max_words=dis_num,\n",
    "               width=1000,\n",
    "               height=1000,\n",
    "               ).generate(string)  #wordcloud\n",
    "    #wc.to_file('ss.png') \n",
    "    plt.cla()\n",
    "    plt.imshow(wc)  \n",
    "    plt.axis('off') \n",
    "    plt.show()\n",
    "    #print(string)\n",
    "dis_num=widgets.BoundedIntText(\n",
    "    value=10,\n",
    "    min=0,\n",
    "    max=200,\n",
    "    step=1,\n",
    "    description='Integer:',\n",
    "    disabled=False\n",
    ")\n",
    "acrossAlltime=interactive(acrosstime,dis_num=dis_num,Genre=['cooking', 'influencers', 'gaming'])\n",
    "\n",
    "\n",
    "\n",
    "Genre= Dropdown(options=['cooking', 'influencers', 'gaming'])\n",
    "#Fsx = IntSlider(min=start_month,max=end_month,step=1,continuous_update=False,description='Time:')\n",
    "Fsx=widgets.SelectionSlider(\n",
    "            description='Date',\n",
    "            options=options,\n",
    "            continuous_update=False\n",
    "        )\n",
    "loaded={}\n",
    "loaded['like']=0\n",
    "loaded['hate']=0\n",
    "def Fplot(x,Genre,like):\n",
    "    \"\"\"x: input time\n",
    "      Genre: diffenrent topics\n",
    "      like: positive or negative result\"\"\"\n",
    "    #fig,ax=subplots()\n",
    "    #ax.plot(xi,np.sin(2*np.pi*x*xi+y),color=color)\n",
    "    plt.cla()\n",
    "    loading=\"Now loading...\"\n",
    "    plt.axis('off') \n",
    "    plt.text(0.5,0.5,loading)\n",
    "    if loaded['like']==0 and loaded['hate']==0:\n",
    "        with status2:\n",
    "            print('Now loading...'+'\\r',end='')\n",
    "    \n",
    "    data_cloud=data[Genre]\n",
    "    if like=='like':\n",
    "        data_cloud=data_cloud[data_cloud.polarity>0]#data_cloud[data_cloud.likes_mean >= data_cloud.dislikes_mean]\n",
    "    elif like=='hate':\n",
    "        data_cloud=data_cloud[data_cloud.polarity<=0]\n",
    "    data_cloud=data_cloud.reset_index()\n",
    "    freq=np.array(list(data_cloud.frequency_time))\n",
    "    string = ''\n",
    "    if freq.shape==(0,):\n",
    "        string='There is no interesting word'\n",
    "        plt.cla()\n",
    "        plt.axis('off') \n",
    "        plt.text(0.5,0.5,string)\n",
    "        #print(string)\n",
    "        loaded[like]=1\n",
    "        if loaded['like']==1 and loaded['hate']==1:\n",
    "            with status2:\n",
    "                print('Complete!     '+'\\r',end='')\n",
    "            loaded['like']=0\n",
    "            loaded['hate']=0\n",
    "        return\n",
    "        \n",
    "    m,n=freq.shape\n",
    "    for i in range(m):\n",
    "        time=str(x).split(' ')[0].split('-')\n",
    "        col=(int(time[0])-year_start)*12+int(time[1])\n",
    "        string=string+(data_cloud.loc[i].words+' ')*(freq[i,col-1])\n",
    "    if string.split()==[]:\n",
    "        \"\"\"if there is no words shown\"\"\"\n",
    "        string='There is no interesting word'\n",
    "        plt.cla()\n",
    "        plt.axis('off') \n",
    "        plt.text(0.5,0.5,string)\n",
    "        #print(string)\n",
    "        loaded[like]=1\n",
    "        if loaded['like']==1 and loaded['hate']==1:\n",
    "            with status2:\n",
    "                print('Complete!     '+'\\r',end='')\n",
    "            loaded['like']=0\n",
    "            loaded['hate']=0\n",
    "        return\n",
    "    lis=string.split(' ')\n",
    "    shuffle(lis)\n",
    "    string=' '.join(lis)\n",
    "    wc = WordCloud(\n",
    "               background_color='white',max_words=20,\n",
    "               width=1000,\n",
    "               height=1000,\n",
    "               ).generate(string)  #wordcloud\n",
    "    #wc.to_file('ss.png') \n",
    "    plt.cla()\n",
    "    plt.imshow(wc)  \n",
    "    plt.axis('off') \n",
    "    plt.show()\n",
    "    #print(string)\n",
    "    loaded[like]=1\n",
    "    if loaded['like']==1 and loaded['hate']==1:\n",
    "        with status2:\n",
    "            print('Complete!     '+'\\r',end='')\n",
    "        loaded['like']=0\n",
    "        loaded['hate']=0\n",
    "#l = widgets.link((sliders1, 'value'), (slider2, 'value'))\n",
    "interactive_plot_like = interactive(Fplot,x=Fsx,Genre=Genre,like='like')\n",
    "interactive_plot_hate=interactive(Fplot,x=Fsx,Genre=Genre,like='hate')\n",
    "#display(HBox([interactive_plot_like,interactive_plot_hate ]))\n",
    "\n",
    "\n",
    "def analyze_text(text, genre, metric):\n",
    "    '''\n",
    "    Purpose: \n",
    "    Analyze the given text and produce color labels for the words as well as generate an overall score based on the\n",
    "    given genre and metric\n",
    "    \n",
    "    Input:\n",
    "    text = str; scalar depicting the text that needs to be analyzed\n",
    "    genre = str; scalar depicting the genre of the content: \"cooking\", \"gaming\", \"influencers\"\n",
    "    metric = str; scalar depicting the metric to base the analysis on: \"likes_mean\", \"likes_median\",\n",
    "             \"dislikes_mean\", \"dislikes_median\", \"views_mean\", \"views_median\", \"polarity\", \"subjectivity\"\n",
    "    \n",
    "    Output:\n",
    "    analysis = list; a list with the same number of elements as number of words in given text, with each\n",
    "               corresponding element being the color for that word: \"red\" means bad, \"yellow\" means okay, \"green\"\n",
    "               means good and \"white\" means \"Not found\" (in database)\n",
    "    score_avg = float; average value of the score: float or \"Not applicable\" (if none of the words matched the\n",
    "                database)\n",
    "               \n",
    "    '''\n",
    "    from textblob import TextBlob\n",
    "    import pickle\n",
    "    pickle.load(open('data_project.p', 'rb'))\n",
    "    Blob = TextBlob(text)\n",
    "    scores = []\n",
    "    df_genre = data[genre]\n",
    "    score_avg = 0\n",
    "    counter = 0\n",
    "    for word in list(Blob.words):\n",
    "        if word in list(df_genre.words):\n",
    "            word_index = df_genre.words[df_genre.words==word].index[0]\n",
    "            scores.append(df_genre[metric][word_index])\n",
    "            score_avg += df_genre[metric][word_index]\n",
    "            counter += 1\n",
    "        else:\n",
    "            scores.append(\"Not found\")\n",
    "    if counter > 0:\n",
    "        score_avg = score_avg/counter\n",
    "    else:\n",
    "        score_avg = \"Not Applicable\"\n",
    "    intervals = [df_genre[metric].mean()-df_genre[metric].std(), df_genre[metric].mean()+df_genre[metric].std()]\n",
    "    analysis = []\n",
    "    for score in scores:\n",
    "        if score==\"Not found\":\n",
    "            analysis.append(\"white\")\n",
    "            continue\n",
    "        if score<=intervals[0]:\n",
    "            analysis.append(\"red\")\n",
    "        elif score>intervals[0] and score<=intervals[1]:\n",
    "            analysis.append(\"yellow\");\n",
    "        elif score>intervals[1]:\n",
    "            analysis.append(\"green\")\n",
    "    return analysis, score_avg\n",
    "w=widgets.Textarea(\n",
    "    value='',\n",
    "    placeholder='Type to analyze',\n",
    "    description='Text box:',\n",
    "    disabled=False,\n",
    "    continuous_update=False\n",
    ")\n",
    "def color_changer(x,Genre,Metric):\n",
    "    with status3:\n",
    "        print('Now loading...'+'\\r',end='')\n",
    "    categorization, overall_score = analyze_text(x,Genre,Metric)\n",
    "    words = x.split()\n",
    "    for word in words:\n",
    "        color,score = analyze_text(word,Genre,Metric)\n",
    "        if color[0] == \"red\":\n",
    "            print('\\033[31m %s' %word, end = \"\")\n",
    "        elif color[0] == \"yellow\":\n",
    "            print('\\033[33m %s' %word, end = \"\")\n",
    "        elif color[0] == \"green\":\n",
    "            print('\\033[32m %s' %word, end = \"\")\n",
    "        else:\n",
    "            print('\\033[37m %s' %word, end = \"\")\n",
    "    with status3:\n",
    "        print('Complete!     '+'\\r',end='')\n",
    "box = interactive(color_changer,x=w,Genre=['cooking', 'influencers', 'gaming'],Metric=[\"likes_mean\", \"likes_median\",\n",
    "             \"dislikes_mean\", \"dislikes_median\", \"views_mean\", \"views_median\", \"polarity\", \"subjectivity\"])\n",
    "\n",
    "\n",
    "\n",
    "\n",
    "#description of all three parts\n",
    "descrip_part1=\"\"\"\n",
    "In this part, you can use our tools to create a word cloud of popular words in different time periods. Size of a word will be based on\n",
    "its popularity. \n",
    " We also provide you with different genres to choose. You can check the popular words within the genre you have interest in.\n",
    " The time will be in a month and year format that the user can toggle with the slider and see how the word cloud changes over time.\n",
    "\"\"\"\n",
    "descrip_part2=\"\"\"\n",
    "A second display will compose of two word clouds that present the positive and negative words respectively, \n",
    "showcasing the words’ popularity based on its size. \n",
    "\"\"\"\n",
    "descrip_part3=\"\"\"\n",
    "Our Text Analysis tool will generate word connotations based on the words typed into the textbox.  \n",
    "Words will be colored according to its positive or negative sentiment.\n",
    " For example, words in red denoting a negative word, words in yellow denoting neutral words and green denoting a positive word. Words that can not be \n",
    " decided will remain in black.\n",
    " Also, you can select the genre and metric of interest. \n",
    "\"\"\"\n",
    "Descrip_part1=widgets.HTML(value = f\"<b><font size='2' color='Black'>{descrip_part1}</b>\")\n",
    "Descrip_part2=widgets.HTML(value = f\"<b><font size='2' color='Black'>{descrip_part2}</b>\")\n",
    "Descrip_part3=widgets.HTML(value = f\"<b><font size='2' color='Black'>{descrip_part3}</b>\")\n",
    "\n",
    "\n",
    "\n",
    "\n",
    "\n",
    "tab = widgets.Tab()\n",
    "tab.children = [VBox([Descrip_part1,interactive_plot,status]),acrossAlltime]\n",
    "tab.set_title(0, 'Popular Keywords VS Month')\n",
    "tab.set_title(1, 'Popular Keywords across all time')\n",
    "\n",
    "\n",
    "#container for the main interface\n",
    "\n",
    "\n",
    "\n",
    "\n",
    "accordion = widgets.Accordion(children=[VBox([Descrip_part1,interactive_plot,status]),\n",
    "                                        VBox([Descrip_part2,\n",
    "                                              HBox([interactive_plot_like,interactive_plot_hate ]),status2]),\n",
    "                                        VBox([Descrip_part3,box,status3])])\n",
    "accordion.set_title(0, 'Popular Keywords over Time')\n",
    "accordion.set_title(1, 'Likes&Dislikes over Time ')\n",
    "accordion.set_title(2, 'Text Analysis ')\n",
    "\n",
    "\n",
    "\n",
    "title = 'Youtube Trend over Time'\n",
    "Title = widgets.HTML(value = f\"<b><font size='5' color='Black'>{title}</b>\")\n",
    "descrip=\"\"\"How insane is it that sometimes you see the most amazing video on youtube, \n",
    "and yet it took nearly a decade for it to be popular? Or a subpar video which hits a \n",
    "million views within a week? A lot of it has to do with the way you market your content. \n",
    "Sponsoring advertisements for your posts helps, but it depends heavily on the \n",
    "textual supporting descriptions that you add. And an even deeper question is: what makes certain \n",
    "words more popular than others? What receives more hate by the public? Are certain \n",
    "topics more active during election years or during a pandemic? Fortunately, our platform and tools will figure it out for you\n",
    ". We’re trying to create a simple \n",
    "platform which serves as a proof of concept for how sentiment analysis can be extended \n",
    "to utility on a daily basis, with a very wide customer demographic.\n",
    "\"\"\"\n",
    "Descrip=widgets.HTML(value = f\"<b><font size='2' color='Black'>{descrip}</b>\")\n",
    "AppLayout(header=VBox([Title,Descrip]),\n",
    "          left_sidebar=None,\n",
    "          center=accordion,\n",
    "          right_sidebar=None,\n",
    "          footer=None)\n",
    "          \n",
    "          #widgets.IntSlider(description='c',\n",
    "                                   #layout=Layout(height='auto', width='auto')))"
   ]
  },
  {
   "cell_type": "code",
   "execution_count": null,
   "metadata": {},
   "outputs": [],
   "source": []
  }
 ],
 "metadata": {
  "kernelspec": {
   "display_name": "Python 3.6.9 64-bit ('keras': conda)",
   "language": "python",
   "name": "python36964bitkerasconda8290334058c3475a95a8e6d06e02066d"
  },
  "language_info": {
   "codemirror_mode": {
    "name": "ipython",
    "version": 3
   },
   "file_extension": ".py",
   "mimetype": "text/x-python",
   "name": "python",
   "nbconvert_exporter": "python",
   "pygments_lexer": "ipython3",
   "version": "3.6.9"
  },
  "widgets": {
   "application/vnd.jupyter.widget-state+json": {
    "state": {
     "00e633edf9d0479abed0d86ad10c0d35": {
      "model_module": "@jupyter-widgets/base",
      "model_module_version": "1.2.0",
      "model_name": "LayoutModel",
      "state": {}
     },
     "01cb9ee5008a46f59f2bcc086ba78653": {
      "model_module": "@jupyter-widgets/controls",
      "model_module_version": "1.5.0",
      "model_name": "DescriptionStyleModel",
      "state": {
       "description_width": ""
      }
     },
     "025bf0716fdd4236a5d531860bcb3ecc": {
      "model_module": "@jupyter-widgets/base",
      "model_module_version": "1.2.0",
      "model_name": "LayoutModel",
      "state": {}
     },
     "05360d73fcfe4133a608334d6067a738": {
      "model_module": "@jupyter-widgets/controls",
      "model_module_version": "1.5.0",
      "model_name": "DescriptionStyleModel",
      "state": {
       "description_width": ""
      }
     },
     "05a033cff8c9401cb8dc869e4da7ca6c": {
      "model_module": "@jupyter-widgets/controls",
      "model_module_version": "1.5.0",
      "model_name": "TextModel",
      "state": {
       "description": "like",
       "layout": "IPY_MODEL_a0b11516036d46db8a5cd7979844e242",
       "style": "IPY_MODEL_a336bd3c20fb4b94a1c3f95909c5ef86",
       "value": "like"
      }
     },
     "0651da36f04c4ea48641a37c6ce43d4d": {
      "model_module": "@jupyter-widgets/controls",
      "model_module_version": "1.5.0",
      "model_name": "DropdownModel",
      "state": {
       "_options_labels": [
        "cooking",
        "influencers",
        "gaming"
       ],
       "description": "Genre",
       "index": 0,
       "layout": "IPY_MODEL_734885f872d04705a6bde5c42eb8043d",
       "style": "IPY_MODEL_36e41af1c29c40038d76c3be2ab19b89"
      }
     },
     "0a1e7108d6cf4731afb99209d02583fb": {
      "model_module": "@jupyter-widgets/controls",
      "model_module_version": "1.5.0",
      "model_name": "HTMLModel",
      "state": {
       "layout": "IPY_MODEL_0f1a684a6bf74a399ae6ba63d4a6f17a",
       "style": "IPY_MODEL_29287423a44646c79486926f17811ccc",
       "value": "<b><font size='5' color='Black'>Youtube Trend over Time</b>"
      }
     },
     "0ba806cc19d44743b7aa539a36b6a0cb": {
      "model_module": "@jupyter-widgets/base",
      "model_module_version": "1.2.0",
      "model_name": "LayoutModel",
      "state": {
       "grid_area": "header"
      }
     },
     "0be4194e286b43f3a03454644c909c63": {
      "model_module": "@jupyter-widgets/base",
      "model_module_version": "1.2.0",
      "model_name": "LayoutModel",
      "state": {}
     },
     "0c518eff4d674d0baa42f26e444db029": {
      "model_module": "@jupyter-widgets/output",
      "model_module_version": "1.0.0",
      "model_name": "OutputModel",
      "state": {
       "layout": "IPY_MODEL_43a8d3865994413d8103efa0adfb05ce",
       "outputs": [
        {
         "data": {
          "image/png": "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\n",
          "text/plain": "<Figure size 432x288 with 1 Axes>"
         },
         "metadata": {
          "needs_background": "light"
         },
         "output_type": "display_data"
        }
       ]
      }
     },
     "0cc2a71e19194f76aa150373e2ee6515": {
      "model_module": "@jupyter-widgets/output",
      "model_module_version": "1.0.0",
      "model_name": "OutputModel",
      "state": {
       "layout": "IPY_MODEL_4d23a9cd421e4a31942ed9678f8564f6"
      }
     },
     "0cc529b6eaaa4d2781c621de3c58d801": {
      "model_module": "@jupyter-widgets/controls",
      "model_module_version": "1.5.0",
      "model_name": "HBoxModel",
      "state": {
       "children": [
        "IPY_MODEL_e09072d763a04c4d9b7661343ac68f1a",
        "IPY_MODEL_5a71d84cb65340bf8cdf23148c8c0376"
       ],
       "layout": "IPY_MODEL_adc6321c9dca4b7198c58f96be3f1ba6"
      }
     },
     "0f1a684a6bf74a399ae6ba63d4a6f17a": {
      "model_module": "@jupyter-widgets/base",
      "model_module_version": "1.2.0",
      "model_name": "LayoutModel",
      "state": {}
     },
     "0fe594a23d564c20b7b63b4ae83bd488": {
      "model_module": "@jupyter-widgets/base",
      "model_module_version": "1.2.0",
      "model_name": "LayoutModel",
      "state": {}
     },
     "1011265bb2334a9eb32e4876aa66493d": {
      "model_module": "@jupyter-widgets/base",
      "model_module_version": "1.2.0",
      "model_name": "LayoutModel",
      "state": {}
     },
     "10839938cc1d4db9944aa81a9fc5001b": {
      "model_module": "@jupyter-widgets/base",
      "model_module_version": "1.2.0",
      "model_name": "LayoutModel",
      "state": {}
     },
     "10b35f00b6aa4a7aaf3dda12775d2000": {
      "model_module": "@jupyter-widgets/controls",
      "model_module_version": "1.5.0",
      "model_name": "DescriptionStyleModel",
      "state": {
       "description_width": ""
      }
     },
     "121fef73cc014ad1bbda81a3d3b98a32": {
      "model_module": "@jupyter-widgets/base",
      "model_module_version": "1.2.0",
      "model_name": "LayoutModel",
      "state": {}
     },
     "161c423d53714eaab65732da4aeccf6e": {
      "model_module": "@jupyter-widgets/output",
      "model_module_version": "1.0.0",
      "model_name": "OutputModel",
      "state": {
       "layout": "IPY_MODEL_533a11ab2b2a454fa695a2b33667b896",
       "outputs": [
        {
         "name": "stdout",
         "output_type": "stream",
         "text": "Complete!     \r"
        }
       ]
      }
     },
     "19eeccf022b64e9d83763e54af8854ec": {
      "model_module": "@jupyter-widgets/controls",
      "model_module_version": "1.5.0",
      "model_name": "TextareaModel",
      "state": {
       "continuous_update": false,
       "description": "Text box:",
       "layout": "IPY_MODEL_9a161c040c30490a8b3306a980d00428",
       "placeholder": "Type to analyze",
       "style": "IPY_MODEL_5568ce0b4717489abd0e635be5963fe5"
      }
     },
     "1a520462c521445390becdaec5fcbd44": {
      "model_module": "@jupyter-widgets/output",
      "model_module_version": "1.0.0",
      "model_name": "OutputModel",
      "state": {
       "layout": "IPY_MODEL_bd33186de39740f89510188b06ffde16"
      }
     },
     "1da1076a69074dc297dfb7cd1b05348d": {
      "model_module": "@jupyter-widgets/controls",
      "model_module_version": "1.5.0",
      "model_name": "HTMLModel",
      "state": {
       "layout": "IPY_MODEL_447b31e9b7ae4c919ed9bd3cd189cd88",
       "style": "IPY_MODEL_dd77bd20262d401cb4e47668ac4a1963",
       "value": "<b><font size='2' color='Black'>\nIn this part, you can use our tools to create a word cloud of popular words in different time periods. Size of a word will be based on\nits popularity. \n We also provide you with different genres to choose. You can check the popular words within the genre you have interest in.\n The time will be in a month and year format that the user can toggle with the slider and see how the word cloud changes over time.\n</b>"
      }
     },
     "1dde46987ac4438a80a479a02404889e": {
      "model_module": "@jupyter-widgets/base",
      "model_module_version": "1.2.0",
      "model_name": "LayoutModel",
      "state": {}
     },
     "1de8f9a600694f478661ffced8a38598": {
      "model_module": "@jupyter-widgets/base",
      "model_module_version": "1.2.0",
      "model_name": "LayoutModel",
      "state": {}
     },
     "1f753e26b490473eb3f14a5c784cdb2e": {
      "model_module": "@jupyter-widgets/controls",
      "model_module_version": "1.5.0",
      "model_name": "TextareaModel",
      "state": {
       "continuous_update": false,
       "description": "Text box:",
       "layout": "IPY_MODEL_f96c25cef84541a99601a4dbe74ea5e5",
       "placeholder": "Type to analyze",
       "style": "IPY_MODEL_6ef9f228af2b4487a98bdfb278252935"
      }
     },
     "214fe5b84a494fcd8629def7e1a18fd5": {
      "model_module": "@jupyter-widgets/base",
      "model_module_version": "1.2.0",
      "model_name": "LayoutModel",
      "state": {}
     },
     "270bf59116634899a17c890e7ca93851": {
      "model_module": "@jupyter-widgets/base",
      "model_module_version": "1.2.0",
      "model_name": "LayoutModel",
      "state": {}
     },
     "27669550f40f46b0aac485a62d5e86ca": {
      "model_module": "@jupyter-widgets/controls",
      "model_module_version": "1.5.0",
      "model_name": "HTMLModel",
      "state": {
       "layout": "IPY_MODEL_121fef73cc014ad1bbda81a3d3b98a32",
       "style": "IPY_MODEL_d976bf2118cf4c3598b4acbd5fae3936",
       "value": "<b><font size='2' color='Black'>\nA second display will compose of two word clouds that present the positive and negative words respectively, \nshowcasing the words’ popularity based on its size. \n</b>"
      }
     },
     "27cc694547fc44f5861b75777b2f0205": {
      "model_module": "@jupyter-widgets/controls",
      "model_module_version": "1.5.0",
      "model_name": "DropdownModel",
      "state": {
       "_options_labels": [
        "cooking",
        "influencers",
        "gaming"
       ],
       "description": "Genre",
       "index": 0,
       "layout": "IPY_MODEL_858e53cdde7a41c39bfa619b62739bd9",
       "style": "IPY_MODEL_cc54f86922bf4d9cae3c43dc9f852eab"
      }
     },
     "292671b59adc4312a26c0018fdfe8537": {
      "model_module": "@jupyter-widgets/controls",
      "model_module_version": "1.5.0",
      "model_name": "VBoxModel",
      "state": {
       "_dom_classes": [
        "widget-interact"
       ],
       "children": [
        "IPY_MODEL_57ff9735031a4529800ae9ebd67ec214",
        "IPY_MODEL_0651da36f04c4ea48641a37c6ce43d4d",
        "IPY_MODEL_05a033cff8c9401cb8dc869e4da7ca6c",
        "IPY_MODEL_4e3fffac29a847338e869738bb9ae395"
       ],
       "layout": "IPY_MODEL_436a75e5650148f5a445fc2504f74dae"
      }
     },
     "29287423a44646c79486926f17811ccc": {
      "model_module": "@jupyter-widgets/controls",
      "model_module_version": "1.5.0",
      "model_name": "DescriptionStyleModel",
      "state": {
       "description_width": ""
      }
     },
     "29a301b2b8ba45c8a259e4ce4b732005": {
      "model_module": "@jupyter-widgets/base",
      "model_module_version": "1.2.0",
      "model_name": "LayoutModel",
      "state": {}
     },
     "2ad3090fae0b4b59abe8fcfb30dbda7b": {
      "model_module": "@jupyter-widgets/output",
      "model_module_version": "1.0.0",
      "model_name": "OutputModel",
      "state": {
       "layout": "IPY_MODEL_214fe5b84a494fcd8629def7e1a18fd5",
       "outputs": [
        {
         "name": "stdout",
         "output_type": "stream",
         "text": "Complete!     \r"
        }
       ]
      }
     },
     "2b2cd7eb649d487695a7da7d6c55bc2d": {
      "model_module": "@jupyter-widgets/controls",
      "model_module_version": "1.5.0",
      "model_name": "VBoxModel",
      "state": {
       "children": [
        "IPY_MODEL_79ca520e0c8f463c99ffdfb5aa7d6752",
        "IPY_MODEL_54c1dfd52bd449ed97aed12d549e01a4",
        "IPY_MODEL_161c423d53714eaab65732da4aeccf6e"
       ],
       "layout": "IPY_MODEL_0be4194e286b43f3a03454644c909c63"
      }
     },
     "2cc1a09cd89547b19ced999647be1de5": {
      "model_module": "@jupyter-widgets/controls",
      "model_module_version": "1.5.0",
      "model_name": "AccordionModel",
      "state": {
       "_titles": {
        "0": "Popular Keywords over Time",
        "1": "Likes&Dislikes over Time ",
        "2": "Text Analysis "
       },
       "children": [
        "IPY_MODEL_4a03461966124ae988cdd6c789b1efe3",
        "IPY_MODEL_32a202b3ce1f4957a41856adc8e3497a",
        "IPY_MODEL_2b2cd7eb649d487695a7da7d6c55bc2d"
       ],
       "layout": "IPY_MODEL_892d2b0236b94ea7beccf58b9422f4c3",
       "selected_index": 2
      }
     },
     "2f3f9b8a5c484b9f9d5385be6e484156": {
      "model_module": "@jupyter-widgets/controls",
      "model_module_version": "1.5.0",
      "model_name": "BoundedIntTextModel",
      "state": {
       "description": "Integer:",
       "layout": "IPY_MODEL_8162f6634e514294aade4e4a67d5ee0d",
       "max": 200,
       "style": "IPY_MODEL_3b5c24d6fcc54b1593bc85891d0a345f",
       "value": 10
      }
     },
     "2f5043721a6c49c292acec1a6813a665": {
      "model_module": "@jupyter-widgets/controls",
      "model_module_version": "1.5.0",
      "model_name": "AccordionModel",
      "state": {
       "_titles": {
        "0": "Popular Keywords over Time",
        "1": "Likes&Dislikes over Time ",
        "2": "Text Analysis "
       },
       "children": [
        "IPY_MODEL_fa1a066b33384305a2d95fd3d421d7b7",
        "IPY_MODEL_dd941048d92141eaa387c7f4af097f4f",
        "IPY_MODEL_41389d7b2b974489baa0c304cef7e278"
       ],
       "layout": "IPY_MODEL_e9ffb5634a924bfc904215cb3875b374",
       "selected_index": 2
      }
     },
     "302b9f00ce7a4ef19733fb5539ebda81": {
      "model_module": "@jupyter-widgets/base",
      "model_module_version": "1.2.0",
      "model_name": "LayoutModel",
      "state": {}
     },
     "303db1d425af4eacac988be58cbdedea": {
      "model_module": "@jupyter-widgets/base",
      "model_module_version": "1.2.0",
      "model_name": "LayoutModel",
      "state": {}
     },
     "31ecc0c719434965b1333df77a45ca1e": {
      "model_module": "@jupyter-widgets/base",
      "model_module_version": "1.2.0",
      "model_name": "LayoutModel",
      "state": {}
     },
     "3214c9eccfc349d4bd9476674cf8c706": {
      "model_module": "@jupyter-widgets/controls",
      "model_module_version": "1.5.0",
      "model_name": "DescriptionStyleModel",
      "state": {
       "description_width": ""
      }
     },
     "32a202b3ce1f4957a41856adc8e3497a": {
      "model_module": "@jupyter-widgets/controls",
      "model_module_version": "1.5.0",
      "model_name": "VBoxModel",
      "state": {
       "children": [
        "IPY_MODEL_e730415039c94d51a07ded82bfa5b59a",
        "IPY_MODEL_0cc529b6eaaa4d2781c621de3c58d801",
        "IPY_MODEL_f1e1945313c244adadac74bd2a8eb8d4"
       ],
       "layout": "IPY_MODEL_bb5453b016b247b29ce0d21b8837f7e0"
      }
     },
     "33e1a83d82944900894fdb7073ffbf1a": {
      "model_module": "@jupyter-widgets/controls",
      "model_module_version": "1.5.0",
      "model_name": "DescriptionStyleModel",
      "state": {
       "description_width": ""
      }
     },
     "3687053a039f4be5a08823c293b1066f": {
      "model_module": "@jupyter-widgets/base",
      "model_module_version": "1.2.0",
      "model_name": "LayoutModel",
      "state": {
       "grid_template_areas": "\"header header header\"\n\"center center center\"",
       "grid_template_columns": "1fr 2fr 1fr",
       "grid_template_rows": "1fr 3fr"
      }
     },
     "36e41af1c29c40038d76c3be2ab19b89": {
      "model_module": "@jupyter-widgets/controls",
      "model_module_version": "1.5.0",
      "model_name": "DescriptionStyleModel",
      "state": {
       "description_width": ""
      }
     },
     "39a318e8333348fe87e566a63d53f8ef": {
      "model_module": "@jupyter-widgets/controls",
      "model_module_version": "1.5.0",
      "model_name": "DescriptionStyleModel",
      "state": {
       "description_width": ""
      }
     },
     "3a9245e092dd449e991f7d66db75c0db": {
      "model_module": "@jupyter-widgets/base",
      "model_module_version": "1.2.0",
      "model_name": "LayoutModel",
      "state": {}
     },
     "3ad195a7400047fa9e4497b57f5642e2": {
      "model_module": "@jupyter-widgets/controls",
      "model_module_version": "1.5.0",
      "model_name": "DescriptionStyleModel",
      "state": {
       "description_width": ""
      }
     },
     "3b5c24d6fcc54b1593bc85891d0a345f": {
      "model_module": "@jupyter-widgets/controls",
      "model_module_version": "1.5.0",
      "model_name": "DescriptionStyleModel",
      "state": {
       "description_width": ""
      }
     },
     "3f34ea2cbdbe49e5b8a1304579870fee": {
      "model_module": "@jupyter-widgets/controls",
      "model_module_version": "1.5.0",
      "model_name": "HTMLModel",
      "state": {
       "layout": "IPY_MODEL_475ecb942a594c979c39731dceceaf68",
       "style": "IPY_MODEL_01cb9ee5008a46f59f2bcc086ba78653",
       "value": "<b><font size='5' color='Black'>Youtube Trend over Time</b>"
      }
     },
     "3f55a102951d410287a3c31cebdb2407": {
      "model_module": "@jupyter-widgets/base",
      "model_module_version": "1.2.0",
      "model_name": "LayoutModel",
      "state": {}
     },
     "3f77854086b841e18c0ca833074ef401": {
      "model_module": "@jupyter-widgets/controls",
      "model_module_version": "1.5.0",
      "model_name": "VBoxModel",
      "state": {
       "_dom_classes": [
        "widget-interact"
       ],
       "children": [
        "IPY_MODEL_ac90f73216824f8ab3f794ed2596eb8f",
        "IPY_MODEL_721c288381aa44b98fd93891d4ef1baa",
        "IPY_MODEL_0c518eff4d674d0baa42f26e444db029"
       ],
       "layout": "IPY_MODEL_7f821189b23946c4bae8f848b41a25d9"
      }
     },
     "41389d7b2b974489baa0c304cef7e278": {
      "model_module": "@jupyter-widgets/controls",
      "model_module_version": "1.5.0",
      "model_name": "VBoxModel",
      "state": {
       "children": [
        "IPY_MODEL_ceb212ae64384754a801dec75fa71f39",
        "IPY_MODEL_541e9fa617184c26af1336b051b69e7c",
        "IPY_MODEL_b8ab9a5587bf450d914d8f6af47bca0c"
       ],
       "layout": "IPY_MODEL_69025059380b414b8b660161570c5084"
      }
     },
     "436a75e5650148f5a445fc2504f74dae": {
      "model_module": "@jupyter-widgets/base",
      "model_module_version": "1.2.0",
      "model_name": "LayoutModel",
      "state": {}
     },
     "4385f4a9b41a4b2eb2c8a875b43b4e58": {
      "model_module": "@jupyter-widgets/output",
      "model_module_version": "1.0.0",
      "model_name": "OutputModel",
      "state": {
       "layout": "IPY_MODEL_a0308fdb1e5a4aea954dbfe81d37deb3",
       "outputs": [
        {
         "data": {
          "image/png": "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\n",
          "text/plain": "<Figure size 432x288 with 1 Axes>"
         },
         "metadata": {
          "needs_background": "light"
         },
         "output_type": "display_data"
        }
       ]
      }
     },
     "43a8d3865994413d8103efa0adfb05ce": {
      "model_module": "@jupyter-widgets/base",
      "model_module_version": "1.2.0",
      "model_name": "LayoutModel",
      "state": {}
     },
     "447b31e9b7ae4c919ed9bd3cd189cd88": {
      "model_module": "@jupyter-widgets/base",
      "model_module_version": "1.2.0",
      "model_name": "LayoutModel",
      "state": {}
     },
     "462bac8b0d434fcf9e0f47cba2ed61ea": {
      "model_module": "@jupyter-widgets/controls",
      "model_module_version": "1.5.0",
      "model_name": "TextModel",
      "state": {
       "description": "like",
       "layout": "IPY_MODEL_ce192155f9f647bda4c3346a925ab9d8",
       "style": "IPY_MODEL_39a318e8333348fe87e566a63d53f8ef",
       "value": "hate"
      }
     },
     "475ecb942a594c979c39731dceceaf68": {
      "model_module": "@jupyter-widgets/base",
      "model_module_version": "1.2.0",
      "model_name": "LayoutModel",
      "state": {}
     },
     "477e2797cc5546bc8e449de7f7cf0b0f": {
      "model_module": "@jupyter-widgets/base",
      "model_module_version": "1.2.0",
      "model_name": "LayoutModel",
      "state": {}
     },
     "4a03461966124ae988cdd6c789b1efe3": {
      "model_module": "@jupyter-widgets/controls",
      "model_module_version": "1.5.0",
      "model_name": "VBoxModel",
      "state": {
       "children": [
        "IPY_MODEL_1da1076a69074dc297dfb7cd1b05348d",
        "IPY_MODEL_6b10159b53114f8390a821c0addfda0e",
        "IPY_MODEL_2ad3090fae0b4b59abe8fcfb30dbda7b"
       ],
       "layout": "IPY_MODEL_00e633edf9d0479abed0d86ad10c0d35"
      }
     },
     "4b0352165a35400b85fcb97d6fd478c0": {
      "model_module": "@jupyter-widgets/controls",
      "model_module_version": "1.5.0",
      "model_name": "VBoxModel",
      "state": {
       "children": [
        "IPY_MODEL_0a1e7108d6cf4731afb99209d02583fb",
        "IPY_MODEL_af6c4e184f744efea43ad4d8586b2905"
       ],
       "layout": "IPY_MODEL_0ba806cc19d44743b7aa539a36b6a0cb"
      }
     },
     "4d23a9cd421e4a31942ed9678f8564f6": {
      "model_module": "@jupyter-widgets/base",
      "model_module_version": "1.2.0",
      "model_name": "LayoutModel",
      "state": {}
     },
     "4e3fffac29a847338e869738bb9ae395": {
      "model_module": "@jupyter-widgets/output",
      "model_module_version": "1.0.0",
      "model_name": "OutputModel",
      "state": {
       "layout": "IPY_MODEL_a127003de42843d388d996b003e5b3f6",
       "outputs": [
        {
         "data": {
          "text/plain": "<Figure size 640x480 with 1 Axes>"
         },
         "metadata": {},
         "output_type": "display_data"
        }
       ]
      }
     },
     "51d407023bda41f2865f3d0db53373f6": {
      "model_module": "@jupyter-widgets/base",
      "model_module_version": "1.2.0",
      "model_name": "LayoutModel",
      "state": {}
     },
     "533a11ab2b2a454fa695a2b33667b896": {
      "model_module": "@jupyter-widgets/base",
      "model_module_version": "1.2.0",
      "model_name": "LayoutModel",
      "state": {}
     },
     "541e9fa617184c26af1336b051b69e7c": {
      "model_module": "@jupyter-widgets/controls",
      "model_module_version": "1.5.0",
      "model_name": "VBoxModel",
      "state": {
       "_dom_classes": [
        "widget-interact"
       ],
       "children": [
        "IPY_MODEL_19eeccf022b64e9d83763e54af8854ec",
        "IPY_MODEL_77cf2cb096e04a9893386dcc56d69e2b",
        "IPY_MODEL_f197a8a9e8fb49ad998882c5488aab0e",
        "IPY_MODEL_b6c470a4e9434472a4f336d28717082a"
       ],
       "layout": "IPY_MODEL_672552f1ae8749a1a55751ccd2593141"
      }
     },
     "54c1dfd52bd449ed97aed12d549e01a4": {
      "model_module": "@jupyter-widgets/controls",
      "model_module_version": "1.5.0",
      "model_name": "VBoxModel",
      "state": {
       "_dom_classes": [
        "widget-interact"
       ],
       "children": [
        "IPY_MODEL_1f753e26b490473eb3f14a5c784cdb2e",
        "IPY_MODEL_909623dafd60464591ad725831a9a555",
        "IPY_MODEL_b36db90051b741b7995410adeca00710",
        "IPY_MODEL_990b857940d74806b4be4e8a0641365c"
       ],
       "layout": "IPY_MODEL_3f55a102951d410287a3c31cebdb2407"
      }
     },
     "5568ce0b4717489abd0e635be5963fe5": {
      "model_module": "@jupyter-widgets/controls",
      "model_module_version": "1.5.0",
      "model_name": "DescriptionStyleModel",
      "state": {
       "description_width": ""
      }
     },
     "57689241f0e0497991ce9c53646c9186": {
      "model_module": "@jupyter-widgets/controls",
      "model_module_version": "1.5.0",
      "model_name": "DescriptionStyleModel",
      "state": {
       "description_width": ""
      }
     },
     "57ff9735031a4529800ae9ebd67ec214": {
      "model_module": "@jupyter-widgets/controls",
      "model_module_version": "1.5.0",
      "model_name": "SelectionSliderModel",
      "state": {
       "_options_labels": [
        "2015-01",
        "2015-02",
        "2015-03",
        "2015-04",
        "2015-05",
        "2015-06",
        "2015-07",
        "2015-08",
        "2015-09",
        "2015-10",
        "2015-11",
        "2015-12",
        "2016-01",
        "2016-02",
        "2016-03",
        "2016-04",
        "2016-05",
        "2016-06",
        "2016-07",
        "2016-08",
        "2016-09",
        "2016-10",
        "2016-11",
        "2016-12",
        "2017-01",
        "2017-02",
        "2017-03",
        "2017-04",
        "2017-05",
        "2017-06",
        "2017-07",
        "2017-08",
        "2017-09",
        "2017-10",
        "2017-11",
        "2017-12",
        "2018-01",
        "2018-02",
        "2018-03",
        "2018-04",
        "2018-05",
        "2018-06",
        "2018-07",
        "2018-08",
        "2018-09",
        "2018-10",
        "2018-11",
        "2018-12",
        "2019-01",
        "2019-02",
        "2019-03",
        "2019-04",
        "2019-05",
        "2019-06",
        "2019-07",
        "2019-08",
        "2019-09",
        "2019-10",
        "2019-11",
        "2019-12"
       ],
       "continuous_update": false,
       "description": "Date",
       "index": 0,
       "layout": "IPY_MODEL_c56949a107754d939627d4b039c5be0d",
       "style": "IPY_MODEL_c1983130db314167ae2bff9cb309df97"
      }
     },
     "58ef113a36f34109b116b5df6152ed8d": {
      "model_module": "@jupyter-widgets/base",
      "model_module_version": "1.2.0",
      "model_name": "LayoutModel",
      "state": {}
     },
     "59e38254ac1e4a5a901dd777a61c0bc0": {
      "model_module": "@jupyter-widgets/controls",
      "model_module_version": "1.5.0",
      "model_name": "VBoxModel",
      "state": {
       "_dom_classes": [
        "widget-interact"
       ],
       "children": [
        "IPY_MODEL_57ff9735031a4529800ae9ebd67ec214",
        "IPY_MODEL_0651da36f04c4ea48641a37c6ce43d4d",
        "IPY_MODEL_a3a2566779ca4004add7d81fffd9f0d9",
        "IPY_MODEL_c2fb99b9a66f4803ae193abafc238d64"
       ],
       "layout": "IPY_MODEL_67da884edcfc4eea83051f63e89ad8d5"
      }
     },
     "5a71d84cb65340bf8cdf23148c8c0376": {
      "model_module": "@jupyter-widgets/controls",
      "model_module_version": "1.5.0",
      "model_name": "VBoxModel",
      "state": {
       "_dom_classes": [
        "widget-interact"
       ],
       "children": [
        "IPY_MODEL_9973dda7a5194037ae280a27aeb4fd34",
        "IPY_MODEL_e992899ffd614efeabeea1d62704f218",
        "IPY_MODEL_462bac8b0d434fcf9e0f47cba2ed61ea",
        "IPY_MODEL_4385f4a9b41a4b2eb2c8a875b43b4e58"
       ],
       "layout": "IPY_MODEL_a45839c4b68741069ae55c823aafd0c7"
      }
     },
     "5e6fe4205ab847ae85fe71aa9fe968b9": {
      "model_module": "@jupyter-widgets/controls",
      "model_module_version": "1.5.0",
      "model_name": "HBoxModel",
      "state": {
       "children": [
        "IPY_MODEL_292671b59adc4312a26c0018fdfe8537",
        "IPY_MODEL_59e38254ac1e4a5a901dd777a61c0bc0"
       ],
       "layout": "IPY_MODEL_c0cd094093204fa985bc4e852d07222a"
      }
     },
     "5f1a4285def54914bc14a8960194a1ab": {
      "model_module": "@jupyter-widgets/base",
      "model_module_version": "1.2.0",
      "model_name": "LayoutModel",
      "state": {}
     },
     "5f88385f4dff42be92cc5b72c96b729b": {
      "model_module": "@jupyter-widgets/output",
      "model_module_version": "1.0.0",
      "model_name": "OutputModel",
      "state": {
       "layout": "IPY_MODEL_1dde46987ac4438a80a479a02404889e",
       "outputs": [
        {
         "name": "stdout",
         "output_type": "stream",
         "text": "Complete!     \r"
        }
       ]
      }
     },
     "63a2a9b2f19547d6b8d110731d5f90c0": {
      "model_module": "@jupyter-widgets/controls",
      "model_module_version": "1.5.0",
      "model_name": "BoundedIntTextModel",
      "state": {
       "description": "Integer:",
       "layout": "IPY_MODEL_302b9f00ce7a4ef19733fb5539ebda81",
       "max": 200,
       "style": "IPY_MODEL_67f66698b52e4966b7ef57f707e77812",
       "value": 10
      }
     },
     "64ffd80df6d74aacbef7ac59d811f626": {
      "model_module": "@jupyter-widgets/base",
      "model_module_version": "1.2.0",
      "model_name": "LayoutModel",
      "state": {}
     },
     "65ef963c677841459db52a19da531d12": {
      "model_module": "@jupyter-widgets/base",
      "model_module_version": "1.2.0",
      "model_name": "LayoutModel",
      "state": {}
     },
     "672552f1ae8749a1a55751ccd2593141": {
      "model_module": "@jupyter-widgets/base",
      "model_module_version": "1.2.0",
      "model_name": "LayoutModel",
      "state": {}
     },
     "67da884edcfc4eea83051f63e89ad8d5": {
      "model_module": "@jupyter-widgets/base",
      "model_module_version": "1.2.0",
      "model_name": "LayoutModel",
      "state": {}
     },
     "67f66698b52e4966b7ef57f707e77812": {
      "model_module": "@jupyter-widgets/controls",
      "model_module_version": "1.5.0",
      "model_name": "DescriptionStyleModel",
      "state": {
       "description_width": ""
      }
     },
     "69025059380b414b8b660161570c5084": {
      "model_module": "@jupyter-widgets/base",
      "model_module_version": "1.2.0",
      "model_name": "LayoutModel",
      "state": {}
     },
     "6b10159b53114f8390a821c0addfda0e": {
      "model_module": "@jupyter-widgets/controls",
      "model_module_version": "1.5.0",
      "model_name": "VBoxModel",
      "state": {
       "_dom_classes": [
        "widget-interact"
       ],
       "children": [
        "IPY_MODEL_8c3fe56b3c804c04af6be4d39307a303",
        "IPY_MODEL_c36017309fe04078ba3f988ec7629c5e",
        "IPY_MODEL_6f3f9aedde9845ab8822b2fa5ab40a33"
       ],
       "layout": "IPY_MODEL_fa1ec728917245afa3a440ef76452ff8"
      }
     },
     "6ef9f228af2b4487a98bdfb278252935": {
      "model_module": "@jupyter-widgets/controls",
      "model_module_version": "1.5.0",
      "model_name": "DescriptionStyleModel",
      "state": {
       "description_width": ""
      }
     },
     "6f3f9aedde9845ab8822b2fa5ab40a33": {
      "model_module": "@jupyter-widgets/output",
      "model_module_version": "1.0.0",
      "model_name": "OutputModel",
      "state": {
       "layout": "IPY_MODEL_10839938cc1d4db9944aa81a9fc5001b",
       "outputs": [
        {
         "data": {
          "image/png": "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\n",
          "text/plain": "<Figure size 432x288 with 1 Axes>"
         },
         "metadata": {
          "needs_background": "light"
         },
         "output_type": "display_data"
        }
       ]
      }
     },
     "721c288381aa44b98fd93891d4ef1baa": {
      "model_module": "@jupyter-widgets/controls",
      "model_module_version": "1.5.0",
      "model_name": "DropdownModel",
      "state": {
       "_options_labels": [
        "cooking",
        "influencers",
        "gaming"
       ],
       "description": "Genre",
       "index": 1,
       "layout": "IPY_MODEL_7ba004efc3994817b09dcc4c44675f9f",
       "style": "IPY_MODEL_b5c470aef0a9420484b6b1b73b99fc2c"
      }
     },
     "734885f872d04705a6bde5c42eb8043d": {
      "model_module": "@jupyter-widgets/base",
      "model_module_version": "1.2.0",
      "model_name": "LayoutModel",
      "state": {}
     },
     "74b56f894f464cde91e5fff03ed27231": {
      "model_module": "@jupyter-widgets/controls",
      "model_module_version": "1.5.0",
      "model_name": "DescriptionStyleModel",
      "state": {
       "description_width": ""
      }
     },
     "77cf2cb096e04a9893386dcc56d69e2b": {
      "model_module": "@jupyter-widgets/controls",
      "model_module_version": "1.5.0",
      "model_name": "DropdownModel",
      "state": {
       "_options_labels": [
        "cooking",
        "influencers",
        "gaming"
       ],
       "description": "Genre",
       "index": 0,
       "layout": "IPY_MODEL_a8759681d08c4656981cc609d9ef9924",
       "style": "IPY_MODEL_942e3a048d3a4e868979fffd5b8f7c09"
      }
     },
     "78fa86f280354ac4a4e518e968555685": {
      "model_module": "@jupyter-widgets/controls",
      "model_module_version": "1.5.0",
      "model_name": "DescriptionStyleModel",
      "state": {
       "description_width": ""
      }
     },
     "79ca520e0c8f463c99ffdfb5aa7d6752": {
      "model_module": "@jupyter-widgets/controls",
      "model_module_version": "1.5.0",
      "model_name": "HTMLModel",
      "state": {
       "layout": "IPY_MODEL_e34bb85cb3db48da84ea353fd4c47349",
       "style": "IPY_MODEL_57689241f0e0497991ce9c53646c9186",
       "value": "<b><font size='2' color='Black'>\nOur Text Analysis tool will generate word connotations based on the words typed into the textbox.  \nWords will be colored according to its positive or negative sentiment.\n For example, words in red denoting a negative word, words in yellow denoting neutral words and green denoting a positive word. Words that can not be \n decided will remain in black.\n Also, you can select the genre and metric of interest. \n</b>"
      }
     },
     "79e8ac545fea4d3898d650967ce06737": {
      "model_module": "@jupyter-widgets/controls",
      "model_module_version": "1.5.0",
      "model_name": "GridBoxModel",
      "state": {
       "children": [
        "IPY_MODEL_a15ad9bd451742d49287fa2862753840",
        "IPY_MODEL_2f5043721a6c49c292acec1a6813a665"
       ],
       "layout": "IPY_MODEL_d2908b2561cb4da7aaf2aee9e360e6b7"
      }
     },
     "7ba004efc3994817b09dcc4c44675f9f": {
      "model_module": "@jupyter-widgets/base",
      "model_module_version": "1.2.0",
      "model_name": "LayoutModel",
      "state": {}
     },
     "7ba97431549c4571a925b4ea13057748": {
      "model_module": "@jupyter-widgets/controls",
      "model_module_version": "1.5.0",
      "model_name": "DescriptionStyleModel",
      "state": {
       "description_width": ""
      }
     },
     "7f821189b23946c4bae8f848b41a25d9": {
      "model_module": "@jupyter-widgets/base",
      "model_module_version": "1.2.0",
      "model_name": "LayoutModel",
      "state": {}
     },
     "8162f6634e514294aade4e4a67d5ee0d": {
      "model_module": "@jupyter-widgets/base",
      "model_module_version": "1.2.0",
      "model_name": "LayoutModel",
      "state": {}
     },
     "83edc4f88de74081a3c4f718b3b497ec": {
      "model_module": "@jupyter-widgets/base",
      "model_module_version": "1.2.0",
      "model_name": "LayoutModel",
      "state": {}
     },
     "84ce2a7cf9614b2692a0d3fabe31d5f1": {
      "model_module": "@jupyter-widgets/base",
      "model_module_version": "1.2.0",
      "model_name": "LayoutModel",
      "state": {}
     },
     "8530eb834b0a4d61a6da0ad5ef754666": {
      "model_module": "@jupyter-widgets/controls",
      "model_module_version": "1.5.0",
      "model_name": "DescriptionStyleModel",
      "state": {
       "description_width": ""
      }
     },
     "858e53cdde7a41c39bfa619b62739bd9": {
      "model_module": "@jupyter-widgets/base",
      "model_module_version": "1.2.0",
      "model_name": "LayoutModel",
      "state": {}
     },
     "886d6a70b50b4206ad0c4094fa7ac117": {
      "model_module": "@jupyter-widgets/controls",
      "model_module_version": "1.5.0",
      "model_name": "DescriptionStyleModel",
      "state": {
       "description_width": ""
      }
     },
     "892d2b0236b94ea7beccf58b9422f4c3": {
      "model_module": "@jupyter-widgets/base",
      "model_module_version": "1.2.0",
      "model_name": "LayoutModel",
      "state": {
       "grid_area": "center"
      }
     },
     "8c3fe56b3c804c04af6be4d39307a303": {
      "model_module": "@jupyter-widgets/controls",
      "model_module_version": "1.5.0",
      "model_name": "SelectionSliderModel",
      "state": {
       "_options_labels": [
        "2015-01",
        "2015-02",
        "2015-03",
        "2015-04",
        "2015-05",
        "2015-06",
        "2015-07",
        "2015-08",
        "2015-09",
        "2015-10",
        "2015-11",
        "2015-12",
        "2016-01",
        "2016-02",
        "2016-03",
        "2016-04",
        "2016-05",
        "2016-06",
        "2016-07",
        "2016-08",
        "2016-09",
        "2016-10",
        "2016-11",
        "2016-12",
        "2017-01",
        "2017-02",
        "2017-03",
        "2017-04",
        "2017-05",
        "2017-06",
        "2017-07",
        "2017-08",
        "2017-09",
        "2017-10",
        "2017-11",
        "2017-12",
        "2018-01",
        "2018-02",
        "2018-03",
        "2018-04",
        "2018-05",
        "2018-06",
        "2018-07",
        "2018-08",
        "2018-09",
        "2018-10",
        "2018-11",
        "2018-12",
        "2019-01",
        "2019-02",
        "2019-03",
        "2019-04",
        "2019-05",
        "2019-06",
        "2019-07",
        "2019-08",
        "2019-09",
        "2019-10",
        "2019-11",
        "2019-12"
       ],
       "continuous_update": false,
       "description": "Date",
       "index": 0,
       "layout": "IPY_MODEL_65ef963c677841459db52a19da531d12",
       "style": "IPY_MODEL_8530eb834b0a4d61a6da0ad5ef754666"
      }
     },
     "8f6904f8a4d440edaad8e86384ddaf3d": {
      "model_module": "@jupyter-widgets/base",
      "model_module_version": "1.2.0",
      "model_name": "LayoutModel",
      "state": {}
     },
     "909623dafd60464591ad725831a9a555": {
      "model_module": "@jupyter-widgets/controls",
      "model_module_version": "1.5.0",
      "model_name": "DropdownModel",
      "state": {
       "_options_labels": [
        "cooking",
        "influencers",
        "gaming"
       ],
       "description": "Genre",
       "index": 0,
       "layout": "IPY_MODEL_cef4afbb3abf4e769e736f5c94745a65",
       "style": "IPY_MODEL_05360d73fcfe4133a608334d6067a738"
      }
     },
     "92b351648e1542fd8c9f34fcc386d6f5": {
      "model_module": "@jupyter-widgets/controls",
      "model_module_version": "1.5.0",
      "model_name": "TextModel",
      "state": {
       "description": "like",
       "layout": "IPY_MODEL_270bf59116634899a17c890e7ca93851",
       "style": "IPY_MODEL_3ad195a7400047fa9e4497b57f5642e2",
       "value": "like"
      }
     },
     "942e3a048d3a4e868979fffd5b8f7c09": {
      "model_module": "@jupyter-widgets/controls",
      "model_module_version": "1.5.0",
      "model_name": "DescriptionStyleModel",
      "state": {
       "description_width": ""
      }
     },
     "94c7ac91445148568d518585f22785d0": {
      "model_module": "@jupyter-widgets/base",
      "model_module_version": "1.2.0",
      "model_name": "LayoutModel",
      "state": {}
     },
     "96212e94367c4f2ba8c10491ae2c53f8": {
      "model_module": "@jupyter-widgets/controls",
      "model_module_version": "1.5.0",
      "model_name": "DescriptionStyleModel",
      "state": {
       "description_width": ""
      }
     },
     "990b857940d74806b4be4e8a0641365c": {
      "model_module": "@jupyter-widgets/output",
      "model_module_version": "1.0.0",
      "model_name": "OutputModel",
      "state": {
       "layout": "IPY_MODEL_fcf1a0fe686043fdad10f4bd95e9c5f8"
      }
     },
     "9973dda7a5194037ae280a27aeb4fd34": {
      "model_module": "@jupyter-widgets/controls",
      "model_module_version": "1.5.0",
      "model_name": "SelectionSliderModel",
      "state": {
       "_options_labels": [
        "2015-01",
        "2015-02",
        "2015-03",
        "2015-04",
        "2015-05",
        "2015-06",
        "2015-07",
        "2015-08",
        "2015-09",
        "2015-10",
        "2015-11",
        "2015-12",
        "2016-01",
        "2016-02",
        "2016-03",
        "2016-04",
        "2016-05",
        "2016-06",
        "2016-07",
        "2016-08",
        "2016-09",
        "2016-10",
        "2016-11",
        "2016-12",
        "2017-01",
        "2017-02",
        "2017-03",
        "2017-04",
        "2017-05",
        "2017-06",
        "2017-07",
        "2017-08",
        "2017-09",
        "2017-10",
        "2017-11",
        "2017-12",
        "2018-01",
        "2018-02",
        "2018-03",
        "2018-04",
        "2018-05",
        "2018-06",
        "2018-07",
        "2018-08",
        "2018-09",
        "2018-10",
        "2018-11",
        "2018-12",
        "2019-01",
        "2019-02",
        "2019-03",
        "2019-04",
        "2019-05",
        "2019-06",
        "2019-07",
        "2019-08",
        "2019-09",
        "2019-10",
        "2019-11",
        "2019-12"
       ],
       "continuous_update": false,
       "description": "Date",
       "index": 0,
       "layout": "IPY_MODEL_fbbd6303a2f24554aa50259825512d59",
       "style": "IPY_MODEL_c7d05790c111421a84303a5f673464e5"
      }
     },
     "9a161c040c30490a8b3306a980d00428": {
      "model_module": "@jupyter-widgets/base",
      "model_module_version": "1.2.0",
      "model_name": "LayoutModel",
      "state": {}
     },
     "9af12716ac434d8da70dd0ecba924e47": {
      "model_module": "@jupyter-widgets/base",
      "model_module_version": "1.2.0",
      "model_name": "LayoutModel",
      "state": {}
     },
     "9b93fdfa01064f8eae81c3f148bc2e39": {
      "model_module": "@jupyter-widgets/controls",
      "model_module_version": "1.5.0",
      "model_name": "DescriptionStyleModel",
      "state": {
       "description_width": ""
      }
     },
     "a024a2b8510347a8a363947f05e9da94": {
      "model_module": "@jupyter-widgets/base",
      "model_module_version": "1.2.0",
      "model_name": "LayoutModel",
      "state": {}
     },
     "a0308fdb1e5a4aea954dbfe81d37deb3": {
      "model_module": "@jupyter-widgets/base",
      "model_module_version": "1.2.0",
      "model_name": "LayoutModel",
      "state": {}
     },
     "a0b11516036d46db8a5cd7979844e242": {
      "model_module": "@jupyter-widgets/base",
      "model_module_version": "1.2.0",
      "model_name": "LayoutModel",
      "state": {}
     },
     "a127003de42843d388d996b003e5b3f6": {
      "model_module": "@jupyter-widgets/base",
      "model_module_version": "1.2.0",
      "model_name": "LayoutModel",
      "state": {}
     },
     "a15ad9bd451742d49287fa2862753840": {
      "model_module": "@jupyter-widgets/controls",
      "model_module_version": "1.5.0",
      "model_name": "VBoxModel",
      "state": {
       "children": [
        "IPY_MODEL_3f34ea2cbdbe49e5b8a1304579870fee",
        "IPY_MODEL_defa562fd0b14946a58fc0cd7c8b247d"
       ],
       "layout": "IPY_MODEL_f6be03f3e2f14049b3474b5841667136"
      }
     },
     "a336bd3c20fb4b94a1c3f95909c5ef86": {
      "model_module": "@jupyter-widgets/controls",
      "model_module_version": "1.5.0",
      "model_name": "DescriptionStyleModel",
      "state": {
       "description_width": ""
      }
     },
     "a3a2566779ca4004add7d81fffd9f0d9": {
      "model_module": "@jupyter-widgets/controls",
      "model_module_version": "1.5.0",
      "model_name": "TextModel",
      "state": {
       "description": "like",
       "layout": "IPY_MODEL_303db1d425af4eacac988be58cbdedea",
       "style": "IPY_MODEL_7ba97431549c4571a925b4ea13057748",
       "value": "hate"
      }
     },
     "a45839c4b68741069ae55c823aafd0c7": {
      "model_module": "@jupyter-widgets/base",
      "model_module_version": "1.2.0",
      "model_name": "LayoutModel",
      "state": {}
     },
     "a8759681d08c4656981cc609d9ef9924": {
      "model_module": "@jupyter-widgets/base",
      "model_module_version": "1.2.0",
      "model_name": "LayoutModel",
      "state": {}
     },
     "ab40973ca07941578e03eefcb8e4a302": {
      "model_module": "@jupyter-widgets/output",
      "model_module_version": "1.0.0",
      "model_name": "OutputModel",
      "state": {
       "layout": "IPY_MODEL_9af12716ac434d8da70dd0ecba924e47",
       "outputs": [
        {
         "data": {
          "image/png": "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\n",
          "text/plain": "<Figure size 432x288 with 1 Axes>"
         },
         "metadata": {
          "needs_background": "light"
         },
         "output_type": "display_data"
        }
       ]
      }
     },
     "ac90f73216824f8ab3f794ed2596eb8f": {
      "model_module": "@jupyter-widgets/controls",
      "model_module_version": "1.5.0",
      "model_name": "SelectionSliderModel",
      "state": {
       "_options_labels": [
        "2015-01",
        "2015-02",
        "2015-03",
        "2015-04",
        "2015-05",
        "2015-06",
        "2015-07",
        "2015-08",
        "2015-09",
        "2015-10",
        "2015-11",
        "2015-12",
        "2016-01",
        "2016-02",
        "2016-03",
        "2016-04",
        "2016-05",
        "2016-06",
        "2016-07",
        "2016-08",
        "2016-09",
        "2016-10",
        "2016-11",
        "2016-12",
        "2017-01",
        "2017-02",
        "2017-03",
        "2017-04",
        "2017-05",
        "2017-06",
        "2017-07",
        "2017-08",
        "2017-09",
        "2017-10",
        "2017-11",
        "2017-12",
        "2018-01",
        "2018-02",
        "2018-03",
        "2018-04",
        "2018-05",
        "2018-06",
        "2018-07",
        "2018-08",
        "2018-09",
        "2018-10",
        "2018-11",
        "2018-12",
        "2019-01",
        "2019-02",
        "2019-03",
        "2019-04",
        "2019-05",
        "2019-06",
        "2019-07",
        "2019-08",
        "2019-09",
        "2019-10",
        "2019-11",
        "2019-12"
       ],
       "continuous_update": false,
       "description": "Date",
       "index": 4,
       "layout": "IPY_MODEL_b7e9a507c6e24a91bd23cee909a71057",
       "style": "IPY_MODEL_33e1a83d82944900894fdb7073ffbf1a"
      }
     },
     "adc6321c9dca4b7198c58f96be3f1ba6": {
      "model_module": "@jupyter-widgets/base",
      "model_module_version": "1.2.0",
      "model_name": "LayoutModel",
      "state": {}
     },
     "ae0edf638a1944378f204894a9ce7db6": {
      "model_module": "@jupyter-widgets/controls",
      "model_module_version": "1.5.0",
      "model_name": "DescriptionStyleModel",
      "state": {
       "description_width": ""
      }
     },
     "ae6bde89226545a3a17e9b86904eedc9": {
      "model_module": "@jupyter-widgets/controls",
      "model_module_version": "1.5.0",
      "model_name": "HTMLModel",
      "state": {
       "layout": "IPY_MODEL_c3b17fab148b4e61b08ee165a9b5afe8",
       "style": "IPY_MODEL_bb26bbbce4e54739a86fee0d347a75e5",
       "value": "<b><font size='2' color='Black'>\nIn this part, you can use our tools to create a word cloud of popular words in different time periods. Size of a word will be based on\nits popularity. \n We also provide you with different genres to choose. You can check the popular words within the genre you have interest in.\n The time will be in a month and year format that the user can toggle with the slider and see how the word cloud changes over time.\n</b>"
      }
     },
     "af6c4e184f744efea43ad4d8586b2905": {
      "model_module": "@jupyter-widgets/controls",
      "model_module_version": "1.5.0",
      "model_name": "HTMLModel",
      "state": {
       "layout": "IPY_MODEL_025bf0716fdd4236a5d531860bcb3ecc",
       "style": "IPY_MODEL_74b56f894f464cde91e5fff03ed27231",
       "value": "<b><font size='2' color='Black'>How insane is it that sometimes you see the most amazing video on youtube, \nand yet it took nearly a decade for it to be popular? Or a subpar video which hits a \nmillion views within a week? A lot of it has to do with the way you market your content. \nSponsoring advertisements for your posts helps, but it depends heavily on the \ntextual supporting descriptions that you add. And an even deeper question is: what makes certain \nwords more popular than others? What receives more hate by the public? Are certain \ntopics more active during election years or during a pandemic? Fortunately, our platform and tools will figure it out for you\n. We’re trying to create a simple \nplatform which serves as a proof of concept for how sentiment analysis can be extended \nto utility on a daily basis, with a very wide customer demographic.\n</b>"
      }
     },
     "b36db90051b741b7995410adeca00710": {
      "model_module": "@jupyter-widgets/controls",
      "model_module_version": "1.5.0",
      "model_name": "DropdownModel",
      "state": {
       "_options_labels": [
        "likes_mean",
        "likes_median",
        "dislikes_mean",
        "dislikes_median",
        "views_mean",
        "views_median",
        "polarity",
        "subjectivity"
       ],
       "description": "Metric",
       "index": 0,
       "layout": "IPY_MODEL_5f1a4285def54914bc14a8960194a1ab",
       "style": "IPY_MODEL_886d6a70b50b4206ad0c4094fa7ac117"
      }
     },
     "b5c470aef0a9420484b6b1b73b99fc2c": {
      "model_module": "@jupyter-widgets/controls",
      "model_module_version": "1.5.0",
      "model_name": "DescriptionStyleModel",
      "state": {
       "description_width": ""
      }
     },
     "b6c470a4e9434472a4f336d28717082a": {
      "model_module": "@jupyter-widgets/output",
      "model_module_version": "1.0.0",
      "model_name": "OutputModel",
      "state": {
       "layout": "IPY_MODEL_3a9245e092dd449e991f7d66db75c0db",
       "outputs": [
        {
         "name": "stdout",
         "output_type": "stream",
         "text": "\n**********************************************************************\n  Resource \u001b[93mpunkt\u001b[0m not found.\n  Please use the NLTK Downloader to obtain the resource:\n\n  \u001b[31m>>> import nltk\n  >>> nltk.download('punkt')\n  \u001b[0m\n  For more information see: https://www.nltk.org/data.html\n\n  Attempted to load \u001b[93mtokenizers/punkt/PY3/english.pickle\u001b[0m\n\n  Searched in:\n    - '/Users/lizichao/nltk_data'\n    - '/Users/lizichao/anaconda3/envs/keras/nltk_data'\n    - '/Users/lizichao/anaconda3/envs/keras/share/nltk_data'\n    - '/Users/lizichao/anaconda3/envs/keras/lib/nltk_data'\n    - '/usr/share/nltk_data'\n    - '/usr/local/share/nltk_data'\n    - '/usr/lib/nltk_data'\n    - '/usr/local/lib/nltk_data'\n    - ''\n**********************************************************************\n\n"
        },
        {
         "ename": "MissingCorpusError",
         "evalue": "\nLooks like you are missing some required data for this feature.\n\nTo download the necessary data, simply run\n\n    python -m textblob.download_corpora\n\nor use the NLTK downloader to download the missing data: http://nltk.org/data.html\nIf this doesn't fix the problem, file an issue at https://github.com/sloria/TextBlob/issues.\n",
         "output_type": "error",
         "traceback": [
          "\u001b[0;31m---------------------------------------------------------------------------\u001b[0m",
          "\u001b[0;31mLookupError\u001b[0m                               Traceback (most recent call last)",
          "\u001b[0;32m~/anaconda3/envs/keras/lib/python3.6/site-packages/textblob/decorators.py\u001b[0m in \u001b[0;36mdecorated\u001b[0;34m(*args, **kwargs)\u001b[0m\n\u001b[1;32m     34\u001b[0m         \u001b[0;32mtry\u001b[0m\u001b[0;34m:\u001b[0m\u001b[0;34m\u001b[0m\u001b[0;34m\u001b[0m\u001b[0m\n\u001b[0;32m---> 35\u001b[0;31m             \u001b[0;32mreturn\u001b[0m \u001b[0mfunc\u001b[0m\u001b[0;34m(\u001b[0m\u001b[0;34m*\u001b[0m\u001b[0margs\u001b[0m\u001b[0;34m,\u001b[0m \u001b[0;34m**\u001b[0m\u001b[0mkwargs\u001b[0m\u001b[0;34m)\u001b[0m\u001b[0;34m\u001b[0m\u001b[0;34m\u001b[0m\u001b[0m\n\u001b[0m\u001b[1;32m     36\u001b[0m         \u001b[0;32mexcept\u001b[0m \u001b[0mLookupError\u001b[0m \u001b[0;32mas\u001b[0m \u001b[0merr\u001b[0m\u001b[0;34m:\u001b[0m\u001b[0;34m\u001b[0m\u001b[0;34m\u001b[0m\u001b[0m\n",
          "\u001b[0;32m~/anaconda3/envs/keras/lib/python3.6/site-packages/textblob/tokenizers.py\u001b[0m in \u001b[0;36mtokenize\u001b[0;34m(self, text)\u001b[0m\n\u001b[1;32m     56\u001b[0m         \u001b[0;34m'''Return a list of sentences.'''\u001b[0m\u001b[0;34m\u001b[0m\u001b[0;34m\u001b[0m\u001b[0m\n\u001b[0;32m---> 57\u001b[0;31m         \u001b[0;32mreturn\u001b[0m \u001b[0mnltk\u001b[0m\u001b[0;34m.\u001b[0m\u001b[0mtokenize\u001b[0m\u001b[0;34m.\u001b[0m\u001b[0msent_tokenize\u001b[0m\u001b[0;34m(\u001b[0m\u001b[0mtext\u001b[0m\u001b[0;34m)\u001b[0m\u001b[0;34m\u001b[0m\u001b[0;34m\u001b[0m\u001b[0m\n\u001b[0m\u001b[1;32m     58\u001b[0m \u001b[0;34m\u001b[0m\u001b[0m\n",
          "\u001b[0;32m~/anaconda3/envs/keras/lib/python3.6/site-packages/nltk/tokenize/__init__.py\u001b[0m in \u001b[0;36msent_tokenize\u001b[0;34m(text, language)\u001b[0m\n\u001b[1;32m    104\u001b[0m     \"\"\"\n\u001b[0;32m--> 105\u001b[0;31m     \u001b[0mtokenizer\u001b[0m \u001b[0;34m=\u001b[0m \u001b[0mload\u001b[0m\u001b[0;34m(\u001b[0m\u001b[0;34m'tokenizers/punkt/{0}.pickle'\u001b[0m\u001b[0;34m.\u001b[0m\u001b[0mformat\u001b[0m\u001b[0;34m(\u001b[0m\u001b[0mlanguage\u001b[0m\u001b[0;34m)\u001b[0m\u001b[0;34m)\u001b[0m\u001b[0;34m\u001b[0m\u001b[0;34m\u001b[0m\u001b[0m\n\u001b[0m\u001b[1;32m    106\u001b[0m     \u001b[0;32mreturn\u001b[0m \u001b[0mtokenizer\u001b[0m\u001b[0;34m.\u001b[0m\u001b[0mtokenize\u001b[0m\u001b[0;34m(\u001b[0m\u001b[0mtext\u001b[0m\u001b[0;34m)\u001b[0m\u001b[0;34m\u001b[0m\u001b[0;34m\u001b[0m\u001b[0m\n",
          "\u001b[0;32m~/anaconda3/envs/keras/lib/python3.6/site-packages/nltk/data.py\u001b[0m in \u001b[0;36mload\u001b[0;34m(resource_url, format, cache, verbose, logic_parser, fstruct_reader, encoding)\u001b[0m\n\u001b[1;32m    867\u001b[0m     \u001b[0;31m# Load the resource.\u001b[0m\u001b[0;34m\u001b[0m\u001b[0;34m\u001b[0m\u001b[0;34m\u001b[0m\u001b[0m\n\u001b[0;32m--> 868\u001b[0;31m     \u001b[0mopened_resource\u001b[0m \u001b[0;34m=\u001b[0m \u001b[0m_open\u001b[0m\u001b[0;34m(\u001b[0m\u001b[0mresource_url\u001b[0m\u001b[0;34m)\u001b[0m\u001b[0;34m\u001b[0m\u001b[0;34m\u001b[0m\u001b[0m\n\u001b[0m\u001b[1;32m    869\u001b[0m \u001b[0;34m\u001b[0m\u001b[0m\n",
          "\u001b[0;32m~/anaconda3/envs/keras/lib/python3.6/site-packages/nltk/data.py\u001b[0m in \u001b[0;36m_open\u001b[0;34m(resource_url)\u001b[0m\n\u001b[1;32m    992\u001b[0m     \u001b[0;32mif\u001b[0m \u001b[0mprotocol\u001b[0m \u001b[0;32mis\u001b[0m \u001b[0;32mNone\u001b[0m \u001b[0;32mor\u001b[0m \u001b[0mprotocol\u001b[0m\u001b[0;34m.\u001b[0m\u001b[0mlower\u001b[0m\u001b[0;34m(\u001b[0m\u001b[0;34m)\u001b[0m \u001b[0;34m==\u001b[0m \u001b[0;34m'nltk'\u001b[0m\u001b[0;34m:\u001b[0m\u001b[0;34m\u001b[0m\u001b[0;34m\u001b[0m\u001b[0m\n\u001b[0;32m--> 993\u001b[0;31m         \u001b[0;32mreturn\u001b[0m \u001b[0mfind\u001b[0m\u001b[0;34m(\u001b[0m\u001b[0mpath_\u001b[0m\u001b[0;34m,\u001b[0m \u001b[0mpath\u001b[0m \u001b[0;34m+\u001b[0m \u001b[0;34m[\u001b[0m\u001b[0;34m''\u001b[0m\u001b[0;34m]\u001b[0m\u001b[0;34m)\u001b[0m\u001b[0;34m.\u001b[0m\u001b[0mopen\u001b[0m\u001b[0;34m(\u001b[0m\u001b[0;34m)\u001b[0m\u001b[0;34m\u001b[0m\u001b[0;34m\u001b[0m\u001b[0m\n\u001b[0m\u001b[1;32m    994\u001b[0m     \u001b[0;32melif\u001b[0m \u001b[0mprotocol\u001b[0m\u001b[0;34m.\u001b[0m\u001b[0mlower\u001b[0m\u001b[0;34m(\u001b[0m\u001b[0;34m)\u001b[0m \u001b[0;34m==\u001b[0m \u001b[0;34m'file'\u001b[0m\u001b[0;34m:\u001b[0m\u001b[0;34m\u001b[0m\u001b[0;34m\u001b[0m\u001b[0m\n",
          "\u001b[0;32m~/anaconda3/envs/keras/lib/python3.6/site-packages/nltk/data.py\u001b[0m in \u001b[0;36mfind\u001b[0;34m(resource_name, paths)\u001b[0m\n\u001b[1;32m    700\u001b[0m     \u001b[0mresource_not_found\u001b[0m \u001b[0;34m=\u001b[0m \u001b[0;34m'\\n%s\\n%s\\n%s\\n'\u001b[0m \u001b[0;34m%\u001b[0m \u001b[0;34m(\u001b[0m\u001b[0msep\u001b[0m\u001b[0;34m,\u001b[0m \u001b[0mmsg\u001b[0m\u001b[0;34m,\u001b[0m \u001b[0msep\u001b[0m\u001b[0;34m)\u001b[0m\u001b[0;34m\u001b[0m\u001b[0;34m\u001b[0m\u001b[0m\n\u001b[0;32m--> 701\u001b[0;31m     \u001b[0;32mraise\u001b[0m \u001b[0mLookupError\u001b[0m\u001b[0;34m(\u001b[0m\u001b[0mresource_not_found\u001b[0m\u001b[0;34m)\u001b[0m\u001b[0;34m\u001b[0m\u001b[0;34m\u001b[0m\u001b[0m\n\u001b[0m\u001b[1;32m    702\u001b[0m \u001b[0;34m\u001b[0m\u001b[0m\n",
          "\u001b[0;31mLookupError\u001b[0m: \n**********************************************************************\n  Resource \u001b[93mpunkt\u001b[0m not found.\n  Please use the NLTK Downloader to obtain the resource:\n\n  \u001b[31m>>> import nltk\n  >>> nltk.download('punkt')\n  \u001b[0m\n  For more information see: https://www.nltk.org/data.html\n\n  Attempted to load \u001b[93mtokenizers/punkt/PY3/english.pickle\u001b[0m\n\n  Searched in:\n    - '/Users/lizichao/nltk_data'\n    - '/Users/lizichao/anaconda3/envs/keras/nltk_data'\n    - '/Users/lizichao/anaconda3/envs/keras/share/nltk_data'\n    - '/Users/lizichao/anaconda3/envs/keras/lib/nltk_data'\n    - '/usr/share/nltk_data'\n    - '/usr/local/share/nltk_data'\n    - '/usr/lib/nltk_data'\n    - '/usr/local/lib/nltk_data'\n    - ''\n**********************************************************************\n",
          "\nDuring handling of the above exception, another exception occurred:\n",
          "\u001b[0;31mMissingCorpusError\u001b[0m                        Traceback (most recent call last)",
          "\u001b[0;32m~/anaconda3/envs/keras/lib/python3.6/site-packages/ipywidgets/widgets/interaction.py\u001b[0m in \u001b[0;36mupdate\u001b[0;34m(self, *args)\u001b[0m\n\u001b[1;32m    254\u001b[0m                     \u001b[0mvalue\u001b[0m \u001b[0;34m=\u001b[0m \u001b[0mwidget\u001b[0m\u001b[0;34m.\u001b[0m\u001b[0mget_interact_value\u001b[0m\u001b[0;34m(\u001b[0m\u001b[0;34m)\u001b[0m\u001b[0;34m\u001b[0m\u001b[0;34m\u001b[0m\u001b[0m\n\u001b[1;32m    255\u001b[0m                     \u001b[0mself\u001b[0m\u001b[0;34m.\u001b[0m\u001b[0mkwargs\u001b[0m\u001b[0;34m[\u001b[0m\u001b[0mwidget\u001b[0m\u001b[0;34m.\u001b[0m\u001b[0m_kwarg\u001b[0m\u001b[0;34m]\u001b[0m \u001b[0;34m=\u001b[0m \u001b[0mvalue\u001b[0m\u001b[0;34m\u001b[0m\u001b[0;34m\u001b[0m\u001b[0m\n\u001b[0;32m--> 256\u001b[0;31m                 \u001b[0mself\u001b[0m\u001b[0;34m.\u001b[0m\u001b[0mresult\u001b[0m \u001b[0;34m=\u001b[0m \u001b[0mself\u001b[0m\u001b[0;34m.\u001b[0m\u001b[0mf\u001b[0m\u001b[0;34m(\u001b[0m\u001b[0;34m**\u001b[0m\u001b[0mself\u001b[0m\u001b[0;34m.\u001b[0m\u001b[0mkwargs\u001b[0m\u001b[0;34m)\u001b[0m\u001b[0;34m\u001b[0m\u001b[0;34m\u001b[0m\u001b[0m\n\u001b[0m\u001b[1;32m    257\u001b[0m                 \u001b[0mshow_inline_matplotlib_plots\u001b[0m\u001b[0;34m(\u001b[0m\u001b[0;34m)\u001b[0m\u001b[0;34m\u001b[0m\u001b[0;34m\u001b[0m\u001b[0m\n\u001b[1;32m    258\u001b[0m                 \u001b[0;32mif\u001b[0m \u001b[0mself\u001b[0m\u001b[0;34m.\u001b[0m\u001b[0mauto_display\u001b[0m \u001b[0;32mand\u001b[0m \u001b[0mself\u001b[0m\u001b[0;34m.\u001b[0m\u001b[0mresult\u001b[0m \u001b[0;32mis\u001b[0m \u001b[0;32mnot\u001b[0m \u001b[0;32mNone\u001b[0m\u001b[0;34m:\u001b[0m\u001b[0;34m\u001b[0m\u001b[0;34m\u001b[0m\u001b[0m\n",
          "\u001b[0;32m<ipython-input-1-0d77f36c2c83>\u001b[0m in \u001b[0;36mcolor_changer\u001b[0;34m(x, Genre, Metric)\u001b[0m\n\u001b[1;32m    304\u001b[0m     \u001b[0;32mwith\u001b[0m \u001b[0mstatus3\u001b[0m\u001b[0;34m:\u001b[0m\u001b[0;34m\u001b[0m\u001b[0;34m\u001b[0m\u001b[0m\n\u001b[1;32m    305\u001b[0m         \u001b[0mprint\u001b[0m\u001b[0;34m(\u001b[0m\u001b[0;34m'Now loading...'\u001b[0m\u001b[0;34m+\u001b[0m\u001b[0;34m'\\r'\u001b[0m\u001b[0;34m,\u001b[0m\u001b[0mend\u001b[0m\u001b[0;34m=\u001b[0m\u001b[0;34m''\u001b[0m\u001b[0;34m)\u001b[0m\u001b[0;34m\u001b[0m\u001b[0;34m\u001b[0m\u001b[0m\n\u001b[0;32m--> 306\u001b[0;31m     \u001b[0mcategorization\u001b[0m\u001b[0;34m,\u001b[0m \u001b[0moverall_score\u001b[0m \u001b[0;34m=\u001b[0m \u001b[0manalyze_text\u001b[0m\u001b[0;34m(\u001b[0m\u001b[0mx\u001b[0m\u001b[0;34m,\u001b[0m\u001b[0mGenre\u001b[0m\u001b[0;34m,\u001b[0m\u001b[0mMetric\u001b[0m\u001b[0;34m)\u001b[0m\u001b[0;34m\u001b[0m\u001b[0;34m\u001b[0m\u001b[0m\n\u001b[0m\u001b[1;32m    307\u001b[0m     \u001b[0mwords\u001b[0m \u001b[0;34m=\u001b[0m \u001b[0mx\u001b[0m\u001b[0;34m.\u001b[0m\u001b[0msplit\u001b[0m\u001b[0;34m(\u001b[0m\u001b[0;34m)\u001b[0m\u001b[0;34m\u001b[0m\u001b[0;34m\u001b[0m\u001b[0m\n\u001b[1;32m    308\u001b[0m     \u001b[0;32mfor\u001b[0m \u001b[0mword\u001b[0m \u001b[0;32min\u001b[0m \u001b[0mwords\u001b[0m\u001b[0;34m:\u001b[0m\u001b[0;34m\u001b[0m\u001b[0;34m\u001b[0m\u001b[0m\n",
          "\u001b[0;32m<ipython-input-1-0d77f36c2c83>\u001b[0m in \u001b[0;36manalyze_text\u001b[0;34m(text, genre, metric)\u001b[0m\n\u001b[1;32m    269\u001b[0m     \u001b[0mscore_avg\u001b[0m \u001b[0;34m=\u001b[0m \u001b[0;36m0\u001b[0m\u001b[0;34m\u001b[0m\u001b[0;34m\u001b[0m\u001b[0m\n\u001b[1;32m    270\u001b[0m     \u001b[0mcounter\u001b[0m \u001b[0;34m=\u001b[0m \u001b[0;36m0\u001b[0m\u001b[0;34m\u001b[0m\u001b[0;34m\u001b[0m\u001b[0m\n\u001b[0;32m--> 271\u001b[0;31m     \u001b[0;32mfor\u001b[0m \u001b[0mword\u001b[0m \u001b[0;32min\u001b[0m \u001b[0mlist\u001b[0m\u001b[0;34m(\u001b[0m\u001b[0mBlob\u001b[0m\u001b[0;34m.\u001b[0m\u001b[0mwords\u001b[0m\u001b[0;34m)\u001b[0m\u001b[0;34m:\u001b[0m\u001b[0;34m\u001b[0m\u001b[0;34m\u001b[0m\u001b[0m\n\u001b[0m\u001b[1;32m    272\u001b[0m         \u001b[0;32mif\u001b[0m \u001b[0mword\u001b[0m \u001b[0;32min\u001b[0m \u001b[0mlist\u001b[0m\u001b[0;34m(\u001b[0m\u001b[0mdf_genre\u001b[0m\u001b[0;34m.\u001b[0m\u001b[0mwords\u001b[0m\u001b[0;34m)\u001b[0m\u001b[0;34m:\u001b[0m\u001b[0;34m\u001b[0m\u001b[0;34m\u001b[0m\u001b[0m\n\u001b[1;32m    273\u001b[0m             \u001b[0mword_index\u001b[0m \u001b[0;34m=\u001b[0m \u001b[0mdf_genre\u001b[0m\u001b[0;34m.\u001b[0m\u001b[0mwords\u001b[0m\u001b[0;34m[\u001b[0m\u001b[0mdf_genre\u001b[0m\u001b[0;34m.\u001b[0m\u001b[0mwords\u001b[0m\u001b[0;34m==\u001b[0m\u001b[0mword\u001b[0m\u001b[0;34m]\u001b[0m\u001b[0;34m.\u001b[0m\u001b[0mindex\u001b[0m\u001b[0;34m[\u001b[0m\u001b[0;36m0\u001b[0m\u001b[0;34m]\u001b[0m\u001b[0;34m\u001b[0m\u001b[0;34m\u001b[0m\u001b[0m\n",
          "\u001b[0;32m~/anaconda3/envs/keras/lib/python3.6/site-packages/textblob/decorators.py\u001b[0m in \u001b[0;36m__get__\u001b[0;34m(self, obj, cls)\u001b[0m\n\u001b[1;32m     22\u001b[0m         \u001b[0;32mif\u001b[0m \u001b[0mobj\u001b[0m \u001b[0;32mis\u001b[0m \u001b[0;32mNone\u001b[0m\u001b[0;34m:\u001b[0m\u001b[0;34m\u001b[0m\u001b[0;34m\u001b[0m\u001b[0m\n\u001b[1;32m     23\u001b[0m             \u001b[0;32mreturn\u001b[0m \u001b[0mself\u001b[0m\u001b[0;34m\u001b[0m\u001b[0;34m\u001b[0m\u001b[0m\n\u001b[0;32m---> 24\u001b[0;31m         \u001b[0mvalue\u001b[0m \u001b[0;34m=\u001b[0m \u001b[0mobj\u001b[0m\u001b[0;34m.\u001b[0m\u001b[0m__dict__\u001b[0m\u001b[0;34m[\u001b[0m\u001b[0mself\u001b[0m\u001b[0;34m.\u001b[0m\u001b[0mfunc\u001b[0m\u001b[0;34m.\u001b[0m\u001b[0m__name__\u001b[0m\u001b[0;34m]\u001b[0m \u001b[0;34m=\u001b[0m \u001b[0mself\u001b[0m\u001b[0;34m.\u001b[0m\u001b[0mfunc\u001b[0m\u001b[0;34m(\u001b[0m\u001b[0mobj\u001b[0m\u001b[0;34m)\u001b[0m\u001b[0;34m\u001b[0m\u001b[0;34m\u001b[0m\u001b[0m\n\u001b[0m\u001b[1;32m     25\u001b[0m         \u001b[0;32mreturn\u001b[0m \u001b[0mvalue\u001b[0m\u001b[0;34m\u001b[0m\u001b[0;34m\u001b[0m\u001b[0m\n\u001b[1;32m     26\u001b[0m \u001b[0;34m\u001b[0m\u001b[0m\n",
          "\u001b[0;32m~/anaconda3/envs/keras/lib/python3.6/site-packages/textblob/blob.py\u001b[0m in \u001b[0;36mwords\u001b[0;34m(self)\u001b[0m\n\u001b[1;32m    647\u001b[0m         \u001b[0;34m:\u001b[0m\u001b[0mreturns\u001b[0m\u001b[0;34m:\u001b[0m \u001b[0mA\u001b[0m \u001b[0;34m:\u001b[0m\u001b[0;32mclass\u001b[0m\u001b[0;34m:\u001b[0m\u001b[0;31m`\u001b[0m\u001b[0mWordList\u001b[0m \u001b[0;34m<\u001b[0m\u001b[0mWordList\u001b[0m\u001b[0;34m>\u001b[0m\u001b[0;31m`\u001b[0m \u001b[0mof\u001b[0m \u001b[0mword\u001b[0m \u001b[0mtokens\u001b[0m\u001b[0;34m.\u001b[0m\u001b[0;34m\u001b[0m\u001b[0;34m\u001b[0m\u001b[0m\n\u001b[1;32m    648\u001b[0m         \"\"\"\n\u001b[0;32m--> 649\u001b[0;31m         \u001b[0;32mreturn\u001b[0m \u001b[0mWordList\u001b[0m\u001b[0;34m(\u001b[0m\u001b[0mword_tokenize\u001b[0m\u001b[0;34m(\u001b[0m\u001b[0mself\u001b[0m\u001b[0;34m.\u001b[0m\u001b[0mraw\u001b[0m\u001b[0;34m,\u001b[0m \u001b[0minclude_punc\u001b[0m\u001b[0;34m=\u001b[0m\u001b[0;32mFalse\u001b[0m\u001b[0;34m)\u001b[0m\u001b[0;34m)\u001b[0m\u001b[0;34m\u001b[0m\u001b[0;34m\u001b[0m\u001b[0m\n\u001b[0m\u001b[1;32m    650\u001b[0m \u001b[0;34m\u001b[0m\u001b[0m\n\u001b[1;32m    651\u001b[0m     \u001b[0;34m@\u001b[0m\u001b[0mproperty\u001b[0m\u001b[0;34m\u001b[0m\u001b[0;34m\u001b[0m\u001b[0m\n",
          "\u001b[0;32m~/anaconda3/envs/keras/lib/python3.6/site-packages/textblob/tokenizers.py\u001b[0m in \u001b[0;36mword_tokenize\u001b[0;34m(text, include_punc, *args, **kwargs)\u001b[0m\n\u001b[1;32m     71\u001b[0m         _word_tokenizer.itokenize(sentence, include_punc=include_punc,\n\u001b[1;32m     72\u001b[0m                                 *args, **kwargs)\n\u001b[0;32m---> 73\u001b[0;31m         for sentence in sent_tokenize(text))\n\u001b[0m\u001b[1;32m     74\u001b[0m     \u001b[0;32mreturn\u001b[0m \u001b[0mwords\u001b[0m\u001b[0;34m\u001b[0m\u001b[0;34m\u001b[0m\u001b[0m\n",
          "\u001b[0;32m~/anaconda3/envs/keras/lib/python3.6/site-packages/textblob/base.py\u001b[0m in \u001b[0;36mitokenize\u001b[0;34m(self, text, *args, **kwargs)\u001b[0m\n\u001b[1;32m     62\u001b[0m         \u001b[0;34m:\u001b[0m\u001b[0mrtype\u001b[0m\u001b[0;34m:\u001b[0m \u001b[0mgenerator\u001b[0m\u001b[0;34m\u001b[0m\u001b[0;34m\u001b[0m\u001b[0m\n\u001b[1;32m     63\u001b[0m         \"\"\"\n\u001b[0;32m---> 64\u001b[0;31m         \u001b[0;32mreturn\u001b[0m \u001b[0;34m(\u001b[0m\u001b[0mt\u001b[0m \u001b[0;32mfor\u001b[0m \u001b[0mt\u001b[0m \u001b[0;32min\u001b[0m \u001b[0mself\u001b[0m\u001b[0;34m.\u001b[0m\u001b[0mtokenize\u001b[0m\u001b[0;34m(\u001b[0m\u001b[0mtext\u001b[0m\u001b[0;34m,\u001b[0m \u001b[0;34m*\u001b[0m\u001b[0margs\u001b[0m\u001b[0;34m,\u001b[0m \u001b[0;34m**\u001b[0m\u001b[0mkwargs\u001b[0m\u001b[0;34m)\u001b[0m\u001b[0;34m)\u001b[0m\u001b[0;34m\u001b[0m\u001b[0;34m\u001b[0m\u001b[0m\n\u001b[0m\u001b[1;32m     65\u001b[0m \u001b[0;34m\u001b[0m\u001b[0m\n\u001b[1;32m     66\u001b[0m \u001b[0;31m##### SENTIMENT ANALYZERS ####\u001b[0m\u001b[0;34m\u001b[0m\u001b[0;34m\u001b[0m\u001b[0;34m\u001b[0m\u001b[0m\n",
          "\u001b[0;32m~/anaconda3/envs/keras/lib/python3.6/site-packages/textblob/decorators.py\u001b[0m in \u001b[0;36mdecorated\u001b[0;34m(*args, **kwargs)\u001b[0m\n\u001b[1;32m     36\u001b[0m         \u001b[0;32mexcept\u001b[0m \u001b[0mLookupError\u001b[0m \u001b[0;32mas\u001b[0m \u001b[0merr\u001b[0m\u001b[0;34m:\u001b[0m\u001b[0;34m\u001b[0m\u001b[0;34m\u001b[0m\u001b[0m\n\u001b[1;32m     37\u001b[0m             \u001b[0mprint\u001b[0m\u001b[0;34m(\u001b[0m\u001b[0merr\u001b[0m\u001b[0;34m)\u001b[0m\u001b[0;34m\u001b[0m\u001b[0;34m\u001b[0m\u001b[0m\n\u001b[0;32m---> 38\u001b[0;31m             \u001b[0;32mraise\u001b[0m \u001b[0mMissingCorpusError\u001b[0m\u001b[0;34m(\u001b[0m\u001b[0;34m)\u001b[0m\u001b[0;34m\u001b[0m\u001b[0;34m\u001b[0m\u001b[0m\n\u001b[0m\u001b[1;32m     39\u001b[0m     \u001b[0;32mreturn\u001b[0m \u001b[0mdecorated\u001b[0m\u001b[0;34m\u001b[0m\u001b[0;34m\u001b[0m\u001b[0m\n",
          "\u001b[0;31mMissingCorpusError\u001b[0m: \nLooks like you are missing some required data for this feature.\n\nTo download the necessary data, simply run\n\n    python -m textblob.download_corpora\n\nor use the NLTK downloader to download the missing data: http://nltk.org/data.html\nIf this doesn't fix the problem, file an issue at https://github.com/sloria/TextBlob/issues.\n"
         ]
        }
       ]
      }
     },
     "b7e9a507c6e24a91bd23cee909a71057": {
      "model_module": "@jupyter-widgets/base",
      "model_module_version": "1.2.0",
      "model_name": "LayoutModel",
      "state": {}
     },
     "b8ab9a5587bf450d914d8f6af47bca0c": {
      "model_module": "@jupyter-widgets/output",
      "model_module_version": "1.0.0",
      "model_name": "OutputModel",
      "state": {
       "layout": "IPY_MODEL_e1733df1c38d49b4a1ebb34f7ba43e85",
       "outputs": [
        {
         "name": "stdout",
         "output_type": "stream",
         "text": "Now loading...\r"
        }
       ]
      }
     },
     "b8f001d80d8747a2a2e68035e9d63bf8": {
      "model_module": "@jupyter-widgets/controls",
      "model_module_version": "1.5.0",
      "model_name": "DropdownModel",
      "state": {
       "_options_labels": [
        "cooking",
        "influencers",
        "gaming"
       ],
       "description": "Genre",
       "index": 0,
       "layout": "IPY_MODEL_84ce2a7cf9614b2692a0d3fabe31d5f1",
       "style": "IPY_MODEL_78fa86f280354ac4a4e518e968555685"
      }
     },
     "bb26bbbce4e54739a86fee0d347a75e5": {
      "model_module": "@jupyter-widgets/controls",
      "model_module_version": "1.5.0",
      "model_name": "DescriptionStyleModel",
      "state": {
       "description_width": ""
      }
     },
     "bb5453b016b247b29ce0d21b8837f7e0": {
      "model_module": "@jupyter-widgets/base",
      "model_module_version": "1.2.0",
      "model_name": "LayoutModel",
      "state": {}
     },
     "bd33186de39740f89510188b06ffde16": {
      "model_module": "@jupyter-widgets/base",
      "model_module_version": "1.2.0",
      "model_name": "LayoutModel",
      "state": {}
     },
     "bf33e0f631a040b3b8e0edc09fe77730": {
      "model_module": "@jupyter-widgets/controls",
      "model_module_version": "1.5.0",
      "model_name": "VBoxModel",
      "state": {
       "_dom_classes": [
        "widget-interact"
       ],
       "children": [
        "IPY_MODEL_63a2a9b2f19547d6b8d110731d5f90c0",
        "IPY_MODEL_27cc694547fc44f5861b75777b2f0205",
        "IPY_MODEL_1a520462c521445390becdaec5fcbd44"
       ],
       "layout": "IPY_MODEL_ea3776ad244d4a6c8b6017e272284a0d"
      }
     },
     "c0cd094093204fa985bc4e852d07222a": {
      "model_module": "@jupyter-widgets/base",
      "model_module_version": "1.2.0",
      "model_name": "LayoutModel",
      "state": {}
     },
     "c1983130db314167ae2bff9cb309df97": {
      "model_module": "@jupyter-widgets/controls",
      "model_module_version": "1.5.0",
      "model_name": "DescriptionStyleModel",
      "state": {
       "description_width": ""
      }
     },
     "c202a5b6ddb248fbac372a7e8fdab6af": {
      "model_module": "@jupyter-widgets/base",
      "model_module_version": "1.2.0",
      "model_name": "LayoutModel",
      "state": {}
     },
     "c2fb99b9a66f4803ae193abafc238d64": {
      "model_module": "@jupyter-widgets/output",
      "model_module_version": "1.0.0",
      "model_name": "OutputModel",
      "state": {
       "layout": "IPY_MODEL_94c7ac91445148568d518585f22785d0",
       "outputs": [
        {
         "data": {
          "text/plain": "<Figure size 640x480 with 1 Axes>"
         },
         "metadata": {},
         "output_type": "display_data"
        }
       ]
      }
     },
     "c36017309fe04078ba3f988ec7629c5e": {
      "model_module": "@jupyter-widgets/controls",
      "model_module_version": "1.5.0",
      "model_name": "DropdownModel",
      "state": {
       "_options_labels": [
        "cooking",
        "influencers",
        "gaming"
       ],
       "description": "Genre",
       "index": 0,
       "layout": "IPY_MODEL_de0418edf621401fa210902fb61c20b7",
       "style": "IPY_MODEL_9b93fdfa01064f8eae81c3f148bc2e39"
      }
     },
     "c3b17fab148b4e61b08ee165a9b5afe8": {
      "model_module": "@jupyter-widgets/base",
      "model_module_version": "1.2.0",
      "model_name": "LayoutModel",
      "state": {}
     },
     "c56949a107754d939627d4b039c5be0d": {
      "model_module": "@jupyter-widgets/base",
      "model_module_version": "1.2.0",
      "model_name": "LayoutModel",
      "state": {}
     },
     "c7d05790c111421a84303a5f673464e5": {
      "model_module": "@jupyter-widgets/controls",
      "model_module_version": "1.5.0",
      "model_name": "DescriptionStyleModel",
      "state": {
       "description_width": ""
      }
     },
     "cc54f86922bf4d9cae3c43dc9f852eab": {
      "model_module": "@jupyter-widgets/controls",
      "model_module_version": "1.5.0",
      "model_name": "DescriptionStyleModel",
      "state": {
       "description_width": ""
      }
     },
     "ce192155f9f647bda4c3346a925ab9d8": {
      "model_module": "@jupyter-widgets/base",
      "model_module_version": "1.2.0",
      "model_name": "LayoutModel",
      "state": {}
     },
     "ceb212ae64384754a801dec75fa71f39": {
      "model_module": "@jupyter-widgets/controls",
      "model_module_version": "1.5.0",
      "model_name": "HTMLModel",
      "state": {
       "layout": "IPY_MODEL_a024a2b8510347a8a363947f05e9da94",
       "style": "IPY_MODEL_f2876f906e314251aa42c23f2d752a26",
       "value": "<b><font size='2' color='Black'>\nOur Text Analysis tool will generate word connotations based on the words typed into the textbox.  \nWords will be colored according to its positive or negative sentiment.\n For example, words in red denoting a negative word, words in yellow denoting neutral words and green denoting a positive word. Words that can not be \n decided will remain in black.\n Also, you can select the genre and metric of interest. \n</b>"
      }
     },
     "cef4afbb3abf4e769e736f5c94745a65": {
      "model_module": "@jupyter-widgets/base",
      "model_module_version": "1.2.0",
      "model_name": "LayoutModel",
      "state": {}
     },
     "d2908b2561cb4da7aaf2aee9e360e6b7": {
      "model_module": "@jupyter-widgets/base",
      "model_module_version": "1.2.0",
      "model_name": "LayoutModel",
      "state": {
       "grid_template_areas": "\"header header header\"\n\"center center center\"",
       "grid_template_columns": "1fr 2fr 1fr",
       "grid_template_rows": "1fr 3fr"
      }
     },
     "d4e27f4589834f5393f45bd6363b56ba": {
      "model_module": "@jupyter-widgets/controls",
      "model_module_version": "1.5.0",
      "model_name": "VBoxModel",
      "state": {
       "children": [
        "IPY_MODEL_ae6bde89226545a3a17e9b86904eedc9",
        "IPY_MODEL_3f77854086b841e18c0ca833074ef401",
        "IPY_MODEL_5f88385f4dff42be92cc5b72c96b729b"
       ],
       "layout": "IPY_MODEL_8f6904f8a4d440edaad8e86384ddaf3d"
      }
     },
     "d976bf2118cf4c3598b4acbd5fae3936": {
      "model_module": "@jupyter-widgets/controls",
      "model_module_version": "1.5.0",
      "model_name": "DescriptionStyleModel",
      "state": {
       "description_width": ""
      }
     },
     "db0bb26161464eaa85efd50caa361f22": {
      "model_module": "@jupyter-widgets/controls",
      "model_module_version": "1.5.0",
      "model_name": "TabModel",
      "state": {
       "_titles": {
        "0": "Popular Keywords VS Month",
        "1": "Popular Keywords across all time"
       },
       "children": [
        "IPY_MODEL_f699b5cd94be4a769a1be00cf9787880",
        "IPY_MODEL_bf33e0f631a040b3b8e0edc09fe77730"
       ],
       "layout": "IPY_MODEL_f3ccfe55c50a4b74bbcb753160362476"
      }
     },
     "db60590f019e403fb579f86e1d0985cf": {
      "model_module": "@jupyter-widgets/controls",
      "model_module_version": "1.5.0",
      "model_name": "GridBoxModel",
      "state": {
       "children": [
        "IPY_MODEL_4b0352165a35400b85fcb97d6fd478c0",
        "IPY_MODEL_2cc1a09cd89547b19ced999647be1de5"
       ],
       "layout": "IPY_MODEL_3687053a039f4be5a08823c293b1066f"
      }
     },
     "dd77bd20262d401cb4e47668ac4a1963": {
      "model_module": "@jupyter-widgets/controls",
      "model_module_version": "1.5.0",
      "model_name": "DescriptionStyleModel",
      "state": {
       "description_width": ""
      }
     },
     "dd941048d92141eaa387c7f4af097f4f": {
      "model_module": "@jupyter-widgets/controls",
      "model_module_version": "1.5.0",
      "model_name": "VBoxModel",
      "state": {
       "children": [
        "IPY_MODEL_27669550f40f46b0aac485a62d5e86ca",
        "IPY_MODEL_5e6fe4205ab847ae85fe71aa9fe968b9",
        "IPY_MODEL_e62b2de490f945a8998f57e622a4624b"
       ],
       "layout": "IPY_MODEL_29a301b2b8ba45c8a259e4ce4b732005"
      }
     },
     "de0418edf621401fa210902fb61c20b7": {
      "model_module": "@jupyter-widgets/base",
      "model_module_version": "1.2.0",
      "model_name": "LayoutModel",
      "state": {}
     },
     "defa562fd0b14946a58fc0cd7c8b247d": {
      "model_module": "@jupyter-widgets/controls",
      "model_module_version": "1.5.0",
      "model_name": "HTMLModel",
      "state": {
       "layout": "IPY_MODEL_1de8f9a600694f478661ffced8a38598",
       "style": "IPY_MODEL_3214c9eccfc349d4bd9476674cf8c706",
       "value": "<b><font size='2' color='Black'>How insane is it that sometimes you see the most amazing video on youtube, \nand yet it took nearly a decade for it to be popular? Or a subpar video which hits a \nmillion views within a week? A lot of it has to do with the way you market your content. \nSponsoring advertisements for your posts helps, but it depends heavily on the \ntextual supporting descriptions that you add. And an even deeper question is: what makes certain \nwords more popular than others? What receives more hate by the public? Are certain \ntopics more active during election years or during a pandemic? Fortunately, our platform and tools will figure it out for you\n. We’re trying to create a simple \nplatform which serves as a proof of concept for how sentiment analysis can be extended \nto utility on a daily basis, with a very wide customer demographic.\n</b>"
      }
     },
     "e09072d763a04c4d9b7661343ac68f1a": {
      "model_module": "@jupyter-widgets/controls",
      "model_module_version": "1.5.0",
      "model_name": "VBoxModel",
      "state": {
       "_dom_classes": [
        "widget-interact"
       ],
       "children": [
        "IPY_MODEL_9973dda7a5194037ae280a27aeb4fd34",
        "IPY_MODEL_e992899ffd614efeabeea1d62704f218",
        "IPY_MODEL_92b351648e1542fd8c9f34fcc386d6f5",
        "IPY_MODEL_ab40973ca07941578e03eefcb8e4a302"
       ],
       "layout": "IPY_MODEL_58ef113a36f34109b116b5df6152ed8d"
      }
     },
     "e1733df1c38d49b4a1ebb34f7ba43e85": {
      "model_module": "@jupyter-widgets/base",
      "model_module_version": "1.2.0",
      "model_name": "LayoutModel",
      "state": {}
     },
     "e34bb85cb3db48da84ea353fd4c47349": {
      "model_module": "@jupyter-widgets/base",
      "model_module_version": "1.2.0",
      "model_name": "LayoutModel",
      "state": {}
     },
     "e404ad7234d24ab5a60573c3f95270c6": {
      "model_module": "@jupyter-widgets/base",
      "model_module_version": "1.2.0",
      "model_name": "LayoutModel",
      "state": {}
     },
     "e62b2de490f945a8998f57e622a4624b": {
      "model_module": "@jupyter-widgets/output",
      "model_module_version": "1.0.0",
      "model_name": "OutputModel",
      "state": {
       "layout": "IPY_MODEL_477e2797cc5546bc8e449de7f7cf0b0f",
       "outputs": [
        {
         "name": "stdout",
         "output_type": "stream",
         "text": "Complete!     \r"
        }
       ]
      }
     },
     "e730415039c94d51a07ded82bfa5b59a": {
      "model_module": "@jupyter-widgets/controls",
      "model_module_version": "1.5.0",
      "model_name": "HTMLModel",
      "state": {
       "layout": "IPY_MODEL_1011265bb2334a9eb32e4876aa66493d",
       "style": "IPY_MODEL_96212e94367c4f2ba8c10491ae2c53f8",
       "value": "<b><font size='2' color='Black'>\nA second display will compose of two word clouds that present the positive and negative words respectively, \nshowcasing the words’ popularity based on its size. \n</b>"
      }
     },
     "e992899ffd614efeabeea1d62704f218": {
      "model_module": "@jupyter-widgets/controls",
      "model_module_version": "1.5.0",
      "model_name": "DropdownModel",
      "state": {
       "_options_labels": [
        "cooking",
        "influencers",
        "gaming"
       ],
       "description": "Genre",
       "index": 0,
       "layout": "IPY_MODEL_c202a5b6ddb248fbac372a7e8fdab6af",
       "style": "IPY_MODEL_10b35f00b6aa4a7aaf3dda12775d2000"
      }
     },
     "e9ffb5634a924bfc904215cb3875b374": {
      "model_module": "@jupyter-widgets/base",
      "model_module_version": "1.2.0",
      "model_name": "LayoutModel",
      "state": {
       "grid_area": "center"
      }
     },
     "ea3776ad244d4a6c8b6017e272284a0d": {
      "model_module": "@jupyter-widgets/base",
      "model_module_version": "1.2.0",
      "model_name": "LayoutModel",
      "state": {}
     },
     "ec7bcd6f39764e3193cffabc09ccf075": {
      "model_module": "@jupyter-widgets/controls",
      "model_module_version": "1.5.0",
      "model_name": "VBoxModel",
      "state": {
       "_dom_classes": [
        "widget-interact"
       ],
       "children": [
        "IPY_MODEL_2f3f9b8a5c484b9f9d5385be6e484156",
        "IPY_MODEL_b8f001d80d8747a2a2e68035e9d63bf8",
        "IPY_MODEL_0cc2a71e19194f76aa150373e2ee6515"
       ],
       "layout": "IPY_MODEL_e404ad7234d24ab5a60573c3f95270c6"
      }
     },
     "ee9b31c3f10b4a119446b2af52b76330": {
      "model_module": "@jupyter-widgets/controls",
      "model_module_version": "1.5.0",
      "model_name": "TabModel",
      "state": {
       "_titles": {
        "0": "Popular Keywords VS Month",
        "1": "Popular Keywords across all time"
       },
       "children": [
        "IPY_MODEL_d4e27f4589834f5393f45bd6363b56ba",
        "IPY_MODEL_ec7bcd6f39764e3193cffabc09ccf075"
       ],
       "layout": "IPY_MODEL_0fe594a23d564c20b7b63b4ae83bd488"
      }
     },
     "f197a8a9e8fb49ad998882c5488aab0e": {
      "model_module": "@jupyter-widgets/controls",
      "model_module_version": "1.5.0",
      "model_name": "DropdownModel",
      "state": {
       "_options_labels": [
        "likes_mean",
        "likes_median",
        "dislikes_mean",
        "dislikes_median",
        "views_mean",
        "views_median",
        "polarity",
        "subjectivity"
       ],
       "description": "Metric",
       "index": 0,
       "layout": "IPY_MODEL_31ecc0c719434965b1333df77a45ca1e",
       "style": "IPY_MODEL_ae0edf638a1944378f204894a9ce7db6"
      }
     },
     "f1e1945313c244adadac74bd2a8eb8d4": {
      "model_module": "@jupyter-widgets/output",
      "model_module_version": "1.0.0",
      "model_name": "OutputModel",
      "state": {
       "layout": "IPY_MODEL_64ffd80df6d74aacbef7ac59d811f626",
       "outputs": [
        {
         "name": "stdout",
         "output_type": "stream",
         "text": "Complete!     \r"
        }
       ]
      }
     },
     "f2876f906e314251aa42c23f2d752a26": {
      "model_module": "@jupyter-widgets/controls",
      "model_module_version": "1.5.0",
      "model_name": "DescriptionStyleModel",
      "state": {
       "description_width": ""
      }
     },
     "f3ccfe55c50a4b74bbcb753160362476": {
      "model_module": "@jupyter-widgets/base",
      "model_module_version": "1.2.0",
      "model_name": "LayoutModel",
      "state": {}
     },
     "f699b5cd94be4a769a1be00cf9787880": {
      "model_module": "@jupyter-widgets/controls",
      "model_module_version": "1.5.0",
      "model_name": "VBoxModel",
      "state": {
       "children": [
        "IPY_MODEL_1da1076a69074dc297dfb7cd1b05348d",
        "IPY_MODEL_6b10159b53114f8390a821c0addfda0e",
        "IPY_MODEL_2ad3090fae0b4b59abe8fcfb30dbda7b"
       ],
       "layout": "IPY_MODEL_51d407023bda41f2865f3d0db53373f6"
      }
     },
     "f6be03f3e2f14049b3474b5841667136": {
      "model_module": "@jupyter-widgets/base",
      "model_module_version": "1.2.0",
      "model_name": "LayoutModel",
      "state": {
       "grid_area": "header"
      }
     },
     "f96c25cef84541a99601a4dbe74ea5e5": {
      "model_module": "@jupyter-widgets/base",
      "model_module_version": "1.2.0",
      "model_name": "LayoutModel",
      "state": {}
     },
     "fa1a066b33384305a2d95fd3d421d7b7": {
      "model_module": "@jupyter-widgets/controls",
      "model_module_version": "1.5.0",
      "model_name": "VBoxModel",
      "state": {
       "children": [
        "IPY_MODEL_ae6bde89226545a3a17e9b86904eedc9",
        "IPY_MODEL_3f77854086b841e18c0ca833074ef401",
        "IPY_MODEL_5f88385f4dff42be92cc5b72c96b729b"
       ],
       "layout": "IPY_MODEL_83edc4f88de74081a3c4f718b3b497ec"
      }
     },
     "fa1ec728917245afa3a440ef76452ff8": {
      "model_module": "@jupyter-widgets/base",
      "model_module_version": "1.2.0",
      "model_name": "LayoutModel",
      "state": {}
     },
     "fbbd6303a2f24554aa50259825512d59": {
      "model_module": "@jupyter-widgets/base",
      "model_module_version": "1.2.0",
      "model_name": "LayoutModel",
      "state": {}
     },
     "fcf1a0fe686043fdad10f4bd95e9c5f8": {
      "model_module": "@jupyter-widgets/base",
      "model_module_version": "1.2.0",
      "model_name": "LayoutModel",
      "state": {}
     }
    },
    "version_major": 2,
    "version_minor": 0
   }
  }
 },
 "nbformat": 4,
 "nbformat_minor": 4
}
