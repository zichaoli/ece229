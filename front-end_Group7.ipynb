{
 "cells": [
  {
   "cell_type": "code",
   "execution_count": 24,
   "metadata": {},
   "outputs": [],
   "source": [
    "#Authors:\n",
    "#Guangjun Xue \n",
    "#Yuchen Zhang"
   ]
  },
  {
   "cell_type": "markdown",
   "metadata": {},
   "source": [
    "# This part is for tuning and degbugging. Please skip this part"
   ]
  },
  {
   "cell_type": "code",
   "execution_count": 25,
   "metadata": {},
   "outputs": [],
   "source": [
    "from ipywidgets import interact, interactive, fixed, interact_manual\n",
    "import ipywidgets as widgets\n",
    "\n",
    "from ipywidgets import FloatSlider\n",
    "\n",
    "\n",
    "\n",
    "from ipywidgets import VBox, HBox, interactive_output\n",
    "\n",
    "\n",
    "\n",
    "from ipywidgets import Dropdown\n",
    "\n"
   ]
  },
  {
   "cell_type": "markdown",
   "metadata": {},
   "source": [
    "# Part I : Cloud Map Over Time"
   ]
  },
  {
   "cell_type": "code",
   "execution_count": 26,
   "metadata": {},
   "outputs": [],
   "source": [
    "import pickle"
   ]
  },
  {
   "cell_type": "code",
   "execution_count": 27,
   "metadata": {},
   "outputs": [],
   "source": [
    "#load data\n",
    "data = pickle.load(open('data_project.p', 'rb'))"
   ]
  },
  {
   "cell_type": "code",
   "execution_count": 28,
   "metadata": {},
   "outputs": [],
   "source": [
    "#data set is dictionary of different genres"
   ]
  },
  {
   "cell_type": "code",
   "execution_count": 29,
   "metadata": {},
   "outputs": [],
   "source": [
    "#structure of data\n",
    "#data['influencers'].head()"
   ]
  },
  {
   "cell_type": "code",
   "execution_count": 30,
   "metadata": {},
   "outputs": [],
   "source": [
    "#data_t=data['influencers']\n",
    "#data_cloud=data_t[data_t.likes_mean < data_t.dislikes_mean]"
   ]
  },
  {
   "cell_type": "code",
   "execution_count": 31,
   "metadata": {},
   "outputs": [],
   "source": [
    "#data_cloud.head(20)"
   ]
  },
  {
   "cell_type": "code",
   "execution_count": 32,
   "metadata": {},
   "outputs": [],
   "source": [
    "#freq=np.array(list(data_cloud.frequency_time))\n",
    "#string = ''\n",
    "#m,n=freq.shape\n"
   ]
  },
  {
   "cell_type": "code",
   "execution_count": 33,
   "metadata": {},
   "outputs": [],
   "source": [
    "#m,n"
   ]
  },
  {
   "cell_type": "code",
   "execution_count": 34,
   "metadata": {},
   "outputs": [],
   "source": [
    "#data_cloud=data_cloud.reset_index()"
   ]
  },
  {
   "cell_type": "code",
   "execution_count": 35,
   "metadata": {},
   "outputs": [],
   "source": [
    "#data_cloud.head(20)"
   ]
  },
  {
   "cell_type": "code",
   "execution_count": 36,
   "metadata": {},
   "outputs": [],
   "source": [
    "#data_cloud.loc[0].words"
   ]
  },
  {
   "cell_type": "code",
   "execution_count": 37,
   "metadata": {},
   "outputs": [],
   "source": [
    "#data_cloud.reset_index()\n",
    "#for i in range(m):\n",
    "#    string=string+(data_cloud.loc[i].words+' ')*(freq[i,int(3)-1])"
   ]
  },
  {
   "cell_type": "code",
   "execution_count": 38,
   "metadata": {},
   "outputs": [],
   "source": [
    "#import numpy as np\n",
    "#m,n=np.array(list(data['cooking'].frequency_time)).shape\n"
   ]
  },
  {
   "cell_type": "code",
   "execution_count": 39,
   "metadata": {},
   "outputs": [],
   "source": [
    "#m,n"
   ]
  },
  {
   "cell_type": "code",
   "execution_count": 40,
   "metadata": {},
   "outputs": [],
   "source": [
    "#len(list(data['cooking']['words']))"
   ]
  },
  {
   "cell_type": "code",
   "execution_count": 41,
   "metadata": {},
   "outputs": [],
   "source": [
    "#len(set(list(data['cooking']['words'])))"
   ]
  },
  {
   "cell_type": "code",
   "execution_count": 42,
   "metadata": {},
   "outputs": [],
   "source": [
    "from matplotlib import pyplot as plt\n",
    "from matplotlib.pylab import subplots\n",
    "from wordcloud import WordCloud\n",
    "import numpy as np\n",
    "from random import shuffle\n",
    "from ipywidgets import IntSlider\n",
    "year_end=2019\n",
    "year_start=2015\n",
    "month=['Jan','Feb','Mar','Apr','May','Jun','Jul','Aug','Sept','Oct','Nov','Dec']\n",
    "start_month=1\n",
    "end_month=(year_end-year_start+1)*12\n",
    "fsx = IntSlider(min=start_month,max=end_month,step=1,continuous_update=False,description='Time:') #slider of months\n",
    "\n",
    "def fplot(x,Genre):\n",
    "    \"\"\"x : input time\n",
    "     Genre: different topics\"\"\"\n",
    "    #fig,ax=subplots()\n",
    "    #ax.plot(xi,np.sin(2*np.pi*x*xi+y),color=color)\n",
    "    data_cloud=data[Genre]\n",
    "    freq=np.array(list(data_cloud.frequency_time))\n",
    "    string = ''\n",
    "    m,n=freq.shape\n",
    "    for i in range(m):\n",
    "        string=string+(data_cloud.loc[i].words+' ')*(freq[i,int(x)-1])\n",
    "    if string.split()==[]:\n",
    "        \"\"\"if there is no words shown\"\"\"\n",
    "        string='There is no interesting word'\n",
    "        print(string)\n",
    "        return\n",
    "    lis=string.split(' ')\n",
    "    shuffle(lis)\n",
    "    string=' '.join(lis)\n",
    "    wc = WordCloud(\n",
    "               background_color='white',max_words=20,\n",
    "               width=1000,\n",
    "               height=1000,\n",
    "               ).generate(string)  #wordcloud\n",
    "    #wc.to_file('ss.png') \n",
    "    plt.imshow(wc)  \n",
    "    plt.axis('off') \n",
    "    plt.show()\n",
    "    #print(string)\n",
    "interactive_plot = interactive(fplot,x=fsx,Genre=['cooking', 'influencers', 'gaming'])\n",
    "#display(interactive_plot)"
   ]
  },
  {
   "cell_type": "markdown",
   "metadata": {},
   "source": [
    "# Part II: Like and Dislike"
   ]
  },
  {
   "cell_type": "code",
   "execution_count": 43,
   "metadata": {},
   "outputs": [],
   "source": [
    "Genre= Dropdown(options=['cooking', 'influencers', 'gaming'])\n",
    "Fsx = IntSlider(min=start_month,max=end_month,step=1,continuous_update=False,description='Time:')\n",
    "def Fplot(x,Genre,like):\n",
    "    \"\"\"x: input time\n",
    "      Genre: diffenrent topics\n",
    "      like: positive or negative result\"\"\"\n",
    "    #fig,ax=subplots()\n",
    "    #ax.plot(xi,np.sin(2*np.pi*x*xi+y),color=color)\n",
    "    data_cloud=data[Genre]\n",
    "    if like=='like':\n",
    "        data_cloud=data_cloud[data_cloud.likes_mean >= data_cloud.dislikes_mean]\n",
    "    elif like=='hate':\n",
    "        data_cloud=data_cloud[data_cloud.likes_mean < data_cloud.dislikes_mean]\n",
    "    data_cloud=data_cloud.reset_index()\n",
    "    freq=np.array(list(data_cloud.frequency_time))\n",
    "    string = ''\n",
    "    if freq.shape==(0,):\n",
    "        string='There is no interesting word'\n",
    "        print(string)\n",
    "        return\n",
    "        \n",
    "    m,n=freq.shape\n",
    "    for i in range(m):\n",
    "        string=string+(data_cloud.loc[i].words+' ')*(freq[i,int(x)-1])\n",
    "    if string.split()==[]:\n",
    "        \"\"\"if there is no words shown\"\"\"\n",
    "        string='There is no interesting word'\n",
    "        print(string)\n",
    "        return\n",
    "    lis=string.split(' ')\n",
    "    shuffle(lis)\n",
    "    string=' '.join(lis)\n",
    "    wc = WordCloud(\n",
    "               background_color='white',max_words=20,\n",
    "               width=1000,\n",
    "               height=1000,\n",
    "               ).generate(string)  #wordcloud\n",
    "    #wc.to_file('ss.png') \n",
    "    plt.imshow(wc)  \n",
    "    plt.axis('off') \n",
    "    plt.show()\n",
    "    #print(string)\n",
    "    \n",
    "\n",
    "#l = widgets.link((sliders1, 'value'), (slider2, 'value'))\n",
    "interactive_plot_like = interactive(Fplot,x=Fsx,Genre=Genre,like='like')\n",
    "interactive_plot_hate=interactive(Fplot,x=Fsx,Genre=Genre,like='hate')\n",
    "#display(HBox([interactive_plot_like,interactive_plot_hate ]))"
   ]
  },
  {
   "cell_type": "markdown",
   "metadata": {},
   "source": [
    "# Part III: Text Analysis "
   ]
  },
  {
   "cell_type": "code",
   "execution_count": 44,
   "metadata": {},
   "outputs": [],
   "source": [
    "w=widgets.Textarea(\n",
    "    value='',\n",
    "    placeholder='Type something',\n",
    "    description='Text box:',\n",
    "    disabled=False\n",
    ")\n",
    "redlist = ['study','cook','game'] # toy list, should from data\n",
    "bluelist = ['play','eat','rest']\n",
    "def color_changer(x=''):\n",
    "    words = x.split()\n",
    "    for word in words:\n",
    "        if word in redlist:\n",
    "            print('\\033[31m %s' %word, end = \"\")\n",
    "        elif word in bluelist:\n",
    "            print('\\033[34m %s' %word, end = \"\")\n",
    "        else:\n",
    "            print('\\033[33m %s' %word, end = \"\")\n",
    "textbox=interactive(color_changer,x=w)\n",
    "#button = widgets.Button(description='Enter',layout=Layout(width='15%', height='25px'))\n",
    "#button\n",
    "#widgets.HBox([textbox,button])"
   ]
  },
  {
   "cell_type": "code",
   "execution_count": 45,
   "metadata": {},
   "outputs": [],
   "source": [
    "accordion = widgets.Accordion(children=[interactive_plot,HBox([interactive_plot_like,interactive_plot_hate ]),textbox])\n",
    "accordion.set_title(0, 'Popular Keywords over Time')\n",
    "accordion.set_title(1, 'Likes&Dislikes over Time ')\n",
    "accordion.set_title(2, 'Text Analysis ')"
   ]
  },
  {
   "cell_type": "markdown",
   "metadata": {},
   "source": [
    "# Overall"
   ]
  },
  {
   "cell_type": "markdown",
   "metadata": {},
   "source": [
    "## This is the draft of all three displays."
   ]
  },
  {
   "cell_type": "code",
   "execution_count": 48,
   "metadata": {
    "scrolled": true
   },
   "outputs": [
    {
     "data": {
      "application/vnd.jupyter.widget-view+json": {
       "model_id": "108389c7f67545dfbc27ccf5c948187b",
       "version_major": 2,
       "version_minor": 0
      },
      "text/plain": [
       "AppLayout(children=(Label(value='Youtube Trend over Time', layout=Layout(grid_area='header', height='80px', wi…"
      ]
     },
     "metadata": {},
     "output_type": "display_data"
    }
   ],
   "source": [
    "\n",
    "from ipywidgets import AppLayout, Layout\n",
    "AppLayout(header=widgets.Label(value=\"Youtube Trend over Time\",layout=Layout(width='50%', height='80px')),\n",
    "          left_sidebar=None,\n",
    "          center=accordion,\n",
    "          right_sidebar=None,\n",
    "          footer=None)\n",
    "          \n",
    "          #widgets.IntSlider(description='c',\n",
    "                                   #layout=Layout(height='auto', width='auto')))"
   ]
  },
  {
   "cell_type": "code",
   "execution_count": null,
   "metadata": {},
   "outputs": [],
   "source": []
  },
  {
   "cell_type": "code",
   "execution_count": null,
   "metadata": {},
   "outputs": [],
   "source": []
  },
  {
   "cell_type": "code",
   "execution_count": null,
   "metadata": {},
   "outputs": [],
   "source": []
  },
  {
   "cell_type": "code",
   "execution_count": null,
   "metadata": {},
   "outputs": [],
   "source": []
  }
 ],
 "metadata": {
  "kernelspec": {
   "display_name": "Python 3.6.9 64-bit ('keras': conda)",
   "language": "python",
   "name": "python36964bitkerasconda8290334058c3475a95a8e6d06e02066d"
  },
  "language_info": {
   "codemirror_mode": {
    "name": "ipython",
    "version": 3
   },
   "file_extension": ".py",
   "mimetype": "text/x-python",
   "name": "python",
   "nbconvert_exporter": "python",
   "pygments_lexer": "ipython3",
   "version": "3.6.9"
  }
 },
 "nbformat": 4,
 "nbformat_minor": 4
}
