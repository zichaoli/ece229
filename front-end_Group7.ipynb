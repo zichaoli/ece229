{
 "cells": [
  {
   "cell_type": "code",
   "execution_count": 24,
   "metadata": {},
   "outputs": [],
   "source": [
    "#Authors:\n",
    "#Guangjun Xue \n",
    "#Yuchen Zhang"
   ]
  },
  {
   "cell_type": "markdown",
   "metadata": {},
   "source": [
    "# This part is for tuning and degbugging. Please skip this part"
   ]
  },
  {
   "cell_type": "code",
   "execution_count": 1,
   "metadata": {},
   "outputs": [],
   "source": [
    "from ipywidgets import interact, interactive, fixed, interact_manual\n",
    "import ipywidgets as widgets\n",
    "\n",
    "from ipywidgets import FloatSlider\n",
    "\n",
    "\n",
    "\n",
    "from ipywidgets import VBox, HBox, interactive_output\n",
    "\n",
    "\n",
    "\n",
    "from ipywidgets import Dropdown\n",
    "\n"
   ]
  },
  {
   "cell_type": "markdown",
   "metadata": {},
   "source": [
    "# Part I : Cloud Map Over Time"
   ]
  },
  {
   "cell_type": "code",
   "execution_count": 2,
   "metadata": {},
   "outputs": [],
   "source": [
    "import pickle"
   ]
  },
  {
   "cell_type": "code",
   "execution_count": 3,
   "metadata": {},
   "outputs": [],
   "source": [
    "#load data\n",
    "data = pickle.load(open('data_project.p', 'rb'))"
   ]
  },
  {
   "cell_type": "code",
   "execution_count": 4,
   "metadata": {},
   "outputs": [],
   "source": [
    "#data set is dictionary of different genres"
   ]
  },
  {
   "cell_type": "code",
   "execution_count": 5,
   "metadata": {},
   "outputs": [],
   "source": [
    "#structure of data\n",
    "#data['influencers'].head()"
   ]
  },
  {
   "cell_type": "code",
   "execution_count": 6,
   "metadata": {},
   "outputs": [],
   "source": [
    "#data_t=data['influencers']\n",
    "#data_cloud=data_t[data_t.likes_mean < data_t.dislikes_mean]"
   ]
  },
  {
   "cell_type": "code",
   "execution_count": 7,
   "metadata": {},
   "outputs": [],
   "source": [
    "#data_cloud.head(20)"
   ]
  },
  {
   "cell_type": "code",
   "execution_count": 8,
   "metadata": {},
   "outputs": [],
   "source": [
    "#freq=np.array(list(data_cloud.frequency_time))\n",
    "#string = ''\n",
    "#m,n=freq.shape\n"
   ]
  },
  {
   "cell_type": "code",
   "execution_count": 9,
   "metadata": {},
   "outputs": [],
   "source": [
    "#m,n"
   ]
  },
  {
   "cell_type": "code",
   "execution_count": 10,
   "metadata": {},
   "outputs": [],
   "source": [
    "#data_cloud=data_cloud.reset_index()"
   ]
  },
  {
   "cell_type": "code",
   "execution_count": 11,
   "metadata": {},
   "outputs": [],
   "source": [
    "#data_cloud.head(20)"
   ]
  },
  {
   "cell_type": "code",
   "execution_count": 12,
   "metadata": {},
   "outputs": [],
   "source": [
    "#data_cloud.loc[0].words"
   ]
  },
  {
   "cell_type": "code",
   "execution_count": 13,
   "metadata": {},
   "outputs": [],
   "source": [
    "#data_cloud.reset_index()\n",
    "#for i in range(m):\n",
    "#    string=string+(data_cloud.loc[i].words+' ')*(freq[i,int(3)-1])"
   ]
  },
  {
   "cell_type": "code",
   "execution_count": 14,
   "metadata": {},
   "outputs": [],
   "source": [
    "#import numpy as np\n",
    "#m,n=np.array(list(data['cooking'].frequency_time)).shape\n"
   ]
  },
  {
   "cell_type": "code",
   "execution_count": 15,
   "metadata": {},
   "outputs": [],
   "source": [
    "#m,n"
   ]
  },
  {
   "cell_type": "code",
   "execution_count": 16,
   "metadata": {},
   "outputs": [],
   "source": [
    "#len(list(data['cooking']['words']))"
   ]
  },
  {
   "cell_type": "code",
   "execution_count": 17,
   "metadata": {},
   "outputs": [],
   "source": [
    "#len(set(list(data['cooking']['words'])))"
   ]
  },
  {
   "cell_type": "code",
   "execution_count": 18,
   "metadata": {},
   "outputs": [],
   "source": [
    "from matplotlib import pyplot as plt\n",
    "from matplotlib.pylab import subplots\n",
    "from wordcloud import WordCloud\n",
    "import numpy as np\n",
    "from random import shuffle\n",
    "from ipywidgets import IntSlider\n",
    "year_end=2019\n",
    "year_start=2015\n",
    "month=['Jan','Feb','Mar','Apr','May','Jun','Jul','Aug','Sept','Oct','Nov','Dec']\n",
    "start_month=1\n",
    "end_month=(year_end-year_start+1)*12\n",
    "fsx = IntSlider(min=start_month,max=end_month,step=1,continuous_update=False,description='Time:') #slider of months\n",
    "\n",
    "def fplot(x,Genre):\n",
    "    \"\"\"x : input time\n",
    "     Genre: different topics\"\"\"\n",
    "    #fig,ax=subplots()\n",
    "    #ax.plot(xi,np.sin(2*np.pi*x*xi+y),color=color)\n",
    "    data_cloud=data[Genre]\n",
    "    freq=np.array(list(data_cloud.frequency_time))\n",
    "    string = ''\n",
    "    m,n=freq.shape\n",
    "    for i in range(m):\n",
    "        string=string+(data_cloud.loc[i].words+' ')*(freq[i,int(x)-1])\n",
    "    if string.split()==[]:\n",
    "        \"\"\"if there is no words shown\"\"\"\n",
    "        string='There is no interesting word'\n",
    "        print(string)\n",
    "        return\n",
    "    lis=string.split(' ')\n",
    "    shuffle(lis)\n",
    "    string=' '.join(lis)\n",
    "    wc = WordCloud(\n",
    "               background_color='white',max_words=20,\n",
    "               width=1000,\n",
    "               height=1000,\n",
    "               ).generate(string)  #wordcloud\n",
    "    #wc.to_file('ss.png') \n",
    "    plt.imshow(wc)  \n",
    "    plt.axis('off') \n",
    "    plt.show()\n",
    "    #print(string)\n",
    "interactive_plot = interactive(fplot,x=fsx,Genre=['cooking', 'influencers', 'gaming'])\n",
    "#display(interactive_plot)"
   ]
  },
  {
   "cell_type": "markdown",
   "metadata": {},
   "source": [
    "# Part II: Like and Dislike"
   ]
  },
  {
   "cell_type": "code",
   "execution_count": 19,
   "metadata": {},
   "outputs": [],
   "source": [
    "Genre= Dropdown(options=['cooking', 'influencers', 'gaming'])\n",
    "Fsx = IntSlider(min=start_month,max=end_month,step=1,continuous_update=False,description='Time:')\n",
    "def Fplot(x,Genre,like):\n",
    "    \"\"\"x: input time\n",
    "      Genre: diffenrent topics\n",
    "      like: positive or negative result\"\"\"\n",
    "    #fig,ax=subplots()\n",
    "    #ax.plot(xi,np.sin(2*np.pi*x*xi+y),color=color)\n",
    "    data_cloud=data[Genre]\n",
    "    if like=='like':\n",
    "        data_cloud=data_cloud[data_cloud.likes_mean >= data_cloud.dislikes_mean]\n",
    "    elif like=='hate':\n",
    "        data_cloud=data_cloud[data_cloud.likes_mean < data_cloud.dislikes_mean]\n",
    "    data_cloud=data_cloud.reset_index()\n",
    "    freq=np.array(list(data_cloud.frequency_time))\n",
    "    string = ''\n",
    "    if freq.shape==(0,):\n",
    "        string='There is no interesting word'\n",
    "        print(string)\n",
    "        return\n",
    "        \n",
    "    m,n=freq.shape\n",
    "    for i in range(m):\n",
    "        string=string+(data_cloud.loc[i].words+' ')*(freq[i,int(x)-1])\n",
    "    if string.split()==[]:\n",
    "        \"\"\"if there is no words shown\"\"\"\n",
    "        string='There is no interesting word'\n",
    "        print(string)\n",
    "        return\n",
    "    lis=string.split(' ')\n",
    "    shuffle(lis)\n",
    "    string=' '.join(lis)\n",
    "    wc = WordCloud(\n",
    "               background_color='white',max_words=20,\n",
    "               width=1000,\n",
    "               height=1000,\n",
    "               ).generate(string)  #wordcloud\n",
    "    #wc.to_file('ss.png') \n",
    "    plt.imshow(wc)  \n",
    "    plt.axis('off') \n",
    "    plt.show()\n",
    "    #print(string)\n",
    "    \n",
    "\n",
    "#l = widgets.link((sliders1, 'value'), (slider2, 'value'))\n",
    "interactive_plot_like = interactive(Fplot,x=Fsx,Genre=Genre,like='like')\n",
    "interactive_plot_hate=interactive(Fplot,x=Fsx,Genre=Genre,like='hate')\n",
    "#display(HBox([interactive_plot_like,interactive_plot_hate ]))"
   ]
  },
  {
   "cell_type": "markdown",
   "metadata": {},
   "source": [
    "# Part III: Text Analysis "
   ]
  },
  {
   "cell_type": "code",
   "execution_count": 20,
   "metadata": {},
   "outputs": [],
   "source": [
    "w=widgets.Textarea(\n",
    "    value='',\n",
    "    placeholder='Type something',\n",
    "    description='Text box:',\n",
    "    disabled=False\n",
    ")\n",
    "redlist = ['study','cook','game'] # toy list, should from data\n",
    "bluelist = ['play','eat','rest']\n",
    "def color_changer(x=''):\n",
    "    words = x.split()\n",
    "    for word in words:\n",
    "        if word in redlist:\n",
    "            print('\\033[31m %s' %word, end = \"\")\n",
    "        elif word in bluelist:\n",
    "            print('\\033[34m %s' %word, end = \"\")\n",
    "        else:\n",
    "            print('\\033[33m %s' %word, end = \"\")\n",
    "textbox=interactive(color_changer,x=w)\n",
    "#button = widgets.Button(description='Enter',layout=Layout(width='15%', height='25px'))\n",
    "#button\n",
    "#widgets.HBox([textbox,button])"
   ]
  },
  {
   "cell_type": "code",
   "execution_count": 21,
   "metadata": {},
   "outputs": [],
   "source": [
    "accordion = widgets.Accordion(children=[interactive_plot,HBox([interactive_plot_like,interactive_plot_hate ]),textbox])\n",
    "accordion.set_title(0, 'Popular Keywords over Time')\n",
    "accordion.set_title(1, 'Likes&Dislikes over Time ')\n",
    "accordion.set_title(2, 'Text Analysis ')"
   ]
  },
  {
   "cell_type": "markdown",
   "metadata": {},
   "source": [
    "# Overall"
   ]
  },
  {
   "cell_type": "markdown",
   "metadata": {},
   "source": [
    "## This is the draft of all three displays."
   ]
  },
  {
   "cell_type": "code",
   "execution_count": 22,
   "metadata": {
    "scrolled": false
   },
   "outputs": [
    {
     "data": {
      "application/vnd.jupyter.widget-view+json": {
       "model_id": "61de8e84a2cd4387991627f26848f810",
       "version_major": 2,
       "version_minor": 0
      },
      "text/plain": [
       "AppLayout(children=(Label(value='Youtube Trend over Time', layout=Layout(grid_area='header', height='80px', wi…"
      ]
     },
     "metadata": {},
     "output_type": "display_data"
    }
   ],
   "source": [
    "\n",
    "from ipywidgets import AppLayout, Layout\n",
    "AppLayout(header=widgets.Label(value=\"Youtube Trend over Time\",layout=Layout(width='50%', height='80px')),\n",
    "          left_sidebar=None,\n",
    "          center=accordion,\n",
    "          right_sidebar=None,\n",
    "          footer=None)\n",
    "          \n",
    "          #widgets.IntSlider(description='c',\n",
    "                                   #layout=Layout(height='auto', width='auto')))"
   ]
  },
  {
   "cell_type": "code",
   "execution_count": null,
   "metadata": {},
   "outputs": [],
   "source": []
  },
  {
   "cell_type": "code",
   "execution_count": null,
   "metadata": {},
   "outputs": [],
   "source": []
  },
  {
   "cell_type": "code",
   "execution_count": null,
   "metadata": {},
   "outputs": [],
   "source": []
  },
  {
   "cell_type": "code",
   "execution_count": null,
   "metadata": {},
   "outputs": [],
   "source": []
  }
 ],
 "metadata": {
  "kernelspec": {
   "display_name": "Python 3.6.9 64-bit ('keras': conda)",
   "language": "python",
   "name": "python36964bitkerasconda8290334058c3475a95a8e6d06e02066d"
  },
  "language_info": {
   "codemirror_mode": {
    "name": "ipython",
    "version": 3
   },
   "file_extension": ".py",
   "mimetype": "text/x-python",
   "name": "python",
   "nbconvert_exporter": "python",
   "pygments_lexer": "ipython3",
   "version": "3.6.9"
  },
  "widgets": {
   "application/vnd.jupyter.widget-state+json": {
    "state": {
     "047f3dc1ebd24916a42b81c792529eb1": {
      "model_module": "@jupyter-widgets/controls",
      "model_module_version": "1.5.0",
      "model_name": "LabelModel",
      "state": {
       "layout": "IPY_MODEL_7d19b63feb7f4323a62f4546bd899d54",
       "style": "IPY_MODEL_219a639e7d964c6ca4a76016b122133f",
       "value": "Youtube Trend over Time"
      }
     },
     "17024ed8204e439da681a0062123a0ed": {
      "model_module": "@jupyter-widgets/base",
      "model_module_version": "1.2.0",
      "model_name": "LayoutModel",
      "state": {}
     },
     "1dd75add671a4ccab13dad9f4e401bea": {
      "model_module": "@jupyter-widgets/controls",
      "model_module_version": "1.5.0",
      "model_name": "DescriptionStyleModel",
      "state": {
       "description_width": ""
      }
     },
     "219a639e7d964c6ca4a76016b122133f": {
      "model_module": "@jupyter-widgets/controls",
      "model_module_version": "1.5.0",
      "model_name": "DescriptionStyleModel",
      "state": {
       "description_width": ""
      }
     },
     "21fd0c406c0740af875fc77892d4d313": {
      "model_module": "@jupyter-widgets/controls",
      "model_module_version": "1.5.0",
      "model_name": "TextModel",
      "state": {
       "description": "like",
       "layout": "IPY_MODEL_aa052116bad6438ab5c539caa0789dcd",
       "style": "IPY_MODEL_1dd75add671a4ccab13dad9f4e401bea",
       "value": "hate"
      }
     },
     "23e2f4ed86e74faabd88210b1c34d2da": {
      "model_module": "@jupyter-widgets/controls",
      "model_module_version": "1.5.0",
      "model_name": "TextModel",
      "state": {
       "description": "like",
       "layout": "IPY_MODEL_36206c33084f414bb11047a377631157",
       "style": "IPY_MODEL_4e52188b34a941d4b1a7cdf026b2096e",
       "value": "like"
      }
     },
     "29c49e8f65a84cc289a203f520efac8c": {
      "model_module": "@jupyter-widgets/base",
      "model_module_version": "1.2.0",
      "model_name": "LayoutModel",
      "state": {}
     },
     "2aaa76f21e864e149587f53bc0d50d4e": {
      "model_module": "@jupyter-widgets/base",
      "model_module_version": "1.2.0",
      "model_name": "LayoutModel",
      "state": {}
     },
     "32fff81d47774f0e8ebd7a48051b1115": {
      "model_module": "@jupyter-widgets/base",
      "model_module_version": "1.2.0",
      "model_name": "LayoutModel",
      "state": {}
     },
     "36206c33084f414bb11047a377631157": {
      "model_module": "@jupyter-widgets/base",
      "model_module_version": "1.2.0",
      "model_name": "LayoutModel",
      "state": {}
     },
     "38a9b5324b2845f48ed1b6fd2912dfaf": {
      "model_module": "@jupyter-widgets/base",
      "model_module_version": "1.2.0",
      "model_name": "LayoutModel",
      "state": {}
     },
     "4e52188b34a941d4b1a7cdf026b2096e": {
      "model_module": "@jupyter-widgets/controls",
      "model_module_version": "1.5.0",
      "model_name": "DescriptionStyleModel",
      "state": {
       "description_width": ""
      }
     },
     "501769d3937f4875815e441d274803d8": {
      "model_module": "@jupyter-widgets/controls",
      "model_module_version": "1.5.0",
      "model_name": "DescriptionStyleModel",
      "state": {
       "description_width": ""
      }
     },
     "54c5db142cf64eadaf4a9110df87a1b0": {
      "model_module": "@jupyter-widgets/controls",
      "model_module_version": "1.5.0",
      "model_name": "IntSliderModel",
      "state": {
       "continuous_update": false,
       "description": "Time:",
       "layout": "IPY_MODEL_ae8faedda1a34bedb5216068e13293f1",
       "max": 60,
       "min": 1,
       "style": "IPY_MODEL_7efcdf978a3848a8bea1f3c6ecffd416",
       "value": 1
      }
     },
     "5d018bacda3e454ba5a995ed9ebd9cfa": {
      "model_module": "@jupyter-widgets/output",
      "model_module_version": "1.0.0",
      "model_name": "OutputModel",
      "state": {
       "layout": "IPY_MODEL_38a9b5324b2845f48ed1b6fd2912dfaf",
       "outputs": [
        {
         "name": "stdout",
         "output_type": "stream",
         "text": "There is no interesting word\n"
        }
       ]
      }
     },
     "61de8e84a2cd4387991627f26848f810": {
      "model_module": "@jupyter-widgets/controls",
      "model_module_version": "1.5.0",
      "model_name": "GridBoxModel",
      "state": {
       "children": [
        "IPY_MODEL_047f3dc1ebd24916a42b81c792529eb1",
        "IPY_MODEL_b1de0f78d1bf4713b7f617184c2d56f2"
       ],
       "layout": "IPY_MODEL_6b103158c00c4b6f99508f1afd8d3420"
      }
     },
     "62d708f8999b470781b17ddbcee9d075": {
      "model_module": "@jupyter-widgets/controls",
      "model_module_version": "1.5.0",
      "model_name": "DescriptionStyleModel",
      "state": {
       "description_width": ""
      }
     },
     "674db271f3be4e4ca00afa61c032f6a0": {
      "model_module": "@jupyter-widgets/base",
      "model_module_version": "1.2.0",
      "model_name": "LayoutModel",
      "state": {}
     },
     "6acfde9df0fc428d8770f29e60255058": {
      "model_module": "@jupyter-widgets/base",
      "model_module_version": "1.2.0",
      "model_name": "LayoutModel",
      "state": {
       "grid_area": "center"
      }
     },
     "6b103158c00c4b6f99508f1afd8d3420": {
      "model_module": "@jupyter-widgets/base",
      "model_module_version": "1.2.0",
      "model_name": "LayoutModel",
      "state": {
       "grid_template_areas": "\"header header header\"\n\"center center center\"",
       "grid_template_columns": "1fr 2fr 1fr",
       "grid_template_rows": "1fr 3fr"
      }
     },
     "6d2824af7dc1483d92480e48c8106745": {
      "model_module": "@jupyter-widgets/base",
      "model_module_version": "1.2.0",
      "model_name": "LayoutModel",
      "state": {}
     },
     "77376185cb5d48f0bb3cf633dfd07d72": {
      "model_module": "@jupyter-widgets/controls",
      "model_module_version": "1.5.0",
      "model_name": "VBoxModel",
      "state": {
       "_dom_classes": [
        "widget-interact"
       ],
       "children": [
        "IPY_MODEL_7f47fc7972c64918b749c0975974eb76",
        "IPY_MODEL_d7e408459535492fa3b4bdb47c18177b",
        "IPY_MODEL_21fd0c406c0740af875fc77892d4d313",
        "IPY_MODEL_7dfd8312f9f844fc9b0fcfafab1859a4"
       ],
       "layout": "IPY_MODEL_32fff81d47774f0e8ebd7a48051b1115"
      }
     },
     "7d19b63feb7f4323a62f4546bd899d54": {
      "model_module": "@jupyter-widgets/base",
      "model_module_version": "1.2.0",
      "model_name": "LayoutModel",
      "state": {
       "grid_area": "header",
       "height": "80px",
       "width": "50%"
      }
     },
     "7dfd8312f9f844fc9b0fcfafab1859a4": {
      "model_module": "@jupyter-widgets/output",
      "model_module_version": "1.0.0",
      "model_name": "OutputModel",
      "state": {
       "layout": "IPY_MODEL_871f1bce1328457786de7f6f4e453a1c",
       "outputs": [
        {
         "name": "stdout",
         "output_type": "stream",
         "text": "There is no interesting word\n"
        }
       ]
      }
     },
     "7efcdf978a3848a8bea1f3c6ecffd416": {
      "model_module": "@jupyter-widgets/controls",
      "model_module_version": "1.5.0",
      "model_name": "SliderStyleModel",
      "state": {
       "description_width": ""
      }
     },
     "7f47fc7972c64918b749c0975974eb76": {
      "model_module": "@jupyter-widgets/controls",
      "model_module_version": "1.5.0",
      "model_name": "IntSliderModel",
      "state": {
       "continuous_update": false,
       "description": "Time:",
       "layout": "IPY_MODEL_17024ed8204e439da681a0062123a0ed",
       "max": 60,
       "min": 1,
       "style": "IPY_MODEL_9ab3cfcb04e0488dbb7b6762f55847e5",
       "value": 1
      }
     },
     "84cbe2deb15a400daf740e1bcb70e711": {
      "model_module": "@jupyter-widgets/controls",
      "model_module_version": "1.5.0",
      "model_name": "VBoxModel",
      "state": {
       "_dom_classes": [
        "widget-interact"
       ],
       "children": [
        "IPY_MODEL_b5baf8a0eec849d08811301c08aaaa38",
        "IPY_MODEL_870b7693a12846cd897f294c75255ace"
       ],
       "layout": "IPY_MODEL_674db271f3be4e4ca00afa61c032f6a0"
      }
     },
     "870b7693a12846cd897f294c75255ace": {
      "model_module": "@jupyter-widgets/output",
      "model_module_version": "1.0.0",
      "model_name": "OutputModel",
      "state": {
       "layout": "IPY_MODEL_2aaa76f21e864e149587f53bc0d50d4e"
      }
     },
     "871f1bce1328457786de7f6f4e453a1c": {
      "model_module": "@jupyter-widgets/base",
      "model_module_version": "1.2.0",
      "model_name": "LayoutModel",
      "state": {}
     },
     "8a9760af12764bd4b43386e3c9ddea5d": {
      "model_module": "@jupyter-widgets/controls",
      "model_module_version": "1.5.0",
      "model_name": "HBoxModel",
      "state": {
       "children": [
        "IPY_MODEL_c6fc3d96b3c2405ba552152223c59c23",
        "IPY_MODEL_77376185cb5d48f0bb3cf633dfd07d72"
       ],
       "layout": "IPY_MODEL_8d5bb4d848d2472d855b27b6fe2882ee"
      }
     },
     "8d5bb4d848d2472d855b27b6fe2882ee": {
      "model_module": "@jupyter-widgets/base",
      "model_module_version": "1.2.0",
      "model_name": "LayoutModel",
      "state": {}
     },
     "9ab3cfcb04e0488dbb7b6762f55847e5": {
      "model_module": "@jupyter-widgets/controls",
      "model_module_version": "1.5.0",
      "model_name": "SliderStyleModel",
      "state": {
       "description_width": ""
      }
     },
     "a4c030dfdbaf444eb908b53f37d559b8": {
      "model_module": "@jupyter-widgets/base",
      "model_module_version": "1.2.0",
      "model_name": "LayoutModel",
      "state": {}
     },
     "a970356e3777494eb1aff850552b56d2": {
      "model_module": "@jupyter-widgets/controls",
      "model_module_version": "1.5.0",
      "model_name": "DescriptionStyleModel",
      "state": {
       "description_width": ""
      }
     },
     "aa052116bad6438ab5c539caa0789dcd": {
      "model_module": "@jupyter-widgets/base",
      "model_module_version": "1.2.0",
      "model_name": "LayoutModel",
      "state": {}
     },
     "ae8faedda1a34bedb5216068e13293f1": {
      "model_module": "@jupyter-widgets/base",
      "model_module_version": "1.2.0",
      "model_name": "LayoutModel",
      "state": {}
     },
     "b1d458cf91da4c718cbd108071488214": {
      "model_module": "@jupyter-widgets/base",
      "model_module_version": "1.2.0",
      "model_name": "LayoutModel",
      "state": {}
     },
     "b1de0f78d1bf4713b7f617184c2d56f2": {
      "model_module": "@jupyter-widgets/controls",
      "model_module_version": "1.5.0",
      "model_name": "AccordionModel",
      "state": {
       "_titles": {
        "0": "Popular Keywords over Time",
        "1": "Likes&Dislikes over Time ",
        "2": "Text Analysis "
       },
       "children": [
        "IPY_MODEL_f573cd39b23a49a9b4569186d174d802",
        "IPY_MODEL_8a9760af12764bd4b43386e3c9ddea5d",
        "IPY_MODEL_84cbe2deb15a400daf740e1bcb70e711"
       ],
       "layout": "IPY_MODEL_6acfde9df0fc428d8770f29e60255058"
      }
     },
     "b5baf8a0eec849d08811301c08aaaa38": {
      "model_module": "@jupyter-widgets/controls",
      "model_module_version": "1.5.0",
      "model_name": "TextareaModel",
      "state": {
       "description": "Text box:",
       "layout": "IPY_MODEL_6d2824af7dc1483d92480e48c8106745",
       "placeholder": "Type something",
       "style": "IPY_MODEL_a970356e3777494eb1aff850552b56d2"
      }
     },
     "b792192301854af08459e3262bbb1cf3": {
      "model_module": "@jupyter-widgets/controls",
      "model_module_version": "1.5.0",
      "model_name": "DropdownModel",
      "state": {
       "_options_labels": [
        "cooking",
        "influencers",
        "gaming"
       ],
       "description": "Genre",
       "index": 0,
       "layout": "IPY_MODEL_c52b26e3a0d24c3e9d455a320463ab4e",
       "style": "IPY_MODEL_62d708f8999b470781b17ddbcee9d075"
      }
     },
     "c52b26e3a0d24c3e9d455a320463ab4e": {
      "model_module": "@jupyter-widgets/base",
      "model_module_version": "1.2.0",
      "model_name": "LayoutModel",
      "state": {}
     },
     "c6fc3d96b3c2405ba552152223c59c23": {
      "model_module": "@jupyter-widgets/controls",
      "model_module_version": "1.5.0",
      "model_name": "VBoxModel",
      "state": {
       "_dom_classes": [
        "widget-interact"
       ],
       "children": [
        "IPY_MODEL_7f47fc7972c64918b749c0975974eb76",
        "IPY_MODEL_d7e408459535492fa3b4bdb47c18177b",
        "IPY_MODEL_23e2f4ed86e74faabd88210b1c34d2da",
        "IPY_MODEL_5d018bacda3e454ba5a995ed9ebd9cfa"
       ],
       "layout": "IPY_MODEL_b1d458cf91da4c718cbd108071488214"
      }
     },
     "d7e408459535492fa3b4bdb47c18177b": {
      "model_module": "@jupyter-widgets/controls",
      "model_module_version": "1.5.0",
      "model_name": "DropdownModel",
      "state": {
       "_options_labels": [
        "cooking",
        "influencers",
        "gaming"
       ],
       "description": "Genre",
       "index": 0,
       "layout": "IPY_MODEL_a4c030dfdbaf444eb908b53f37d559b8",
       "style": "IPY_MODEL_501769d3937f4875815e441d274803d8"
      }
     },
     "e079ed3f2fac45db9c3f750f8ea6dd5d": {
      "model_module": "@jupyter-widgets/base",
      "model_module_version": "1.2.0",
      "model_name": "LayoutModel",
      "state": {}
     },
     "f573cd39b23a49a9b4569186d174d802": {
      "model_module": "@jupyter-widgets/controls",
      "model_module_version": "1.5.0",
      "model_name": "VBoxModel",
      "state": {
       "_dom_classes": [
        "widget-interact"
       ],
       "children": [
        "IPY_MODEL_54c5db142cf64eadaf4a9110df87a1b0",
        "IPY_MODEL_b792192301854af08459e3262bbb1cf3",
        "IPY_MODEL_f9d7c4e110194e42ab9c89369d0e3ff6"
       ],
       "layout": "IPY_MODEL_29c49e8f65a84cc289a203f520efac8c"
      }
     },
     "f9d7c4e110194e42ab9c89369d0e3ff6": {
      "model_module": "@jupyter-widgets/output",
      "model_module_version": "1.0.0",
      "model_name": "OutputModel",
      "state": {
       "layout": "IPY_MODEL_e079ed3f2fac45db9c3f750f8ea6dd5d",
       "outputs": [
        {
         "name": "stdout",
         "output_type": "stream",
         "text": "There is no interesting word\n"
        }
       ]
      }
     }
    },
    "version_major": 2,
    "version_minor": 0
   }
  }
 },
 "nbformat": 4,
 "nbformat_minor": 4
}
